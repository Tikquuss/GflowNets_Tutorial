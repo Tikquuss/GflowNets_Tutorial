{
  "cells": [
    {
      "cell_type": "markdown",
      "metadata": {
        "id": "view-in-github",
        "colab_type": "text"
      },
      "source": [
        "<a href=\"https://colab.research.google.com/github/Tikquuss/GflowNets_Tutorial/blob/main/2_Hypergrid_env.ipynb\" target=\"_parent\"><img src=\"https://colab.research.google.com/assets/colab-badge.svg\" alt=\"Open In Colab\"/></a>"
      ]
    },
    {
      "cell_type": "markdown",
      "metadata": {
        "id": "khW_f8B3FcUH"
      },
      "source": [
        "@Author TODO\n"
      ]
    },
    {
      "cell_type": "markdown",
      "metadata": {
        "id": "ZazpM4GzYJQx"
      },
      "source": [
        "In the  hyper-grid domain, the states are the cells of a n-dimensional hypercubic grid of side length $H$. The agent starts at coordinate $s = (0, 0, ..., 0)$ and is only allowed to increase one coordinate (up to H, upon which the episode terminates). A stop action indicates to terminate the trajectory. There are many action sequences that lead to the same coordinate, making this Markov Decision Process a Directed Acyclic Graph. The reward for ending the trajectory in $x$ is some $R(x) \\ge 0$ (see below for examples of reward functions).\n",
        "\n",
        "In short, the non-terminal states form a n-dimensional hypergrid with side length $H$ : $\\{ (s_0, ..., s_{n-1}) \\ | \\ s_i \\in \\{0, ..., H\\}, 0 \\leq i \\leq n-1 \\}$.\n",
        "\n",
        "\n",
        "\n",
        "In each state $s = (s_0, ..., s_{n-1})$, we have $n+1$ possible actions:\n",
        "- either choose a stop action and return the state as terminal $x = T(s, stop\\_action) = s$, and then compute $R(x)$ \n",
        "- or we choose one of its $n$ coordinates $i$, and increment it : $s' = T(s, i) = (s_0, ..., s_i + 1, ..., s_{n-1})$\n",
        "\n",
        "\n",
        "> Example : ndim=2 (H=2, ...)\n",
        "```\n",
        "|  ...   |   ...  | ...    | ...\n",
        "................................\n",
        "| (0, 2) | (1, 2) | (2, 2) | ...\n",
        "................................\n",
        "| (0, 1) | (1, 1) | (2, 1) | ...\n",
        "................................\n",
        "| (0, 0) | (1, 0) | (2, 0) | ...\n",
        "................................\n",
        "```"
      ]
    },
    {
      "cell_type": "markdown",
      "source": [
        "$$R(x) = R_0 + R_1 \\prod_{i=1}^{n} \\mathbb{I} (0.25 < |x_i/H - 0.5|) + R_2 \\prod_{i=1}^{n} \\mathbb{I} (0.3 < |x_i/H - 0.5| < 0.4), \\ R_0 <<< R_1 < R_2$$\n",
        "\n",
        "$$R_{cos}(x) = R_0 + R_1 \\prod_{i=1}^{n} \\big(cos(50\\times|x_i/H - 0.5|)+1 \\big) \\times f_{\\mathcal{N}} \\big(5\\times|x_i/H - 0.5|\\big) \\text{, } R_0 << R_1  \\text{ and } f_{\\mathcal{N}} \\text{ the standard normal p.d.f}$$\n",
        "\n",
        "$$\\dots$$\n",
        "\n",
        "$$\\text{Any reward function with full support or with large enough support on the grid domain.}$$\n",
        "\n",
        "We pave the hypercube and choose the reward values to give to each pavement. The mathematical trick is the following: \n",
        "* scale each point using the application from $[0, H]$ to $[0, 1]$ : $x \\mapsto \\frac{x}{H}$\n",
        "- calculate the distance of each point (coordinates) from the center of the hypercube: $|\\frac{x}{H}-0.5|$\n",
        "- and use this distance to create the paving and assign different reward values to the paving stones. \n",
        "\n",
        "In the first function above, the paving is at three levels : in $]0.3, 0.4[^n$ (not in terms of coordinates, but in terms of absolute distance from the center $(1/2, ..., 1/2)$ of the hypercube) the reward is equal to $R_0+R_1+R_2$ (higher mode), between $(]0.25, 0.3[ \\ U \\ ]0.4, 1[)^n$ the reward is equal to $R_0+R_1$, between  $[0, 0.25]^n$ the reward is equal to $R_0 <<< R_1 < R_2$ (the desert of probability).\n",
        "\n",
        "For the function with cosine, the paving is not strict, but smooth. \n",
        "* For the term with cosine, noted that $0 \\le 50 \\times |\\frac{x}{H}-0.5| \\le 25 ∼ 8\\pi$, and that the function $x \\mapsto cos(x) + 1$ varies from $2$ to $0$ between $[2k\\pi, (2k+1)\\pi]$ and from $0$ to $2$ between $[(2k+1)\\pi, 2(k+1)\\pi]$ for all $k \\in \\mathbb{N}$. So for this term the deserts of reward are $(2k+1)\\pi $ and the high modes are $2k\\pi$ ($k \\le 4$), from the deserts to the high modes the reward function in $cos$ is continuously increasing\n",
        "* For the term with $f_{\\mathcal{N}}$, noted that $0 \\le 5 \\times |x/H-0.5| \\le 2.5$, and that $f_{\\mathcal{N}(0, 1)}$ grows from $0.5$ to $0.99$ on this interval. Its high mode is therefore $0$, and the further away from $0$ (and thus from the center of the hypercube), the more it decreases.\n",
        "\n",
        "By multiplying these two terms, instead of having peaks at regular intervals as with the $cos$ term, we have lower and lower peaks when we move away from the center of the hypercube. \n",
        "\n",
        "I did a plot for $n=2$ below."
      ],
      "metadata": {
        "id": "VQA1t9q3KhQG"
      }
    },
    {
      "cell_type": "markdown",
      "metadata": {
        "id": "CvM9Yb0QbjRD"
      },
      "source": [
        "# Env"
      ]
    },
    {
      "cell_type": "markdown",
      "source": [
        "## Grid domain"
      ],
      "metadata": {
        "id": "E66NIJ3AMZRS"
      }
    },
    {
      "cell_type": "code",
      "execution_count": null,
      "metadata": {
        "id": "K35bNEEUb5WW"
      },
      "outputs": [],
      "source": [
        "import torch\n",
        "\n",
        "def build_grid(ndim, H):\n",
        "    \"\"\"\n",
        "    > Example : ndim=2 (H=2, ...)\n",
        "    ```\n",
        "    |  ...   |   ...  | ...    | ...\n",
        "    ---------------------------------\n",
        "    | (0, 2) | (1, 2) | (2, 2) | ...\n",
        "    ---------------------------------\n",
        "    | (0, 1) | (1, 1) | (2, 1) | ...\n",
        "    ---------------------------------\n",
        "    | (0, 0) | (1, 0) | (2, 0) | ...\n",
        "    ---------------------------------\n",
        "    ```\n",
        "    \"\"\"\n",
        "    # We have (H+1)^ndim points, each point being of dimension ndim.\n",
        "    grid_shape = (H+1,)*ndim+(ndim,) # (H+1, ..., H+1, ndim)\n",
        "    grid = torch.zeros(grid_shape)\n",
        "    for i in range(ndim):\n",
        "        grid_i = torch.linspace(start=0, end=H, steps=H+1)\n",
        "        for _ in range(i): grid_i = grid_i.unsqueeze(1)\n",
        "        grid[...,i] = grid_i\n",
        "    #return grid.view((H+1)**ndim,-1) # ((H+1)*ndim, ndim)\n",
        "    return grid"
      ]
    },
    {
      "cell_type": "markdown",
      "metadata": {
        "id": "d8MBwxw-Hcbv"
      },
      "source": [
        "## Reward function"
      ]
    },
    {
      "cell_type": "code",
      "execution_count": null,
      "metadata": {
        "id": "Huqpm4c_HU9N"
      },
      "outputs": [],
      "source": [
        "import numpy as np\n",
        "from scipy.stats import norm\n",
        "\n",
        "def get_reward_function(H, R0, r_cos = False, R1 = 0.5, R2 = 2):\n",
        "    \"\"\" \n",
        "    x ~ (bs, n), 0 < r0 << r1 < r2\n",
        "    R1 : 1e-1, 1e-2, 1e-3 ...\n",
        "    \"\"\"\n",
        "    def R(x) :\n",
        "        ax = abs(x/H - 0.5)\n",
        "        return R0 + (0.25 < ax).prod(-1) * R1  + ((0.3 < ax) * (ax < 0.4)).prod(-1) * R2\n",
        "        #ax = abs(x/H*2 - 1)\n",
        "        #return R0 + (0.5 < ax).prod(-1) * R1  + ((0.6 < ax) * (ax < 0.8)).prod(-1) * R2\n",
        "\n",
        "    def R_cos(x) :\n",
        "        ax = abs(x/H - 0.5)\n",
        "        return R0 + ((np.cos(ax * 50) + 1) * norm.pdf(ax * 5)).prod(-1) * R1\n",
        "\n",
        "    return R if not r_cos else R_cos"
      ]
    },
    {
      "cell_type": "markdown",
      "metadata": {
        "id": "IQF1Hzmnw4OY"
      },
      "source": [
        "##  sanity check"
      ]
    },
    {
      "cell_type": "code",
      "execution_count": null,
      "metadata": {
        "id": "wOzuGGRIgD2j",
        "colab": {
          "base_uri": "https://localhost:8080/"
        },
        "outputId": "9c7fccf1-442a-42bb-f40e-47a37f4336a6"
      },
      "outputs": [
        {
          "output_type": "execute_result",
          "data": {
            "text/plain": [
              "array([ True,  True,  True,  True])"
            ]
          },
          "metadata": {},
          "execution_count": 3
        }
      ],
      "source": [
        "R0, R1, R2 = 1e-2, 0.5, 2\n",
        "R = get_reward_function(H=8, R0=R0, r_cos=False, R1=R1, R2=R2)\n",
        "s_f = np.array([[4, 4], [0,0], [8, 8], [1,1]])\n",
        "R(s_f) == np.array([R0, R0+R1, R0+R1, R0+R1+R2])"
      ]
    },
    {
      "cell_type": "code",
      "execution_count": null,
      "metadata": {
        "id": "-Zg7jpxxw6te",
        "colab": {
          "base_uri": "https://localhost:8080/"
        },
        "outputId": "12d14add-82a4-4afe-cf46-febe0e03156c"
      },
      "outputs": [
        {
          "output_type": "execute_result",
          "data": {
            "text/plain": [
              "(tensor([[[0., 0.],\n",
              "          [1., 0.],\n",
              "          [2., 0.],\n",
              "          [3., 0.],\n",
              "          [4., 0.],\n",
              "          [5., 0.],\n",
              "          [6., 0.],\n",
              "          [7., 0.],\n",
              "          [8., 0.]],\n",
              " \n",
              "         [[0., 1.],\n",
              "          [1., 1.],\n",
              "          [2., 1.],\n",
              "          [3., 1.],\n",
              "          [4., 1.],\n",
              "          [5., 1.],\n",
              "          [6., 1.],\n",
              "          [7., 1.],\n",
              "          [8., 1.]],\n",
              " \n",
              "         [[0., 2.],\n",
              "          [1., 2.],\n",
              "          [2., 2.],\n",
              "          [3., 2.],\n",
              "          [4., 2.],\n",
              "          [5., 2.],\n",
              "          [6., 2.],\n",
              "          [7., 2.],\n",
              "          [8., 2.]],\n",
              " \n",
              "         [[0., 3.],\n",
              "          [1., 3.],\n",
              "          [2., 3.],\n",
              "          [3., 3.],\n",
              "          [4., 3.],\n",
              "          [5., 3.],\n",
              "          [6., 3.],\n",
              "          [7., 3.],\n",
              "          [8., 3.]],\n",
              " \n",
              "         [[0., 4.],\n",
              "          [1., 4.],\n",
              "          [2., 4.],\n",
              "          [3., 4.],\n",
              "          [4., 4.],\n",
              "          [5., 4.],\n",
              "          [6., 4.],\n",
              "          [7., 4.],\n",
              "          [8., 4.]],\n",
              " \n",
              "         [[0., 5.],\n",
              "          [1., 5.],\n",
              "          [2., 5.],\n",
              "          [3., 5.],\n",
              "          [4., 5.],\n",
              "          [5., 5.],\n",
              "          [6., 5.],\n",
              "          [7., 5.],\n",
              "          [8., 5.]],\n",
              " \n",
              "         [[0., 6.],\n",
              "          [1., 6.],\n",
              "          [2., 6.],\n",
              "          [3., 6.],\n",
              "          [4., 6.],\n",
              "          [5., 6.],\n",
              "          [6., 6.],\n",
              "          [7., 6.],\n",
              "          [8., 6.]],\n",
              " \n",
              "         [[0., 7.],\n",
              "          [1., 7.],\n",
              "          [2., 7.],\n",
              "          [3., 7.],\n",
              "          [4., 7.],\n",
              "          [5., 7.],\n",
              "          [6., 7.],\n",
              "          [7., 7.],\n",
              "          [8., 7.]],\n",
              " \n",
              "         [[0., 8.],\n",
              "          [1., 8.],\n",
              "          [2., 8.],\n",
              "          [3., 8.],\n",
              "          [4., 8.],\n",
              "          [5., 8.],\n",
              "          [6., 8.],\n",
              "          [7., 8.],\n",
              "          [8., 8.]]]), torch.Size([9, 9, 2]))"
            ]
          },
          "metadata": {},
          "execution_count": 4
        }
      ],
      "source": [
        "ndim, H = 2, 8\n",
        "grid = build_grid(ndim, H)\n",
        "grid, grid.shape"
      ]
    },
    {
      "cell_type": "code",
      "execution_count": null,
      "metadata": {
        "id": "y7JmngdEyN3Y",
        "colab": {
          "base_uri": "https://localhost:8080/"
        },
        "outputId": "8f665ede-0e1b-4b74-c25e-ec9f945fc8ed"
      },
      "outputs": [
        {
          "output_type": "execute_result",
          "data": {
            "text/plain": [
              "tensor([[0.5100, 0.5100, 0.0100, 0.0100, 0.0100, 0.0100, 0.0100, 0.5100, 0.5100],\n",
              "        [0.5100, 2.5100, 0.0100, 0.0100, 0.0100, 0.0100, 0.0100, 2.5100, 0.5100],\n",
              "        [0.0100, 0.0100, 0.0100, 0.0100, 0.0100, 0.0100, 0.0100, 0.0100, 0.0100],\n",
              "        [0.0100, 0.0100, 0.0100, 0.0100, 0.0100, 0.0100, 0.0100, 0.0100, 0.0100],\n",
              "        [0.0100, 0.0100, 0.0100, 0.0100, 0.0100, 0.0100, 0.0100, 0.0100, 0.0100],\n",
              "        [0.0100, 0.0100, 0.0100, 0.0100, 0.0100, 0.0100, 0.0100, 0.0100, 0.0100],\n",
              "        [0.0100, 0.0100, 0.0100, 0.0100, 0.0100, 0.0100, 0.0100, 0.0100, 0.0100],\n",
              "        [0.5100, 2.5100, 0.0100, 0.0100, 0.0100, 0.0100, 0.0100, 2.5100, 0.5100],\n",
              "        [0.5100, 0.5100, 0.0100, 0.0100, 0.0100, 0.0100, 0.0100, 0.5100, 0.5100]])"
            ]
          },
          "metadata": {},
          "execution_count": 5
        }
      ],
      "source": [
        "R0, R1, R2 = 1e-2, 0.5, 2\n",
        "R = get_reward_function(H=H, R0=R0, r_cos=False, R1=R1, R2=R2)\n",
        "all_rewards = R(grid)\n",
        "all_rewards"
      ]
    },
    {
      "cell_type": "code",
      "execution_count": null,
      "metadata": {
        "id": "E_OvUqV4ij4r",
        "colab": {
          "base_uri": "https://localhost:8080/"
        },
        "outputId": "191120e5-ebed-42ce-f4ce-21a0e51f29ea"
      },
      "outputs": [
        {
          "output_type": "execute_result",
          "data": {
            "text/plain": [
              "array([0.01234862, 0.01234862, 0.00748982, 0.00748982, 0.00748982,\n",
              "       0.00748982, 0.00748982, 0.01234862, 0.01234862, 0.01234862,\n",
              "       0.09124463, 0.00748982, 0.00748982, 0.00748982, 0.00748982,\n",
              "       0.00748982, 0.09124463, 0.01234862, 0.00748982, 0.00748982,\n",
              "       0.00748982, 0.00748982, 0.00748982, 0.00748982, 0.00748982,\n",
              "       0.00748982, 0.00748982, 0.00748982, 0.00748982, 0.00748982,\n",
              "       0.00748982, 0.00748982, 0.00748982, 0.00748982, 0.00748982,\n",
              "       0.00748982, 0.00748982, 0.00748982, 0.00748982, 0.00748982,\n",
              "       0.00748982, 0.00748982, 0.00748982, 0.00748982, 0.00748982,\n",
              "       0.00748982, 0.00748982, 0.00748982, 0.00748982, 0.00748982,\n",
              "       0.00748982, 0.00748982, 0.00748982, 0.00748982, 0.00748982,\n",
              "       0.00748982, 0.00748982, 0.00748982, 0.00748982, 0.00748982,\n",
              "       0.00748982, 0.00748982, 0.00748982, 0.01234862, 0.09124463,\n",
              "       0.00748982, 0.00748982, 0.00748982, 0.00748982, 0.00748982,\n",
              "       0.09124463, 0.01234862, 0.01234862, 0.01234862, 0.00748982,\n",
              "       0.00748982, 0.00748982, 0.00748982, 0.00748982, 0.01234862,\n",
              "       0.01234862], dtype=float32)"
            ]
          },
          "metadata": {},
          "execution_count": 6
        }
      ],
      "source": [
        "true_dist = all_rewards.flatten().softmax(0).cpu().numpy()\n",
        "true_dist"
      ]
    },
    {
      "cell_type": "code",
      "execution_count": null,
      "metadata": {
        "id": "7K3NeIhUIa0b",
        "colab": {
          "base_uri": "https://localhost:8080/"
        },
        "outputId": "037cedd0-740e-4b12-8c5a-92b131344ec6"
      },
      "outputs": [
        {
          "output_type": "execute_result",
          "data": {
            "text/plain": [
              "tensor([[0., 0.],\n",
              "        [1., 0.],\n",
              "        [2., 0.],\n",
              "        [3., 0.],\n",
              "        [4., 0.],\n",
              "        [5., 0.],\n",
              "        [6., 0.],\n",
              "        [7., 0.],\n",
              "        [8., 0.],\n",
              "        [0., 1.],\n",
              "        [1., 1.],\n",
              "        [2., 1.],\n",
              "        [3., 1.],\n",
              "        [4., 1.],\n",
              "        [5., 1.],\n",
              "        [6., 1.],\n",
              "        [7., 1.],\n",
              "        [8., 1.],\n",
              "        [0., 2.],\n",
              "        [1., 2.],\n",
              "        [2., 2.],\n",
              "        [3., 2.],\n",
              "        [4., 2.],\n",
              "        [5., 2.],\n",
              "        [6., 2.],\n",
              "        [7., 2.],\n",
              "        [8., 2.],\n",
              "        [0., 3.],\n",
              "        [1., 3.],\n",
              "        [2., 3.],\n",
              "        [3., 3.],\n",
              "        [4., 3.],\n",
              "        [5., 3.],\n",
              "        [6., 3.],\n",
              "        [7., 3.],\n",
              "        [8., 3.],\n",
              "        [0., 4.],\n",
              "        [1., 4.],\n",
              "        [2., 4.],\n",
              "        [3., 4.],\n",
              "        [4., 4.],\n",
              "        [5., 4.],\n",
              "        [6., 4.],\n",
              "        [7., 4.],\n",
              "        [8., 4.],\n",
              "        [0., 5.],\n",
              "        [1., 5.],\n",
              "        [2., 5.],\n",
              "        [3., 5.],\n",
              "        [4., 5.],\n",
              "        [5., 5.],\n",
              "        [6., 5.],\n",
              "        [7., 5.],\n",
              "        [8., 5.],\n",
              "        [0., 6.],\n",
              "        [1., 6.],\n",
              "        [2., 6.],\n",
              "        [3., 6.],\n",
              "        [4., 6.],\n",
              "        [5., 6.],\n",
              "        [6., 6.],\n",
              "        [7., 6.],\n",
              "        [8., 6.],\n",
              "        [0., 7.],\n",
              "        [1., 7.],\n",
              "        [2., 7.],\n",
              "        [3., 7.],\n",
              "        [4., 7.],\n",
              "        [5., 7.],\n",
              "        [6., 7.],\n",
              "        [7., 7.],\n",
              "        [8., 7.],\n",
              "        [0., 8.],\n",
              "        [1., 8.],\n",
              "        [2., 8.],\n",
              "        [3., 8.],\n",
              "        [4., 8.],\n",
              "        [5., 8.],\n",
              "        [6., 8.],\n",
              "        [7., 8.],\n",
              "        [8., 8.]])"
            ]
          },
          "metadata": {},
          "execution_count": 7
        }
      ],
      "source": [
        "grid.view((H+1)**ndim,-1)"
      ]
    },
    {
      "cell_type": "markdown",
      "metadata": {
        "id": "t1SvIX6eIWcn"
      },
      "source": [
        "## Plots\n",
        "\n"
      ]
    },
    {
      "cell_type": "code",
      "execution_count": null,
      "metadata": {
        "id": "S4hL7XSrbVI-"
      },
      "outputs": [],
      "source": [
        "import pandas as pd\n",
        "import numpy as np\n",
        "from scipy.interpolate import griddata\n",
        "import matplotlib.pyplot as plt\n",
        "from matplotlib import cm\n",
        "import matplotlib.ticker as ticker\n",
        "\n",
        "def plot(x, y, z) :\n",
        "    \"\"\"https://stackoverflow.com/a/30539444/11814682\"\"\"\n",
        "    xyz = {'x': x, 'y': y, 'z': z}\n",
        "    # put the data into a pandas DataFrame (this is what my data looks like)\n",
        "    df = pd.DataFrame(xyz, index=range(len(xyz['x']))) \n",
        "\n",
        "    # re-create the 2D-arrays\n",
        "    x1 = np.linspace(df['x'].min(), df['x'].max(), len(df['x'].unique()))\n",
        "    y1 = np.linspace(df['y'].min(), df['y'].max(), len(df['y'].unique()))\n",
        "    x2, y2 = np.meshgrid(x1, y1)\n",
        "    z2 = griddata((df['x'], df['y']), df['z'], (x2, y2), method='cubic')\n",
        "\n",
        "    fig = plt.figure()\n",
        "    ax = fig.gca(projection='3d')\n",
        "    surf = ax.plot_surface(x2, y2, z2, rstride=1, cstride=1, cmap=cm.coolwarm, linewidth=0, antialiased=False)\n",
        "    #surf = ax.plot_surface(x2, y2, z2 / z.sum() - 1.5, rstride=1, cstride=1, cmap=cm.coolwarm, linewidth=0, antialiased=False)\n",
        "    ax.set_zlim(-1.01, 1.01)\n",
        "\n",
        "    ax.zaxis.set_major_locator(ticker.LinearLocator(10))\n",
        "    ax.zaxis.set_major_formatter(ticker.FormatStrFormatter('%.02f'))\n",
        "\n",
        "    fig.colorbar(surf, shrink=0.5, aspect=5)\n",
        "    plt.title('2D grid domain')\n",
        "\n",
        "    plt.show()"
      ]
    },
    {
      "cell_type": "code",
      "execution_count": null,
      "metadata": {
        "id": "7nSn8rG-ybyA"
      },
      "outputs": [],
      "source": [
        "H = 100\n",
        "N = 100\n",
        "x, y = np.linspace(start = 0, stop = H, num=N), np.linspace(start = 0, stop = H, num=N)\n",
        "xy = np.array(np.meshgrid(x, y)).T.reshape(-1,2) # (N*N,2)"
      ]
    },
    {
      "cell_type": "code",
      "execution_count": null,
      "metadata": {
        "id": "pWep961BygCl",
        "colab": {
          "base_uri": "https://localhost:8080/",
          "height": 497
        },
        "outputId": "92664b5d-4568-4575-e3fd-22dba9538f78"
      },
      "outputs": [
        {
          "output_type": "display_data",
          "data": {
            "text/plain": [
              "<Figure size 432x288 with 2 Axes>"
            ],
            "image/png": "[encoded data removed]"
          },
          "metadata": {
            "needs_background": "light"
          }
        },
        {
          "output_type": "display_data",
          "data": {
            "text/plain": [
              "<Figure size 432x288 with 2 Axes>"
            ],
            "image/png": "[encoded data removed]"
          },
          "metadata": {
            "needs_background": "light"
          }
        },
        {
          "output_type": "execute_result",
          "data": {
            "text/plain": [
              "(None, None)"
            ]
          },
          "metadata": {},
          "execution_count": 10
        }
      ],
      "source": [
        "R0, R1, R2 = 1e-2, 0.5, 1\n",
        "R = get_reward_function(H=H, R0=R0, r_cos=False, R1=R1, R2=R2)\n",
        "z = R(xy)\n",
        "x, y = xy[:,0], xy[:,1]\n",
        "plot(x, y, z), plot(x, y, z / z.sum())#, plot(x, y, z / np.log(z))"
      ]
    },
    {
      "cell_type": "code",
      "execution_count": null,
      "metadata": {
        "id": "7VmfNG56IgsW",
        "colab": {
          "base_uri": "https://localhost:8080/",
          "height": 497
        },
        "outputId": "1a1dd725-24a3-4cf7-fdf6-74174e4b8379"
      },
      "outputs": [
        {
          "output_type": "display_data",
          "data": {
            "text/plain": [
              "<Figure size 432x288 with 2 Axes>"
            ],
            "image/png": "[encoded data removed]"
          },
          "metadata": {
            "needs_background": "light"
          }
        },
        {
          "output_type": "display_data",
          "data": {
            "text/plain": [
              "<Figure size 432x288 with 2 Axes>"
            ],
            "image/png": "[encoded data removed]"
          },
          "metadata": {
            "needs_background": "light"
          }
        },
        {
          "output_type": "execute_result",
          "data": {
            "text/plain": [
              "(None, None)"
            ]
          },
          "metadata": {},
          "execution_count": 11
        }
      ],
      "source": [
        "R0, R1 = 1e-2, 1\n",
        "R = get_reward_function(H=H, R0=R0, r_cos=True, R1=R1)\n",
        "z = R(xy)\n",
        "x, y = xy[:,0], xy[:,1]\n",
        "plot(x, y, z), plot(x, y, z / z.sum())#, plot(x, y, z / np.log(z))"
      ]
    },
    {
      "cell_type": "markdown",
      "metadata": {
        "id": "q8AJNkOFSnYD"
      },
      "source": [
        "# Gflownet agents"
      ]
    },
    {
      "cell_type": "code",
      "execution_count": null,
      "metadata": {
        "id": "YFyjvY51Smm-"
      },
      "outputs": [],
      "source": [
        "import torch\n",
        "import numpy as np\n",
        "import tqdm\n",
        "import pickle"
      ]
    },
    {
      "cell_type": "code",
      "execution_count": null,
      "metadata": {
        "id": "g8qMFhXjnJ7o",
        "colab": {
          "base_uri": "https://localhost:8080/"
        },
        "outputId": "22cedf7c-86ca-4612-c196-d7178ea059b2"
      },
      "outputs": [
        {
          "output_type": "stream",
          "name": "stdout",
          "text": [
            "total reward tensor(210.8900)\n"
          ]
        }
      ],
      "source": [
        "#H =  4 # horizon\n",
        "#H =  8 # horizon\n",
        "H =  32 # horizon\n",
        "#H =  100 # horizon\n",
        "ndim = 2\n",
        "#ndim = 4\n",
        "#ndim = 6\n",
        "#ndim = 8\n",
        "\n",
        "grid = build_grid(ndim, H) # (H, ...., H, ndim)\n",
        "grid = grid.view((H+1)**ndim,-1) # ((H+1)**ndim, ndim)\n",
        "\n",
        "R0, R1, R2 = 1e-2, 0.5, 2\n",
        "reward_function = get_reward_function(H=H, R0=R0, r_cos=False, R1=R1, R2=R2)\n",
        "#R0, R1 = 1e-2, 1\n",
        "#reward_function = get_reward_function(H, R0=R0, r_cos=True, R1=R1)\n",
        "\n",
        "all_rewards = reward_function(grid)\n",
        "#print('total reward', all_rewards.view(-1).logsumexp(0))\n",
        "print('total reward', all_rewards.view(-1).sum(0))\n",
        "true_dist = all_rewards.flatten().softmax(0).cpu().numpy()"
      ]
    },
    {
      "cell_type": "markdown",
      "source": [
        "\n",
        "\n",
        "## For debugging\n",
        "\n",
        "Once our model is trained, we will generate some terminal states, display their rewards and see if they match the figure below\n",
        "\n"
      ],
      "metadata": {
        "id": "f4Bj2MzEb9SR"
      }
    },
    {
      "cell_type": "code",
      "source": [
        "ar = all_rewards.reshape((H+1,)*ndim)"
      ],
      "metadata": {
        "id": "HmSriDYPb-_Q"
      },
      "execution_count": null,
      "outputs": []
    },
    {
      "cell_type": "code",
      "source": [
        "if ndim == 2 :\n",
        "  print(ar)"
      ],
      "metadata": {
        "id": "FAh5FWo9cAeA",
        "colab": {
          "base_uri": "https://localhost:8080/"
        },
        "outputId": "9f386537-ed22-40b6-fdcb-b2fb01a61aed"
      },
      "execution_count": null,
      "outputs": [
        {
          "output_type": "stream",
          "name": "stdout",
          "text": [
            "tensor([[0.5100, 0.5100, 0.5100,  ..., 0.5100, 0.5100, 0.5100],\n",
            "        [0.5100, 0.5100, 0.5100,  ..., 0.5100, 0.5100, 0.5100],\n",
            "        [0.5100, 0.5100, 0.5100,  ..., 0.5100, 0.5100, 0.5100],\n",
            "        ...,\n",
            "        [0.5100, 0.5100, 0.5100,  ..., 0.5100, 0.5100, 0.5100],\n",
            "        [0.5100, 0.5100, 0.5100,  ..., 0.5100, 0.5100, 0.5100],\n",
            "        [0.5100, 0.5100, 0.5100,  ..., 0.5100, 0.5100, 0.5100]])\n"
          ]
        }
      ]
    },
    {
      "cell_type": "code",
      "source": [
        "if ndim == 2 :\n",
        "    plt.imshow(ar)\n",
        "else :\n",
        "    plt.imshow(ar[0,0])"
      ],
      "metadata": {
        "id": "muInUYalcD5M",
        "colab": {
          "base_uri": "https://localhost:8080/",
          "height": 266
        },
        "outputId": "9f1a99ef-f8db-487a-8a22-f6d1e4b0bb65"
      },
      "execution_count": null,
      "outputs": [
        {
          "output_type": "display_data",
          "data": {
            "text/plain": [
              "<Figure size 432x288 with 1 Axes>"
            ],
            "image/png": "[encoded data removed]"
          },
          "metadata": {
            "needs_background": "light"
          }
        }
      ]
    },
    {
      "cell_type": "code",
      "source": [
        "if ndim == 4 :\n",
        "    plt.imshow(ar.sum((0,1)),vmin=0);plt.show()"
      ],
      "metadata": {
        "id": "jqPj4YVzb6RB"
      },
      "execution_count": null,
      "outputs": []
    },
    {
      "cell_type": "markdown",
      "source": [
        "## Utils\n",
        "\n"
      ],
      "metadata": {
        "id": "xAZpA_gfcIuZ"
      }
    },
    {
      "cell_type": "code",
      "execution_count": null,
      "metadata": {
        "id": "KClCuI9ZjrCu"
      },
      "outputs": [],
      "source": [
        "def make_mlp(l, act=torch.nn.LeakyReLU(), tail=[]):\n",
        "    return torch.nn.Sequential(*(sum(\n",
        "        [[torch.nn.Linear(i, o)] + ([act] if n < len(l)-2 else [])\n",
        "         for n, (i, o) in enumerate(zip(l, l[1:]))], []) + tail))"
      ]
    },
    {
      "cell_type": "markdown",
      "metadata": {
        "id": "Hglj70P0yyH1"
      },
      "source": [
        "\n",
        "\n",
        "---\n",
        "**Re-execute the following cells each time H changes**\n"
      ]
    },
    {
      "cell_type": "code",
      "execution_count": null,
      "metadata": {
        "id": "1KptIGzLyWJd"
      },
      "outputs": [],
      "source": [
        "def one_hot_embedding(states, num_classes = H+1):\n",
        "    # states : (bs, ndim) -> (bs, embedding_dim), embedding_dim = num_classes x ndim\n",
        "    assert num_classes >= H + 1\n",
        "    return torch.nn.functional.one_hot(states, num_classes).view(states.shape[0],-1).float()"
      ]
    },
    {
      "cell_type": "markdown",
      "metadata": {
        "id": "TLOWUN2g2vVS"
      },
      "source": [
        "The following function allows to associate a unique index to each state of the grid environment.\\\n",
        "Given that a coordinate can take $H+1$ values (from $0$ to $H$), it is enough to write them in this base to ensure the uniqueness.\\\n",
        "$$Index \\bigg(s = (s_i)_{i=0}^{ndim-1} \\bigg) = \\sum_{i=0}^{ndim-1} s_i (H+1)^i $$\n",
        "To find a state given its index, just invoke `grid[index]`"
      ]
    },
    {
      "cell_type": "code",
      "execution_count": null,
      "metadata": {
        "id": "T_7z0-7S2SP-"
      },
      "outputs": [],
      "source": [
        "base_coordinates = (H+1)**torch.arange(ndim) # [(H+1)^0, ..., (H+1)^(ndim-1)]"
      ]
    },
    {
      "cell_type": "code",
      "execution_count": null,
      "metadata": {
        "id": "2sTWaeES2PGg"
      },
      "outputs": [],
      "source": [
        "def get_state_index(states):\n",
        "    \"\"\"\n",
        "    This function allows to associate a unique index to each state of the grid environment.\n",
        "    To find a state given its index, just invoke grid[state_index]\n",
        "    > params : \n",
        "        * states ~ Tensor(num_states, ndim), batch_size can be zero (for single state)\n",
        "    \"\"\"\n",
        "    state_index = (states*base_coordinates).sum().item()\n",
        "    return state_index # (num_states,)\n",
        "\n",
        "def get_state(indexes) :\n",
        "    \"\"\"\n",
        "    This function allows to find a state given its index\n",
        "    > params : \n",
        "        * indexes  ~ LongTensor(num_states,) or int (for single state)\n",
        "    \"\"\"\n",
        "    return grid[indexes] # (num_states, ndim)"
      ]
    },
    {
      "cell_type": "markdown",
      "metadata": {
        "id": "DS_8OrQ64p6B"
      },
      "source": [
        "sanity check"
      ]
    },
    {
      "cell_type": "code",
      "execution_count": null,
      "metadata": {
        "id": "2ifBm2hK4tHB"
      },
      "outputs": [],
      "source": [
        "for i, states in enumerate(grid) :\n",
        "    assert i == get_state_index(states)"
      ]
    },
    {
      "cell_type": "markdown",
      "metadata": {
        "id": "JylqGi9nyrLm"
      },
      "source": [
        "\n",
        "\n",
        "---\n",
        "\n"
      ]
    },
    {
      "cell_type": "code",
      "execution_count": null,
      "metadata": {
        "id": "eqh1pjOY_gRq"
      },
      "outputs": [],
      "source": [
        "from typing import List\n",
        "\n",
        "def get_modes_founds_old(first_visit : List[int], threshold : float = R2, max_steps : int = None) :\n",
        "    \"\"\"Calculates the modes (R >= threshold) found for each episode\n",
        "    \"\"\"\n",
        "    n = max_steps if max_steps is not None else n_train_steps\n",
        "    xs = range(n)\n",
        "    #modes_founds = [(reward_function(torch.stack([get_state(s) for s in list(set(np.where(first_visit == i)[0]))])) >= threshold).sum() for i in xs]\n",
        "    modes_founds = [0]*n\n",
        "    for i in xs :\n",
        "        states_i = list(set(np.where((0 <= first_visit) & (first_visit <= i))[0]))\n",
        "        states_i = get_state(torch.LongTensor(states_i))\n",
        "        r = reward_function(states_i)\n",
        "        modes_founds[i] = (r >= threshold).sum().item()\n",
        "    \n",
        "    return modes_founds, [(i+1)*batch_size for i in xs]\n",
        "\n",
        "def get_modes_founds(first_visit : List[int], modes : List[bool], max_steps : int = None) :\n",
        "    \"\"\"\n",
        "    Calculates the modes (R >= threshold) found for each episode.\n",
        "    Make sure first_visit and all_rewards have same shape\n",
        "    * ```modes = all_rewards >= threshold```\n",
        "    \"\"\"\n",
        "    n = max_steps if max_steps is not None else n_train_steps\n",
        "    ### numpy\n",
        "    # #modes_founds = ((first_visit<np.arange(n_train_steps).unsqueeze(1)) - (first_visit==-1)) * batch_size\n",
        "    # first_visit = first_visit[modes] # (n_modes,)\n",
        "    # modes_founds = (0 <= first_visit) & (first_visit <= np.arange(n)[...,np.newaxis]) # (n, n_modes)\n",
        "    # pytorch\n",
        "    first_visit = torch.from_numpy(first_visit)[modes] # (n_modes,)\n",
        "    modes_founds = (0 <= first_visit) & (first_visit <= torch.arange(n).unsqueeze(1)) # (n, n_modes)\n",
        "\n",
        "    return modes_founds.sum(1), np.arange(1, n+1)*batch_size"
      ]
    },
    {
      "cell_type": "markdown",
      "metadata": {
        "id": "JTGgqRae6Hw-"
      },
      "source": [
        "## Paramaters\n",
        "\n"
      ]
    },
    {
      "cell_type": "code",
      "execution_count": null,
      "metadata": {
        "id": "hd5CP3S_dBNU"
      },
      "outputs": [],
      "source": [
        "device = torch.device(\"cuda\" if torch.cuda.is_available() else \"cpu\")"
      ]
    },
    {
      "cell_type": "code",
      "execution_count": null,
      "metadata": {
        "id": "YGRmRS6Yoi08"
      },
      "outputs": [],
      "source": [
        "n_hid = 256\n",
        "n_layers = 2\n",
        "\n",
        "batch_size = 128\n",
        "\n",
        "minus_inf = -1e8\n",
        "\n",
        "# set PB to uniform distribution (and learn just PF) or not \n",
        "uniform_PB = False"
      ]
    },
    {
      "cell_type": "code",
      "execution_count": null,
      "metadata": {
        "id": "cDnpwMYfvNgV"
      },
      "outputs": [],
      "source": [
        "#n_train_steps = 50000\n",
        "n_train_steps = 5000\n",
        "#n_train_steps = 1000\n",
        "#n_train_steps = 50"
      ]
    },
    {
      "cell_type": "markdown",
      "metadata": {
        "id": "2SNWpaimSv3C"
      },
      "source": [
        "## Trajectory Balance objective\n",
        "\n",
        "$$ \n",
        "\\mathcal{L}_{TB} \\big(\\tau = (s_0, ..., s_n = x) \\big) = \\bigg( log \\frac{Z_{\\theta} \\prod_{t=1}^{n} P_{F} (s_t | s_{t-1}; \\theta) }{R(x) \\prod_{t=1}^{n} P_{B} (s_{t-1} | s_t; \\theta) } \\bigg)^2\n",
        "\\\\= \\bigg[ log(Z_{\\theta}) + \\sum_{t=1}^{n} \\bigg( - log\\big( P_{B} (s_{t-1} | s_t; \\theta)\\big) + log\\big(P_{F} (s_t | s_{t-1}; \\theta)\\big) \\bigg) - log \\big(R(x)\\big) \\bigg]^2\n",
        "$$"
      ]
    },
    {
      "cell_type": "code",
      "execution_count": null,
      "metadata": {
        "id": "Lm-JHa4E1ee_",
        "colab": {
          "base_uri": "https://localhost:8080/"
        },
        "outputId": "beda056c-881f-40a8-85ec-2f01a0be64e0"
      },
      "outputs": [
        {
          "output_type": "execute_result",
          "data": {
            "text/plain": [
              "Sequential(\n",
              "  (0): Linear(in_features=66, out_features=256, bias=True)\n",
              "  (1): LeakyReLU(negative_slope=0.01)\n",
              "  (2): Linear(in_features=256, out_features=256, bias=True)\n",
              "  (3): LeakyReLU(negative_slope=0.01)\n",
              "  (4): Linear(in_features=256, out_features=5, bias=True)\n",
              ")"
            ]
          },
          "metadata": {},
          "execution_count": 27
        }
      ],
      "source": [
        "input_dim = ndim*(H+1) # embedding dim\n",
        "output_dim = 2*ndim+1 # ndim + 1 for P_F (+1 for stop action) and ndim for P_B \n",
        "model_TB = make_mlp([input_dim] + [n_hid] * n_layers + [output_dim]).to(device)\n",
        "logZ_TB = torch.zeros((1,)).to(device) # log (initial state flow), Z = 1\n",
        "optimizer = torch.optim.Adam([ {'params':model_TB.parameters(), 'lr':0.001}, {'params':[logZ_TB], 'lr':0.1} ])\n",
        "logZ_TB.requires_grad_()\n",
        "\n",
        "model_TB"
      ]
    },
    {
      "cell_type": "code",
      "execution_count": null,
      "metadata": {
        "id": "2tW5HHfX3oCZ"
      },
      "outputs": [],
      "source": [
        "losses_TB = []\n",
        "rewards_TB = []\n",
        "logZ_TB_list = []\n",
        "all_visited_TB = []\n",
        "first_visit_TB = -1 * np.ones_like(true_dist)\n",
        "l1log_TB = []"
      ]
    },
    {
      "cell_type": "code",
      "execution_count": null,
      "metadata": {
        "id": "_AIYVboU30Ho",
        "colab": {
          "base_uri": "https://localhost:8080/"
        },
        "outputId": "8d6e1e4b-aded-4bf8-f208-f9f807cec741"
      },
      "outputs": [
        {
          "output_type": "stream",
          "name": "stderr",
          "text": [
            "  0%|          | 2/5000 [00:00<11:29,  7.25it/s]"
          ]
        },
        {
          "output_type": "stream",
          "name": "stdout",
          "text": [
            "\n",
            "loss = 5.628333568572998 logZ = 0.09999999403953552 R = 0.52953124\n",
            "L1 = 0.001778725696686156\n"
          ]
        },
        {
          "output_type": "stream",
          "name": "stderr",
          "text": [
            "  2%|▏         | 102/5000 [00:17<10:21,  7.88it/s]"
          ]
        },
        {
          "output_type": "stream",
          "name": "stdout",
          "text": [
            "\n",
            "loss = 1.78291807025671 logZ = 4.135488986968994 R = 0.86250013\n",
            "L1 = 0.0013702014601213934\n"
          ]
        },
        {
          "output_type": "stream",
          "name": "stderr",
          "text": [
            "  4%|▍         | 202/5000 [00:31<11:26,  6.99it/s]"
          ]
        },
        {
          "output_type": "stream",
          "name": "stdout",
          "text": [
            "\n",
            "loss = 0.5742632935196161 logZ = 5.280782699584961 R = 1.2209768\n",
            "L1 = 0.000986035780049603\n"
          ]
        },
        {
          "output_type": "stream",
          "name": "stderr",
          "text": [
            "  6%|▌         | 302/5000 [00:46<12:27,  6.29it/s]"
          ]
        },
        {
          "output_type": "stream",
          "name": "stdout",
          "text": [
            "\n",
            "loss = 0.04529868707060814 logZ = 5.328988552093506 R = 1.3409374\n",
            "L1 = 0.0008484788044541983\n"
          ]
        },
        {
          "output_type": "stream",
          "name": "stderr",
          "text": [
            "  8%|▊         | 402/5000 [01:01<11:56,  6.42it/s]"
          ]
        },
        {
          "output_type": "stream",
          "name": "stdout",
          "text": [
            "\n",
            "loss = 0.01844014646951109 logZ = 5.328639984130859 R = 1.3551171\n",
            "L1 = 0.0008142327996237067\n"
          ]
        },
        {
          "output_type": "stream",
          "name": "stderr",
          "text": [
            " 10%|█         | 502/5000 [01:16<11:20,  6.61it/s]"
          ]
        },
        {
          "output_type": "stream",
          "name": "stdout",
          "text": [
            "\n",
            "loss = 0.010433530427981168 logZ = 5.33644962310791 R = 1.3458202\n",
            "L1 = 0.0008219010561917563\n"
          ]
        },
        {
          "output_type": "stream",
          "name": "stderr",
          "text": [
            " 12%|█▏        | 602/5000 [01:31<10:56,  6.70it/s]"
          ]
        },
        {
          "output_type": "stream",
          "name": "stdout",
          "text": [
            "\n",
            "loss = 0.011155250065494329 logZ = 5.329713821411133 R = 1.3734764\n",
            "L1 = 0.0008319790157654365\n"
          ]
        },
        {
          "output_type": "stream",
          "name": "stderr",
          "text": [
            " 14%|█▍        | 702/5000 [01:46<11:10,  6.41it/s]"
          ]
        },
        {
          "output_type": "stream",
          "name": "stdout",
          "text": [
            "\n",
            "loss = 0.008212211115751416 logZ = 5.3406596183776855 R = 1.3804686\n",
            "L1 = 0.0008397900719583341\n"
          ]
        },
        {
          "output_type": "stream",
          "name": "stderr",
          "text": [
            " 16%|█▌        | 802/5000 [02:02<11:01,  6.34it/s]"
          ]
        },
        {
          "output_type": "stream",
          "name": "stdout",
          "text": [
            "\n",
            "loss = 0.012371844133595005 logZ = 5.340714454650879 R = 1.3629686\n",
            "L1 = 0.0008446476940957603\n"
          ]
        },
        {
          "output_type": "stream",
          "name": "stderr",
          "text": [
            " 18%|█▊        | 902/5000 [02:17<10:38,  6.42it/s]"
          ]
        },
        {
          "output_type": "stream",
          "name": "stdout",
          "text": [
            "\n",
            "loss = 0.008148455801419914 logZ = 5.338907241821289 R = 1.3625779\n",
            "L1 = 0.0008492869687980526\n"
          ]
        },
        {
          "output_type": "stream",
          "name": "stderr",
          "text": [
            " 20%|██        | 1002/5000 [02:32<09:47,  6.81it/s]"
          ]
        },
        {
          "output_type": "stream",
          "name": "stdout",
          "text": [
            "\n",
            "loss = 0.011026920803124085 logZ = 5.329413414001465 R = 1.355703\n",
            "L1 = 0.0008521966287347992\n"
          ]
        },
        {
          "output_type": "stream",
          "name": "stderr",
          "text": [
            " 22%|██▏       | 1102/5000 [02:47<09:55,  6.55it/s]"
          ]
        },
        {
          "output_type": "stream",
          "name": "stdout",
          "text": [
            "\n",
            "loss = 0.016485069857444613 logZ = 5.3343424797058105 R = 1.3725389\n",
            "L1 = 0.0008548253445309211\n"
          ]
        },
        {
          "output_type": "stream",
          "name": "stderr",
          "text": [
            " 24%|██▍       | 1202/5000 [03:02<09:24,  6.72it/s]"
          ]
        },
        {
          "output_type": "stream",
          "name": "stdout",
          "text": [
            "\n",
            "loss = 0.01704291391884908 logZ = 5.347470760345459 R = 1.3616796\n",
            "L1 = 0.0008563711822690463\n"
          ]
        },
        {
          "output_type": "stream",
          "name": "stderr",
          "text": [
            " 26%|██▌       | 1302/5000 [03:17<10:09,  6.06it/s]"
          ]
        },
        {
          "output_type": "stream",
          "name": "stdout",
          "text": [
            "\n",
            "loss = 0.016078759199008346 logZ = 5.330785751342773 R = 1.3592967\n",
            "L1 = 0.0008578448085068254\n"
          ]
        },
        {
          "output_type": "stream",
          "name": "stderr",
          "text": [
            " 28%|██▊       | 1402/5000 [03:32<08:55,  6.72it/s]"
          ]
        },
        {
          "output_type": "stream",
          "name": "stdout",
          "text": [
            "\n",
            "loss = 0.01280792518693488 logZ = 5.34039306640625 R = 1.3674998\n",
            "L1 = 0.0008593743401128751\n"
          ]
        },
        {
          "output_type": "stream",
          "name": "stderr",
          "text": [
            " 30%|███       | 1502/5000 [03:48<09:31,  6.13it/s]"
          ]
        },
        {
          "output_type": "stream",
          "name": "stdout",
          "text": [
            "\n",
            "loss = 0.019414019254036248 logZ = 5.346449851989746 R = 1.3490623\n",
            "L1 = 0.0008601265313698846\n"
          ]
        },
        {
          "output_type": "stream",
          "name": "stderr",
          "text": [
            " 32%|███▏      | 1602/5000 [04:03<08:45,  6.47it/s]"
          ]
        },
        {
          "output_type": "stream",
          "name": "stdout",
          "text": [
            "\n",
            "loss = 0.014356851861812174 logZ = 5.348987579345703 R = 1.3586327\n",
            "L1 = 0.0008653938401551512\n"
          ]
        },
        {
          "output_type": "stream",
          "name": "stderr",
          "text": [
            " 34%|███▍      | 1702/5000 [04:19<08:21,  6.58it/s]"
          ]
        },
        {
          "output_type": "stream",
          "name": "stdout",
          "text": [
            "\n",
            "loss = 0.01011250057257712 logZ = 5.359898567199707 R = 1.351992\n",
            "L1 = 0.0008779099099439482\n"
          ]
        },
        {
          "output_type": "stream",
          "name": "stderr",
          "text": [
            " 36%|███▌      | 1802/5000 [04:34<08:25,  6.32it/s]"
          ]
        },
        {
          "output_type": "stream",
          "name": "stdout",
          "text": [
            "\n",
            "loss = 0.008463301360607148 logZ = 5.346924304962158 R = 1.3449998\n",
            "L1 = 0.0008784057777125432\n"
          ]
        },
        {
          "output_type": "stream",
          "name": "stderr",
          "text": [
            " 38%|███▊      | 1902/5000 [04:49<08:15,  6.25it/s]"
          ]
        },
        {
          "output_type": "stream",
          "name": "stdout",
          "text": [
            "\n",
            "loss = 0.005478061276953668 logZ = 5.343153476715088 R = 1.3550389\n",
            "L1 = 0.0008769089916703025\n"
          ]
        },
        {
          "output_type": "stream",
          "name": "stderr",
          "text": [
            " 40%|████      | 2002/5000 [05:05<08:02,  6.21it/s]"
          ]
        },
        {
          "output_type": "stream",
          "name": "stdout",
          "text": [
            "\n",
            "loss = 0.0031735188351012765 logZ = 5.354211807250977 R = 1.3458202\n",
            "L1 = 0.0008760458144434891\n"
          ]
        },
        {
          "output_type": "stream",
          "name": "stderr",
          "text": [
            " 42%|████▏     | 2102/5000 [05:20<07:27,  6.48it/s]"
          ]
        },
        {
          "output_type": "stream",
          "name": "stdout",
          "text": [
            "\n",
            "loss = 0.002414415905368514 logZ = 5.359030723571777 R = 1.345078\n",
            "L1 = 0.0008743102772534064\n"
          ]
        },
        {
          "output_type": "stream",
          "name": "stderr",
          "text": [
            " 44%|████▍     | 2202/5000 [05:35<07:20,  6.35it/s]"
          ]
        },
        {
          "output_type": "stream",
          "name": "stdout",
          "text": [
            "\n",
            "loss = 0.0014351527384133078 logZ = 5.353431701660156 R = 1.3358202\n",
            "L1 = 0.0008729512322579978\n"
          ]
        },
        {
          "output_type": "stream",
          "name": "stderr",
          "text": [
            " 46%|████▌     | 2302/5000 [05:51<07:07,  6.30it/s]"
          ]
        },
        {
          "output_type": "stream",
          "name": "stdout",
          "text": [
            "\n",
            "loss = 0.0012332153940224088 logZ = 5.352160453796387 R = 1.3472655\n",
            "L1 = 0.0008720329586124514\n"
          ]
        },
        {
          "output_type": "stream",
          "name": "stderr",
          "text": [
            " 48%|████▊     | 2402/5000 [06:06<06:57,  6.23it/s]"
          ]
        },
        {
          "output_type": "stream",
          "name": "stdout",
          "text": [
            "\n",
            "loss = 0.00131919666135218 logZ = 5.355493545532227 R = 1.3470702\n",
            "L1 = 0.0008706279999347654\n"
          ]
        },
        {
          "output_type": "stream",
          "name": "stderr",
          "text": [
            " 50%|█████     | 2502/5000 [06:22<06:31,  6.38it/s]"
          ]
        },
        {
          "output_type": "stream",
          "name": "stdout",
          "text": [
            "\n",
            "loss = 0.0013849276874680072 logZ = 5.349582195281982 R = 1.3568358\n",
            "L1 = 0.0008697097262892192\n"
          ]
        },
        {
          "output_type": "stream",
          "name": "stderr",
          "text": [
            " 52%|█████▏    | 2602/5000 [06:37<06:13,  6.43it/s]"
          ]
        },
        {
          "output_type": "stream",
          "name": "stdout",
          "text": [
            "\n",
            "loss = 0.0011863567828550004 logZ = 5.352218151092529 R = 1.3421874\n",
            "L1 = 0.0008685894324416526\n"
          ]
        },
        {
          "output_type": "stream",
          "name": "stderr",
          "text": [
            " 54%|█████▍    | 2702/5000 [06:52<05:41,  6.73it/s]"
          ]
        },
        {
          "output_type": "stream",
          "name": "stdout",
          "text": [
            "\n",
            "loss = 0.0011416754854144528 logZ = 5.34600305557251 R = 1.3425779\n",
            "L1 = 0.0008670100017713128\n"
          ]
        },
        {
          "output_type": "stream",
          "name": "stderr",
          "text": [
            " 56%|█████▌    | 2802/5000 [07:07<05:38,  6.50it/s]"
          ]
        },
        {
          "output_type": "stream",
          "name": "stdout",
          "text": [
            "\n",
            "loss = 0.0019052506890147925 logZ = 5.348293304443359 R = 1.342539\n",
            "L1 = 0.0008664957685298069\n"
          ]
        },
        {
          "output_type": "stream",
          "name": "stderr",
          "text": [
            " 58%|█████▊    | 2902/5000 [07:23<05:31,  6.33it/s]"
          ]
        },
        {
          "output_type": "stream",
          "name": "stdout",
          "text": [
            "\n",
            "loss = 0.0014822547981748358 logZ = 5.35621452331543 R = 1.3526951\n",
            "L1 = 0.0008656325913029933\n"
          ]
        },
        {
          "output_type": "stream",
          "name": "stderr",
          "text": [
            " 60%|██████    | 3002/5000 [07:38<05:11,  6.42it/s]"
          ]
        },
        {
          "output_type": "stream",
          "name": "stdout",
          "text": [
            "\n",
            "loss = 0.0023967039538547396 logZ = 5.353648662567139 R = 1.3404295\n",
            "L1 = 0.0008647326831303577\n"
          ]
        },
        {
          "output_type": "stream",
          "name": "stderr",
          "text": [
            " 62%|██████▏   | 3102/5000 [07:54<05:09,  6.13it/s]"
          ]
        },
        {
          "output_type": "stream",
          "name": "stdout",
          "text": [
            "\n",
            "loss = 0.005494735561078414 logZ = 5.348416805267334 R = 1.3426951\n",
            "L1 = 0.0008640990743149307\n"
          ]
        },
        {
          "output_type": "stream",
          "name": "stderr",
          "text": [
            " 64%|██████▍   | 3202/5000 [08:09<04:52,  6.16it/s]"
          ]
        },
        {
          "output_type": "stream",
          "name": "stdout",
          "text": [
            "\n",
            "loss = 0.005218944337684661 logZ = 5.349833011627197 R = 1.3469529\n",
            "L1 = 0.0008638695059035443\n"
          ]
        },
        {
          "output_type": "stream",
          "name": "stderr",
          "text": [
            " 66%|██████▌   | 3302/5000 [08:25<04:28,  6.33it/s]"
          ]
        },
        {
          "output_type": "stream",
          "name": "stdout",
          "text": [
            "\n",
            "loss = 0.0058119719568639995 logZ = 5.346216678619385 R = 1.3516796\n",
            "L1 = 0.0008636583029650685\n"
          ]
        },
        {
          "output_type": "stream",
          "name": "stderr",
          "text": [
            " 68%|██████▊   | 3402/5000 [08:40<04:17,  6.22it/s]"
          ]
        },
        {
          "output_type": "stream",
          "name": "stdout",
          "text": [
            "\n",
            "loss = 0.0025849097920581697 logZ = 5.35282039642334 R = 1.3396873\n",
            "L1 = 0.0008632634452974836\n"
          ]
        },
        {
          "output_type": "stream",
          "name": "stderr",
          "text": [
            " 70%|███████   | 3502/5000 [08:55<03:44,  6.67it/s]"
          ]
        },
        {
          "output_type": "stream",
          "name": "stdout",
          "text": [
            "\n",
            "loss = 0.0024502310279058293 logZ = 5.351184844970703 R = 1.3424608\n",
            "L1 = 0.0008632634452974836\n"
          ]
        },
        {
          "output_type": "stream",
          "name": "stderr",
          "text": [
            " 72%|███████▏  | 3602/5000 [09:10<03:31,  6.62it/s]"
          ]
        },
        {
          "output_type": "stream",
          "name": "stdout",
          "text": [
            "\n",
            "loss = 0.0015901357040274888 logZ = 5.348814964294434 R = 1.3441795\n",
            "L1 = 0.0008634654654995037\n"
          ]
        },
        {
          "output_type": "stream",
          "name": "stderr",
          "text": [
            " 74%|███████▍  | 3702/5000 [09:26<03:18,  6.53it/s]"
          ]
        },
        {
          "output_type": "stream",
          "name": "stdout",
          "text": [
            "\n",
            "loss = 0.0011742146176402456 logZ = 5.355237007141113 R = 1.3625389\n",
            "L1 = 0.000863667485701524\n"
          ]
        },
        {
          "output_type": "stream",
          "name": "stderr",
          "text": [
            " 76%|███████▌  | 3802/5000 [09:41<03:03,  6.52it/s]"
          ]
        },
        {
          "output_type": "stream",
          "name": "stdout",
          "text": [
            "\n",
            "loss = 0.0021212736348388715 logZ = 5.349887371063232 R = 1.3365624\n",
            "L1 = 0.0008634195518172265\n"
          ]
        },
        {
          "output_type": "stream",
          "name": "stderr",
          "text": [
            " 78%|███████▊  | 3902/5000 [09:55<02:49,  6.49it/s]"
          ]
        },
        {
          "output_type": "stream",
          "name": "stdout",
          "text": [
            "\n",
            "loss = 0.003614989003399387 logZ = 5.356720447540283 R = 1.3418748\n",
            "L1 = 0.0008635389273911474\n"
          ]
        },
        {
          "output_type": "stream",
          "name": "stderr",
          "text": [
            " 80%|████████  | 4002/5000 [10:10<02:28,  6.71it/s]"
          ]
        },
        {
          "output_type": "stream",
          "name": "stdout",
          "text": [
            "\n",
            "loss = 0.002977787685813382 logZ = 5.347593307495117 R = 1.3455858\n",
            "L1 = 0.0008633828208714046\n"
          ]
        },
        {
          "output_type": "stream",
          "name": "stderr",
          "text": [
            " 82%|████████▏ | 4102/5000 [10:25<02:16,  6.56it/s]"
          ]
        },
        {
          "output_type": "stream",
          "name": "stdout",
          "text": [
            "\n",
            "loss = 0.0042907516693230716 logZ = 5.345900535583496 R = 1.358164\n",
            "L1 = 0.0008638603231670887\n"
          ]
        },
        {
          "output_type": "stream",
          "name": "stderr",
          "text": [
            " 84%|████████▍ | 4202/5000 [10:40<02:05,  6.36it/s]"
          ]
        },
        {
          "output_type": "stream",
          "name": "stdout",
          "text": [
            "\n",
            "loss = 0.002906727121444419 logZ = 5.342167377471924 R = 1.3398045\n",
            "L1 = 0.0008643929218815057\n"
          ]
        },
        {
          "output_type": "stream",
          "name": "stderr",
          "text": [
            " 86%|████████▌ | 4302/5000 [10:56<01:46,  6.57it/s]"
          ]
        },
        {
          "output_type": "stream",
          "name": "stdout",
          "text": [
            "\n",
            "loss = 0.002412941889488138 logZ = 5.364588260650635 R = 1.3480858\n",
            "L1 = 0.0008644112873544166\n"
          ]
        },
        {
          "output_type": "stream",
          "name": "stderr",
          "text": [
            " 88%|████████▊ | 4402/5000 [11:10<01:31,  6.53it/s]"
          ]
        },
        {
          "output_type": "stream",
          "name": "stdout",
          "text": [
            "\n",
            "loss = 0.004100368832005188 logZ = 5.349205017089844 R = 1.343203\n",
            "L1 = 0.0008640164296868317\n"
          ]
        },
        {
          "output_type": "stream",
          "name": "stderr",
          "text": [
            " 90%|█████████ | 4502/5000 [11:25<01:16,  6.49it/s]"
          ]
        },
        {
          "output_type": "stream",
          "name": "stdout",
          "text": [
            "\n",
            "loss = 0.0015340748731978238 logZ = 5.342836380004883 R = 1.349453\n",
            "L1 = 0.0008640898915784755\n"
          ]
        },
        {
          "output_type": "stream",
          "name": "stderr",
          "text": [
            " 92%|█████████▏| 4602/5000 [11:41<01:03,  6.27it/s]"
          ]
        },
        {
          "output_type": "stream",
          "name": "stdout",
          "text": [
            "\n",
            "loss = 0.001327568173292093 logZ = 5.354628562927246 R = 1.3407811\n",
            "L1 = 0.0008639888814774652\n"
          ]
        },
        {
          "output_type": "stream",
          "name": "stderr",
          "text": [
            " 94%|█████████▍| 4702/5000 [11:56<00:44,  6.63it/s]"
          ]
        },
        {
          "output_type": "stream",
          "name": "stdout",
          "text": [
            "\n",
            "loss = 0.0017095171532128005 logZ = 5.352619171142578 R = 1.3485936\n",
            "L1 = 0.0008641082570513863\n"
          ]
        },
        {
          "output_type": "stream",
          "name": "stderr",
          "text": [
            " 96%|█████████▌| 4802/5000 [12:11<00:31,  6.29it/s]"
          ]
        },
        {
          "output_type": "stream",
          "name": "stdout",
          "text": [
            "\n",
            "loss = 0.0033637633302714674 logZ = 5.3555073738098145 R = 1.3414452\n",
            "L1 = 0.0008635756583369694\n"
          ]
        },
        {
          "output_type": "stream",
          "name": "stderr",
          "text": [
            " 98%|█████████▊| 4902/5000 [12:26<00:15,  6.33it/s]"
          ]
        },
        {
          "output_type": "stream",
          "name": "stdout",
          "text": [
            "\n",
            "loss = 0.0077345301583409305 logZ = 5.345482349395752 R = 1.3267968\n",
            "L1 = 0.0008634379172901373\n"
          ]
        },
        {
          "output_type": "stream",
          "name": "stderr",
          "text": [
            "100%|██████████| 5000/5000 [12:41<00:00,  6.57it/s]\n"
          ]
        }
      ],
      "source": [
        "for it in tqdm.trange(n_train_steps):\n",
        "    \n",
        "    # TB loss for each trajectory\n",
        "    loss_TB = torch.zeros((batch_size,)).to(device)\n",
        "    loss_TB += logZ_TB # see the equation above\n",
        "    # finished trajectories\n",
        "    dones = torch.full((batch_size,), False, dtype=torch.bool).to(device)\n",
        "    # s_0\n",
        "    states = torch.zeros((batch_size, ndim), dtype=torch.long).to(device)\n",
        "    # actions chosen at each step : we can choose the coordinate to increment (0 ... ndim-1), or choose to return the current state as terminal (ndim)\n",
        "    actions = None # (current_batch_size,)\n",
        "\n",
        "    while torch.any(~dones):\n",
        "\n",
        "        ### Forward pass ### \n",
        "        current_batch_size = (~dones).sum()\n",
        "        non_terminal_states = states[~dones] # (current_batch_size, ndim)\n",
        "        embed = one_hot_embedding(non_terminal_states) # (current_batch_size, input_dim)\n",
        "        logits = model_TB(embed) # (current_batch_size, output_dim) \n",
        "        \n",
        "        ### Backward Policy ### \n",
        "        PB_logits = logits[...,ndim+1:2*ndim+1] # (current_batch_size, ndim)\n",
        "        PB_logits = PB_logits * (0 if uniform_PB else 1) # (current_batch_size, ndim)\n",
        "        # Being in a edge cell -- (a zero coordinate), we can't move backward\n",
        "        edge_mask = (non_terminal_states == 0).float() # (current_batch_size, ndim)\n",
        "        logPB = (PB_logits + minus_inf*edge_mask).log_softmax(1) # (current_batch_size, ndim)\n",
        "        # add -logPB to the loss\n",
        "        if actions is not None: \n",
        "            \"\"\"\n",
        "            Gather along the parents' dimension (1) to select the logPB of the previously chosen actions, while avoiding the actions leading \n",
        "            to terminal states (action==ndim). The reason of using the previous chosen actions is that PB is calculated on the same trajectory as PF\n",
        "            See below for the calculation of `action`. We avoid actions leading to terminal states because a terminal state can't be parent of another \n",
        "            state\n",
        "            \"\"\"\n",
        "            loss_TB[~dones] -= logPB.gather(1, actions[actions != ndim].unsqueeze(1)).squeeze(1)\n",
        "\n",
        "        ### Forward Policy ### \n",
        "        PF_logits = logits[...,:ndim+1] # (current_batch_size, ndim+1) \n",
        "        # Being in a edge cell ++ (a coordinate that is H), we can't move forward\n",
        "        edge_mask = (non_terminal_states == H).float() # (current_batch_size, ndim)\n",
        "        # but any cell can be a terminal cell\n",
        "        stop_action_mask = torch.zeros((current_batch_size, 1), device=device) # (current_batch_size, 1)\n",
        "        # Being in a edge cell, we can't move forward, but any cell can be a terminal cell\n",
        "        PF_mask = torch.cat([edge_mask, stop_action_mask], 1) # (current_batch_size, ndim+1)\n",
        "        # logPF (with mask)\n",
        "        logPF = (PF_logits + minus_inf*PF_mask).log_softmax(1) # (current_batch_size, ndim+1)\n",
        "        # choose next states\n",
        "        sample_temperature = 1\n",
        "        #exp_weight = 0.\n",
        "        #sample_ins_probs = (1-exp_weight)*(logPF/sample_temperature).softmax(1) + exp_weight*(1-PF_mask) / (1-PF_mask+0.0000001).sum(1).unsqueeze(1) # (current_batch_size, ndim+1)\n",
        "        sample_ins_probs = (logPF/sample_temperature).softmax(1) # (current_batch_size, ndim+1)\n",
        "        #actions = torch.distributions.categorical.Categorical(probs = sample_ins_probs).sample() # (current_batch_size,)\n",
        "        #actions = torch.multinomial(probs = sample_ins_probs, 1).squeeze(1) # (current_batch_size,) # (current_batch_size,)\n",
        "        actions = sample_ins_probs.multinomial(1) # (current_batch_size,)\n",
        "        # add logPF to the loss : gather along the children's dimension (1) to select the logPF for the chosen actions\n",
        "        loss_TB[~dones] += logPF.gather(1, actions).squeeze(1)\n",
        "\n",
        "        ### select terminal states ### \n",
        "        terminates = (actions==ndim).squeeze(1)\n",
        "        for state in non_terminal_states[terminates]: \n",
        "            state_index = get_state_index(state.cpu())\n",
        "            if first_visit_TB[state_index]<0: first_visit_TB[state_index] = it\n",
        "            all_visited_TB.append(state_index)\n",
        "        \n",
        "        # Update dones\n",
        "        dones[~dones] |= terminates\n",
        "\n",
        "        # Update non completed trajectories : $s = (s^0, ..., s^i, ..., s^{n-1}) \\rightarrow s' = (s^0, ..., s^i + 1, ..., s^{n-1})$\n",
        "        with torch.no_grad():\n",
        "            non_terminates = actions[~terminates]\n",
        "            states[~dones] = states[~dones].scatter_add(1, non_terminates, torch.ones(non_terminates.shape, dtype=torch.long, device=device))\n",
        "        \n",
        "    R = reward_function(states.float())\n",
        "    loss_TB -= R.log()\n",
        "    loss = (loss_TB**2).sum()/batch_size\n",
        "\n",
        "    optimizer.zero_grad()\n",
        "    loss.backward()\n",
        "    optimizer.step()\n",
        "\n",
        "    losses_TB.append(loss.item())\n",
        "    rewards_TB.append(R.mean().cpu())\n",
        "    logZ_TB_list.append(logZ_TB.item())\n",
        "\n",
        "    if it%100==0: \n",
        "        print('\\nloss =', np.array(losses_TB[-100:]).mean(), 'logZ =', logZ_TB.item(), \"R =\", np.array(rewards_TB[-100:]).mean())\n",
        "        emp_dist = np.bincount(all_visited_TB[-200000:], minlength=len(true_dist)).astype(float)\n",
        "        emp_dist /= emp_dist.sum()\n",
        "        l1 = np.abs(true_dist-emp_dist).mean()\n",
        "        print('L1 =', l1)\n",
        "        l1log_TB.append((len(all_visited_TB), l1))"
      ]
    },
    {
      "cell_type": "markdown",
      "source": [
        "### samples"
      ],
      "metadata": {
        "id": "Tl-ijptUXCX2"
      }
    },
    {
      "cell_type": "code",
      "source": [
        "#model_TB, logZ_TB, losses_TB, rewards_TB, logZ_TB_list, all_visited_TB, first_visit_TB, l1log_TB = data[\"TB\"]"
      ],
      "metadata": {
        "id": "Ap8HubYzWRbG"
      },
      "execution_count": null,
      "outputs": []
    },
    {
      "cell_type": "code",
      "source": [
        "samples_TB = np.zeros((H+1,)*ndim)"
      ],
      "metadata": {
        "id": "khlWcXktVTfw"
      },
      "execution_count": null,
      "outputs": []
    },
    {
      "cell_type": "code",
      "source": [
        "for it in tqdm.trange(500):\n",
        "    # finished trajectories\n",
        "    dones = torch.full((batch_size,), False, dtype=torch.bool).to(device)\n",
        "    # s_0\n",
        "    states = torch.zeros((batch_size, ndim), dtype=torch.long).to(device)\n",
        "    # actions chosen at each step : we can choose the coordinate to increment (0 ... ndim-1), or choose to return the current state as terminal (ndim)\n",
        "    actions = None # (current_batch_size,)\n",
        "\n",
        "    while torch.any(~dones):\n",
        "\n",
        "        ### Forward pass ### \n",
        "        current_batch_size = (~dones).sum()\n",
        "        non_terminal_states = states[~dones] # (current_batch_size, ndim)\n",
        "        embed = one_hot_embedding(non_terminal_states) # (current_batch_size, input_dim)\n",
        "        with torch.no_grad():\n",
        "            logits = model_TB(embed) # (current_batch_size, output_dim) \n",
        "        \n",
        "        ### Forward Policy ### \n",
        "        PF_logits = logits[...,:ndim+1] # (current_batch_size, ndim+1) \n",
        "        # Being in a edge cell ++ (a coordinate that is H), we can't move forward\n",
        "        edge_mask = (non_terminal_states == H).float() # (current_batch_size, ndim)\n",
        "        # but any cell can be a terminal cell\n",
        "        stop_action_mask = torch.zeros((current_batch_size, 1), device=device) # (current_batch_size, 1)\n",
        "        # Being in a edge cell, we can't move forward, but any cell can be a terminal cell\n",
        "        PF_mask = torch.cat([edge_mask, stop_action_mask], 1) # (current_batch_size, ndim+1)\n",
        "        # logPF (with mask)\n",
        "        logPF = (PF_logits + minus_inf*PF_mask).log_softmax(1) # (current_batch_size, ndim+1)\n",
        "        # choose next states\n",
        "        sample_temperature = 1\n",
        "        #exp_weight = 0.\n",
        "        #sample_ins_probs = (1-exp_weight)*(logPF/sample_temperature).softmax(1) + exp_weight*(1-PF_mask) / (1-PF_mask+0.0000001).sum(1).unsqueeze(1) # (current_batch_size, ndim+1)\n",
        "        sample_ins_probs = (logPF/sample_temperature).softmax(1) # (current_batch_size, ndim+1)\n",
        "        #actions = torch.distributions.categorical.Categorical(probs = sample_ins_probs).sample() # (current_batch_size,)\n",
        "        #actions = torch.multinomial(probs = sample_ins_probs, 1).squeeze(1) # (current_batch_size,) # (current_batch_size,)\n",
        "        actions = sample_ins_probs.multinomial(1) # (current_batch_size,)\n",
        "        \n",
        "        ### select terminal states ### \n",
        "        terminates = (actions==ndim).squeeze(1)\n",
        "        \n",
        "        # Update dones\n",
        "        dones[~dones] |= terminates\n",
        "        \n",
        "        # Update non completed trajectories : $s = (s^0, ..., s^i, ..., s^{n-1}) \\rightarrow s' = (s^0, ..., s^i + 1, ..., s^{n-1})$\n",
        "        with torch.no_grad():\n",
        "            non_terminates = actions[~terminates]\n",
        "            states[~dones] = states[~dones].scatter_add(1, non_terminates, torch.ones(non_terminates.shape, dtype=torch.long, device=device))\n",
        "    \n",
        "    if ndim == 8 :\n",
        "        for a,b,c,d,e,f,g,h in states: samples_TB[a,b,c,d,e,f,g,h]+=1\n",
        "    if ndim == 6 :\n",
        "        for a,b,c,d,e,f in states: samples_TB[a,b,c,d,e,f]+=1\n",
        "    if ndim == 4 :\n",
        "        for a,b,c,d in states: samples_TB[a,b,c,d]+=1\n",
        "    elif ndim == 2 :\n",
        "        for a,b in states: samples_TB[a,b]+=1"
      ],
      "metadata": {
        "id": "90YqlU5sVrcf",
        "colab": {
          "base_uri": "https://localhost:8080/"
        },
        "outputId": "aea4eaed-1038-40f4-99aa-a904ceed612f"
      },
      "execution_count": null,
      "outputs": [
        {
          "output_type": "stream",
          "name": "stderr",
          "text": [
            "100%|██████████| 500/500 [00:28<00:00, 17.58it/s]\n"
          ]
        }
      ]
    },
    {
      "cell_type": "code",
      "source": [
        "if ndim == 2 :\n",
        "    print(samples_TB / samples_TB.sum())"
      ],
      "metadata": {
        "id": "fkFt2bknWnZ7",
        "colab": {
          "base_uri": "https://localhost:8080/"
        },
        "outputId": "277cfe39-9f22-4c54-f75f-b388c6c398fa"
      },
      "execution_count": null,
      "outputs": [
        {
          "output_type": "stream",
          "name": "stdout",
          "text": [
            "[[0.00259375 0.00201563 0.00245313 ... 0.00254688 0.00253125 0.00196875]\n",
            " [0.00234375 0.00198438 0.00253125 ... 0.00228125 0.002375   0.00253125]\n",
            " [0.00239062 0.00242187 0.00215625 ... 0.00253125 0.00232812 0.00265625]\n",
            " ...\n",
            " [0.00276562 0.00245313 0.00214063 ... 0.00226562 0.00251563 0.00285937]\n",
            " [0.00226562 0.0023125  0.00257813 ... 0.00264063 0.002375   0.0020625 ]\n",
            " [0.00235937 0.002375   0.00245313 ... 0.00264063 0.00192187 0.00254688]]\n"
          ]
        }
      ]
    },
    {
      "cell_type": "code",
      "source": [
        "if ndim == 2 :\n",
        "    plt.imshow(samples_TB)\n",
        "elif ndim == 4 :\n",
        "    plt.imshow(samples_TB[0,0])\n",
        "elif ndim == 6:  \n",
        "    plt.imshow(samples_TB[0,0,0,0])\n",
        "elif ndim == 8:  \n",
        "    plt.imshow(samples_TB[0,0,0,0,0,0])"
      ],
      "metadata": {
        "id": "qSj-PCCBWsOa",
        "colab": {
          "base_uri": "https://localhost:8080/",
          "height": 266
        },
        "outputId": "77b91ef3-1ed1-4fa0-b2eb-c77909cab33f"
      },
      "execution_count": null,
      "outputs": [
        {
          "output_type": "display_data",
          "data": {
            "text/plain": [
              "<Figure size 432x288 with 1 Axes>"
            ],
            "image/png": "[encoded data removed]"
          },
          "metadata": {
            "needs_background": "light"
          }
        }
      ]
    },
    {
      "cell_type": "code",
      "source": [
        "if ndim == 4 :\n",
        "    tmp = samples_TB.sum((2,3))+samples_TB.sum((0,1))+samples_TB.sum((0,2))+samples_TB.sum((1,3))+samples_TB.sum((2,3))+samples_TB.sum((0,3))\n",
        "    plt.imshow(tmp,vmin=0);plt.show()\n",
        "    plt.imshow(samples_TB.sum((1,3)),vmin=0);plt.show()"
      ],
      "metadata": {
        "id": "e8mhX3YgWmBE"
      },
      "execution_count": null,
      "outputs": []
    },
    {
      "cell_type": "markdown",
      "metadata": {
        "id": "4PbkKf2BZCA2"
      },
      "source": [
        "## Detailed balance objective\n",
        "\n",
        "$$ \n",
        "\\mathcal{L}_{DB} \\big(s, s' \\big) = \\left\\{\n",
        "    \\begin{array}{ll}\n",
        "        \\bigg( log \\frac{F_{\\theta}(s) P_{F} (s' | s; \\theta)}{R(s') P_{B} (s | s'; \\theta) } \\bigg)^2 & \\mbox{if } s' \\mbox{ terminal} \\\\\n",
        "        \\bigg( log \\frac{F_{\\theta}(s) P_{F} (s' | s; \\theta) }{F_{\\theta}(s') P_{B} (s | s'; \\theta) } \\bigg)^2 & \\mbox{else.}\n",
        "    \\end{array}\n",
        "\\right. \n",
        "\\\\= \\left\\{\n",
        "    \\begin{array}{ll}\n",
        "        \\bigg[ log(F_{\\theta} (s)) - log\\big( P_{B} (s' | s; \\theta)\\big) + log\\big(P_{F} (s | s'; \\theta)\\big) - log(R(s'))  \\bigg]^2 & \\mbox{if } s' \\mbox{ terminal} \\\\\n",
        "        \\bigg[ log(F_{\\theta} (s)) - log(F_{\\theta} (s')) - log\\big( P_{B} (s' | s; \\theta)\\big) + log\\big(P_{F} (s | s'; \\theta)\\big) \\bigg]^2 & \\mbox{else.}\n",
        "    \\end{array}\n",
        "\\right. \n",
        "$$"
      ]
    },
    {
      "cell_type": "code",
      "execution_count": null,
      "metadata": {
        "id": "EtFFbSQbZR2p",
        "colab": {
          "base_uri": "https://localhost:8080/"
        },
        "outputId": "597c9c02-de52-4ccf-9ed3-bb4754ee7b41"
      },
      "outputs": [
        {
          "output_type": "execute_result",
          "data": {
            "text/plain": [
              "Sequential(\n",
              "  (0): Linear(in_features=66, out_features=256, bias=True)\n",
              "  (1): LeakyReLU(negative_slope=0.01)\n",
              "  (2): Linear(in_features=256, out_features=256, bias=True)\n",
              "  (3): LeakyReLU(negative_slope=0.01)\n",
              "  (4): Linear(in_features=256, out_features=6, bias=True)\n",
              ")"
            ]
          },
          "metadata": {},
          "execution_count": 36
        }
      ],
      "source": [
        "input_dim = ndim*(H+1) # embedding dim\n",
        "output_dim = 2*ndim+2 # ndim + 1 for P_F (+1 for stop action), ndim for P_B, and 1 for F\n",
        "model_DB = make_mlp([input_dim] + [n_hid] * n_layers + [output_dim]).to(device)\n",
        "logZ_DB = torch.zeros((1,)).to(device) # log (initial state flow), Z = 1\n",
        "optimizer = torch.optim.Adam([{'params':model_DB.parameters(), 'lr':0.001}])\n",
        "\n",
        "model_DB"
      ]
    },
    {
      "cell_type": "code",
      "execution_count": null,
      "metadata": {
        "id": "SBcj3XsFeMTc"
      },
      "outputs": [],
      "source": [
        "losses_DB = []\n",
        "rewards_DB = []\n",
        "logZ_DB_list = []\n",
        "all_visited_DB = []\n",
        "first_visit_DB = -1 * np.ones_like(true_dist)\n",
        "l1log_DB = []"
      ]
    },
    {
      "cell_type": "code",
      "execution_count": null,
      "metadata": {
        "id": "fGVdJs21Uqys",
        "colab": {
          "base_uri": "https://localhost:8080/"
        },
        "outputId": "7ab7c84b-87de-4324-8f0b-30c7959c7278"
      },
      "outputs": [
        {
          "output_type": "stream",
          "name": "stderr",
          "text": [
            "  0%|          | 6/5000 [00:00<03:24, 24.46it/s]"
          ]
        },
        {
          "output_type": "stream",
          "name": "stdout",
          "text": [
            "\n",
            "loss = 1.558149814605713 logZ = 0.009096775203943253 R = 0.53734374\n",
            "L1 = 0.0017672830119218482\n"
          ]
        },
        {
          "output_type": "stream",
          "name": "stderr",
          "text": [
            "  2%|▏         | 102/5000 [00:15<15:26,  5.29it/s]"
          ]
        },
        {
          "output_type": "stream",
          "name": "stdout",
          "text": [
            "\n",
            "loss = 1.5978898778557777 logZ = 4.348416805267334 R = 0.673672\n",
            "L1 = 0.0012334472556907936\n"
          ]
        },
        {
          "output_type": "stream",
          "name": "stderr",
          "text": [
            "  4%|▍         | 201/5000 [00:34<16:15,  4.92it/s]"
          ]
        },
        {
          "output_type": "stream",
          "name": "stdout",
          "text": [
            "\n",
            "loss = 0.18652499176561832 logZ = 4.8478617668151855 R = 1.0249221\n",
            "L1 = 0.001126958386272558\n"
          ]
        },
        {
          "output_type": "stream",
          "name": "stderr",
          "text": [
            "  6%|▌         | 302/5000 [00:54<15:50,  4.94it/s]"
          ]
        },
        {
          "output_type": "stream",
          "name": "stdout",
          "text": [
            "\n",
            "loss = 0.05439641799777746 logZ = 5.2593536376953125 R = 1.2181252\n",
            "L1 = 0.000991876756069694\n"
          ]
        },
        {
          "output_type": "stream",
          "name": "stderr",
          "text": [
            "  8%|▊         | 401/5000 [01:15<15:21,  4.99it/s]"
          ]
        },
        {
          "output_type": "stream",
          "name": "stdout",
          "text": [
            "\n",
            "loss = 0.01430265350267291 logZ = 5.3503031730651855 R = 1.3126172\n",
            "L1 = 0.0009097025461818147\n"
          ]
        },
        {
          "output_type": "stream",
          "name": "stderr",
          "text": [
            " 10%|█         | 501/5000 [01:35<15:17,  4.90it/s]"
          ]
        },
        {
          "output_type": "stream",
          "name": "stdout",
          "text": [
            "\n",
            "loss = 0.008057421322446317 logZ = 5.354135513305664 R = 1.3220311\n",
            "L1 = 0.0008761998705329709\n"
          ]
        },
        {
          "output_type": "stream",
          "name": "stderr",
          "text": [
            " 12%|█▏        | 601/5000 [01:55<15:20,  4.78it/s]"
          ]
        },
        {
          "output_type": "stream",
          "name": "stdout",
          "text": [
            "\n",
            "loss = 0.015733420285396277 logZ = 5.328025817871094 R = 1.3427342\n",
            "L1 = 0.0008574659068625308\n"
          ]
        },
        {
          "output_type": "stream",
          "name": "stderr",
          "text": [
            " 14%|█▍        | 701/5000 [02:16<15:27,  4.63it/s]"
          ]
        },
        {
          "output_type": "stream",
          "name": "stdout",
          "text": [
            "\n",
            "loss = 0.011471149037824944 logZ = 5.347069263458252 R = 1.3582029\n",
            "L1 = 0.000843843818232374\n"
          ]
        },
        {
          "output_type": "stream",
          "name": "stderr",
          "text": [
            " 16%|█▌        | 801/5000 [02:37<14:15,  4.91it/s]"
          ]
        },
        {
          "output_type": "stream",
          "name": "stdout",
          "text": [
            "\n",
            "loss = 0.010416160633321852 logZ = 5.344133377075195 R = 1.349453\n",
            "L1 = 0.0008401615167739673\n"
          ]
        },
        {
          "output_type": "stream",
          "name": "stderr",
          "text": [
            " 18%|█▊        | 901/5000 [02:58<13:52,  4.93it/s]"
          ]
        },
        {
          "output_type": "stream",
          "name": "stdout",
          "text": [
            "\n",
            "loss = 0.009269262327579781 logZ = 5.342678070068359 R = 1.3547654\n",
            "L1 = 0.000843633751120317\n"
          ]
        },
        {
          "output_type": "stream",
          "name": "stderr",
          "text": [
            " 20%|██        | 1001/5000 [03:18<14:04,  4.74it/s]"
          ]
        },
        {
          "output_type": "stream",
          "name": "stdout",
          "text": [
            "\n",
            "loss = 0.01088442777749151 logZ = 5.354400634765625 R = 1.3515624\n",
            "L1 = 0.000846276813930687\n"
          ]
        },
        {
          "output_type": "stream",
          "name": "stderr",
          "text": [
            " 22%|██▏       | 1101/5000 [03:39<14:05,  4.61it/s]"
          ]
        },
        {
          "output_type": "stream",
          "name": "stdout",
          "text": [
            "\n",
            "loss = 0.007162615957204252 logZ = 5.344970703125 R = 1.3472655\n",
            "L1 = 0.0008481009292110141\n"
          ]
        },
        {
          "output_type": "stream",
          "name": "stderr",
          "text": [
            " 24%|██▍       | 1201/5000 [03:59<12:41,  4.99it/s]"
          ]
        },
        {
          "output_type": "stream",
          "name": "stdout",
          "text": [
            "\n",
            "loss = 0.003673955469275825 logZ = 5.350367546081543 R = 1.3394139\n",
            "L1 = 0.0008497049055437277\n"
          ]
        },
        {
          "output_type": "stream",
          "name": "stderr",
          "text": [
            " 26%|██▌       | 1301/5000 [04:20<12:01,  5.13it/s]"
          ]
        },
        {
          "output_type": "stream",
          "name": "stdout",
          "text": [
            "\n",
            "loss = 0.0018475863302592189 logZ = 5.354638576507568 R = 1.3610154\n",
            "L1 = 0.0008510292205823001\n"
          ]
        },
        {
          "output_type": "stream",
          "name": "stderr",
          "text": [
            " 28%|██▊       | 1401/5000 [04:40<11:56,  5.02it/s]"
          ]
        },
        {
          "output_type": "stream",
          "name": "stdout",
          "text": [
            "\n",
            "loss = 0.001489284207636956 logZ = 5.3502044677734375 R = 1.3428905\n",
            "L1 = 0.0008518367620088186\n"
          ]
        },
        {
          "output_type": "stream",
          "name": "stderr",
          "text": [
            " 30%|███       | 1501/5000 [05:00<12:36,  4.62it/s]"
          ]
        },
        {
          "output_type": "stream",
          "name": "stdout",
          "text": [
            "\n",
            "loss = 0.003605639754823642 logZ = 5.33585262298584 R = 1.3527733\n",
            "L1 = 0.0008530815647146582\n"
          ]
        },
        {
          "output_type": "stream",
          "name": "stderr",
          "text": [
            " 32%|███▏      | 1601/5000 [05:20<11:46,  4.81it/s]"
          ]
        },
        {
          "output_type": "stream",
          "name": "stdout",
          "text": [
            "\n",
            "loss = 0.0018282278343394864 logZ = 5.350903511047363 R = 1.343906\n",
            "L1 = 0.0008593424168310006\n"
          ]
        },
        {
          "output_type": "stream",
          "name": "stderr",
          "text": [
            " 34%|███▍      | 1701/5000 [05:40<10:54,  5.04it/s]"
          ]
        },
        {
          "output_type": "stream",
          "name": "stdout",
          "text": [
            "\n",
            "loss = 0.0002275919979729224 logZ = 5.350683212280273 R = 1.3239452\n",
            "L1 = 0.0008695168888236544\n"
          ]
        },
        {
          "output_type": "stream",
          "name": "stderr",
          "text": [
            " 36%|███▌      | 1801/5000 [06:01<11:30,  4.63it/s]"
          ]
        },
        {
          "output_type": "stream",
          "name": "stdout",
          "text": [
            "\n",
            "loss = 0.00020419184511411004 logZ = 5.351454734802246 R = 1.3459374\n",
            "L1 = 0.0008705269898337554\n"
          ]
        },
        {
          "output_type": "stream",
          "name": "stderr",
          "text": [
            " 38%|███▊      | 1901/5000 [06:22<10:57,  4.71it/s]"
          ]
        },
        {
          "output_type": "stream",
          "name": "stdout",
          "text": [
            "\n",
            "loss = 0.00024960504211776427 logZ = 5.351078033447266 R = 1.3455858\n",
            "L1 = 0.0008699117464912393\n"
          ]
        },
        {
          "output_type": "stream",
          "name": "stderr",
          "text": [
            " 40%|████      | 2001/5000 [06:43<10:56,  4.57it/s]"
          ]
        },
        {
          "output_type": "stream",
          "name": "stdout",
          "text": [
            "\n",
            "loss = 0.005133612420468126 logZ = 5.34847354888916 R = 1.3527342\n",
            "L1 = 0.0008685343360229199\n"
          ]
        },
        {
          "output_type": "stream",
          "name": "stderr",
          "text": [
            " 42%|████▏     | 2101/5000 [07:03<09:59,  4.83it/s]"
          ]
        },
        {
          "output_type": "stream",
          "name": "stdout",
          "text": [
            "\n",
            "loss = 0.0001838398546897224 logZ = 5.349673748016357 R = 1.3577342\n",
            "L1 = 0.0008673130320743432\n"
          ]
        },
        {
          "output_type": "stream",
          "name": "stderr",
          "text": [
            " 44%|████▍     | 2201/5000 [07:24<10:04,  4.63it/s]"
          ]
        },
        {
          "output_type": "stream",
          "name": "stdout",
          "text": [
            "\n",
            "loss = 0.00014523008885589662 logZ = 5.351068019866943 R = 1.3708593\n",
            "L1 = 0.0008668630779880255\n"
          ]
        },
        {
          "output_type": "stream",
          "name": "stderr",
          "text": [
            " 46%|████▌     | 2301/5000 [07:45<09:14,  4.87it/s]"
          ]
        },
        {
          "output_type": "stream",
          "name": "stdout",
          "text": [
            "\n",
            "loss = 0.0001370188236614922 logZ = 5.353616714477539 R = 1.3533201\n",
            "L1 = 0.000865807063295647\n"
          ]
        },
        {
          "output_type": "stream",
          "name": "stderr",
          "text": [
            " 48%|████▊     | 2401/5000 [08:06<09:16,  4.67it/s]"
          ]
        },
        {
          "output_type": "stream",
          "name": "stdout",
          "text": [
            "\n",
            "loss = 0.00028443042509024963 logZ = 5.35156774520874 R = 1.356992\n",
            "L1 = 0.0008650265306969327\n"
          ]
        },
        {
          "output_type": "stream",
          "name": "stderr",
          "text": [
            " 50%|█████     | 2502/5000 [08:26<08:02,  5.18it/s]"
          ]
        },
        {
          "output_type": "stream",
          "name": "stdout",
          "text": [
            "\n",
            "loss = 0.0038922064879443495 logZ = 5.351993560791016 R = 1.3304296\n",
            "L1 = 0.000864043977896198\n"
          ]
        },
        {
          "output_type": "stream",
          "name": "stderr",
          "text": [
            " 52%|█████▏    | 2601/5000 [08:46<08:03,  4.96it/s]"
          ]
        },
        {
          "output_type": "stream",
          "name": "stdout",
          "text": [
            "\n",
            "loss = 0.00021207222358498256 logZ = 5.354257106781006 R = 1.3353124\n",
            "L1 = 0.0008634746482359593\n"
          ]
        },
        {
          "output_type": "stream",
          "name": "stderr",
          "text": [
            " 54%|█████▍    | 2701/5000 [09:06<07:45,  4.94it/s]"
          ]
        },
        {
          "output_type": "stream",
          "name": "stdout",
          "text": [
            "\n",
            "loss = 0.0002172535903082462 logZ = 5.352587699890137 R = 1.3539451\n",
            "L1 = 0.0008637593130660787\n"
          ]
        },
        {
          "output_type": "stream",
          "name": "stderr",
          "text": [
            " 56%|█████▌    | 2801/5000 [09:26<07:30,  4.89it/s]"
          ]
        },
        {
          "output_type": "stream",
          "name": "stdout",
          "text": [
            "\n",
            "loss = 0.0001616606804964249 logZ = 5.352258682250977 R = 1.356953\n",
            "L1 = 0.0008633369071891273\n"
          ]
        },
        {
          "output_type": "stream",
          "name": "stderr",
          "text": [
            " 58%|█████▊    | 2901/5000 [09:46<07:18,  4.79it/s]"
          ]
        },
        {
          "output_type": "stream",
          "name": "stdout",
          "text": [
            "\n",
            "loss = 0.0036030125458637484 logZ = 5.330056190490723 R = 1.3474607\n",
            "L1 = 0.000863272628033939\n"
          ]
        },
        {
          "output_type": "stream",
          "name": "stderr",
          "text": [
            " 60%|██████    | 3001/5000 [10:06<06:35,  5.06it/s]"
          ]
        },
        {
          "output_type": "stream",
          "name": "stdout",
          "text": [
            "\n",
            "loss = 0.0006821482342638774 logZ = 5.352264881134033 R = 1.3455467\n",
            "L1 = 0.0008629787804673642\n"
          ]
        },
        {
          "output_type": "stream",
          "name": "stderr",
          "text": [
            " 62%|██████▏   | 3101/5000 [10:26<06:30,  4.86it/s]"
          ]
        },
        {
          "output_type": "stream",
          "name": "stdout",
          "text": [
            "\n",
            "loss = 0.0003058544273517327 logZ = 5.346927165985107 R = 1.3454686\n",
            "L1 = 0.0008628043084747105\n"
          ]
        },
        {
          "output_type": "stream",
          "name": "stderr",
          "text": [
            " 64%|██████▍   | 3201/5000 [10:46<06:22,  4.71it/s]"
          ]
        },
        {
          "output_type": "stream",
          "name": "stdout",
          "text": [
            "\n",
            "loss = 0.0002586584474192932 logZ = 5.353536605834961 R = 1.3523046\n",
            "L1 = 0.0008629879632038197\n"
          ]
        },
        {
          "output_type": "stream",
          "name": "stderr",
          "text": [
            " 66%|██████▌   | 3301/5000 [11:07<06:01,  4.70it/s]"
          ]
        },
        {
          "output_type": "stream",
          "name": "stdout",
          "text": [
            "\n",
            "loss = 0.0014043758802654337 logZ = 5.344907283782959 R = 1.334453\n",
            "L1 = 0.0008627675775288886\n"
          ]
        },
        {
          "output_type": "stream",
          "name": "stderr",
          "text": [
            " 68%|██████▊   | 3401/5000 [11:27<05:34,  4.78it/s]"
          ]
        },
        {
          "output_type": "stream",
          "name": "stdout",
          "text": [
            "\n",
            "loss = 0.0017434642088483088 logZ = 5.352102756500244 R = 1.3336327\n",
            "L1 = 0.0008628318566840769\n"
          ]
        },
        {
          "output_type": "stream",
          "name": "stderr",
          "text": [
            " 70%|███████   | 3501/5000 [11:47<05:05,  4.90it/s]"
          ]
        },
        {
          "output_type": "stream",
          "name": "stdout",
          "text": [
            "\n",
            "loss = 0.0007338421609892976 logZ = 5.347777843475342 R = 1.348164\n",
            "L1 = 0.0008626573846914229\n"
          ]
        },
        {
          "output_type": "stream",
          "name": "stderr",
          "text": [
            " 72%|███████▏  | 3601/5000 [12:07<04:56,  4.73it/s]"
          ]
        },
        {
          "output_type": "stream",
          "name": "stdout",
          "text": [
            "\n",
            "loss = 0.0005994742873008363 logZ = 5.34981632232666 R = 1.3496482\n",
            "L1 = 0.0008629695977309088\n"
          ]
        },
        {
          "output_type": "stream",
          "name": "stderr",
          "text": [
            " 74%|███████▍  | 3701/5000 [12:27<04:17,  5.04it/s]"
          ]
        },
        {
          "output_type": "stream",
          "name": "stdout",
          "text": [
            "\n",
            "loss = 0.003936654790304601 logZ = 5.354252338409424 R = 1.351328\n",
            "L1 = 0.0008632818107703946\n"
          ]
        },
        {
          "output_type": "stream",
          "name": "stderr",
          "text": [
            " 76%|███████▌  | 3801/5000 [12:47<04:20,  4.61it/s]"
          ]
        },
        {
          "output_type": "stream",
          "name": "stdout",
          "text": [
            "\n",
            "loss = 0.00018561675016826485 logZ = 5.349576473236084 R = 1.3496873\n",
            "L1 = 0.0008633001762433055\n"
          ]
        },
        {
          "output_type": "stream",
          "name": "stderr",
          "text": [
            " 78%|███████▊  | 3901/5000 [13:07<03:45,  4.88it/s]"
          ]
        },
        {
          "output_type": "stream",
          "name": "stdout",
          "text": [
            "\n",
            "loss = 8.100669769191882e-05 logZ = 5.351441383361816 R = 1.3623827\n",
            "L1 = 0.0008637593130660787\n"
          ]
        },
        {
          "output_type": "stream",
          "name": "stderr",
          "text": [
            " 80%|████████  | 4001/5000 [13:27<03:22,  4.92it/s]"
          ]
        },
        {
          "output_type": "stream",
          "name": "stdout",
          "text": [
            "\n",
            "loss = 0.00026025110943010075 logZ = 5.355762004852295 R = 1.341328\n",
            "L1 = 0.0008641266225242972\n"
          ]
        },
        {
          "output_type": "stream",
          "name": "stderr",
          "text": [
            " 82%|████████▏ | 4101/5000 [13:48<03:02,  4.93it/s]"
          ]
        },
        {
          "output_type": "stream",
          "name": "stdout",
          "text": [
            "\n",
            "loss = 0.0012871249768068083 logZ = 5.349803447723389 R = 1.3530468\n",
            "L1 = 0.0008647051349209914\n"
          ]
        },
        {
          "output_type": "stream",
          "name": "stderr",
          "text": [
            " 84%|████████▍ | 4202/5000 [14:08<02:41,  4.93it/s]"
          ]
        },
        {
          "output_type": "stream",
          "name": "stdout",
          "text": [
            "\n",
            "loss = 0.0038215151819167657 logZ = 5.312457084655762 R = 1.3365233\n",
            "L1 = 0.000864319459989862\n"
          ]
        },
        {
          "output_type": "stream",
          "name": "stderr",
          "text": [
            " 86%|████████▌ | 4301/5000 [14:28<02:30,  4.64it/s]"
          ]
        },
        {
          "output_type": "stream",
          "name": "stdout",
          "text": [
            "\n",
            "loss = 0.002909785158772138 logZ = 5.350497722625732 R = 1.3258983\n",
            "L1 = 0.0008642276326253072\n"
          ]
        },
        {
          "output_type": "stream",
          "name": "stderr",
          "text": [
            " 88%|████████▊ | 4401/5000 [14:49<02:01,  4.92it/s]"
          ]
        },
        {
          "output_type": "stream",
          "name": "stdout",
          "text": [
            "\n",
            "loss = 0.00010216062222752954 logZ = 5.351162433624268 R = 1.3500389\n",
            "L1 = 0.0008640072469503761\n"
          ]
        },
        {
          "output_type": "stream",
          "name": "stderr",
          "text": [
            " 90%|█████████ | 4501/5000 [15:10<01:47,  4.63it/s]"
          ]
        },
        {
          "output_type": "stream",
          "name": "stdout",
          "text": [
            "\n",
            "loss = 4.0082650275508056e-05 logZ = 5.35001277923584 R = 1.3295311\n",
            "L1 = 0.000863906236849366\n"
          ]
        },
        {
          "output_type": "stream",
          "name": "stderr",
          "text": [
            " 92%|█████████▏| 4601/5000 [15:31<01:23,  4.77it/s]"
          ]
        },
        {
          "output_type": "stream",
          "name": "stdout",
          "text": [
            "\n",
            "loss = 4.930838425934781e-05 logZ = 5.3515825271606445 R = 1.3514061\n",
            "L1 = 0.0008646224902928922\n"
          ]
        },
        {
          "output_type": "stream",
          "name": "stderr",
          "text": [
            " 94%|█████████▍| 4701/5000 [15:52<01:05,  4.59it/s]"
          ]
        },
        {
          "output_type": "stream",
          "name": "stdout",
          "text": [
            "\n",
            "loss = 0.00018226934609629096 logZ = 5.3550028800964355 R = 1.3412498\n",
            "L1 = 0.0008640990743149307\n"
          ]
        },
        {
          "output_type": "stream",
          "name": "stderr",
          "text": [
            " 96%|█████████▌| 4801/5000 [16:13<00:42,  4.66it/s]"
          ]
        },
        {
          "output_type": "stream",
          "name": "stdout",
          "text": [
            "\n",
            "loss = 0.0006074682602775283 logZ = 5.354378700256348 R = 1.3378905\n",
            "L1 = 0.0008640531606326535\n"
          ]
        },
        {
          "output_type": "stream",
          "name": "stderr",
          "text": [
            " 98%|█████████▊| 4901/5000 [16:34<00:22,  4.40it/s]"
          ]
        },
        {
          "output_type": "stream",
          "name": "stdout",
          "text": [
            "\n",
            "loss = 0.003557727971347049 logZ = 5.353166580200195 R = 1.3350389\n",
            "L1 = 0.0008637501303296232\n"
          ]
        },
        {
          "output_type": "stream",
          "name": "stderr",
          "text": [
            "100%|██████████| 5000/5000 [16:55<00:00,  4.92it/s]\n"
          ]
        }
      ],
      "source": [
        "for it in tqdm.trange(n_train_steps):\n",
        "    \n",
        "    # DB loss for each state of each trajectory : a trajectory can have a maximum length (#states) of `(H+1) + H + ... + H = (H+1) + (ndim-1)*H`\n",
        "    loss_DB = torch.zeros((batch_size, H+1+(ndim-1)*H)).to(device)\n",
        "    # finished trajectories\n",
        "    dones = torch.full((batch_size,), False, dtype=torch.bool).to(device)\n",
        "    # s_0\n",
        "    states = torch.zeros((batch_size, ndim), dtype=torch.long).to(device)\n",
        "    # actions chosen at each step : we can choose the coordinate to increment (0 ... ndim-1), or choose to return the current state as terminal (ndim)\n",
        "    actions = None # (current_batch_size,)\n",
        "\n",
        "    i = 0\n",
        "    while torch.any(~dones):\n",
        "\n",
        "        ### Forward pass ### \n",
        "        current_batch_size = (~dones).sum()\n",
        "        non_terminal_states = states[~dones] # (current_batch_size, ndim)\n",
        "        embed = one_hot_embedding(non_terminal_states) # (current_batch_size, input_dim)\n",
        "        logits = model_DB(embed) # (current_batch_size, output_dim) \n",
        "\n",
        "        ### logF ### \n",
        "        logF = logits[...,2*ndim+1] # (current_batch_size,)\n",
        "        loss_DB[~dones,i] += logF # add logF(s_i) to the loss L(s_i, s_{i+1})\n",
        "        if i>0: loss_DB[~dones,i-1] -= logF # add -logF(s_i) to the loss L(s_{i-1}, s_i)\n",
        "        #else : logZ_DB[:] = logF.mean().item() # initial state : Z = F(s_0)\n",
        "        else: logZ_DB[:] = logF[0].item() # initial state : Z = F(s_0)\n",
        "        \n",
        "        ### Backward Policy ### \n",
        "        PB_logits = logits[...,ndim+1:2*ndim+1] # (current_batch_size, ndim)\n",
        "        PB_logits = PB_logits * (0 if uniform_PB else 1) # (current_batch_size, ndim)\n",
        "        # Being in a edge cell -- (a zero coordinate), we can't move backward\n",
        "        edge_mask = (non_terminal_states == 0).float() # (current_batch_size, ndim)\n",
        "        logPB = (PB_logits + minus_inf*edge_mask).log_softmax(1) # (current_batch_size, ndim)\n",
        "        # add -logPB(s_{i-1} | s_i) to the loss L(s_{i-1}, s_i)\n",
        "        if actions is not None: \n",
        "            \"\"\"\n",
        "            Gather along the parents' dimension (1) to select the logPB of the previously chosen actions, while avoiding the actions leading \n",
        "            to terminal states (action==ndim). The reason of using the previous chosen actions () is that PB is calculated on the same trajectory as PF\n",
        "            See below for the calculation of `action`. We avoid actions leading to terminal states because a terminal state can't be parent of another \n",
        "            state\n",
        "            \"\"\"\n",
        "            loss_DB[~dones,i-1] -= logPB.gather(1, actions[actions!=ndim].unsqueeze(1)).squeeze(1)\n",
        "    \n",
        "        ### Forward Policy ### \n",
        "        PF_logits = logits[...,:ndim+1] # (current_batch_size, ndim+1) \n",
        "        # Being in a edge cell ++ (a coordinate that is H), we can't move forward\n",
        "        edge_mask = (non_terminal_states == H).float() # (current_batch_size, ndim)\n",
        "        # but any cell can be a terminal cell\n",
        "        stop_action_mask = torch.zeros((current_batch_size, 1), device=device) # (current_batch_size, 1)\n",
        "        # Being in a edge cell, we can't move forward, but any cell can be a terminal cell\n",
        "        PF_mask = torch.cat([edge_mask, stop_action_mask], 1) # (current_batch_size, ndim+1)\n",
        "        # logPF (with mask)\n",
        "        logPF = (PF_logits + minus_inf*PF_mask).log_softmax(1) # (current_batch_size, ndim+1)\n",
        "        # choose next states\n",
        "        sample_temperature = 1\n",
        "        #exp_weight= 0.\n",
        "        #sample_ins_probs = (1-exp_weight)*(logPF/sample_temperature).softmax(1) + exp_weight*(1-PF_mask) / (1-PF_mask+0.0000001).sum(1).unsqueeze(1) # (current_batch_size, ndim+1)\n",
        "        sample_ins_probs = (logPF/sample_temperature).softmax(1) # (current_batch_size, ndim+1)\n",
        "        #actions = torch.distributions.categorical.Categorical(probs = sample_ins_probs).sample() # (current_batch_size,)\n",
        "        #actions = torch.multinomial(probs = sample_ins_probs, 1).squeeze(1) # (current_batch_size,) # (current_batch_size,)\n",
        "        actions = sample_ins_probs.multinomial(1) # (current_batch_size,)\n",
        "        # add logPF(s_i | s_{i+1}) to the loss L(s_i, s_{i+1}) : gather along the children's dimension (1) to select the logPF for the chosen actions\n",
        "        loss_DB[~dones,i] += logPF.gather(1, actions).squeeze(1)\n",
        "\n",
        "        ### select terminal states ### \n",
        "        terminates = (actions==ndim).squeeze(1)\n",
        "        for state in non_terminal_states[terminates]: \n",
        "            state_index = get_state_index(state.cpu())\n",
        "            if first_visit_DB[state_index]<0: first_visit_DB[state_index] = it\n",
        "            all_visited_DB.append(state_index)\n",
        "\n",
        "        # Add reward for terminal state\n",
        "        termination_mask = ~dones\n",
        "        termination_mask[~dones] &= terminates\n",
        "        R_x = reward_function(non_terminal_states[terminates].float()) \n",
        "        loss_DB[termination_mask,i] -= (R_x + 1e-8).log()\n",
        "        \n",
        "        # Update dones\n",
        "        dones[~dones] |= terminates\n",
        "\n",
        "        # Update non completed trajectories : $s = (s^0, ..., s^i, ..., s^{n-1}) \\rightarrow s' = (s^0, ..., s^i + 1, ..., s^{n-1})$\n",
        "        with torch.no_grad():\n",
        "            non_terminates = actions[~terminates]\n",
        "            states[~dones] = states[~dones].scatter_add(1, non_terminates, torch.ones(non_terminates.shape, dtype=torch.long, device=device))\n",
        "            \n",
        "        i += 1\n",
        "\n",
        "    #lens = states.sum(1)+1 # number of actions taken for each trajectory\n",
        "    #loss = (loss_DB**2).sum()/lens.sum() \n",
        "    loss = (loss_DB**2).sum(dim=1).sum()/batch_size\n",
        "\n",
        "    optimizer.zero_grad()\n",
        "    loss.backward()\n",
        "    optimizer.step()\n",
        "\n",
        "    losses_DB.append(loss.item())\n",
        "    R = reward_function(states.float())\n",
        "    rewards_DB.append(R.mean().cpu())\n",
        "    logZ_DB_list.append(logZ_DB.item())\n",
        "\n",
        "    if it%100==0: \n",
        "        print('\\nloss =', np.array(losses_DB[-100:]).mean(), 'logZ =', logZ_DB.item(), \"R =\", np.array(rewards_DB[-100:]).mean())\n",
        "        emp_dist = np.bincount(all_visited_DB[-200000:], minlength=len(true_dist)).astype(float)\n",
        "        emp_dist /= emp_dist.sum()\n",
        "        l1 = np.abs(true_dist-emp_dist).mean()\n",
        "        print('L1 =', l1)\n",
        "        l1log_DB.append((len(all_visited_DB), l1))"
      ]
    },
    {
      "cell_type": "markdown",
      "source": [
        "### samples"
      ],
      "metadata": {
        "id": "AxJvxFOOXKoP"
      }
    },
    {
      "cell_type": "code",
      "source": [
        "#model_DB, logZ_DB, losses_DB, rewards_DB, logZ_DB_list, all_visited_DB, first_visit_DB, l1log_DB = data[\"TB\"]"
      ],
      "metadata": {
        "id": "Lxf4RPFYXMQ-"
      },
      "execution_count": null,
      "outputs": []
    },
    {
      "cell_type": "code",
      "source": [
        "samples_DB = np.zeros((H+1,)*ndim)"
      ],
      "metadata": {
        "id": "rQ2QcZQUXNh2"
      },
      "execution_count": null,
      "outputs": []
    },
    {
      "cell_type": "code",
      "source": [
        "for it in tqdm.trange(500):\n",
        "    # finished trajectories\n",
        "    dones = torch.full((batch_size,), False, dtype=torch.bool).to(device)\n",
        "    # s_0\n",
        "    states = torch.zeros((batch_size, ndim), dtype=torch.long).to(device)\n",
        "    # actions chosen at each step : we can choose the coordinate to increment (0 ... ndim-1), or choose to return the current state as terminal (ndim)\n",
        "    actions = None # (current_batch_size,)\n",
        "\n",
        "    while torch.any(~dones):\n",
        "\n",
        "        ### Forward pass ### \n",
        "        current_batch_size = (~dones).sum()\n",
        "        non_terminal_states = states[~dones] # (current_batch_size, ndim)\n",
        "        embed = one_hot_embedding(non_terminal_states) # (current_batch_size, input_dim)\n",
        "        with torch.no_grad():\n",
        "            logits = model_DB(embed) # (current_batch_size, output_dim) \n",
        "        \n",
        "        ### Forward Policy ### \n",
        "        PF_logits = logits[...,:ndim+1] # (current_batch_size, ndim+1) \n",
        "        # Being in a edge cell ++ (a coordinate that is H), we can't move forward\n",
        "        edge_mask = (non_terminal_states == H).float() # (current_batch_size, ndim)\n",
        "        # but any cell can be a terminal cell\n",
        "        stop_action_mask = torch.zeros((current_batch_size, 1), device=device) # (current_batch_size, 1)\n",
        "        # Being in a edge cell, we can't move forward, but any cell can be a terminal cell\n",
        "        PF_mask = torch.cat([edge_mask, stop_action_mask], 1) # (current_batch_size, ndim+1)\n",
        "        # logPF (with mask)\n",
        "        logPF = (PF_logits + minus_inf*PF_mask).log_softmax(1) # (current_batch_size, ndim+1)\n",
        "        # choose next states\n",
        "        sample_temperature = 1\n",
        "        #exp_weight= 0.\n",
        "        #sample_ins_probs = (1-exp_weight)*(logPF/sample_temperature).softmax(1) + exp_weight*(1-PF_mask) / (1-PF_mask+0.0000001).sum(1).unsqueeze(1) # (current_batch_size, ndim+1)\n",
        "        sample_ins_probs = (logPF/sample_temperature).softmax(1) # (current_batch_size, ndim+1)\n",
        "        #actions = torch.distributions.categorical.Categorical(probs = sample_ins_probs).sample() # (current_batch_size,)\n",
        "        #actions = torch.multinomial(probs = sample_ins_probs, 1).squeeze(1) # (current_batch_size,) # (current_batch_size,)\n",
        "        actions = sample_ins_probs.multinomial(1) # (current_batch_size,)\n",
        "\n",
        "        ### select terminal states ### \n",
        "        terminates = (actions==ndim).squeeze(1)\n",
        "\n",
        "        # Add reward for terminal state\n",
        "        termination_mask = ~dones\n",
        "        termination_mask[~dones] &= terminates\n",
        "        \n",
        "        # Update dones\n",
        "        dones[~dones] |= terminates\n",
        "\n",
        "        # Update non completed trajectories : $s = (s^0, ..., s^i, ..., s^{n-1}) \\rightarrow s' = (s^0, ..., s^i + 1, ..., s^{n-1})$\n",
        "        with torch.no_grad():\n",
        "            non_terminates = actions[~terminates]\n",
        "            states[~dones] = states[~dones].scatter_add(1, non_terminates, torch.ones(non_terminates.shape, dtype=torch.long, device=device))\n",
        "            \n",
        "    if ndim == 8 :\n",
        "        for a,b,c,d,e,f,g,h in states: samples_DB[a,b,c,d,e,f,g,h]+=1  \n",
        "    if ndim == 6 :\n",
        "        for a,b,c,d,e,f in states: samples_DB[a,b,c,d,e,f]+=1         \n",
        "    if ndim == 4 :\n",
        "        for a,b,c,d in states: samples_DB[a,b,c,d]+=1\n",
        "    elif ndim == 2 :\n",
        "        for a,b in states: samples_DB[a,b]+=1"
      ],
      "metadata": {
        "id": "8LAd9E_7XXPB",
        "colab": {
          "base_uri": "https://localhost:8080/"
        },
        "outputId": "5589fe59-2659-448f-9d4d-e28873a94e17"
      },
      "execution_count": null,
      "outputs": [
        {
          "output_type": "stream",
          "name": "stderr",
          "text": [
            "100%|██████████| 500/500 [00:30<00:00, 16.18it/s]\n"
          ]
        }
      ]
    },
    {
      "cell_type": "code",
      "source": [
        "if ndim == 2 :\n",
        "    print(samples_DB / samples_DB.sum())"
      ],
      "metadata": {
        "id": "W2EyvbWWYgma",
        "colab": {
          "base_uri": "https://localhost:8080/"
        },
        "outputId": "28349ba9-8f83-4605-8e2c-9e81d0c5ce67"
      },
      "execution_count": null,
      "outputs": [
        {
          "output_type": "stream",
          "name": "stdout",
          "text": [
            "[[0.00248438 0.00248438 0.00221875 ... 0.00245313 0.00253125 0.00226562]\n",
            " [0.00229687 0.00232812 0.00232812 ... 0.00235937 0.002375   0.00242187]\n",
            " [0.0025     0.00264063 0.00260938 ... 0.00260938 0.00217188 0.00246875]\n",
            " ...\n",
            " [0.00229687 0.00242187 0.00251563 ... 0.00264063 0.0024375  0.002375  ]\n",
            " [0.00209375 0.00254688 0.002625   ... 0.00279687 0.00275    0.0025625 ]\n",
            " [0.0025     0.002375   0.00234375 ... 0.002625   0.0028125  0.00223437]]\n"
          ]
        }
      ]
    },
    {
      "cell_type": "code",
      "source": [
        "if ndim == 2 :\n",
        "    plt.imshow(samples_DB)\n",
        "elif ndim == 4 :\n",
        "    plt.imshow(samples_DB[0,0])\n",
        "elif ndim == 6:  \n",
        "    plt.imshow(samples_DB[0,0,0,0])\n",
        "elif ndim == 8:\n",
        "    plt.imshow(samples_DB[0,0,0,0,0,0])"
      ],
      "metadata": {
        "id": "doESWla2YiB7",
        "colab": {
          "base_uri": "https://localhost:8080/",
          "height": 266
        },
        "outputId": "9a5b040b-973f-4898-8124-45b271cbc264"
      },
      "execution_count": null,
      "outputs": [
        {
          "output_type": "display_data",
          "data": {
            "text/plain": [
              "<Figure size 432x288 with 1 Axes>"
            ],
            "image/png": "[encoded data removed]"
          },
          "metadata": {
            "needs_background": "light"
          }
        }
      ]
    },
    {
      "cell_type": "code",
      "source": [
        "if ndim == 4 :\n",
        "    tmp = samples_DB.sum((2,3))+samples_DB.sum((0,1))+samples_DB.sum((0,2))+samples_DB.sum((1,3))+samples_DB.sum((2,3))+samples_DB.sum((0,3))\n",
        "    plt.imshow(tmp,vmin=0);plt.show()\n",
        "    plt.imshow(samples_DB.sum((1,3)),vmin=0);plt.show()"
      ],
      "metadata": {
        "id": "ZLiDLS3qYfXP"
      },
      "execution_count": null,
      "outputs": []
    },
    {
      "cell_type": "markdown",
      "metadata": {
        "id": "Ur9c77EudOEo"
      },
      "source": [
        "## Flow matching objective\n",
        "\n",
        "$$\n",
        "\\mathcal{L}_{FM} \\big(s\\big) = \\left\\{\n",
        "    \\begin{array}{ll}\n",
        "        \\bigg[ log \\bigg( \\epsilon + \\sum_{s'' \\rightarrow s} exp \\text{ } F_{\\theta}^{log}(s'', s) \\bigg) - log \\bigg( \\epsilon + R(s) \\bigg) \\bigg]^2 & \\mbox{if } s \\mbox{ terminal} \\\\\n",
        "        \\bigg[ log \\bigg( \\epsilon + \\sum_{s'' \\rightarrow s} exp \\text{ } F_{\\theta} ^{log}(s'', s) \\bigg) - log \\bigg( \\epsilon +  \\sum_{s \\rightarrow s'} exp \\text{ } F_{\\theta}^{log}(s, s') \\bigg) \\bigg]^2 & \\mbox{else (s non-initial)}\n",
        "    \\end{array}\n",
        "\\right. \n",
        "$$\n"
      ]
    },
    {
      "cell_type": "code",
      "execution_count": null,
      "metadata": {
        "id": "GsiKBgv0azN3",
        "colab": {
          "base_uri": "https://localhost:8080/"
        },
        "outputId": "ed32c219-b865-4796-d807-7057f71b5ea6"
      },
      "outputs": [
        {
          "output_type": "execute_result",
          "data": {
            "text/plain": [
              "tensor(0.0100)"
            ]
          },
          "metadata": {},
          "execution_count": 45
        }
      ],
      "source": [
        "epsilon = all_rewards.min()\n",
        "#epsilon = 1e-6\n",
        "epsilon"
      ]
    },
    {
      "cell_type": "markdown",
      "metadata": {
        "id": "PSKrCmcLrFrj"
      },
      "source": [
        "\n",
        "\n",
        "---\n",
        "\n",
        "\n",
        "The following functions allow, in a given state, to find all its parents, to evaluate the model on these parents, and to consider the flow from the parents to the current state."
      ]
    },
    {
      "cell_type": "code",
      "execution_count": null,
      "metadata": {
        "id": "hOnGql_p4O5R"
      },
      "outputs": [],
      "source": [
        "def get_parents(state) :\n",
        "    \"\"\"\n",
        "    Return the parents of a given state, and the trasitions leading from the parents to the current state\n",
        "    For `state = [3., 1.]`, `parents = [[2., 1.], [3., 0.]]` and `transitions = [0, 1]`\n",
        "    \"\"\"\n",
        "    assert state.sum() != 0.\n",
        "    parents, transitions = [], []\n",
        "    np = 0\n",
        "    for i in range(ndim) :\n",
        "        sp = state + 0\n",
        "        if sp[i] > 0 :\n",
        "            sp[i] -= 1\n",
        "            np += 1\n",
        "            # if sp.max() == H: # can't have a terminal parent\n",
        "            #     np -= 1\n",
        "            #     continue\n",
        "            parents.append(sp)\n",
        "            transitions.append(i)\n",
        "    if np == 0 : return None, None\n",
        "    return torch.stack(parents), torch.LongTensor(transitions)\n",
        "\n",
        "def get_inflow_old(state, model) :\n",
        "    \"\"\"Return the in flow of a given state\"\"\"\n",
        "    parents, transitions = get_parents(state)\n",
        "    embed = one_hot_embedding(parents.long()) # (n_parents, embedding_dim)\n",
        "    logF = model(embed) # (n_parents, ndim+1)\n",
        "    return logF.gather(1, transitions.unsqueeze(1).to(device)).exp().sum()"
      ]
    },
    {
      "cell_type": "markdown",
      "metadata": {
        "id": "brT7wz8X45P6"
      },
      "source": [
        "It is better to store the parents of each state to accelerate the training"
      ]
    },
    {
      "cell_type": "code",
      "execution_count": null,
      "metadata": {
        "id": "heevMh_d4PyZ"
      },
      "outputs": [],
      "source": [
        "all_parents = {get_state_index(state.long()) : get_parents(state) for state in grid if state.sum() != 0.}"
      ]
    },
    {
      "cell_type": "code",
      "execution_count": null,
      "metadata": {
        "id": "tSpBgIEarE1g"
      },
      "outputs": [],
      "source": [
        "def get_inflow(state, model, stop_action = False) :\n",
        "    \"\"\"Return the in flow of a given state\"\"\"\n",
        "    if stop_action:\n",
        "        #parents, transitions = state.unsqueeze(0), torch.LongTensor([ndim])         \n",
        "        # Any state can be a parent of the terminal state : the corresponding action is always ndim\n",
        "        parents = grid.clone()\n",
        "        transitions = torch.LongTensor([ndim]*grid.size(0)) \n",
        "    else :\n",
        "        state_id = get_state_index(state.long().cpu())\n",
        "        parents, transitions = all_parents.get(state_id, (None, None))\n",
        "    if parents is not None :\n",
        "        embed = one_hot_embedding(parents.long()) # (n_parents, embedding_dim)\n",
        "        logF = model(embed.to(device)) # (n_parents, ndim+1)\n",
        "        return logF.gather(1, transitions.unsqueeze(1).to(device)).exp().sum()\n",
        "    #else : return torch.tensor(0.)"
      ]
    },
    {
      "cell_type": "code",
      "source": [
        "# for debugging\n",
        "def parents_flow(non_terminal_states, actions, model):\n",
        "    a = actions[actions!=ndim]\n",
        "    parents = []\n",
        "    print(non_terminal_states.shape, a.shape)\n",
        "    print(non_terminal_states, actions)\n",
        "    for n, i in zip(non_terminal_states, a) :\n",
        "        s = n+0\n",
        "        s[i]-=1\n",
        "        parents.append(s)\n",
        "    parents = torch.stack(parents)\n",
        "    print(parents)\n",
        "    embed = one_hot_embedding(parents.long()) # (n_parents, embedding_dim)\n",
        "    logF = model(embed.to(device)) # (n_parents, ndim+1)\n",
        "    return logF.gather(1, a.unsqueeze(1).to(device)).exp().sum(dim=1)"
      ],
      "metadata": {
        "id": "Il70AnjGvonD"
      },
      "execution_count": null,
      "outputs": []
    },
    {
      "cell_type": "markdown",
      "metadata": {
        "id": "n_2XxX4IrrAc"
      },
      "source": [
        "\n",
        "\n",
        "---\n",
        "\n"
      ]
    },
    {
      "cell_type": "code",
      "execution_count": null,
      "metadata": {
        "id": "V9R1AZzjkKPB",
        "colab": {
          "base_uri": "https://localhost:8080/"
        },
        "outputId": "988d02fd-052e-4ad8-99c0-fed589db98d2"
      },
      "outputs": [
        {
          "output_type": "execute_result",
          "data": {
            "text/plain": [
              "Sequential(\n",
              "  (0): Linear(in_features=66, out_features=256, bias=True)\n",
              "  (1): LeakyReLU(negative_slope=0.01)\n",
              "  (2): Linear(in_features=256, out_features=256, bias=True)\n",
              "  (3): LeakyReLU(negative_slope=0.01)\n",
              "  (4): Linear(in_features=256, out_features=3, bias=True)\n",
              ")"
            ]
          },
          "metadata": {},
          "execution_count": 50
        }
      ],
      "source": [
        "input_dim = ndim*(H+1) # embedding dim\n",
        "output_dim = ndim+1 # ndim + 1 for F (+1 for stop action)\n",
        "model_FM = make_mlp([input_dim] + [n_hid] * n_layers + [output_dim]).to(device)\n",
        "logZ_FM = torch.zeros((1,)).to(device) # log (initial state flow), Z = 1\n",
        "optimizer = torch.optim.Adam([{'params':model_FM.parameters(), 'lr':0.001}])\n",
        "\n",
        "model_FM"
      ]
    },
    {
      "cell_type": "code",
      "execution_count": null,
      "metadata": {
        "id": "fuA_CNgJtY_D"
      },
      "outputs": [],
      "source": [
        "losses_FM = []\n",
        "rewards_FM = []\n",
        "logZ_FM_list = []\n",
        "all_visited_FM = []\n",
        "first_visit_FM = -1 * np.ones_like(true_dist)\n",
        "l1log_FM = []"
      ]
    },
    {
      "cell_type": "code",
      "execution_count": null,
      "metadata": {
        "id": "ZvhX6Fry2aOi"
      },
      "outputs": [],
      "source": [
        "# #batch_size = 128\n",
        "# #batch_size = 8\n",
        "# #epsilon = 1e-2\n",
        "# for it in tqdm.trange(n_train_steps): \n",
        "# #for it in tqdm.trange(1000):    \n",
        "#     # FM loss for each state of each trajectory : a trajectory can have a maximum length (#states) of `(H+1) + H + ... + H = (H+1) + (ndim-1)*H`\n",
        "#     loss_FM = torch.zeros((batch_size, H+1+(ndim-1)*H +1)).to(device) # +1 for s_f\n",
        "#     # finished trajectories\n",
        "#     dones = torch.full((batch_size,), False, dtype=torch.bool).to(device)\n",
        "#     # s_0\n",
        "#     states = torch.zeros((batch_size, ndim), dtype=torch.long).to(device)\n",
        "#     # actions chosen at each step : we can choose the coordinate to increment (0 ... ndim-1), or choose to return the current state as terminal (ndim)\n",
        "#     actions = None # (current_batch_size,)\n",
        "\n",
        "#     current_batch_size = (~dones).sum()\n",
        "#     non_terminal_states = states[~dones] # (current_batch_size, ndim)\n",
        "\n",
        "#     i = 0\n",
        "#     while True:\n",
        "#         if actions is not None :\n",
        "#             ### select terminals and non-terminal actions ### \n",
        "#             # non-terminals\n",
        "#             terminates = (actions==ndim).squeeze(1)\n",
        "#             termination_mask = ~dones\n",
        "#             termination_mask[~dones] &= terminates\n",
        "#             # terminals\n",
        "#             non_terminates = (actions!=ndim).squeeze(1)\n",
        "#             non_termination_mask = ~dones\n",
        "#             non_termination_mask[~dones] &= non_terminates\n",
        "\n",
        "#             ### In Flow : non-initial and non-terminal state ### \n",
        "#             if non_terminates.any(): \n",
        "#                 #inFlow = torch.stack([get_inflow(state, model_FM) for state in non_terminal_states[non_terminates]]) # (current_batch_size,)\n",
        "#                 #inFlow = torch.tensor(0.) if i==0 else parents_flow(non_terminal_states[non_terminates], actions, model_FM)\n",
        "#                 inFlow = logPF.gather(1, actions[actions!=ndim].unsqueeze(1)).exp().sum(dim=1)\n",
        "#                 loss_FM[non_termination_mask,i] += (epsilon + inFlow).log()  \n",
        "\n",
        "#             ### In Flow : terminal state ###\n",
        "#             if terminates.any():\n",
        "#                 # add log_sumF(., s_i) to the loss L(s_i)   \n",
        "#                 inFlow = torch.stack([get_inflow(state, model_FM, stop_action=True) for state in non_terminal_states[terminates]]) # (current_batch_size,)\n",
        "#                 loss_FM[termination_mask,i] += (epsilon + inFlow).log() \n",
        "\n",
        "#             ### Out Flow for non-terminal states : add -log_sumF(s_i, .) to the loss L(s_i) ###\n",
        "#             #outFlow = logF[non_terminates].exp().sum(dim=-1)\n",
        "#             outFlow = logPF[non_terminates].exp().sum(dim=-1)\n",
        "#             loss_FM[non_termination_mask,i] -= (epsilon + outFlow).log()\n",
        "\n",
        "#             ### Out Flow for terminal states : Add -reward for terminal state ###\n",
        "#             R_x = reward_function(non_terminal_states[terminates].float())\n",
        "#             loss_FM[termination_mask,i] -= (epsilon + R_x).log()\n",
        "\n",
        "#             ### select terminal states ### \n",
        "#             for state in non_terminal_states[terminates]: \n",
        "#                 state_index = get_state_index(state.cpu())\n",
        "#                 if first_visit_FM[state_index]<0: first_visit_FM[state_index] = it\n",
        "#                 all_visited_FM.append(state_index)\n",
        "\n",
        "#             # Update dones\n",
        "#             dones[~dones] |= terminates\n",
        "\n",
        "#             # Update non completed trajectories : $s = (s^0, ..., s^i, ..., s^{n-1}) \\rightarrow s' = (s^0, ..., s^i + 1, ..., s^{n-1})$\n",
        "#             with torch.no_grad():\n",
        "#                 non_terminates = actions[~terminates]\n",
        "#                 states[~dones] = states[~dones].scatter_add(1, non_terminates, torch.ones(non_terminates.shape, dtype=torch.long, device=device))\n",
        "\n",
        "#             i += 1\n",
        "\n",
        "#         if torch.any(~dones) :\n",
        "#             ### Forward pass ### \n",
        "#             current_batch_size = (~dones).sum()\n",
        "#             non_terminal_states = states[~dones] # (current_batch_size, ndim)\n",
        "#             embed = one_hot_embedding(non_terminal_states) # (current_batch_size, input_dim)\n",
        "#             logF = model_FM(embed) # (current_batch_size, output_dim = ndim+1) \n",
        "\n",
        "#             ### Forward Policy : tempered version of the state-action flow F ### \n",
        "#             # Being in a edge cell ++ (a coordinate that is H), we can't move forward\n",
        "#             edge_mask = (non_terminal_states == H).float() # (current_batch_size, ndim)\n",
        "#             # but any cell can be a terminal cell\n",
        "#             stop_action_mask = torch.zeros((current_batch_size, 1), device=device) # (current_batch_size, 1)\n",
        "#             # Being in a edge cell, we can't move forward, but any cell can be a terminal cell\n",
        "#             PF_mask = torch.cat([edge_mask, stop_action_mask], 1) # (current_batch_size, ndim+1)\n",
        "#             # logPF (with mask)\n",
        "#             logPF = (logF + minus_inf*PF_mask).log_softmax(1) # (current_batch_size, ndim+1)\n",
        "#             # choose next states\n",
        "#             sample_temperature = 1\n",
        "#             #exp_weight= 0.\n",
        "#             #PF = (1-exp_weight)*(logPF/sample_temperature).softmax(1) + exp_weight*(1-PF_mask) / (1-PF_mask+0.0000001).sum(1).unsqueeze(1) # (current_batch_size, ndim+1)\n",
        "#             PF = (logPF/sample_temperature).softmax(1) # (current_batch_size, ndim+1)\n",
        "#             #actions = torch.distributions.categorical.Categorical(probs = PF).sample() # (current_batch_size,)\n",
        "#             #actions = torch.multinomial(probs = PF, 1).squeeze(1) # (current_batch_size,) # (current_batch_size,)\n",
        "#             actions = PF.multinomial(1) # (current_batch_size,)\n",
        "#         else :\n",
        "#             break\n",
        "\n",
        "#         if i==0 :\n",
        "#             # initial state\n",
        "#             #all_init_flow = logF.exp().sum(dim=1) # (current_batch_size,)\n",
        "#             all_init_flow = logPF.exp().sum(dim=1) # (current_batch_size,)\n",
        "#             #logZ_FM[:] = all_init_flow.mean().item() \n",
        "#             logZ_FM[:] = all_init_flow[0].item() # initial state)\n",
        "\n",
        "#     loss_FM = loss_FM[:,1:] # remove L(s_0)\n",
        "#     loss = (loss_FM**2).sum(dim=1).sum()/batch_size\n",
        "\n",
        "#     optimizer.zero_grad()\n",
        "#     loss.backward()\n",
        "#     optimizer.step()\n",
        "\n",
        "#     losses_FM.append(loss.item())\n",
        "#     R = reward_function(states.float())\n",
        "#     rewards_FM.append(R.mean().cpu())\n",
        "#     logZ_FM_list.append(logZ_FM.item())\n",
        "\n",
        "#     if it%100==0: \n",
        "#         print('\\nloss =', np.array(losses_FM[-100:]).mean(), 'logZ =', logZ_FM.item(), \"R =\", np.array(rewards_FM[-100:]).mean())\n",
        "#         emp_dist = np.bincount(all_visited_FM[-200000:], minlength=len(true_dist)).astype(float)\n",
        "#         emp_dist /= emp_dist.sum()\n",
        "#         l1 = np.abs(true_dist-emp_dist).mean()\n",
        "#         print('L1 =', l1)\n",
        "#         l1log_FM.append((len(all_visited_FM), l1))"
      ]
    },
    {
      "cell_type": "code",
      "source": [
        "for it in tqdm.trange(n_train_steps): \n",
        "#for it in tqdm.trange(100):    \n",
        "    # FM loss for each state of each trajectory : a trajectory can have a maximum length (#states) of `(H+1) + H + ... + H = (H+1) + (ndim-1)*H`\n",
        "    loss_FM = torch.zeros((batch_size, H+1+(ndim-1)*H)).to(device)\n",
        "    # finished trajectories\n",
        "    dones = torch.full((batch_size,), False, dtype=torch.bool).to(device)\n",
        "    # s_0\n",
        "    states = torch.zeros((batch_size, ndim), dtype=torch.long).to(device)\n",
        "    # actions chosen at each step : we can choose the coordinate to increment (0 ... ndim-1), or choose to return the current state as terminal (ndim)\n",
        "    actions = None # (current_batch_size,)\n",
        "\n",
        "    i = 0\n",
        "    while torch.any(~dones):\n",
        "\n",
        "        ### Forward pass ### \n",
        "        current_batch_size = (~dones).sum()\n",
        "        non_terminal_states = states[~dones] # (current_batch_size, ndim)\n",
        "        embed = one_hot_embedding(non_terminal_states) # (current_batch_size, input_dim)\n",
        "        logF = model_FM(embed) # (current_batch_size, output_dim = ndim+1) \n",
        "\n",
        "        ### Forward Policy : tempered version of the state-action flow F ### \n",
        "        # Being in a edge cell ++ (a coordinate that is H), we can't move forward\n",
        "        edge_mask = (non_terminal_states == H).float() # (current_batch_size, ndim)\n",
        "        # but any cell can be a terminal cell\n",
        "        stop_action_mask = torch.zeros((current_batch_size, 1), device=device) # (current_batch_size, 1)\n",
        "        # Being in a edge cell, we can't move forward, but any cell can be a terminal cell\n",
        "        PF_mask = torch.cat([edge_mask, stop_action_mask], 1) # (current_batch_size, ndim+1)\n",
        "        # logPF (with mask)\n",
        "        logPF = (logF + minus_inf*PF_mask).log_softmax(1) # (current_batch_size, ndim+1)\n",
        "        # choose next states\n",
        "        sample_temperature = 1\n",
        "        #exp_weight= 0.\n",
        "        #PF = (1-exp_weight)*(logPF/sample_temperature).softmax(1) + exp_weight*(1-PF_mask) / (1-PF_mask+0.0000001).sum(1).unsqueeze(1) # (current_batch_size, ndim+1)\n",
        "        PF = (logPF/sample_temperature).softmax(1) # (current_batch_size, ndim+1)\n",
        "        #actions = torch.distributions.categorical.Categorical(probs = PF).sample() # (current_batch_size,)\n",
        "        #actions = torch.multinomial(probs = PF, 1).squeeze(1) # (current_batch_size,) # (current_batch_size,)\n",
        "        actions = PF.multinomial(1) # (current_batch_size,)\n",
        "        \n",
        "        ### Out Flow for non-terminal states : add -log_sumF(s_i, .) to the loss L(s_i) ###\n",
        "        non_terminates = (actions!=ndim).squeeze(1)\n",
        "        termination_mask = ~dones\n",
        "        termination_mask[~dones] &= non_terminates\n",
        "        #outFlow = logF[non_terminates].exp().sum(dim=-1)\n",
        "        outFlow = logPF[non_terminates].exp().sum(dim=-1)\n",
        "        loss_FM[termination_mask,i] -= (epsilon + outFlow).log()\n",
        "\n",
        "        ### In Flow : non-initial and non-terminal state ###\n",
        "        if i!=0 :\n",
        "            # add log_sumF(., s_i) to the loss L(s_i)\n",
        "            #inFlow = torch.stack([get_inflow(state, model_FM) for state in non_terminal_states]) # (current_batch_size,)\n",
        "            #loss_FM[~dones,i] += (epsilon + inFlow).log()    \n",
        "            if non_terminates.any(): \n",
        "                inFlow = torch.stack([get_inflow(state, model_FM) for state in non_terminal_states[non_terminates]]) # (current_batch_size,)\n",
        "                loss_FM[termination_mask,i] += (epsilon + inFlow).log()      \n",
        "        else :\n",
        "            # initial state\n",
        "            #all_init_flow = logF.exp().sum(dim=1) # (current_batch_size,)\n",
        "            all_init_flow = logPF.exp().sum(dim=1) # (current_batch_size,)\n",
        "            #logZ_FM[:] = all_init_flow.mean().item() \n",
        "            logZ_FM[:] = all_init_flow[0].item() # initial state)\n",
        "\n",
        "        ### select terminal states ### \n",
        "        terminates = (actions==ndim).squeeze(1)\n",
        "        for state in non_terminal_states[terminates]: \n",
        "            state_index = get_state_index(state.cpu())\n",
        "            if first_visit_FM[state_index]<0: first_visit_FM[state_index] = it\n",
        "            all_visited_FM.append(state_index)\n",
        "\n",
        "        # Add -reward for terminal state : Out Flow for terminal states\n",
        "        termination_mask = ~dones\n",
        "        termination_mask[~dones] &= terminates\n",
        "        R_x = reward_function(non_terminal_states[terminates].float())\n",
        "        loss_FM[termination_mask,i] -= (epsilon + R_x).log()\n",
        "\n",
        "        ### In Flow : terminal state ###\n",
        "        if i!=0 and terminates.any():\n",
        "            # add log_sumF(., s_i) to the loss L(s_i)   \n",
        "            inFlow = torch.stack([get_inflow(state, model_FM, stop_action=True) for state in non_terminal_states[terminates]]) # (current_batch_size,)\n",
        "            #print(inFlow, \"===========\", non_terminal_states[terminates])\n",
        "            loss_FM[termination_mask,i] += (epsilon + inFlow).log()           \n",
        "\n",
        "        # Update dones\n",
        "        dones[~dones] |= terminates\n",
        "\n",
        "        # Update non completed trajectories : $s = (s^0, ..., s^i, ..., s^{n-1}) \\rightarrow s' = (s^0, ..., s^i + 1, ..., s^{n-1})$\n",
        "        with torch.no_grad():\n",
        "            non_terminates = actions[~terminates]\n",
        "            states[~dones] = states[~dones].scatter_add(1, non_terminates, torch.ones(non_terminates.shape, dtype=torch.long, device=device))\n",
        "\n",
        "        i += 1\n",
        "    \n",
        "    loss_FM = loss_FM[:,1:] # remove L(s_0)\n",
        "    loss = (loss_FM**2).sum(dim=1).sum()/batch_size\n",
        "\n",
        "    optimizer.zero_grad()\n",
        "    loss.backward()\n",
        "    optimizer.step()\n",
        "\n",
        "    losses_FM.append(loss.item())\n",
        "    R = reward_function(states.float())\n",
        "    rewards_FM.append(R.mean().cpu())\n",
        "    logZ_FM_list.append(logZ_FM.item())\n",
        "\n",
        "    if it%100==0: \n",
        "        print('\\nloss =', np.array(losses_FM[-100:]).mean(), 'logZ =', logZ_FM.item(), \"R =\", np.array(rewards_FM[-100:]).mean())\n",
        "        emp_dist = np.bincount(all_visited_FM[-200000:], minlength=len(true_dist)).astype(float)\n",
        "        emp_dist /= emp_dist.sum()\n",
        "        l1 = np.abs(true_dist-emp_dist).mean()\n",
        "        print('L1 =', l1)\n",
        "        l1log_FM.append((len(all_visited_FM), l1))"
      ],
      "metadata": {
        "id": "c6srvFCHXtGQ",
        "colab": {
          "base_uri": "https://localhost:8080/",
          "height": 571
        },
        "outputId": "4c601024-98a2-4a6a-91f7-556a8003b6e0"
      },
      "execution_count": null,
      "outputs": [
        {
          "output_type": "stream",
          "name": "stderr",
          "text": [
            "  0%|          | 1/5000 [00:01<2:10:45,  1.57s/it]"
          ]
        },
        {
          "output_type": "stream",
          "name": "stdout",
          "text": [
            "\n",
            "loss = 37.468482971191406 logZ = 1.0000001192092896 R = 0.52171874\n",
            "L1 = 0.0017865315214705144\n"
          ]
        },
        {
          "output_type": "stream",
          "name": "stderr",
          "text": [
            "  2%|▏         | 101/5000 [08:47<8:20:33,  6.13s/it]"
          ]
        },
        {
          "output_type": "stream",
          "name": "stdout",
          "text": [
            "\n",
            "loss = 10.02450667567551 logZ = 1.0 R = 0.5090625\n",
            "L1 = 0.0016239106400398762\n"
          ]
        },
        {
          "output_type": "stream",
          "name": "stderr",
          "text": [
            "  4%|▍         | 201/5000 [19:05<8:11:16,  6.14s/it]"
          ]
        },
        {
          "output_type": "stream",
          "name": "stdout",
          "text": [
            "\n",
            "loss = 0.13829539590980858 logZ = 1.0 R = 0.5062109\n",
            "L1 = 0.0016876384215197093\n"
          ]
        },
        {
          "output_type": "stream",
          "name": "stderr",
          "text": [
            "  6%|▌         | 301/5000 [29:17<7:50:04,  6.00s/it]"
          ]
        },
        {
          "output_type": "stream",
          "name": "stdout",
          "text": [
            "\n",
            "loss = 0.12635590753518045 logZ = 0.9999999403953552 R = 0.5059375\n",
            "L1 = 0.0017137194048126839\n"
          ]
        },
        {
          "output_type": "stream",
          "name": "stderr",
          "text": [
            "  7%|▋         | 374/5000 [36:40<7:33:41,  5.88s/it]\n"
          ]
        },
        {
          "output_type": "error",
          "ename": "KeyboardInterrupt",
          "evalue": "ignored",
          "traceback": [
            "\u001b[0;31m---------------------------------------------------------------------------\u001b[0m",
            "\u001b[0;31mKeyboardInterrupt\u001b[0m                         Traceback (most recent call last)",
            "\u001b[0;32m<ipython-input-53-a3c5dfabac54>\u001b[0m in \u001b[0;36m<module>\u001b[0;34m()\u001b[0m\n\u001b[1;32m     51\u001b[0m             \u001b[0;31m#loss_FM[~dones,i] += (epsilon + inFlow).log()\u001b[0m\u001b[0;34m\u001b[0m\u001b[0;34m\u001b[0m\u001b[0;34m\u001b[0m\u001b[0m\n\u001b[1;32m     52\u001b[0m             \u001b[0;32mif\u001b[0m \u001b[0mnon_terminates\u001b[0m\u001b[0;34m.\u001b[0m\u001b[0many\u001b[0m\u001b[0;34m(\u001b[0m\u001b[0;34m)\u001b[0m\u001b[0;34m:\u001b[0m\u001b[0;34m\u001b[0m\u001b[0;34m\u001b[0m\u001b[0m\n\u001b[0;32m---> 53\u001b[0;31m                 \u001b[0minFlow\u001b[0m \u001b[0;34m=\u001b[0m \u001b[0mtorch\u001b[0m\u001b[0;34m.\u001b[0m\u001b[0mstack\u001b[0m\u001b[0;34m(\u001b[0m\u001b[0;34m[\u001b[0m\u001b[0mget_inflow\u001b[0m\u001b[0;34m(\u001b[0m\u001b[0mstate\u001b[0m\u001b[0;34m,\u001b[0m \u001b[0mmodel_FM\u001b[0m\u001b[0;34m)\u001b[0m \u001b[0;32mfor\u001b[0m \u001b[0mstate\u001b[0m \u001b[0;32min\u001b[0m \u001b[0mnon_terminal_states\u001b[0m\u001b[0;34m[\u001b[0m\u001b[0mnon_terminates\u001b[0m\u001b[0;34m]\u001b[0m\u001b[0;34m]\u001b[0m\u001b[0;34m)\u001b[0m \u001b[0;31m# (current_batch_size,)\u001b[0m\u001b[0;34m\u001b[0m\u001b[0;34m\u001b[0m\u001b[0m\n\u001b[0m\u001b[1;32m     54\u001b[0m                 \u001b[0mloss_FM\u001b[0m\u001b[0;34m[\u001b[0m\u001b[0mtermination_mask\u001b[0m\u001b[0;34m,\u001b[0m\u001b[0mi\u001b[0m\u001b[0;34m]\u001b[0m \u001b[0;34m+=\u001b[0m \u001b[0;34m(\u001b[0m\u001b[0mepsilon\u001b[0m \u001b[0;34m+\u001b[0m \u001b[0minFlow\u001b[0m\u001b[0;34m)\u001b[0m\u001b[0;34m.\u001b[0m\u001b[0mlog\u001b[0m\u001b[0;34m(\u001b[0m\u001b[0;34m)\u001b[0m\u001b[0;34m\u001b[0m\u001b[0;34m\u001b[0m\u001b[0m\n\u001b[1;32m     55\u001b[0m         \u001b[0;32melse\u001b[0m \u001b[0;34m:\u001b[0m\u001b[0;34m\u001b[0m\u001b[0;34m\u001b[0m\u001b[0m\n",
            "\u001b[0;32m<ipython-input-53-a3c5dfabac54>\u001b[0m in \u001b[0;36m<listcomp>\u001b[0;34m(.0)\u001b[0m\n\u001b[1;32m     51\u001b[0m             \u001b[0;31m#loss_FM[~dones,i] += (epsilon + inFlow).log()\u001b[0m\u001b[0;34m\u001b[0m\u001b[0;34m\u001b[0m\u001b[0;34m\u001b[0m\u001b[0m\n\u001b[1;32m     52\u001b[0m             \u001b[0;32mif\u001b[0m \u001b[0mnon_terminates\u001b[0m\u001b[0;34m.\u001b[0m\u001b[0many\u001b[0m\u001b[0;34m(\u001b[0m\u001b[0;34m)\u001b[0m\u001b[0;34m:\u001b[0m\u001b[0;34m\u001b[0m\u001b[0;34m\u001b[0m\u001b[0m\n\u001b[0;32m---> 53\u001b[0;31m                 \u001b[0minFlow\u001b[0m \u001b[0;34m=\u001b[0m \u001b[0mtorch\u001b[0m\u001b[0;34m.\u001b[0m\u001b[0mstack\u001b[0m\u001b[0;34m(\u001b[0m\u001b[0;34m[\u001b[0m\u001b[0mget_inflow\u001b[0m\u001b[0;34m(\u001b[0m\u001b[0mstate\u001b[0m\u001b[0;34m,\u001b[0m \u001b[0mmodel_FM\u001b[0m\u001b[0;34m)\u001b[0m \u001b[0;32mfor\u001b[0m \u001b[0mstate\u001b[0m \u001b[0;32min\u001b[0m \u001b[0mnon_terminal_states\u001b[0m\u001b[0;34m[\u001b[0m\u001b[0mnon_terminates\u001b[0m\u001b[0;34m]\u001b[0m\u001b[0;34m]\u001b[0m\u001b[0;34m)\u001b[0m \u001b[0;31m# (current_batch_size,)\u001b[0m\u001b[0;34m\u001b[0m\u001b[0;34m\u001b[0m\u001b[0m\n\u001b[0m\u001b[1;32m     54\u001b[0m                 \u001b[0mloss_FM\u001b[0m\u001b[0;34m[\u001b[0m\u001b[0mtermination_mask\u001b[0m\u001b[0;34m,\u001b[0m\u001b[0mi\u001b[0m\u001b[0;34m]\u001b[0m \u001b[0;34m+=\u001b[0m \u001b[0;34m(\u001b[0m\u001b[0mepsilon\u001b[0m \u001b[0;34m+\u001b[0m \u001b[0minFlow\u001b[0m\u001b[0;34m)\u001b[0m\u001b[0;34m.\u001b[0m\u001b[0mlog\u001b[0m\u001b[0;34m(\u001b[0m\u001b[0;34m)\u001b[0m\u001b[0;34m\u001b[0m\u001b[0;34m\u001b[0m\u001b[0m\n\u001b[1;32m     55\u001b[0m         \u001b[0;32melse\u001b[0m \u001b[0;34m:\u001b[0m\u001b[0;34m\u001b[0m\u001b[0;34m\u001b[0m\u001b[0m\n",
            "\u001b[0;32m<ipython-input-48-aab68f6527cf>\u001b[0m in \u001b[0;36mget_inflow\u001b[0;34m(state, model, stop_action)\u001b[0m\n\u001b[1;32m     10\u001b[0m         \u001b[0mparents\u001b[0m\u001b[0;34m,\u001b[0m \u001b[0mtransitions\u001b[0m \u001b[0;34m=\u001b[0m \u001b[0mall_parents\u001b[0m\u001b[0;34m.\u001b[0m\u001b[0mget\u001b[0m\u001b[0;34m(\u001b[0m\u001b[0mstate_id\u001b[0m\u001b[0;34m,\u001b[0m \u001b[0;34m(\u001b[0m\u001b[0;32mNone\u001b[0m\u001b[0;34m,\u001b[0m \u001b[0;32mNone\u001b[0m\u001b[0;34m)\u001b[0m\u001b[0;34m)\u001b[0m\u001b[0;34m\u001b[0m\u001b[0;34m\u001b[0m\u001b[0m\n\u001b[1;32m     11\u001b[0m     \u001b[0;32mif\u001b[0m \u001b[0mparents\u001b[0m \u001b[0;32mis\u001b[0m \u001b[0;32mnot\u001b[0m \u001b[0;32mNone\u001b[0m \u001b[0;34m:\u001b[0m\u001b[0;34m\u001b[0m\u001b[0;34m\u001b[0m\u001b[0m\n\u001b[0;32m---> 12\u001b[0;31m         \u001b[0membed\u001b[0m \u001b[0;34m=\u001b[0m \u001b[0mone_hot_embedding\u001b[0m\u001b[0;34m(\u001b[0m\u001b[0mparents\u001b[0m\u001b[0;34m.\u001b[0m\u001b[0mlong\u001b[0m\u001b[0;34m(\u001b[0m\u001b[0;34m)\u001b[0m\u001b[0;34m)\u001b[0m \u001b[0;31m# (n_parents, embedding_dim)\u001b[0m\u001b[0;34m\u001b[0m\u001b[0;34m\u001b[0m\u001b[0m\n\u001b[0m\u001b[1;32m     13\u001b[0m         \u001b[0mlogF\u001b[0m \u001b[0;34m=\u001b[0m \u001b[0mmodel\u001b[0m\u001b[0;34m(\u001b[0m\u001b[0membed\u001b[0m\u001b[0;34m.\u001b[0m\u001b[0mto\u001b[0m\u001b[0;34m(\u001b[0m\u001b[0mdevice\u001b[0m\u001b[0;34m)\u001b[0m\u001b[0;34m)\u001b[0m \u001b[0;31m# (n_parents, ndim+1)\u001b[0m\u001b[0;34m\u001b[0m\u001b[0;34m\u001b[0m\u001b[0m\n\u001b[1;32m     14\u001b[0m         \u001b[0;32mreturn\u001b[0m \u001b[0mlogF\u001b[0m\u001b[0;34m.\u001b[0m\u001b[0mgather\u001b[0m\u001b[0;34m(\u001b[0m\u001b[0;36m1\u001b[0m\u001b[0;34m,\u001b[0m \u001b[0mtransitions\u001b[0m\u001b[0;34m.\u001b[0m\u001b[0munsqueeze\u001b[0m\u001b[0;34m(\u001b[0m\u001b[0;36m1\u001b[0m\u001b[0;34m)\u001b[0m\u001b[0;34m.\u001b[0m\u001b[0mto\u001b[0m\u001b[0;34m(\u001b[0m\u001b[0mdevice\u001b[0m\u001b[0;34m)\u001b[0m\u001b[0;34m)\u001b[0m\u001b[0;34m.\u001b[0m\u001b[0mexp\u001b[0m\u001b[0;34m(\u001b[0m\u001b[0;34m)\u001b[0m\u001b[0;34m.\u001b[0m\u001b[0msum\u001b[0m\u001b[0;34m(\u001b[0m\u001b[0;34m)\u001b[0m\u001b[0;34m\u001b[0m\u001b[0;34m\u001b[0m\u001b[0m\n",
            "\u001b[0;32m<ipython-input-19-ad28d0d6b1c3>\u001b[0m in \u001b[0;36mone_hot_embedding\u001b[0;34m(states, num_classes)\u001b[0m\n\u001b[1;32m      2\u001b[0m     \u001b[0;31m# states : (bs, ndim) -> (bs, embedding_dim), embedding_dim = num_classes x ndim\u001b[0m\u001b[0;34m\u001b[0m\u001b[0;34m\u001b[0m\u001b[0;34m\u001b[0m\u001b[0m\n\u001b[1;32m      3\u001b[0m     \u001b[0;32massert\u001b[0m \u001b[0mnum_classes\u001b[0m \u001b[0;34m>=\u001b[0m \u001b[0mH\u001b[0m \u001b[0;34m+\u001b[0m \u001b[0;36m1\u001b[0m\u001b[0;34m\u001b[0m\u001b[0;34m\u001b[0m\u001b[0m\n\u001b[0;32m----> 4\u001b[0;31m     \u001b[0;32mreturn\u001b[0m \u001b[0mtorch\u001b[0m\u001b[0;34m.\u001b[0m\u001b[0mnn\u001b[0m\u001b[0;34m.\u001b[0m\u001b[0mfunctional\u001b[0m\u001b[0;34m.\u001b[0m\u001b[0mone_hot\u001b[0m\u001b[0;34m(\u001b[0m\u001b[0mstates\u001b[0m\u001b[0;34m,\u001b[0m \u001b[0mnum_classes\u001b[0m\u001b[0;34m)\u001b[0m\u001b[0;34m.\u001b[0m\u001b[0mview\u001b[0m\u001b[0;34m(\u001b[0m\u001b[0mstates\u001b[0m\u001b[0;34m.\u001b[0m\u001b[0mshape\u001b[0m\u001b[0;34m[\u001b[0m\u001b[0;36m0\u001b[0m\u001b[0;34m]\u001b[0m\u001b[0;34m,\u001b[0m\u001b[0;34m-\u001b[0m\u001b[0;36m1\u001b[0m\u001b[0;34m)\u001b[0m\u001b[0;34m.\u001b[0m\u001b[0mfloat\u001b[0m\u001b[0;34m(\u001b[0m\u001b[0;34m)\u001b[0m\u001b[0;34m\u001b[0m\u001b[0;34m\u001b[0m\u001b[0m\n\u001b[0m",
            "\u001b[0;31mKeyboardInterrupt\u001b[0m: "
          ]
        }
      ]
    },
    {
      "cell_type": "code",
      "source": [
        "#loss_FM[:,1:], loss_FM.shape"
      ],
      "metadata": {
        "id": "zBS86NsgK-PF"
      },
      "execution_count": null,
      "outputs": []
    },
    {
      "cell_type": "code",
      "source": [
        "#loss_FM[loss_FM != 0].shape"
      ],
      "metadata": {
        "id": "haFjpnJ3LeKq"
      },
      "execution_count": null,
      "outputs": []
    },
    {
      "cell_type": "markdown",
      "source": [
        "### samples"
      ],
      "metadata": {
        "id": "8XV5z82DY7rv"
      }
    },
    {
      "cell_type": "code",
      "source": [
        "#model_FM, logZ_FM, losses_FM, rewards_FM, logZ_FM_list, all_visited_FM, first_visit_FM, l1log_FM = data[\"FM\"]"
      ],
      "metadata": {
        "id": "UXEM4Gx6ZJ0p"
      },
      "execution_count": null,
      "outputs": []
    },
    {
      "cell_type": "code",
      "source": [
        "samples_FM = np.zeros((H+1,)*ndim)"
      ],
      "metadata": {
        "id": "OemU8ZouZAJd"
      },
      "execution_count": null,
      "outputs": []
    },
    {
      "cell_type": "code",
      "source": [
        "# #batch_size = 128\n",
        "# #batch_size = 8\n",
        "# #batch_size = 1\n",
        "# epsilon = 1e-2\n",
        "# for it in tqdm.trange(100):    \n",
        "#     # finished trajectories\n",
        "#     dones = torch.full((batch_size,), False, dtype=torch.bool).to(device)\n",
        "#     # s_0\n",
        "#     states = torch.zeros((batch_size, ndim), dtype=torch.long).to(device)\n",
        "#     # actions chosen at each step : we can choose the coordinate to increment (0 ... ndim-1), or choose to return the current state as terminal (ndim)\n",
        "#     actions = None # (current_batch_size,)\n",
        "\n",
        "#     current_batch_size = (~dones).sum()\n",
        "#     non_terminal_states = states[~dones] # (current_batch_size, ndim)\n",
        "\n",
        "#     i = 0\n",
        "#     while torch.any(~dones):\n",
        "\n",
        "#         if actions is not None :  \n",
        "#             ### select terminal states ### \n",
        "#             terminates = (actions==ndim).squeeze(1)\n",
        "\n",
        "#             # Update dones\n",
        "#             dones[~dones] |= terminates\n",
        "\n",
        "#             # Update non completed trajectories : $s = (s^0, ..., s^i, ..., s^{n-1}) \\rightarrow s' = (s^0, ..., s^i + 1, ..., s^{n-1})$\n",
        "#             with torch.no_grad():\n",
        "#                 non_terminates = actions[~terminates]\n",
        "#                 states[~dones] = states[~dones].scatter_add(1, non_terminates, torch.ones(non_terminates.shape, dtype=torch.long, device=device))\n",
        "#             i += 1\n",
        "\n",
        "#         if torch.any(~dones) :\n",
        "#             ### Forward pass ### \n",
        "#             current_batch_size = (~dones).sum()\n",
        "#             non_terminal_states = states[~dones] # (current_batch_size, ndim)\n",
        "#             embed = one_hot_embedding(non_terminal_states) # (current_batch_size, input_dim)\n",
        "#             logF = model_FM(embed) # (current_batch_size, output_dim = ndim+1) \n",
        "\n",
        "#             ### Forward Policy : tempered version of the state-action flow F ### \n",
        "#             # Being in a edge cell ++ (a coordinate that is H), we can't move forward\n",
        "#             edge_mask = (non_terminal_states == H).float() # (current_batch_size, ndim)\n",
        "#             # but any cell can be a terminal cell\n",
        "#             stop_action_mask = torch.zeros((current_batch_size, 1), device=device) # (current_batch_size, 1)\n",
        "#             # Being in a edge cell, we can't move forward, but any cell can be a terminal cell\n",
        "#             PF_mask = torch.cat([edge_mask, stop_action_mask], 1) # (current_batch_size, ndim+1)\n",
        "#             # logPF (with mask)\n",
        "#             logPF = (logF + minus_inf*PF_mask).log_softmax(1) # (current_batch_size, ndim+1)\n",
        "#             # choose next states\n",
        "#             sample_temperature = 1\n",
        "#             #exp_weight= 0.\n",
        "#             #PF = (1-exp_weight)*(logPF/sample_temperature).softmax(1) + exp_weight*(1-PF_mask) / (1-PF_mask+0.0000001).sum(1).unsqueeze(1) # (current_batch_size, ndim+1)\n",
        "#             PF = (logPF/sample_temperature).softmax(1) # (current_batch_size, ndim+1)\n",
        "#             #actions = torch.distributions.categorical.Categorical(probs = PF).sample() # (current_batch_size,)\n",
        "#             #actions = torch.multinomial(probs = PF, 1).squeeze(1) # (current_batch_size,) # (current_batch_size,)\n",
        "#             actions = PF.multinomial(1) # (current_batch_size,)\n",
        "#         else :\n",
        "#             break\n",
        "\n",
        "#     if ndim == 8 :\n",
        "#         for a,b,c,d,e,f,g,h in states: samples_FM[a,b,c,d,e,f,g,h]+=1  \n",
        "#     if ndim == 6 :\n",
        "#         for a,b,c,d,e,f in states: samples_FM[a,b,c,d,e,f]+=1         \n",
        "#     if ndim == 4 :\n",
        "#         for a,b,c,d in states: samples_FM[a,b,c,d]+=1\n",
        "#     elif ndim == 2 :\n",
        "#         for a,b in states: samples_FM[a,b]+=1"
      ],
      "metadata": {
        "id": "CqEWCjIVY95J"
      },
      "execution_count": null,
      "outputs": []
    },
    {
      "cell_type": "code",
      "source": [
        "for it in tqdm.trange(500):    \n",
        "    # finished trajectories\n",
        "    dones = torch.full((batch_size,), False, dtype=torch.bool).to(device)\n",
        "    # s_0\n",
        "    states = torch.zeros((batch_size, ndim), dtype=torch.long).to(device)\n",
        "    # actions chosen at each step : we can choose the coordinate to increment (0 ... ndim-1), or choose to return the current state as terminal (ndim)\n",
        "    actions = None # (current_batch_size,)\n",
        "\n",
        "    while torch.any(~dones):\n",
        "\n",
        "        ### Forward pass ### \n",
        "        current_batch_size = (~dones).sum()\n",
        "        non_terminal_states = states[~dones] # (current_batch_size, ndim)\n",
        "        embed = one_hot_embedding(non_terminal_states) # (current_batch_size, input_dim)\n",
        "        with torch.no_grad():\n",
        "            logF = model_FM(embed) # (current_batch_size, output_dim = ndim+1) \n",
        "\n",
        "        ### Forward Policy : tempered version of the flow F ### \n",
        "        # Being in a edge cell ++ (a coordinate that is H), we can't move forward\n",
        "        edge_mask = (non_terminal_states == H).float() # (current_batch_size, ndim)\n",
        "        # but any cell can be a terminal cell\n",
        "        stop_action_mask = torch.zeros((current_batch_size, 1), device=device) # (current_batch_size, 1)\n",
        "        # Being in a edge cell, we can't move forward, but any cell can be a terminal cell\n",
        "        PF_mask = torch.cat([edge_mask, stop_action_mask], 1) # (current_batch_size, ndim+1)\n",
        "        # logPF (with mask)\n",
        "        logPF = (logF + minus_inf*PF_mask).log_softmax(1) # (current_batch_size, ndim+1)\n",
        "        # choose next states\n",
        "        sample_temperature = 1\n",
        "        #exp_weight= 0.\n",
        "        #PF = (1-exp_weight)*(logPF/sample_temperature).softmax(1) + exp_weight*(1-PF_mask) / (1-PF_mask+0.0000001).sum(1).unsqueeze(1) # (current_batch_size, ndim+1)\n",
        "        PF = (logPF/sample_temperature).softmax(1) # (current_batch_size, ndim+1)\n",
        "        #actions = torch.distributions.categorical.Categorical(probs = PF).sample() # (current_batch_size,)\n",
        "        #actions = torch.multinomial(probs = PF, 1).squeeze(1) # (current_batch_size,) # (current_batch_size,)\n",
        "        actions = PF.multinomial(1) # (current_batch_size,)\n",
        "        \n",
        "        ### select terminal states ### \n",
        "        terminates = (actions==ndim).squeeze(1)\n",
        "\n",
        "        # Update dones\n",
        "        dones[~dones] |= terminates\n",
        "\n",
        "        # Update non completed trajectories : $s = (s^0, ..., s^i, ..., s^{n-1}) \\rightarrow s' = (s^0, ..., s^i + 1, ..., s^{n-1})$\n",
        "        with torch.no_grad():\n",
        "            non_terminates = actions[~terminates]\n",
        "            states[~dones] = states[~dones].scatter_add(1, non_terminates, torch.ones(non_terminates.shape, dtype=torch.long, device=device))\n",
        "\n",
        "    if ndim == 8 :\n",
        "        for a,b,c,d,e,f,g,h in states: samples_FM[a,b,c,d,e,f,g,h]+=1  \n",
        "    if ndim == 6 :\n",
        "        for a,b,c,d,e,f in states: samples_FM[a,b,c,d,e,f]+=1         \n",
        "    if ndim == 4 :\n",
        "        for a,b,c,d in states: samples_FM[a,b,c,d]+=1\n",
        "    elif ndim == 2 :\n",
        "        for a,b in states: samples_FM[a,b]+=1"
      ],
      "metadata": {
        "id": "aroKVi88X5Cf",
        "colab": {
          "base_uri": "https://localhost:8080/"
        },
        "outputId": "15a44a6e-7fc3-4b33-b47c-c19b394aea4b"
      },
      "execution_count": null,
      "outputs": [
        {
          "output_type": "stream",
          "name": "stderr",
          "text": [
            "100%|██████████| 500/500 [00:38<00:00, 13.11it/s]\n"
          ]
        }
      ]
    },
    {
      "cell_type": "code",
      "source": [
        "if ndim == 2 :\n",
        "    print(samples_FM / samples_FM.sum())"
      ],
      "metadata": {
        "id": "wQQlppHYZSBb",
        "colab": {
          "base_uri": "https://localhost:8080/"
        },
        "outputId": "f639ab2b-6deb-4de5-8069-4d4b8af3a37d"
      },
      "execution_count": null,
      "outputs": [
        {
          "output_type": "stream",
          "name": "stdout",
          "text": [
            "[[1.18906250e-02 1.10937500e-03 1.06250000e-03 ... 0.00000000e+00\n",
            "  0.00000000e+00 0.00000000e+00]\n",
            " [5.93750000e-04 7.81250000e-05 9.37500000e-05 ... 0.00000000e+00\n",
            "  0.00000000e+00 0.00000000e+00]\n",
            " [5.78125000e-04 7.81250000e-05 7.81250000e-05 ... 0.00000000e+00\n",
            "  0.00000000e+00 0.00000000e+00]\n",
            " ...\n",
            " [0.00000000e+00 0.00000000e+00 0.00000000e+00 ... 0.00000000e+00\n",
            "  0.00000000e+00 2.18750000e-04]\n",
            " [0.00000000e+00 0.00000000e+00 0.00000000e+00 ... 4.68750000e-05\n",
            "  4.68750000e-05 3.75000000e-04]\n",
            " [0.00000000e+00 0.00000000e+00 0.00000000e+00 ... 3.90625000e-04\n",
            "  3.12500000e-04 9.64609375e-01]]\n"
          ]
        }
      ]
    },
    {
      "cell_type": "code",
      "source": [
        "if ndim == 2 :\n",
        "    plt.imshow(samples_FM)\n",
        "elif ndim == 4 :\n",
        "    plt.imshow(samples_FM[0,0])\n",
        "elif ndim == 6:  \n",
        "    plt.imshow(samples_FM[0,0,0,0])\n",
        "elif ndim == 8:\n",
        "    plt.imshow(samples_FM[0,0,0,0,0,0])"
      ],
      "metadata": {
        "id": "lK-QZmMhZT8-",
        "colab": {
          "base_uri": "https://localhost:8080/",
          "height": 266
        },
        "outputId": "df583edc-a651-4c57-8f4c-6d232eb425ff"
      },
      "execution_count": null,
      "outputs": [
        {
          "output_type": "display_data",
          "data": {
            "text/plain": [
              "<Figure size 432x288 with 1 Axes>"
            ],
            "image/png": "[encoded data removed]"
          },
          "metadata": {
            "needs_background": "light"
          }
        }
      ]
    },
    {
      "cell_type": "code",
      "source": [
        "if ndim == 4 :\n",
        "    tmp = samples_FM.sum((2,3))+samples_FM.sum((0,1))+samples_FM.sum((0,2))+samples_FM.sum((1,3))+samples_FM.sum((2,3))+samples_FM.sum((0,3))\n",
        "    plt.imshow(tmp,vmin=0);plt.show()\n",
        "    plt.imshow(samples_FM.sum((1,3)),vmin=0);plt.show()"
      ],
      "metadata": {
        "id": "PRMbBzt0ZQgo"
      },
      "execution_count": null,
      "outputs": []
    },
    {
      "cell_type": "markdown",
      "source": [
        "**This implementation has a problem. Refer to this official implementation for the moment : https://github.com/GFNOrg/gflownet**"
      ],
      "metadata": {
        "id": "wYr96X4XYsCu"
      }
    },
    {
      "cell_type": "markdown",
      "metadata": {
        "id": "AYh5lqX1ZBVL"
      },
      "source": [
        "## Random (uniform) agent"
      ]
    },
    {
      "cell_type": "code",
      "execution_count": null,
      "metadata": {
        "id": "Yl3jqdTYdMe3"
      },
      "outputs": [],
      "source": [
        "rewards_random = []\n",
        "all_visited_random = []\n",
        "first_visit_random = -1 * np.ones_like(true_dist)\n",
        "l1log_random = []"
      ]
    },
    {
      "cell_type": "code",
      "execution_count": null,
      "metadata": {
        "id": "ns2X5pc-EfGM",
        "colab": {
          "base_uri": "https://localhost:8080/"
        },
        "outputId": "c46f0b25-d77e-49f4-8deb-5a758525f4c5"
      },
      "outputs": [
        {
          "output_type": "stream",
          "name": "stderr",
          "text": [
            "  1%|          | 28/5000 [00:00<00:37, 134.30it/s]"
          ]
        },
        {
          "output_type": "stream",
          "name": "stdout",
          "text": [
            "\n",
            "R = 0.56078124\n",
            "L1 = 0.0017376550792586453\n"
          ]
        },
        {
          "output_type": "stream",
          "name": "stderr",
          "text": [
            "  3%|▎         | 126/5000 [00:00<00:37, 131.04it/s]"
          ]
        },
        {
          "output_type": "stream",
          "name": "stdout",
          "text": [
            "\n",
            "R = 0.5359375\n",
            "L1 = 0.0017140249790238\n"
          ]
        },
        {
          "output_type": "stream",
          "name": "stderr",
          "text": [
            "  4%|▍         | 225/5000 [00:01<00:35, 135.30it/s]"
          ]
        },
        {
          "output_type": "stream",
          "name": "stdout",
          "text": [
            "\n",
            "R = 0.53457034\n",
            "L1 = 0.0017120312267684093\n"
          ]
        },
        {
          "output_type": "stream",
          "name": "stderr",
          "text": [
            "  7%|▋         | 326/5000 [00:02<00:34, 135.06it/s]"
          ]
        },
        {
          "output_type": "stream",
          "name": "stdout",
          "text": [
            "\n",
            "R = 0.5333203\n",
            "L1 = 0.0017131362376799882\n"
          ]
        },
        {
          "output_type": "stream",
          "name": "stderr",
          "text": [
            "  9%|▊         | 427/5000 [00:03<00:32, 139.30it/s]"
          ]
        },
        {
          "output_type": "stream",
          "name": "stdout",
          "text": [
            "\n",
            "R = 0.53375\n",
            "L1 = 0.0017138316416154418\n"
          ]
        },
        {
          "output_type": "stream",
          "name": "stderr",
          "text": [
            " 10%|█         | 524/5000 [00:03<00:34, 128.66it/s]"
          ]
        },
        {
          "output_type": "stream",
          "name": "stdout",
          "text": [
            "\n",
            "R = 0.53515625\n",
            "L1 = 0.0017128747780434097\n"
          ]
        },
        {
          "output_type": "stream",
          "name": "stderr",
          "text": [
            " 12%|█▏        | 621/5000 [00:04<00:33, 131.85it/s]"
          ]
        },
        {
          "output_type": "stream",
          "name": "stdout",
          "text": [
            "\n",
            "R = 0.5325781\n",
            "L1 = 0.0017133583968721338\n"
          ]
        },
        {
          "output_type": "stream",
          "name": "stderr",
          "text": [
            " 14%|█▍        | 722/5000 [00:05<00:32, 132.68it/s]"
          ]
        },
        {
          "output_type": "stream",
          "name": "stdout",
          "text": [
            "\n",
            "R = 0.5310938\n",
            "L1 = 0.00171384731158422\n"
          ]
        },
        {
          "output_type": "stream",
          "name": "stderr",
          "text": [
            " 16%|█▋        | 823/5000 [00:06<00:30, 138.75it/s]"
          ]
        },
        {
          "output_type": "stream",
          "name": "stdout",
          "text": [
            "\n",
            "R = 0.53367186\n",
            "L1 = 0.0017139454605933197\n"
          ]
        },
        {
          "output_type": "stream",
          "name": "stderr",
          "text": [
            " 18%|█▊        | 922/5000 [00:06<00:30, 135.15it/s]"
          ]
        },
        {
          "output_type": "stream",
          "name": "stdout",
          "text": [
            "\n",
            "R = 0.5351953\n",
            "L1 = 0.0017140058983620959\n"
          ]
        },
        {
          "output_type": "stream",
          "name": "stderr",
          "text": [
            " 20%|██        | 1024/5000 [00:07<00:30, 128.63it/s]"
          ]
        },
        {
          "output_type": "stream",
          "name": "stdout",
          "text": [
            "\n",
            "R = 0.5348828\n",
            "L1 = 0.0017140972617286539\n"
          ]
        },
        {
          "output_type": "stream",
          "name": "stderr",
          "text": [
            " 22%|██▏       | 1124/5000 [00:08<00:29, 133.16it/s]"
          ]
        },
        {
          "output_type": "stream",
          "name": "stdout",
          "text": [
            "\n",
            "R = 0.5376172\n",
            "L1 = 0.0017138592651584348\n"
          ]
        },
        {
          "output_type": "stream",
          "name": "stderr",
          "text": [
            " 24%|██▍       | 1221/5000 [00:09<00:29, 129.75it/s]"
          ]
        },
        {
          "output_type": "stream",
          "name": "stdout",
          "text": [
            "\n",
            "R = 0.5371875\n",
            "L1 = 0.0017134339137385257\n"
          ]
        },
        {
          "output_type": "stream",
          "name": "stderr",
          "text": [
            " 26%|██▋       | 1320/5000 [00:09<00:27, 131.94it/s]"
          ]
        },
        {
          "output_type": "stream",
          "name": "stdout",
          "text": [
            "\n",
            "R = 0.5285938\n",
            "L1 = 0.0017138569713190084\n"
          ]
        },
        {
          "output_type": "stream",
          "name": "stderr",
          "text": [
            " 28%|██▊       | 1425/5000 [00:10<00:25, 137.99it/s]"
          ]
        },
        {
          "output_type": "stream",
          "name": "stdout",
          "text": [
            "\n",
            "R = 0.5313672\n",
            "L1 = 0.0017141991526914114\n"
          ]
        },
        {
          "output_type": "stream",
          "name": "stderr",
          "text": [
            " 31%|███       | 1526/5000 [00:11<00:24, 139.57it/s]"
          ]
        },
        {
          "output_type": "stream",
          "name": "stdout",
          "text": [
            "\n",
            "R = 0.5396094\n",
            "L1 = 0.0017139126426295094\n"
          ]
        },
        {
          "output_type": "stream",
          "name": "stderr",
          "text": [
            " 32%|███▎      | 1625/5000 [00:12<00:25, 129.99it/s]"
          ]
        },
        {
          "output_type": "stream",
          "name": "stdout",
          "text": [
            "\n",
            "R = 0.53378904\n",
            "L1 = 0.0017138104823922876\n"
          ]
        },
        {
          "output_type": "stream",
          "name": "stderr",
          "text": [
            " 34%|███▍      | 1722/5000 [00:12<00:25, 126.34it/s]"
          ]
        },
        {
          "output_type": "stream",
          "name": "stdout",
          "text": [
            "\n",
            "R = 0.5339453\n",
            "L1 = 0.0017137348756498057\n"
          ]
        },
        {
          "output_type": "stream",
          "name": "stderr",
          "text": [
            " 36%|███▋      | 1820/5000 [00:13<00:24, 127.43it/s]"
          ]
        },
        {
          "output_type": "stream",
          "name": "stdout",
          "text": [
            "\n",
            "R = 0.5342187\n",
            "L1 = 0.001713679779231073\n"
          ]
        },
        {
          "output_type": "stream",
          "name": "stderr",
          "text": [
            " 38%|███▊      | 1919/5000 [00:14<00:23, 132.44it/s]"
          ]
        },
        {
          "output_type": "stream",
          "name": "stdout",
          "text": [
            "\n",
            "R = 0.5319922\n",
            "L1 = 0.0017137165101768948\n"
          ]
        },
        {
          "output_type": "stream",
          "name": "stderr",
          "text": [
            " 40%|████      | 2019/5000 [00:15<00:22, 132.19it/s]"
          ]
        },
        {
          "output_type": "stream",
          "name": "stdout",
          "text": [
            "\n",
            "R = 0.5326172\n",
            "L1 = 0.001713900164906004\n"
          ]
        },
        {
          "output_type": "stream",
          "name": "stderr",
          "text": [
            " 42%|████▏     | 2117/5000 [00:15<00:22, 127.14it/s]"
          ]
        },
        {
          "output_type": "stream",
          "name": "stdout",
          "text": [
            "\n",
            "R = 0.5359766\n",
            "L1 = 0.0017139277131153702\n"
          ]
        },
        {
          "output_type": "stream",
          "name": "stderr",
          "text": [
            " 44%|████▍     | 2211/5000 [00:16<00:23, 117.49it/s]"
          ]
        },
        {
          "output_type": "stream",
          "name": "stdout",
          "text": [
            "\n",
            "R = 0.5358203\n",
            "L1 = 0.0017138358857508155\n"
          ]
        },
        {
          "output_type": "stream",
          "name": "stderr",
          "text": [
            " 46%|████▋     | 2321/5000 [00:17<00:20, 129.16it/s]"
          ]
        },
        {
          "output_type": "stream",
          "name": "stdout",
          "text": [
            "\n",
            "R = 0.5326953\n",
            "L1 = 0.0017135625485079902\n"
          ]
        },
        {
          "output_type": "stream",
          "name": "stderr",
          "text": [
            " 48%|████▊     | 2417/5000 [00:18<00:19, 130.52it/s]"
          ]
        },
        {
          "output_type": "stream",
          "name": "stdout",
          "text": [
            "\n",
            "R = 0.530625\n",
            "L1 = 0.0017135858070156797\n"
          ]
        },
        {
          "output_type": "stream",
          "name": "stderr",
          "text": [
            " 50%|█████     | 2516/5000 [00:19<00:19, 128.28it/s]"
          ]
        },
        {
          "output_type": "stream",
          "name": "stdout",
          "text": [
            "\n",
            "R = 0.5366797\n",
            "L1 = 0.0017137348756498054\n"
          ]
        },
        {
          "output_type": "stream",
          "name": "stderr",
          "text": [
            " 52%|█████▏    | 2615/5000 [00:19<00:18, 126.86it/s]"
          ]
        },
        {
          "output_type": "stream",
          "name": "stdout",
          "text": [
            "\n",
            "R = 0.5342969\n",
            "L1 = 0.0017135971346029736\n"
          ]
        },
        {
          "output_type": "stream",
          "name": "stderr",
          "text": [
            " 54%|█████▍    | 2713/5000 [00:20<00:18, 124.15it/s]"
          ]
        },
        {
          "output_type": "stream",
          "name": "stdout",
          "text": [
            "\n",
            "R = 0.5313672\n",
            "L1 = 0.0017138267030143604\n"
          ]
        },
        {
          "output_type": "stream",
          "name": "stderr",
          "text": [
            " 57%|█████▋    | 2827/5000 [00:21<00:16, 132.85it/s]"
          ]
        },
        {
          "output_type": "stream",
          "name": "stdout",
          "text": [
            "\n",
            "R = 0.5324219\n",
            "L1 = 0.0017137624238591721\n"
          ]
        },
        {
          "output_type": "stream",
          "name": "stderr",
          "text": [
            " 58%|█████▊    | 2913/5000 [00:22<00:16, 128.49it/s]"
          ]
        },
        {
          "output_type": "stream",
          "name": "stdout",
          "text": [
            "\n",
            "R = 0.53339845\n",
            "L1 = 0.0017136155000758845\n"
          ]
        },
        {
          "output_type": "stream",
          "name": "stderr",
          "text": [
            " 60%|██████    | 3014/5000 [00:22<00:15, 128.89it/s]"
          ]
        },
        {
          "output_type": "stream",
          "name": "stdout",
          "text": [
            "\n",
            "R = 0.5359766\n",
            "L1 = 0.0017133583834551315\n"
          ]
        },
        {
          "output_type": "stream",
          "name": "stderr",
          "text": [
            " 62%|██████▏   | 3117/5000 [00:23<00:13, 136.06it/s]"
          ]
        },
        {
          "output_type": "stream",
          "name": "stdout",
          "text": [
            "\n",
            "R = 0.53414065\n",
            "L1 = 0.001713330835245765\n"
          ]
        },
        {
          "output_type": "stream",
          "name": "stderr",
          "text": [
            " 64%|██████▍   | 3216/5000 [00:24<00:13, 129.87it/s]"
          ]
        },
        {
          "output_type": "stream",
          "name": "stdout",
          "text": [
            "\n",
            "R = 0.5328125\n",
            "L1 = 0.0017135144899748744\n"
          ]
        },
        {
          "output_type": "stream",
          "name": "stderr",
          "text": [
            " 66%|██████▌   | 3312/5000 [00:25<00:14, 119.62it/s]"
          ]
        },
        {
          "output_type": "stream",
          "name": "stdout",
          "text": [
            "\n",
            "R = 0.53292966\n",
            "L1 = 0.0017139552613247367\n"
          ]
        },
        {
          "output_type": "stream",
          "name": "stderr",
          "text": [
            " 68%|██████▊   | 3424/5000 [00:26<00:12, 123.23it/s]"
          ]
        },
        {
          "output_type": "stream",
          "name": "stdout",
          "text": [
            "\n",
            "R = 0.53324217\n",
            "L1 = 0.00171382670301436\n"
          ]
        },
        {
          "output_type": "stream",
          "name": "stderr",
          "text": [
            " 71%|███████   | 3527/5000 [00:26<00:10, 134.10it/s]"
          ]
        },
        {
          "output_type": "stream",
          "name": "stdout",
          "text": [
            "\n",
            "R = 0.53777343\n",
            "L1 = 0.0017134502108196864\n"
          ]
        },
        {
          "output_type": "stream",
          "name": "stderr",
          "text": [
            " 73%|███████▎  | 3626/5000 [00:27<00:10, 128.40it/s]"
          ]
        },
        {
          "output_type": "stream",
          "name": "stdout",
          "text": [
            "\n",
            "R = 0.53160155\n",
            "L1 = 0.0017134777590290524\n"
          ]
        },
        {
          "output_type": "stream",
          "name": "stderr",
          "text": [
            " 75%|███████▍  | 3727/5000 [00:28<00:09, 135.40it/s]"
          ]
        },
        {
          "output_type": "stream",
          "name": "stdout",
          "text": [
            "\n",
            "R = 0.5358203\n",
            "L1 = 0.0017136063173394292\n"
          ]
        },
        {
          "output_type": "stream",
          "name": "stderr",
          "text": [
            " 77%|███████▋  | 3826/5000 [00:29<00:08, 133.56it/s]"
          ]
        },
        {
          "output_type": "stream",
          "name": "stdout",
          "text": [
            "\n",
            "R = 0.5351172\n",
            "L1 = 0.0017134410280832308\n"
          ]
        },
        {
          "output_type": "stream",
          "name": "stderr",
          "text": [
            " 79%|███████▊  | 3929/5000 [00:29<00:07, 134.30it/s]"
          ]
        },
        {
          "output_type": "stream",
          "name": "stdout",
          "text": [
            "\n",
            "R = 0.5358203\n",
            "L1 = 0.0017130186222062793\n"
          ]
        },
        {
          "output_type": "stream",
          "name": "stderr",
          "text": [
            " 80%|████████  | 4016/5000 [00:30<00:07, 131.88it/s]"
          ]
        },
        {
          "output_type": "stream",
          "name": "stdout",
          "text": [
            "\n",
            "R = 0.53457034\n",
            "L1 = 0.0017130278049427349\n"
          ]
        },
        {
          "output_type": "stream",
          "name": "stderr",
          "text": [
            " 82%|████████▏ | 4116/5000 [00:31<00:06, 127.96it/s]"
          ]
        },
        {
          "output_type": "stream",
          "name": "stdout",
          "text": [
            "\n",
            "R = 0.53378904\n",
            "L1 = 0.0017127064091667936\n"
          ]
        },
        {
          "output_type": "stream",
          "name": "stderr",
          "text": [
            " 84%|████████▍ | 4215/5000 [00:31<00:06, 128.03it/s]"
          ]
        },
        {
          "output_type": "stream",
          "name": "stdout",
          "text": [
            "\n",
            "R = 0.53414065\n",
            "L1 = 0.0017126421300116053\n"
          ]
        },
        {
          "output_type": "stream",
          "name": "stderr",
          "text": [
            " 86%|████████▋ | 4316/5000 [00:32<00:05, 135.04it/s]"
          ]
        },
        {
          "output_type": "stream",
          "name": "stdout",
          "text": [
            "\n",
            "R = 0.53621095\n",
            "L1 = 0.001712763650436365\n"
          ]
        },
        {
          "output_type": "stream",
          "name": "stderr",
          "text": [
            " 88%|████████▊ | 4414/5000 [00:33<00:04, 129.09it/s]"
          ]
        },
        {
          "output_type": "stream",
          "name": "stdout",
          "text": [
            "\n",
            "R = 0.53578126\n",
            "L1 = 0.0017127544676999095\n"
          ]
        },
        {
          "output_type": "stream",
          "name": "stderr",
          "text": [
            " 91%|█████████ | 4527/5000 [00:34<00:03, 132.06it/s]"
          ]
        },
        {
          "output_type": "stream",
          "name": "stdout",
          "text": [
            "\n",
            "R = 0.5358203\n",
            "L1 = 0.0017125319371741395\n"
          ]
        },
        {
          "output_type": "stream",
          "name": "stderr",
          "text": [
            " 92%|█████████▏| 4618/5000 [00:34<00:02, 139.67it/s]"
          ]
        },
        {
          "output_type": "stream",
          "name": "stdout",
          "text": [
            "\n",
            "R = 0.5319531\n",
            "L1 = 0.0017127177367540873\n"
          ]
        },
        {
          "output_type": "stream",
          "name": "stderr",
          "text": [
            " 94%|█████████▍| 4722/5000 [00:35<00:02, 137.77it/s]"
          ]
        },
        {
          "output_type": "stream",
          "name": "stdout",
          "text": [
            "\n",
            "R = 0.53589845\n",
            "L1 = 0.0017128922087467416\n"
          ]
        },
        {
          "output_type": "stream",
          "name": "stderr",
          "text": [
            " 96%|█████████▋| 4821/5000 [00:36<00:01, 132.19it/s]"
          ]
        },
        {
          "output_type": "stream",
          "name": "stdout",
          "text": [
            "\n",
            "R = 0.53621095\n",
            "L1 = 0.0017125962163293282\n"
          ]
        },
        {
          "output_type": "stream",
          "name": "stderr",
          "text": [
            " 98%|█████████▊| 4919/5000 [00:37<00:00, 125.92it/s]"
          ]
        },
        {
          "output_type": "stream",
          "name": "stdout",
          "text": [
            "\n",
            "R = 0.5360547\n",
            "L1 = 0.0017125227544376844\n"
          ]
        },
        {
          "output_type": "stream",
          "name": "stderr",
          "text": [
            "100%|██████████| 5000/5000 [00:37<00:00, 132.16it/s]\n"
          ]
        }
      ],
      "source": [
        "for it in tqdm.trange(n_train_steps):\n",
        "\n",
        "    # finished trajectories\n",
        "    dones = torch.full((batch_size,), False, dtype=torch.bool).to(device)\n",
        "    # s_0\n",
        "    states = torch.zeros((batch_size, ndim), dtype=torch.long).to(device)\n",
        "\n",
        "    while torch.any(~dones) : #and i <= max_length_traj :\n",
        "        # Forward pass\n",
        "        current_batch_size = (~dones).sum()\n",
        "        non_terminal_states = states[~dones] # (current_batch_size, ndim)\n",
        "        \n",
        "        ### Uniform Forward Policy ### \n",
        "        PF_logits = torch.ones(current_batch_size, ndim+1).to(device) # (current_batch_size, ndim+1) \n",
        "        # Being in a edge cell ++ (a coordinate that is H), we can't move forward\n",
        "        edge_mask = (non_terminal_states == H).float() # (current_batch_size, ndim)\n",
        "        # but any cell can be a terminal cell\n",
        "        stop_action_mask = torch.zeros((current_batch_size, 1), device=device) # (current_batch_size, 1)\n",
        "        # Being in a edge cell, we can't move forward, but any cell can be a terminal cell\n",
        "        PF_mask = torch.cat([edge_mask, stop_action_mask], 1) # (current_batch_size, ndim+1)\n",
        "        # PF (with mask)\n",
        "        PF = (PF_logits + minus_inf*PF_mask).softmax(1) # (current_batch_size, ndim+1)\n",
        "        # choose next states\n",
        "        #actions = torch.from_numpy(np.random.choice(np.arange(ndim+1), size=(current_batch_size,1), p = PF))\n",
        "        actions = PF.multinomial(1)\n",
        "        #if i == max_length_traj : actions = torch.LongTensor(current_batch_size,1).fill_(ndim)\n",
        "        # select terminal states\n",
        "        terminates = (actions==ndim).squeeze(1)\n",
        "        for state in non_terminal_states[terminates]: \n",
        "            state_index = get_state_index(state.cpu())\n",
        "            if first_visit_random[state_index]<0: first_visit_random[state_index] = it\n",
        "            all_visited_random.append(state_index)\n",
        "        # Update dones\n",
        "        dones[~dones] |= terminates\n",
        "\n",
        "        # Update non completed trajectories : $s = (s^0, ..., s^i, ..., s^{n-1}) \\rightarrow s' = (s^0, ..., s^i + 1, ..., s^{n-1})$\n",
        "        with torch.no_grad():\n",
        "            non_terminates = actions[~terminates]\n",
        "            states[~dones] = states[~dones].scatter_add(1, non_terminates, torch.ones(non_terminates.shape, dtype=torch.long, device=device))\n",
        "\n",
        "    R = reward_function(states.float())\n",
        "    rewards_random.append(R.mean().cpu())\n",
        "    if it%100==0: \n",
        "        print(\"\\nR =\", np.array(rewards_random[-100:]).mean())\n",
        "        emp_dist = np.bincount(all_visited_random[-200000:], minlength=len(true_dist)).astype(float)\n",
        "        emp_dist /= emp_dist.sum()\n",
        "        l1 = np.abs(true_dist-emp_dist).mean()\n",
        "        print('L1 =', l1)\n",
        "        l1log_random.append((len(all_visited_random), l1))"
      ]
    },
    {
      "cell_type": "markdown",
      "source": [
        "### samples"
      ],
      "metadata": {
        "id": "HUtnGHiTZzux"
      }
    },
    {
      "cell_type": "code",
      "source": [
        "samples_random = np.zeros((H+1,)*ndim)"
      ],
      "metadata": {
        "id": "H-eBidKMZ2bV"
      },
      "execution_count": null,
      "outputs": []
    },
    {
      "cell_type": "code",
      "source": [
        "for it in tqdm.trange(500):\n",
        "\n",
        "    # finished trajectories\n",
        "    dones = torch.full((batch_size,), False, dtype=torch.bool).to(device)\n",
        "    # s_0\n",
        "    states = torch.zeros((batch_size, ndim), dtype=torch.long).to(device)\n",
        "\n",
        "    while torch.any(~dones) : #and i <= max_length_traj :\n",
        "        # Forward pass\n",
        "        current_batch_size = (~dones).sum()\n",
        "        non_terminal_states = states[~dones] # (current_batch_size, ndim)\n",
        "        \n",
        "        ### Uniform Forward Policy ### \n",
        "        PF_logits = torch.ones(current_batch_size, ndim+1).to(device) # (current_batch_size, ndim+1) \n",
        "        # Being in a edge cell ++ (a coordinate that is H), we can't move forward\n",
        "        edge_mask = (non_terminal_states == H).float() # (current_batch_size, ndim)\n",
        "        # but any cell can be a terminal cell\n",
        "        stop_action_mask = torch.zeros((current_batch_size, 1), device=device) # (current_batch_size, 1)\n",
        "        # Being in a edge cell, we can't move forward, but any cell can be a terminal cell\n",
        "        PF_mask = torch.cat([edge_mask, stop_action_mask], 1) # (current_batch_size, ndim+1)\n",
        "        # PF (with mask)\n",
        "        PF = (PF_logits + minus_inf*PF_mask).softmax(1) # (current_batch_size, ndim+1)\n",
        "        # choose next states\n",
        "        #actions = torch.from_numpy(np.random.choice(np.arange(ndim+1), size=(current_batch_size,1), p = PF))\n",
        "        actions = PF.multinomial(1)\n",
        "        #if i == max_length_traj : actions = torch.LongTensor(current_batch_size,1).fill_(ndim)\n",
        "        # select terminal states\n",
        "        terminates = (actions==ndim).squeeze(1)\n",
        " \n",
        "        # Update dones\n",
        "        dones[~dones] |= terminates\n",
        "\n",
        "        # Update non completed trajectories : $s = (s^0, ..., s^i, ..., s^{n-1}) \\rightarrow s' = (s^0, ..., s^i + 1, ..., s^{n-1})$\n",
        "        with torch.no_grad():\n",
        "            non_terminates = actions[~terminates]\n",
        "            states[~dones] = states[~dones].scatter_add(1, non_terminates, torch.ones(non_terminates.shape, dtype=torch.long, device=device))\n",
        "\n",
        "    if ndim == 8 :\n",
        "        for a,b,c,d,e,f,g,h in states: samples_random[a,b,c,d,e,f,g,h]+=1  \n",
        "    if ndim == 6 :\n",
        "        for a,b,c,d,e,f in states: samples_random[a,b,c,d,e,f]+=1         \n",
        "    if ndim == 4 :\n",
        "        for a,b,c,d in states: samples_random[a,b,c,d]+=1\n",
        "    elif ndim == 2 :\n",
        "        for a,b in states: samples_random[a,b]+=1"
      ],
      "metadata": {
        "id": "s4s7MyvSaOdE",
        "colab": {
          "base_uri": "https://localhost:8080/"
        },
        "outputId": "b339e877-a00b-4646-e77c-2a67db055e91"
      },
      "execution_count": null,
      "outputs": [
        {
          "output_type": "stream",
          "name": "stderr",
          "text": [
            "100%|██████████| 500/500 [00:02<00:00, 182.55it/s]\n"
          ]
        }
      ]
    },
    {
      "cell_type": "code",
      "source": [
        "if ndim == 2 :\n",
        "    print(samples_random / samples_random.sum())"
      ],
      "metadata": {
        "id": "xEwhQAO-alyd",
        "colab": {
          "base_uri": "https://localhost:8080/"
        },
        "outputId": "8fb15768-5528-4748-8f4b-5a359137338b"
      },
      "execution_count": null,
      "outputs": [
        {
          "output_type": "stream",
          "name": "stdout",
          "text": [
            "[[0.33409375 0.1101875  0.03796875 ... 0.         0.         0.        ]\n",
            " [0.11054688 0.07403125 0.03682813 ... 0.         0.         0.        ]\n",
            " [0.03571875 0.03742188 0.02507812 ... 0.         0.         0.        ]\n",
            " ...\n",
            " [0.         0.         0.         ... 0.         0.         0.        ]\n",
            " [0.         0.         0.         ... 0.         0.         0.        ]\n",
            " [0.         0.         0.         ... 0.         0.         0.        ]]\n"
          ]
        }
      ]
    },
    {
      "cell_type": "code",
      "source": [
        "if ndim == 2 :\n",
        "    plt.imshow(samples_random)\n",
        "elif ndim == 4 :\n",
        "    plt.imshow(samples_random[0,0])\n",
        "elif ndim == 6:  \n",
        "    plt.imshow(samples_random[0,0,0,0])\n",
        "elif ndim == 8:\n",
        "    plt.imshow(samples_random[0,0,0,0,0,0])"
      ],
      "metadata": {
        "id": "FcoZjxAxan3D",
        "colab": {
          "base_uri": "https://localhost:8080/",
          "height": 266
        },
        "outputId": "c956a559-2fb7-43c4-f282-4cf1111b7361"
      },
      "execution_count": null,
      "outputs": [
        {
          "output_type": "display_data",
          "data": {
            "text/plain": [
              "<Figure size 432x288 with 1 Axes>"
            ],
            "image/png": "[encoded data removed]"
          },
          "metadata": {
            "needs_background": "light"
          }
        }
      ]
    },
    {
      "cell_type": "code",
      "source": [
        "if ndim == 4 :\n",
        "    tmp = samples_random.sum((2,3))+samples_random.sum((0,1))+samples_random.sum((0,2))+samples_random.sum((1,3))+samples_random.sum((2,3))+samples_random.sum((0,3))\n",
        "    plt.imshow(tmp,vmin=0);plt.show()\n",
        "    plt.imshow(samples_random.sum((1,3)),vmin=0);plt.show()"
      ],
      "metadata": {
        "id": "fzTaQRbyZ9E7"
      },
      "execution_count": null,
      "outputs": []
    },
    {
      "cell_type": "markdown",
      "source": [
        "## Saves models"
      ],
      "metadata": {
        "id": "3XxLoeGvcQk5"
      }
    },
    {
      "cell_type": "code",
      "source": [
        "data = {\n",
        "    \"TB\" : [model_TB, logZ_TB, losses_TB, rewards_TB, logZ_TB_list, all_visited_TB, first_visit_TB, l1log_TB],\n",
        "    \"DB\" : [model_DB, logZ_DB, losses_DB, rewards_DB, logZ_DB_list, all_visited_DB, first_visit_DB, l1log_DB],\n",
        "    \"FM\" : [model_FM, logZ_FM, losses_FM, rewards_FM, logZ_FM_list, all_visited_FM, first_visit_FM, l1log_FM],\n",
        "    \"random\" : [None, None, None, rewards_random, None, all_visited_random, first_visit_random, l1log_random],\n",
        "}\n",
        "\n",
        "torch.save(data, \"/content/data_gfn.pth\")"
      ],
      "metadata": {
        "id": "mt4B-_etcSrR"
      },
      "execution_count": null,
      "outputs": []
    },
    {
      "cell_type": "markdown",
      "metadata": {
        "id": "5hRDhCYseBJF"
      },
      "source": [
        "## Plot"
      ]
    },
    {
      "cell_type": "code",
      "execution_count": null,
      "metadata": {
        "id": "Rdbrc2xkeC_C",
        "colab": {
          "base_uri": "https://localhost:8080/",
          "height": 973
        },
        "outputId": "b28e38c3-83c7-48b8-c205-f2976a3f4974"
      },
      "outputs": [
        {
          "output_type": "execute_result",
          "data": {
            "text/plain": [
              "<matplotlib.legend.Legend at 0x7f1255ca4190>"
            ]
          },
          "metadata": {},
          "execution_count": 72
        },
        {
          "output_type": "display_data",
          "data": {
            "text/plain": [
              "<Figure size 1728x1152 with 3 Axes>"
            ],
            "image/png": "[encoded data removed]"
          },
          "metadata": {
            "needs_background": "light"
          }
        }
      ],
      "source": [
        "figsize=(6*4,4*4)\n",
        "#fig, (ax1, ax2, ax3, ax4)  = plt.subplots(4, 1, sharex=False, sharey=False, figsize = figsize)\n",
        "fig, (ax1, ax2, ax3)  = plt.subplots(3, 1, sharex=False, sharey=False, figsize = figsize)\n",
        "fig.suptitle(\"Flownet agent : TB, DB, FM and Random angent\")\n",
        "\n",
        "## loss\n",
        "xs_TB = list(range(len(losses_TB)))\n",
        "ax1.plot(xs_TB, losses_TB, label=\"TB\")\n",
        "#-\n",
        "xs_DB = list(range(len(losses_DB)))\n",
        "ax1.plot(xs_DB, losses_DB, label=\"DB\")\n",
        "#-\n",
        "xs_FM = list(range(len(losses_FM)))\n",
        "ax1.plot(xs_FM, losses_FM, label=\"FM\")\n",
        "#-\n",
        "ax1.set(xlabel='episodes', ylabel='loss')\n",
        "ax1.set_title('loss per episodes : do not compare')\n",
        "ax1.legend()\n",
        "\n",
        "## rewards\n",
        "ax2.plot(xs_TB, rewards_TB, label=\"TB\")\n",
        "ax2.plot(xs_DB, rewards_DB, label=\"DB\")\n",
        "ax2.plot(xs_FM, rewards_FM, label=\"FM\")\n",
        "xs_random = list(range(len(rewards_random)))\n",
        "ax2.plot(xs_random, rewards_random, label=\"random\")\n",
        "ax2.set(xlabel='episodes', ylabel='reward')\n",
        "ax2.set_title('reward per episodes')\n",
        "ax2.legend()\n",
        "\n",
        "## empirical loss\n",
        "xs = [a[0] for a in l1log_TB]\n",
        "emp_loss_TB = [a[1] for a in l1log_TB]\n",
        "ax3.plot(xs, emp_loss_TB, label=\"TB\")\n",
        "#-\n",
        "xs = [a[0] for a in l1log_DB]\n",
        "emp_loss_DB = [a[1] for a in l1log_DB]\n",
        "ax3.plot(xs, emp_loss_DB, label=\"DB\")\n",
        "#-\n",
        "xs = [a[0] for a in l1log_FM]\n",
        "emp_loss_FM = [a[1] for a in l1log_FM]\n",
        "ax3.plot(xs, emp_loss_FM, label=\"FM\")\n",
        "#-\n",
        "xs = [a[0] for a in l1log_random]\n",
        "emp_loss_random = [a[1] for a in l1log_random]\n",
        "ax3.plot(xs, emp_loss_random, label=\"random\")\n",
        "#-\n",
        "ax3.set(xlabel='#states visited', ylabel='empirical loss')\n",
        "ax3.set_title('empirical loss per #state visited')\n",
        "ax3.legend()\n",
        "\n",
        "\n",
        "# ## empiciral loss\n",
        "# xs = list(range(len(emp_loss_TB)))\n",
        "# ax4.plot(xs, emp_loss_TB, label=\"TB\")\n",
        "# #-\n",
        "# xs = list(range(len(emp_loss_DB)))\n",
        "# ax4.plot(xs, emp_loss_DB, label=\"DB\")\n",
        "# #-\n",
        "# xs = list(range(len(emp_loss_FM)))\n",
        "# ax4.plot(xs, emp_loss_FM, label=\"FM\")\n",
        "# #-\n",
        "# xs = list(range(len(emp_loss_random)))\n",
        "# ax4.plot(xs, emp_loss_random, label=\"random\")\n",
        "# #-\n",
        "# ax4.set(xlabel='#states visited', ylabel='empirical loss')\n",
        "# ax4.set_title('empirical loss per epoch')\n",
        "# ax4.legend()"
      ]
    },
    {
      "cell_type": "markdown",
      "metadata": {
        "id": "MgRtXWYlHTUp"
      },
      "source": [
        "\n",
        "\n",
        "---\n",
        "\n"
      ]
    },
    {
      "cell_type": "code",
      "execution_count": null,
      "metadata": {
        "id": "sO1cdi-foPIi",
        "colab": {
          "base_uri": "https://localhost:8080/"
        },
        "outputId": "53104755-78a5-429d-bdda-bbe377d06070"
      },
      "outputs": [
        {
          "output_type": "stream",
          "name": "stdout",
          "text": [
            "tensor(36)\n"
          ]
        }
      ],
      "source": [
        "#threshold = R0+R1 if H < 8 else R0+R1+R2\n",
        "threshold = all_rewards.max()\n",
        "\n",
        "modes = all_rewards >= threshold\n",
        "n_modes = modes.sum()\n",
        "print(n_modes)\n",
        "\n",
        "max_steps = None\n",
        "#max_steps = 1000\n",
        "\n",
        "# modes_founds_TB, xs_TB = get_modes_founds_old(first_visit_TB, threshold, max_steps)\n",
        "# modes_founds_DB, xs_DB = get_modes_founds_old(first_visit_DB, threshold, max_steps)\n",
        "# modes_founds_FM, xs_FM = get_modes_founds_old(first_visit_FM, threshold, max_steps)\n",
        "# modes_founds_random, xs_random = get_modes_founds_old(first_visit_random, threshold, max_steps)\n",
        "\n",
        "modes_founds_TB, xs_TB = get_modes_founds(first_visit_TB, modes, max_steps)\n",
        "modes_founds_DB, xs_DB = get_modes_founds(first_visit_DB, modes, max_steps)\n",
        "modes_founds_FM, xs_FM = get_modes_founds(first_visit_FM, modes, max_steps)\n",
        "modes_founds_random, xs_random = get_modes_founds(first_visit_random, modes, max_steps) "
      ]
    },
    {
      "cell_type": "code",
      "execution_count": null,
      "metadata": {
        "id": "9igd35fCtGe5",
        "colab": {
          "base_uri": "https://localhost:8080/",
          "height": 747
        },
        "outputId": "38ba05da-e969-49f4-c515-d716460f2890"
      },
      "outputs": [
        {
          "output_type": "execute_result",
          "data": {
            "text/plain": [
              "<matplotlib.legend.Legend at 0x7f1253b27e50>"
            ]
          },
          "metadata": {},
          "execution_count": 76
        },
        {
          "output_type": "display_data",
          "data": {
            "text/plain": [
              "<Figure size 1440x864 with 1 Axes>"
            ],
            "image/png": "[encoded data removed]"
          },
          "metadata": {
            "needs_background": "light"
          }
        }
      ],
      "source": [
        "figsize=(5*4,3*4)\n",
        "fig, ax1 = plt.subplots(1, 1, sharex=False, sharey=False, figsize = figsize)\n",
        "\n",
        "ax1.plot(xs_TB, modes_founds_TB, label=\"TB\")\n",
        "ax1.plot(xs_DB, modes_founds_DB, label=\"DB\")\n",
        "#ax1.plot(xs_FM, modes_founds_FM, label=\"FM\")\n",
        "ax1.plot(xs_random, modes_founds_random, label=\"random\")\n",
        "ax1.set(xlabel='#states visited', ylabel='mode founds')\n",
        "ax1.set_title(f'n = {ndim}, horizon={H}, n_modes = {n_modes}')\n",
        "ax1.legend()"
      ]
    },
    {
      "cell_type": "markdown",
      "metadata": {
        "id": "pdlp1PWJh6M2"
      },
      "source": [
        "# Load pretrained models and sample with\n",
        "\n"
      ]
    },
    {
      "cell_type": "code",
      "execution_count": null,
      "metadata": {
        "id": "thISsNDJh68X"
      },
      "outputs": [],
      "source": [
        "import torch\n",
        "device = torch.device(\"cuda\" if torch.cuda.is_available() else \"cpu\")\n",
        "\n",
        "data = torch.load(\"/content/data_gfn.pth\", map_location=device)"
      ]
    },
    {
      "cell_type": "markdown",
      "source": [
        "Run the samples sections above"
      ],
      "metadata": {
        "id": "WMP5PRhmcl31"
      }
    }
  ],
  "metadata": {
    "colab": {
      "collapsed_sections": [],
      "name": "2_Hypergrid_env.ipynb",
      "toc_visible": true,
      "provenance": [],
      "include_colab_link": true
    },
    "kernelspec": {
      "display_name": "Python 3",
      "name": "python3"
    },
    "language_info": {
      "name": "python"
    }
  },
  "nbformat": 4,
  "nbformat_minor": 0
}