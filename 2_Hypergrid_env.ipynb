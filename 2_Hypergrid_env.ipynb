{
  "cells": [
    {
      "cell_type": "markdown",
      "metadata": {
        "id": "view-in-github",
        "colab_type": "text"
      },
      "source": [
        "<a href=\"https://colab.research.google.com/github/Tikquuss/GflowNets_Tutorial/blob/main/2_Hypergrid_env.ipynb\" target=\"_parent\"><img src=\"https://colab.research.google.com/assets/colab-badge.svg\" alt=\"Open In Colab\"/></a>"
      ]
    },
    {
      "cell_type": "markdown",
      "metadata": {
        "id": "khW_f8B3FcUH"
      },
      "source": [
        "@Author TODO\n",
        "\n",
        "I thank Nikolay Malkin (author of [3]) for having answered my questions: it's thanks to his explanations that I was able to make this implementation, and it's also from his code that I was able to make mine."
      ]
    },
    {
      "cell_type": "markdown",
      "metadata": {
        "id": "ZazpM4GzYJQx"
      },
      "source": [
        "In the  (hyper-)grid domain, the states are the cells of a n-dimensional hypercubic grid of side length $H$. The agent starts at coordinate $s = (0, 0, ..., 0)$ and is only allowed to increase coordinate $i$ (up to H, upon which the episode terminates). A stop action indicates to terminate the trajectory. There are many action sequences that lead to the same coordinate, making this Markov Decision Process a Directed Acyclic Graph. The reward for ending the trajectory in $s^\\tau$ is some $R(s^\\tau) > 0$.\n",
        "\n",
        "In short, the nonterminal states form a n-dimensional hypergrid with side length $H$ : $\\{ (s^0, ..., s^{n-1}) | s^i \\in \\{0, ..., H\\}, 0 \\leq i \\leq n-1 \\}$.\n",
        "\n",
        "\n",
        "\n",
        "In each state $s = (s^0, ..., s^{n-1})$, we have $n+1$ possible actions:\n",
        "- either choose a stop action and return the state as terminal, and the compute $R(s^\\tau = s)$ \n",
        "- or we choose one of its $n$ coordinates, and increment it : $s = (s^0, ..., s^i, ..., s^{n-1}) \\rightarrow s' = (s^0, ..., s^i + 1, ..., s^{n-1})$\n",
        "\n",
        "\n",
        "> Example : ndim=2 (H=2, ...)\n",
        "```\n",
        "|  ...   |   ...  | ...    | ...\n",
        "................................\n",
        "| (0, 2) | (1, 2) | (2, 2) | ...\n",
        "................................\n",
        "| (0, 1) | (1, 1) | (2, 1) | ...\n",
        "................................\n",
        "| (0, 0) | (1, 0) | (2, 0) | ...\n",
        "................................\n",
        "```\n",
        "\n",
        "See below for an illustration of the reward function."
      ]
    },
    {
      "cell_type": "markdown",
      "metadata": {
        "id": "CvM9Yb0QbjRD"
      },
      "source": [
        "# Env"
      ]
    },
    {
      "cell_type": "code",
      "execution_count": null,
      "metadata": {
        "id": "K35bNEEUb5WW"
      },
      "outputs": [],
      "source": [
        "import torch\n",
        "\n",
        "def build_grid(ndim, H):\n",
        "    \"\"\"\n",
        "    > Example : ndim=2 (H=2, ...)\n",
        "    ```\n",
        "    |  ...   |   ...  | ...    | ...\n",
        "    ---------------------------------\n",
        "    | (0, 2) | (1, 2) | (2, 2) | ...\n",
        "    ---------------------------------\n",
        "    | (0, 1) | (1, 1) | (2, 1) | ...\n",
        "    ---------------------------------\n",
        "    | (0, 0) | (1, 0) | (2, 0) | ...\n",
        "    ---------------------------------\n",
        "    ```\n",
        "    \"\"\"\n",
        "    # We have (H+1)^ndim points, each point being of dimension ndim.\n",
        "    grid_shape = (H+1,)*ndim+(ndim,) # (H+1, ..., H+1, ndim)\n",
        "    grid = torch.zeros(grid_shape)\n",
        "    for i in range(ndim):\n",
        "        grid_i = torch.linspace(start=0, end=H, steps=H+1)\n",
        "        for _ in range(i): grid_i = grid_i.unsqueeze(1)\n",
        "        grid[...,i] = grid_i\n",
        "    #return grid.view((H+1)**ndim,-1) # ((H+1)*ndim, ndim)\n",
        "    return grid"
      ]
    },
    {
      "cell_type": "markdown",
      "metadata": {
        "id": "d8MBwxw-Hcbv"
      },
      "source": [
        "## Reward function"
      ]
    },
    {
      "cell_type": "markdown",
      "metadata": {
        "id": "Q7xAcQtYHbHo"
      },
      "source": [
        "$$R(x) = R_0 + R_1 \\prod_{i=1}^{n} \\mathbb{I} (0.25 < |x_i/H - 0.5|) + R_2 \\prod_{i=1}^{n} \\mathbb{I} (0.3 < |x_i/H - 0.5| < 0.4)$$\n",
        "\n",
        "$$R_{cos}(x) = R_0 + R_1 \\prod_{i=1}^{n} (cos(50x_i)+1) f_{\\mathcal{N}} (5x_i) \\text{, } R_0 = 0.01  \\text{ and } f_{\\mathcal{N}} \\text{ is the normal p.d.f}$$\n",
        "\n",
        "$$\\dots$$"
      ]
    },
    {
      "cell_type": "code",
      "execution_count": null,
      "metadata": {
        "id": "Huqpm4c_HU9N"
      },
      "outputs": [],
      "source": [
        "import numpy as np\n",
        "from scipy.stats import norm\n",
        "\n",
        "def get_reward_function(H, R0, r_cos = False, R1 = 0.5, R2 = 2):\n",
        "    \"\"\" \n",
        "    x ~ (bs, n), 0 < r0 << r1 < r2\n",
        "    R1 : 1e-1, 1e-2, 1e-3 ...\n",
        "    \"\"\"\n",
        "    def R(x) :\n",
        "        ax = abs(x/H - 0.5)\n",
        "        return R0 + (0.25 < ax).prod(-1) * R1  + ((0.3 < ax) * (ax < 0.4)).prod(-1) * R2\n",
        "        #ax = abs(x/H*2 - 1)\n",
        "        #return R0 + (0.5 < ax).prod(-1) * R1  + ((0.6 < ax) * (ax < 0.8)).prod(-1) * R2\n",
        "\n",
        "    def R_cos(x) :\n",
        "        ax = abs(x/H - 0.5)\n",
        "        return R0 + ((np.cos(ax * 50) + 1) * norm.pdf(ax * 5)).prod(-1) * R1\n",
        "\n",
        "    return R if not r_cos else R_cos"
      ]
    },
    {
      "cell_type": "markdown",
      "metadata": {
        "id": "IQF1Hzmnw4OY"
      },
      "source": [
        "## sanity check"
      ]
    },
    {
      "cell_type": "code",
      "execution_count": null,
      "metadata": {
        "id": "wOzuGGRIgD2j",
        "colab": {
          "base_uri": "https://localhost:8080/"
        },
        "outputId": "8a7880a8-c5d4-4529-e7c5-a826ecb1297c"
      },
      "outputs": [
        {
          "output_type": "execute_result",
          "data": {
            "text/plain": [
              "array([ True,  True,  True,  True])"
            ]
          },
          "metadata": {},
          "execution_count": 3
        }
      ],
      "source": [
        "R0, R1, R2 = 1e-2, 0.5, 2\n",
        "R = get_reward_function(H=8, R0=R0, r_cos=False, R1=R1, R2=R2)\n",
        "s_f = np.array([[4, 4], [0,0], [8, 8], [1,1]])\n",
        "R(s_f) == np.array([R0, R0+R1, R0+R1, R0+R1+R2])"
      ]
    },
    {
      "cell_type": "code",
      "execution_count": null,
      "metadata": {
        "id": "-Zg7jpxxw6te",
        "colab": {
          "base_uri": "https://localhost:8080/"
        },
        "outputId": "74866d38-7244-4f8b-9bee-500bce6dfac1"
      },
      "outputs": [
        {
          "output_type": "execute_result",
          "data": {
            "text/plain": [
              "(tensor([[[0., 0.],\n",
              "          [1., 0.],\n",
              "          [2., 0.],\n",
              "          [3., 0.],\n",
              "          [4., 0.],\n",
              "          [5., 0.],\n",
              "          [6., 0.],\n",
              "          [7., 0.],\n",
              "          [8., 0.]],\n",
              " \n",
              "         [[0., 1.],\n",
              "          [1., 1.],\n",
              "          [2., 1.],\n",
              "          [3., 1.],\n",
              "          [4., 1.],\n",
              "          [5., 1.],\n",
              "          [6., 1.],\n",
              "          [7., 1.],\n",
              "          [8., 1.]],\n",
              " \n",
              "         [[0., 2.],\n",
              "          [1., 2.],\n",
              "          [2., 2.],\n",
              "          [3., 2.],\n",
              "          [4., 2.],\n",
              "          [5., 2.],\n",
              "          [6., 2.],\n",
              "          [7., 2.],\n",
              "          [8., 2.]],\n",
              " \n",
              "         [[0., 3.],\n",
              "          [1., 3.],\n",
              "          [2., 3.],\n",
              "          [3., 3.],\n",
              "          [4., 3.],\n",
              "          [5., 3.],\n",
              "          [6., 3.],\n",
              "          [7., 3.],\n",
              "          [8., 3.]],\n",
              " \n",
              "         [[0., 4.],\n",
              "          [1., 4.],\n",
              "          [2., 4.],\n",
              "          [3., 4.],\n",
              "          [4., 4.],\n",
              "          [5., 4.],\n",
              "          [6., 4.],\n",
              "          [7., 4.],\n",
              "          [8., 4.]],\n",
              " \n",
              "         [[0., 5.],\n",
              "          [1., 5.],\n",
              "          [2., 5.],\n",
              "          [3., 5.],\n",
              "          [4., 5.],\n",
              "          [5., 5.],\n",
              "          [6., 5.],\n",
              "          [7., 5.],\n",
              "          [8., 5.]],\n",
              " \n",
              "         [[0., 6.],\n",
              "          [1., 6.],\n",
              "          [2., 6.],\n",
              "          [3., 6.],\n",
              "          [4., 6.],\n",
              "          [5., 6.],\n",
              "          [6., 6.],\n",
              "          [7., 6.],\n",
              "          [8., 6.]],\n",
              " \n",
              "         [[0., 7.],\n",
              "          [1., 7.],\n",
              "          [2., 7.],\n",
              "          [3., 7.],\n",
              "          [4., 7.],\n",
              "          [5., 7.],\n",
              "          [6., 7.],\n",
              "          [7., 7.],\n",
              "          [8., 7.]],\n",
              " \n",
              "         [[0., 8.],\n",
              "          [1., 8.],\n",
              "          [2., 8.],\n",
              "          [3., 8.],\n",
              "          [4., 8.],\n",
              "          [5., 8.],\n",
              "          [6., 8.],\n",
              "          [7., 8.],\n",
              "          [8., 8.]]]), torch.Size([9, 9, 2]))"
            ]
          },
          "metadata": {},
          "execution_count": 4
        }
      ],
      "source": [
        "ndim, H = 2, 8\n",
        "grid = build_grid(ndim, H)\n",
        "grid, grid.shape"
      ]
    },
    {
      "cell_type": "code",
      "execution_count": null,
      "metadata": {
        "id": "y7JmngdEyN3Y",
        "colab": {
          "base_uri": "https://localhost:8080/"
        },
        "outputId": "4703dc01-497f-4e82-a7d3-36b82bd4f193"
      },
      "outputs": [
        {
          "output_type": "execute_result",
          "data": {
            "text/plain": [
              "tensor([[0.5100, 0.5100, 0.0100, 0.0100, 0.0100, 0.0100, 0.0100, 0.5100, 0.5100],\n",
              "        [0.5100, 2.5100, 0.0100, 0.0100, 0.0100, 0.0100, 0.0100, 2.5100, 0.5100],\n",
              "        [0.0100, 0.0100, 0.0100, 0.0100, 0.0100, 0.0100, 0.0100, 0.0100, 0.0100],\n",
              "        [0.0100, 0.0100, 0.0100, 0.0100, 0.0100, 0.0100, 0.0100, 0.0100, 0.0100],\n",
              "        [0.0100, 0.0100, 0.0100, 0.0100, 0.0100, 0.0100, 0.0100, 0.0100, 0.0100],\n",
              "        [0.0100, 0.0100, 0.0100, 0.0100, 0.0100, 0.0100, 0.0100, 0.0100, 0.0100],\n",
              "        [0.0100, 0.0100, 0.0100, 0.0100, 0.0100, 0.0100, 0.0100, 0.0100, 0.0100],\n",
              "        [0.5100, 2.5100, 0.0100, 0.0100, 0.0100, 0.0100, 0.0100, 2.5100, 0.5100],\n",
              "        [0.5100, 0.5100, 0.0100, 0.0100, 0.0100, 0.0100, 0.0100, 0.5100, 0.5100]])"
            ]
          },
          "metadata": {},
          "execution_count": 5
        }
      ],
      "source": [
        "R0, R1, R2 = 1e-2, 0.5, 2\n",
        "R = get_reward_function(H=H, R0=R0, r_cos=False, R1=R1, R2=R2)\n",
        "all_rewards = R(grid)\n",
        "all_rewards"
      ]
    },
    {
      "cell_type": "code",
      "execution_count": null,
      "metadata": {
        "id": "E_OvUqV4ij4r",
        "colab": {
          "base_uri": "https://localhost:8080/"
        },
        "outputId": "27f04012-30cb-492b-c05f-924d2ae59c02"
      },
      "outputs": [
        {
          "output_type": "execute_result",
          "data": {
            "text/plain": [
              "array([0.01234862, 0.01234862, 0.00748982, 0.00748982, 0.00748982,\n",
              "       0.00748982, 0.00748982, 0.01234862, 0.01234862, 0.01234862,\n",
              "       0.09124463, 0.00748982, 0.00748982, 0.00748982, 0.00748982,\n",
              "       0.00748982, 0.09124463, 0.01234862, 0.00748982, 0.00748982,\n",
              "       0.00748982, 0.00748982, 0.00748982, 0.00748982, 0.00748982,\n",
              "       0.00748982, 0.00748982, 0.00748982, 0.00748982, 0.00748982,\n",
              "       0.00748982, 0.00748982, 0.00748982, 0.00748982, 0.00748982,\n",
              "       0.00748982, 0.00748982, 0.00748982, 0.00748982, 0.00748982,\n",
              "       0.00748982, 0.00748982, 0.00748982, 0.00748982, 0.00748982,\n",
              "       0.00748982, 0.00748982, 0.00748982, 0.00748982, 0.00748982,\n",
              "       0.00748982, 0.00748982, 0.00748982, 0.00748982, 0.00748982,\n",
              "       0.00748982, 0.00748982, 0.00748982, 0.00748982, 0.00748982,\n",
              "       0.00748982, 0.00748982, 0.00748982, 0.01234862, 0.09124463,\n",
              "       0.00748982, 0.00748982, 0.00748982, 0.00748982, 0.00748982,\n",
              "       0.09124463, 0.01234862, 0.01234862, 0.01234862, 0.00748982,\n",
              "       0.00748982, 0.00748982, 0.00748982, 0.00748982, 0.01234862,\n",
              "       0.01234862], dtype=float32)"
            ]
          },
          "metadata": {},
          "execution_count": 6
        }
      ],
      "source": [
        "true_dist = all_rewards.flatten().softmax(0).cpu().numpy()\n",
        "true_dist"
      ]
    },
    {
      "cell_type": "code",
      "execution_count": null,
      "metadata": {
        "id": "7K3NeIhUIa0b",
        "colab": {
          "base_uri": "https://localhost:8080/"
        },
        "outputId": "982c941d-5ca9-4930-df76-1f5834db06be"
      },
      "outputs": [
        {
          "output_type": "execute_result",
          "data": {
            "text/plain": [
              "tensor([[0., 0.],\n",
              "        [1., 0.],\n",
              "        [2., 0.],\n",
              "        [3., 0.],\n",
              "        [4., 0.],\n",
              "        [5., 0.],\n",
              "        [6., 0.],\n",
              "        [7., 0.],\n",
              "        [8., 0.],\n",
              "        [0., 1.],\n",
              "        [1., 1.],\n",
              "        [2., 1.],\n",
              "        [3., 1.],\n",
              "        [4., 1.],\n",
              "        [5., 1.],\n",
              "        [6., 1.],\n",
              "        [7., 1.],\n",
              "        [8., 1.],\n",
              "        [0., 2.],\n",
              "        [1., 2.],\n",
              "        [2., 2.],\n",
              "        [3., 2.],\n",
              "        [4., 2.],\n",
              "        [5., 2.],\n",
              "        [6., 2.],\n",
              "        [7., 2.],\n",
              "        [8., 2.],\n",
              "        [0., 3.],\n",
              "        [1., 3.],\n",
              "        [2., 3.],\n",
              "        [3., 3.],\n",
              "        [4., 3.],\n",
              "        [5., 3.],\n",
              "        [6., 3.],\n",
              "        [7., 3.],\n",
              "        [8., 3.],\n",
              "        [0., 4.],\n",
              "        [1., 4.],\n",
              "        [2., 4.],\n",
              "        [3., 4.],\n",
              "        [4., 4.],\n",
              "        [5., 4.],\n",
              "        [6., 4.],\n",
              "        [7., 4.],\n",
              "        [8., 4.],\n",
              "        [0., 5.],\n",
              "        [1., 5.],\n",
              "        [2., 5.],\n",
              "        [3., 5.],\n",
              "        [4., 5.],\n",
              "        [5., 5.],\n",
              "        [6., 5.],\n",
              "        [7., 5.],\n",
              "        [8., 5.],\n",
              "        [0., 6.],\n",
              "        [1., 6.],\n",
              "        [2., 6.],\n",
              "        [3., 6.],\n",
              "        [4., 6.],\n",
              "        [5., 6.],\n",
              "        [6., 6.],\n",
              "        [7., 6.],\n",
              "        [8., 6.],\n",
              "        [0., 7.],\n",
              "        [1., 7.],\n",
              "        [2., 7.],\n",
              "        [3., 7.],\n",
              "        [4., 7.],\n",
              "        [5., 7.],\n",
              "        [6., 7.],\n",
              "        [7., 7.],\n",
              "        [8., 7.],\n",
              "        [0., 8.],\n",
              "        [1., 8.],\n",
              "        [2., 8.],\n",
              "        [3., 8.],\n",
              "        [4., 8.],\n",
              "        [5., 8.],\n",
              "        [6., 8.],\n",
              "        [7., 8.],\n",
              "        [8., 8.]])"
            ]
          },
          "metadata": {},
          "execution_count": 7
        }
      ],
      "source": [
        "grid.view((H+1)**ndim,-1)"
      ]
    },
    {
      "cell_type": "markdown",
      "metadata": {
        "id": "t1SvIX6eIWcn"
      },
      "source": [
        "## Plots\n",
        "\n"
      ]
    },
    {
      "cell_type": "code",
      "execution_count": null,
      "metadata": {
        "id": "S4hL7XSrbVI-"
      },
      "outputs": [],
      "source": [
        "import pandas as pd\n",
        "import numpy as np\n",
        "from scipy.interpolate import griddata\n",
        "import matplotlib.pyplot as plt\n",
        "from matplotlib import cm\n",
        "import matplotlib.ticker as ticker\n",
        "\n",
        "def plot(x, y, z) :\n",
        "    \"\"\"https://stackoverflow.com/a/30539444/11814682\"\"\"\n",
        "    xyz = {'x': x, 'y': y, 'z': z}\n",
        "    # put the data into a pandas DataFrame (this is what my data looks like)\n",
        "    df = pd.DataFrame(xyz, index=range(len(xyz['x']))) \n",
        "\n",
        "    # re-create the 2D-arrays\n",
        "    x1 = np.linspace(df['x'].min(), df['x'].max(), len(df['x'].unique()))\n",
        "    y1 = np.linspace(df['y'].min(), df['y'].max(), len(df['y'].unique()))\n",
        "    x2, y2 = np.meshgrid(x1, y1)\n",
        "    z2 = griddata((df['x'], df['y']), df['z'], (x2, y2), method='cubic')\n",
        "\n",
        "    fig = plt.figure()\n",
        "    ax = fig.gca(projection='3d')\n",
        "    surf = ax.plot_surface(x2, y2, z2, rstride=1, cstride=1, cmap=cm.coolwarm, linewidth=0, antialiased=False)\n",
        "    #surf = ax.plot_surface(x2, y2, z2 / z.sum() - 1.5, rstride=1, cstride=1, cmap=cm.coolwarm, linewidth=0, antialiased=False)\n",
        "    ax.set_zlim(-1.01, 1.01)\n",
        "\n",
        "    ax.zaxis.set_major_locator(ticker.LinearLocator(10))\n",
        "    ax.zaxis.set_major_formatter(ticker.FormatStrFormatter('%.02f'))\n",
        "\n",
        "    fig.colorbar(surf, shrink=0.5, aspect=5)\n",
        "    plt.title('2D grid domain')\n",
        "\n",
        "    plt.show()"
      ]
    },
    {
      "cell_type": "code",
      "execution_count": null,
      "metadata": {
        "id": "7nSn8rG-ybyA"
      },
      "outputs": [],
      "source": [
        "H = 4\n",
        "N = 100\n",
        "x, y = np.linspace(start = 0, stop = H, num=N), np.linspace(start = 0, stop = H, num=N)\n",
        "xy = np.array(np.meshgrid(x, y)).T.reshape(-1,2) # (N*N,2)"
      ]
    },
    {
      "cell_type": "code",
      "execution_count": null,
      "metadata": {
        "id": "pWep961BygCl",
        "colab": {
          "base_uri": "https://localhost:8080/",
          "height": 497
        },
        "outputId": "ebb4cabf-b7b1-4331-d468-1d971d89cb8d"
      },
      "outputs": [
        {
          "output_type": "display_data",
          "data": {
            "text/plain": [
              "<Figure size 432x288 with 2 Axes>"
            ],
            "image/png": "[encoded data removed]"
          },
          "metadata": {
            "needs_background": "light"
          }
        },
        {
          "output_type": "display_data",
          "data": {
            "text/plain": [
              "<Figure size 432x288 with 2 Axes>"
            ],
            "image/png": "[encoded data removed]"
          },
          "metadata": {
            "needs_background": "light"
          }
        },
        {
          "output_type": "execute_result",
          "data": {
            "text/plain": [
              "(None, None)"
            ]
          },
          "metadata": {},
          "execution_count": 10
        }
      ],
      "source": [
        "R0, R1, R2 = 1e-2, 0.5, 1\n",
        "R = get_reward_function(H=H, R0=R0, r_cos=False, R1=R1, R2=R2)\n",
        "z = R(xy)\n",
        "x, y = xy[:,0], xy[:,1]\n",
        "plot(x, y, z), plot(x, y, z / z.sum())#, plot(x, y, z / np.log(z))"
      ]
    },
    {
      "cell_type": "code",
      "execution_count": null,
      "metadata": {
        "id": "7VmfNG56IgsW",
        "colab": {
          "base_uri": "https://localhost:8080/",
          "height": 497
        },
        "outputId": "335898a8-8d79-40da-efa0-d587c2a9a6be"
      },
      "outputs": [
        {
          "output_type": "display_data",
          "data": {
            "text/plain": [
              "<Figure size 432x288 with 2 Axes>"
            ],
            "image/png": "[encoded data removed]"
          },
          "metadata": {
            "needs_background": "light"
          }
        },
        {
          "output_type": "display_data",
          "data": {
            "text/plain": [
              "<Figure size 432x288 with 2 Axes>"
            ],
            "image/png": "[encoded data removed]"
          },
          "metadata": {
            "needs_background": "light"
          }
        },
        {
          "output_type": "execute_result",
          "data": {
            "text/plain": [
              "(None, None)"
            ]
          },
          "metadata": {},
          "execution_count": 11
        }
      ],
      "source": [
        "R0, R1 = 1e-2, 1\n",
        "R = get_reward_function(H=H, R0=R0, r_cos=True, R1=R1)\n",
        "z = R(xy)\n",
        "x, y = xy[:,0], xy[:,1]\n",
        "plot(x, y, z), plot(x, y, z / z.sum())#, plot(x, y, z / np.log(z))"
      ]
    },
    {
      "cell_type": "markdown",
      "metadata": {
        "id": "q8AJNkOFSnYD"
      },
      "source": [
        "# Gflownet agents"
      ]
    },
    {
      "cell_type": "code",
      "execution_count": null,
      "metadata": {
        "id": "YFyjvY51Smm-"
      },
      "outputs": [],
      "source": [
        "import torch\n",
        "import numpy as np\n",
        "import tqdm\n",
        "import pickle"
      ]
    },
    {
      "cell_type": "code",
      "execution_count": null,
      "metadata": {
        "id": "g8qMFhXjnJ7o",
        "colab": {
          "base_uri": "https://localhost:8080/"
        },
        "outputId": "893c0322-c6bd-4287-dac9-dccaa4c765be"
      },
      "outputs": [
        {
          "output_type": "stream",
          "name": "stdout",
          "text": [
            "total reward tensor(2.2500)\n"
          ]
        }
      ],
      "source": [
        "H =  4 # horizon\n",
        "#H =  8 # horizon\n",
        "#H =  100 # horizon\n",
        "ndim = 2\n",
        "#ndim = 4\n",
        "grid = build_grid(ndim, H) # (H, ...., H, ndim)\n",
        "grid = grid.view((H+1)**ndim,-1) # ((H+1)**ndim, ndim)\n",
        "\n",
        "R0, R1, R2 = 1e-2, 0.5, 2\n",
        "reward_function = get_reward_function(H=H, R0=R0, r_cos=False, R1=R1, R2=R2)\n",
        "#R0, R1 = 1e-2, 1\n",
        "#reward_function = get_reward_function(H, R0=R0, r_cos=True, R1=R1)\n",
        "\n",
        "all_rewards = reward_function(grid)\n",
        "#print('total reward', all_rewards.view(-1).logsumexp(0))\n",
        "print('total reward', all_rewards.view(-1).sum(0))\n",
        "true_dist = all_rewards.flatten().softmax(0).cpu().numpy()"
      ]
    },
    {
      "cell_type": "markdown",
      "source": [
        "\n",
        "\n",
        "## For debugging\n",
        "\n",
        "Once our model is trained, we will generate some terminal states, display their rewards and see if they match the figure below\n",
        "\n"
      ],
      "metadata": {
        "id": "f4Bj2MzEb9SR"
      }
    },
    {
      "cell_type": "code",
      "source": [
        "ar = all_rewards.reshape((H+1,)*ndim)"
      ],
      "metadata": {
        "id": "HmSriDYPb-_Q"
      },
      "execution_count": null,
      "outputs": []
    },
    {
      "cell_type": "code",
      "source": [
        "if ndim == 2 :\n",
        "  print(ar)"
      ],
      "metadata": {
        "id": "FAh5FWo9cAeA",
        "colab": {
          "base_uri": "https://localhost:8080/"
        },
        "outputId": "401bc24a-c3cc-469d-f30b-a175fcc23652"
      },
      "execution_count": null,
      "outputs": [
        {
          "output_type": "stream",
          "name": "stdout",
          "text": [
            "tensor([[0.5100, 0.0100, 0.0100, 0.0100, 0.5100],\n",
            "        [0.0100, 0.0100, 0.0100, 0.0100, 0.0100],\n",
            "        [0.0100, 0.0100, 0.0100, 0.0100, 0.0100],\n",
            "        [0.0100, 0.0100, 0.0100, 0.0100, 0.0100],\n",
            "        [0.5100, 0.0100, 0.0100, 0.0100, 0.5100]])\n"
          ]
        }
      ]
    },
    {
      "cell_type": "code",
      "source": [
        "if ndim == 2 :\n",
        "    plt.imshow(ar)\n",
        "else :\n",
        "    plt.imshow(ar[0,0])"
      ],
      "metadata": {
        "id": "muInUYalcD5M",
        "colab": {
          "base_uri": "https://localhost:8080/",
          "height": 265
        },
        "outputId": "b96a2520-6318-46a1-f238-8da34c1cf0f4"
      },
      "execution_count": null,
      "outputs": [
        {
          "output_type": "display_data",
          "data": {
            "text/plain": [
              "<Figure size 432x288 with 1 Axes>"
            ],
            "image/png": "[encoded data removed]"
          },
          "metadata": {
            "needs_background": "light"
          }
        }
      ]
    },
    {
      "cell_type": "code",
      "source": [
        "if ndim == 4 :\n",
        "    plt.imshow(ar.sum((0,1)),vmin=0);plt.show()"
      ],
      "metadata": {
        "id": "jqPj4YVzb6RB"
      },
      "execution_count": null,
      "outputs": []
    },
    {
      "cell_type": "markdown",
      "source": [
        "## Utils\n",
        "\n"
      ],
      "metadata": {
        "id": "xAZpA_gfcIuZ"
      }
    },
    {
      "cell_type": "code",
      "execution_count": null,
      "metadata": {
        "id": "KClCuI9ZjrCu"
      },
      "outputs": [],
      "source": [
        "def make_mlp(l, act=torch.nn.LeakyReLU(), tail=[]):\n",
        "    return torch.nn.Sequential(*(sum(\n",
        "        [[torch.nn.Linear(i, o)] + ([act] if n < len(l)-2 else [])\n",
        "         for n, (i, o) in enumerate(zip(l, l[1:]))], []) + tail))"
      ]
    },
    {
      "cell_type": "markdown",
      "metadata": {
        "id": "Hglj70P0yyH1"
      },
      "source": [
        "\n",
        "\n",
        "---\n",
        "**Re-execute the following cells each time H changes**\n"
      ]
    },
    {
      "cell_type": "code",
      "execution_count": null,
      "metadata": {
        "id": "1KptIGzLyWJd"
      },
      "outputs": [],
      "source": [
        "def one_hot_embedding(states, num_classes = H+1):\n",
        "    # states : (bs, ndim) -> (bs, embedding_dim), embedding_dim = num_classes x ndim\n",
        "    assert num_classes >= H + 1\n",
        "    return torch.nn.functional.one_hot(states, num_classes).view(states.shape[0],-1).float()"
      ]
    },
    {
      "cell_type": "markdown",
      "metadata": {
        "id": "TLOWUN2g2vVS"
      },
      "source": [
        "The following function allows to associate a unique index to each state of the grid environment.\\\n",
        "Given that a coordinate can take $H+1$ values (from $0$ to $H$), it is enough to write them in this base to ensure the uniqueness.\\\n",
        "$$Index \\bigg(s = (s_i)_{i=0}^{ndim-1} \\bigg) = \\sum_{i=0}^{ndim-1} s_i (H+1)^i $$\n",
        "To find a state given its index, just invoke `grid[index]`"
      ]
    },
    {
      "cell_type": "code",
      "execution_count": null,
      "metadata": {
        "id": "T_7z0-7S2SP-"
      },
      "outputs": [],
      "source": [
        "base_coordinates = (H+1)**torch.arange(ndim) # [(H+1)^0, ..., (H+1)^(ndim-1)]"
      ]
    },
    {
      "cell_type": "code",
      "execution_count": null,
      "metadata": {
        "id": "2sTWaeES2PGg"
      },
      "outputs": [],
      "source": [
        "def get_state_index(states):\n",
        "    \"\"\"\n",
        "    This function allows to associate a unique index to each state of the grid environment.\n",
        "    To find a state given its index, just invoke grid[state_index]\n",
        "    > params : \n",
        "        * states ~ Tensor(num_states, ndim), batch_size can be zero (for single state)\n",
        "    \"\"\"\n",
        "    state_index = (states*base_coordinates).sum().item()\n",
        "    return state_index # (num_states,)\n",
        "\n",
        "def get_state(indexes) :\n",
        "    \"\"\"\n",
        "    This function allows to find a state given its index\n",
        "    > params : \n",
        "        * indexes  ~ LongTensor(num_states,) or int (for single state)\n",
        "    \"\"\"\n",
        "    return grid[indexes] # (num_states, ndim)"
      ]
    },
    {
      "cell_type": "markdown",
      "metadata": {
        "id": "DS_8OrQ64p6B"
      },
      "source": [
        "sanity check"
      ]
    },
    {
      "cell_type": "code",
      "execution_count": null,
      "metadata": {
        "id": "2ifBm2hK4tHB"
      },
      "outputs": [],
      "source": [
        "for i, states in enumerate(grid) :\n",
        "    assert i == get_state_index(states)"
      ]
    },
    {
      "cell_type": "markdown",
      "metadata": {
        "id": "JylqGi9nyrLm"
      },
      "source": [
        "\n",
        "\n",
        "---\n",
        "\n"
      ]
    },
    {
      "cell_type": "code",
      "execution_count": null,
      "metadata": {
        "id": "eqh1pjOY_gRq"
      },
      "outputs": [],
      "source": [
        "from typing import List\n",
        "\n",
        "def get_modes_founds(first_visit : List[int], threshold : float = R2, max_steps : int = None) :\n",
        "    \"\"\"Calculates the modes (R >= threshold) found for each episode\"\"\"\n",
        "    n = max_steps if max_steps is not None else n_train_steps\n",
        "    xs = range(n)\n",
        "    #modes_founds = [(reward_function(torch.stack([get_state(s) for s in list(set(np.where(first_visit == i)[0]))])) >= threshold).sum() for i in xs]\n",
        "    \n",
        "    # ((first_visit<np.arange(n_train_steps).unsqueeze(1)) - (first_visit==-1)) * batch_size\n",
        "    # torch.from_numpy(first_visit) < torch.arange(n_train_steps).unsqueeze(1) & (torch.from_numpy(first_visit)!=-1)\n",
        "    modes_founds = [0]*n\n",
        "    for i in xs :\n",
        "        states_i = list(set(np.where((0 <= first_visit) & (first_visit <= i))[0]))\n",
        "        states_i = get_state(torch.LongTensor(states_i))\n",
        "        r = reward_function(states_i)\n",
        "        modes_founds[i] = (r >= threshold).sum().item()\n",
        "    xs = [(i+1)*batch_size for i in xs]\n",
        "    return modes_founds, xs"
      ]
    },
    {
      "cell_type": "markdown",
      "metadata": {
        "id": "JTGgqRae6Hw-"
      },
      "source": [
        "## Paramaters\n",
        "\n"
      ]
    },
    {
      "cell_type": "code",
      "execution_count": null,
      "metadata": {
        "id": "hd5CP3S_dBNU"
      },
      "outputs": [],
      "source": [
        "device = torch.device(\"cuda\" if torch.cuda.is_available() else \"cpu\")"
      ]
    },
    {
      "cell_type": "code",
      "execution_count": null,
      "metadata": {
        "id": "YGRmRS6Yoi08"
      },
      "outputs": [],
      "source": [
        "n_hid = 256\n",
        "n_layers = 2\n",
        "\n",
        "batch_size = 128\n",
        "\n",
        "inf = 1000000000\n",
        "minus_inf = -inf\n",
        "\n",
        "# set PB to uniform distribution (and learn just PF) or not \n",
        "uniform_PB = False"
      ]
    },
    {
      "cell_type": "code",
      "execution_count": null,
      "metadata": {
        "id": "cDnpwMYfvNgV"
      },
      "outputs": [],
      "source": [
        "#n_train_steps = 50000\n",
        "#n_train_steps = 5000\n",
        "n_train_steps = 1000\n",
        "#n_train_steps = 50"
      ]
    },
    {
      "cell_type": "markdown",
      "metadata": {
        "id": "2SNWpaimSv3C"
      },
      "source": [
        "## Trajectory Balance objective\n",
        "\n",
        "$$ \n",
        "\\mathcal{L}_{TB} \\big(\\tau = (s_0, ..., s_n = x) \\big) = \\bigg( log \\frac{Z_{\\theta} \\prod_{t=1}^{n} P_{F} (s_t | s_{t-1}; \\theta) }{R(x) \\prod_{t=1}^{n} P_{B} (s_{t-1} | s_t; \\theta) } \\bigg)^2\n",
        "\\\\= \\bigg[ log(Z_{\\theta}) + \\sum_{t=1}^{n} \\bigg( - log\\big( P_{B} (s_{t-1} | s_t; \\theta)\\big) + log\\big(P_{F} (s_t | s_{t-1}; \\theta)\\big) \\bigg) - log \\big(R(x)\\big) \\bigg]^2\n",
        "$$"
      ]
    },
    {
      "cell_type": "code",
      "execution_count": null,
      "metadata": {
        "id": "Lm-JHa4E1ee_",
        "colab": {
          "base_uri": "https://localhost:8080/"
        },
        "outputId": "c1ed9164-e77b-4e08-afd9-370877591567"
      },
      "outputs": [
        {
          "output_type": "execute_result",
          "data": {
            "text/plain": [
              "Sequential(\n",
              "  (0): Linear(in_features=10, out_features=256, bias=True)\n",
              "  (1): LeakyReLU(negative_slope=0.01)\n",
              "  (2): Linear(in_features=256, out_features=256, bias=True)\n",
              "  (3): LeakyReLU(negative_slope=0.01)\n",
              "  (4): Linear(in_features=256, out_features=5, bias=True)\n",
              ")"
            ]
          },
          "metadata": {},
          "execution_count": 27
        }
      ],
      "source": [
        "input_dim = ndim*(H+1) # embedding dim\n",
        "output_dim = 2*ndim+1 # ndim + 1 for P_F (+1 for stop action) and ndim for P_B \n",
        "model_TB = make_mlp([input_dim] + [n_hid] * n_layers + [output_dim]).to(device)\n",
        "logZ_TB = torch.zeros((1,)).to(device) # log (initial state flow), Z = 1\n",
        "optimizer = torch.optim.Adam([ {'params':model_TB.parameters(), 'lr':0.001}, {'params':[logZ_TB], 'lr':0.1} ])\n",
        "logZ_TB.requires_grad_()\n",
        "\n",
        "model_TB"
      ]
    },
    {
      "cell_type": "code",
      "execution_count": null,
      "metadata": {
        "id": "2tW5HHfX3oCZ"
      },
      "outputs": [],
      "source": [
        "losses_TB = []\n",
        "rewards_TB = []\n",
        "logZ_TB_list = []\n",
        "all_visited_TB = []\n",
        "first_visit_TB = -1 * np.ones_like(true_dist)\n",
        "l1log_TB = []"
      ]
    },
    {
      "cell_type": "code",
      "execution_count": null,
      "metadata": {
        "id": "_AIYVboU30Ho",
        "colab": {
          "base_uri": "https://localhost:8080/"
        },
        "outputId": "c201db38-f24a-4078-be21-ded14a1ecdf9"
      },
      "outputs": [
        {
          "output_type": "stream",
          "name": "stderr",
          "text": [
            "  1%|          | 6/1000 [00:00<00:33, 29.64it/s]"
          ]
        },
        {
          "output_type": "stream",
          "name": "stdout",
          "text": [
            "\n",
            "loss = 2.2698025703430176 logZ = -0.10000000149011612 R = 0.21312499\n",
            "L1 = 0.03845068573951721\n"
          ]
        },
        {
          "output_type": "stream",
          "name": "stderr",
          "text": [
            " 11%|█         | 107/1000 [00:02<00:19, 46.83it/s]"
          ]
        },
        {
          "output_type": "stream",
          "name": "stdout",
          "text": [
            "\n",
            "loss = 0.34206743211252616 logZ = 0.7997243404388428 R = 0.43406242\n",
            "L1 = 0.0483808496594429\n"
          ]
        },
        {
          "output_type": "stream",
          "name": "stderr",
          "text": [
            " 21%|██        | 206/1000 [00:04<00:16, 47.30it/s]"
          ]
        },
        {
          "output_type": "stream",
          "name": "stdout",
          "text": [
            "\n",
            "loss = 0.011511213357443921 logZ = 0.8064236640930176 R = 0.46589842\n",
            "L1 = 0.05108918299277623\n"
          ]
        },
        {
          "output_type": "stream",
          "name": "stderr",
          "text": [
            " 30%|███       | 305/1000 [00:06<00:14, 49.28it/s]"
          ]
        },
        {
          "output_type": "stream",
          "name": "stdout",
          "text": [
            "\n",
            "loss = 0.00026650345961570565 logZ = 0.8110118508338928 R = 0.4651172\n",
            "L1 = 0.051956431054791745\n"
          ]
        },
        {
          "output_type": "stream",
          "name": "stderr",
          "text": [
            " 41%|████      | 406/1000 [00:08<00:12, 47.52it/s]"
          ]
        },
        {
          "output_type": "stream",
          "name": "stdout",
          "text": [
            "\n",
            "loss = 7.092208709131853e-06 logZ = 0.8109246492385864 R = 0.4639453\n",
            "L1 = 0.05234437833774715\n"
          ]
        },
        {
          "output_type": "stream",
          "name": "stderr",
          "text": [
            " 51%|█████     | 510/1000 [00:10<00:10, 48.43it/s]"
          ]
        },
        {
          "output_type": "stream",
          "name": "stdout",
          "text": [
            "\n",
            "loss = 6.453124629879348e-08 logZ = 0.8109281659126282 R = 0.46488282\n",
            "L1 = 0.05260739656563053\n"
          ]
        },
        {
          "output_type": "stream",
          "name": "stderr",
          "text": [
            " 61%|██████    | 609/1000 [00:12<00:08, 48.73it/s]"
          ]
        },
        {
          "output_type": "stream",
          "name": "stdout",
          "text": [
            "\n",
            "loss = 3.355559935469543e-10 logZ = 0.8109304904937744 R = 0.46546876\n",
            "L1 = 0.05279848693065756\n"
          ]
        },
        {
          "output_type": "stream",
          "name": "stderr",
          "text": [
            " 71%|███████   | 707/1000 [00:14<00:05, 49.02it/s]"
          ]
        },
        {
          "output_type": "stream",
          "name": "stdout",
          "text": [
            "\n",
            "loss = 1.174744468368516e-12 logZ = 0.8109301924705505 R = 0.46445313\n",
            "L1 = 0.05291187676357985\n"
          ]
        },
        {
          "output_type": "stream",
          "name": "stderr",
          "text": [
            " 80%|████████  | 805/1000 [00:16<00:04, 44.18it/s]"
          ]
        },
        {
          "output_type": "stream",
          "name": "stdout",
          "text": [
            "\n",
            "loss = 4.274275378080006e-14 logZ = 0.8109302520751953 R = 0.4657422\n",
            "L1 = 0.053022703592027175\n"
          ]
        },
        {
          "output_type": "stream",
          "name": "stderr",
          "text": [
            " 91%|█████████ | 906/1000 [00:18<00:01, 47.64it/s]"
          ]
        },
        {
          "output_type": "stream",
          "name": "stdout",
          "text": [
            "\n",
            "loss = 3.6618486021211536e-14 logZ = 0.8109302520751953 R = 0.46402344\n",
            "L1 = 0.053078407928033366\n"
          ]
        },
        {
          "output_type": "stream",
          "name": "stderr",
          "text": [
            "100%|██████████| 1000/1000 [00:20<00:00, 48.85it/s]\n"
          ]
        }
      ],
      "source": [
        "for it in tqdm.trange(n_train_steps):\n",
        "    \n",
        "    # TB loss for each trajectory\n",
        "    loss_TB = torch.zeros((batch_size,)).to(device)\n",
        "    loss_TB += logZ_TB # see the equation above\n",
        "    # finished trajectories\n",
        "    dones = torch.full((batch_size,), False, dtype=torch.bool).to(device)\n",
        "    # s_0\n",
        "    states = torch.zeros((batch_size, ndim), dtype=torch.long).to(device)\n",
        "    # actions chosen at each step : we can choose the coordinate to increment (0 ... ndim-1), or choose to return the current state as terminal (ndim)\n",
        "    actions = None # (current_batch_size,)\n",
        "\n",
        "    while torch.any(~dones):\n",
        "\n",
        "        ### Forward pass ### \n",
        "        current_batch_size = (~dones).sum()\n",
        "        non_terminal_states = states[~dones] # (current_batch_size, ndim)\n",
        "        embed = one_hot_embedding(non_terminal_states) # (current_batch_size, input_dim)\n",
        "        logits = model_TB(embed) # (current_batch_size, output_dim) \n",
        "        \n",
        "        ### Backward Policy ### \n",
        "        PB_logits = logits[...,ndim+1:2*ndim+1] # (current_batch_size, ndim)\n",
        "        PB_logits = PB_logits * (0 if uniform_PB else 1) # (current_batch_size, ndim)\n",
        "        # Being in a edge cell -- (a zero coordinate), we can't move backward\n",
        "        edge_mask = (non_terminal_states == 0).float() # (current_batch_size, ndim)\n",
        "        logPB = (PB_logits + minus_inf*edge_mask).log_softmax(1) # (current_batch_size, ndim)\n",
        "        # add -logPB to the loss\n",
        "        if actions is not None: \n",
        "            \"\"\"\n",
        "            Gather along the parents' dimension (1) to select the logPB of the previously chosen actions, while avoiding the actions leading \n",
        "            to terminal states (action==ndim). The reason of using the previous chosen actions is that PB is calculated on the same trajectory as PF\n",
        "            See below for the calculation of `action`. We avoid actions leading to terminal states because a terminal state can't be parent of another \n",
        "            state\n",
        "            \"\"\"\n",
        "            loss_TB[~dones] -= logPB.gather(1, actions[actions != ndim].unsqueeze(1)).squeeze(1)\n",
        "\n",
        "        ### Forward Policy ### \n",
        "        PF_logits = logits[...,:ndim+1] # (current_batch_size, ndim+1) \n",
        "        # Being in a edge cell ++ (a coordinate that is H), we can't move forward\n",
        "        edge_mask = (non_terminal_states == H).float() # (current_batch_size, ndim)\n",
        "        # but any cell can be a terminal cell\n",
        "        stop_action_mask = torch.zeros((current_batch_size, 1), device=device) # (current_batch_size, 1)\n",
        "        # Being in a edge cell, we can't move forward, but any cell can be a terminal cell\n",
        "        PF_mask = torch.cat([edge_mask, stop_action_mask], 1) # (current_batch_size, ndim+1)\n",
        "        # logPF (with mask)\n",
        "        logPF = (PF_logits + minus_inf*PF_mask).log_softmax(1) # (current_batch_size, ndim+1)\n",
        "        # choose next states\n",
        "        sample_temperature = 1\n",
        "        #exp_weight = 0.\n",
        "        #sample_ins_probs = (1-exp_weight)*(logPF/sample_temperature).softmax(1) + exp_weight*(1-PF_mask) / (1-PF_mask+0.0000001).sum(1).unsqueeze(1) # (current_batch_size, ndim+1)\n",
        "        sample_ins_probs = (logPF/sample_temperature).softmax(1) # (current_batch_size, ndim+1)\n",
        "        #actions = torch.distributions.categorical.Categorical(probs = sample_ins_probs).sample() # (current_batch_size,)\n",
        "        #actions = torch.multinomial(probs = sample_ins_probs, 1).squeeze(1) # (current_batch_size,) # (current_batch_size,)\n",
        "        actions = sample_ins_probs.multinomial(1) # (current_batch_size,)\n",
        "        # add logPF to the loss : gather along the children's dimension (1) to select the logPF for the chosen actions\n",
        "        loss_TB[~dones] += logPF.gather(1, actions).squeeze(1)\n",
        "\n",
        "        ### select terminal states ### \n",
        "        terminates = (actions==ndim).squeeze(1)\n",
        "        for state in non_terminal_states[terminates]: \n",
        "            state_index = get_state_index(state.cpu())\n",
        "            if first_visit_TB[state_index]<0: first_visit_TB[state_index] = it\n",
        "            all_visited_TB.append(state_index)\n",
        "        \n",
        "        # Update dones\n",
        "        dones[~dones] |= terminates\n",
        "\n",
        "        # Update non completed trajectories : $s = (s^0, ..., s^i, ..., s^{n-1}) \\rightarrow s' = (s^0, ..., s^i + 1, ..., s^{n-1})$\n",
        "        with torch.no_grad():\n",
        "            non_terminates = actions[~terminates]\n",
        "            states[~dones] = states[~dones].scatter_add(1, non_terminates, torch.ones(non_terminates.shape, dtype=torch.long, device=device))\n",
        "        \n",
        "    R = reward_function(states.float())\n",
        "    loss_TB -= R.log()\n",
        "    loss = (loss_TB**2).sum()/batch_size\n",
        "\n",
        "    optimizer.zero_grad()\n",
        "    loss.backward()\n",
        "    optimizer.step()\n",
        "\n",
        "    losses_TB.append(loss.item())\n",
        "    rewards_TB.append(R.mean().cpu())\n",
        "    logZ_TB_list.append(logZ_TB.item())\n",
        "\n",
        "    if it%100==0: \n",
        "        print('\\nloss =', np.array(losses_TB[-100:]).mean(), 'logZ =', logZ_TB.item(), \"R =\", np.array(rewards_TB[-100:]).mean())\n",
        "        emp_dist = np.bincount(all_visited_TB[-200000:], minlength=len(true_dist)).astype(float)\n",
        "        emp_dist /= emp_dist.sum()\n",
        "        l1 = np.abs(true_dist-emp_dist).mean()\n",
        "        print('L1 =', l1)\n",
        "        l1log_TB.append((len(all_visited_TB), l1))"
      ]
    },
    {
      "cell_type": "markdown",
      "source": [
        "### samples"
      ],
      "metadata": {
        "id": "Tl-ijptUXCX2"
      }
    },
    {
      "cell_type": "code",
      "source": [
        "#model_TB, logZ_TB, losses_TB, rewards_TB, logZ_TB_list, all_visited_TB, first_visit_TB, l1log_TB = data[\"TB\"]"
      ],
      "metadata": {
        "id": "Ap8HubYzWRbG"
      },
      "execution_count": null,
      "outputs": []
    },
    {
      "cell_type": "code",
      "source": [
        "samples_TB = np.zeros((H+1,)*ndim)"
      ],
      "metadata": {
        "id": "khlWcXktVTfw"
      },
      "execution_count": null,
      "outputs": []
    },
    {
      "cell_type": "code",
      "source": [
        "for it in tqdm.trange(500):\n",
        "    # finished trajectories\n",
        "    dones = torch.full((batch_size,), False, dtype=torch.bool).to(device)\n",
        "    # s_0\n",
        "    states = torch.zeros((batch_size, ndim), dtype=torch.long).to(device)\n",
        "    # actions chosen at each step : we can choose the coordinate to increment (0 ... ndim-1), or choose to return the current state as terminal (ndim)\n",
        "    actions = None # (current_batch_size,)\n",
        "\n",
        "    while torch.any(~dones):\n",
        "\n",
        "        ### Forward pass ### \n",
        "        current_batch_size = (~dones).sum()\n",
        "        non_terminal_states = states[~dones] # (current_batch_size, ndim)\n",
        "        embed = one_hot_embedding(non_terminal_states) # (current_batch_size, input_dim)\n",
        "        with torch.no_grad():\n",
        "            logits = model_TB(embed) # (current_batch_size, output_dim) \n",
        "        \n",
        "        ### Forward Policy ### \n",
        "        PF_logits = logits[...,:ndim+1] # (current_batch_size, ndim+1) \n",
        "        # Being in a edge cell ++ (a coordinate that is H), we can't move forward\n",
        "        edge_mask = (non_terminal_states == H).float() # (current_batch_size, ndim)\n",
        "        # but any cell can be a terminal cell\n",
        "        stop_action_mask = torch.zeros((current_batch_size, 1), device=device) # (current_batch_size, 1)\n",
        "        # Being in a edge cell, we can't move forward, but any cell can be a terminal cell\n",
        "        PF_mask = torch.cat([edge_mask, stop_action_mask], 1) # (current_batch_size, ndim+1)\n",
        "        # logPF (with mask)\n",
        "        logPF = (PF_logits + minus_inf*PF_mask).log_softmax(1) # (current_batch_size, ndim+1)\n",
        "        # choose next states\n",
        "        sample_temperature = 1\n",
        "        #exp_weight = 0.\n",
        "        #sample_ins_probs = (1-exp_weight)*(logPF/sample_temperature).softmax(1) + exp_weight*(1-PF_mask) / (1-PF_mask+0.0000001).sum(1).unsqueeze(1) # (current_batch_size, ndim+1)\n",
        "        sample_ins_probs = (logPF/sample_temperature).softmax(1) # (current_batch_size, ndim+1)\n",
        "        #actions = torch.distributions.categorical.Categorical(probs = sample_ins_probs).sample() # (current_batch_size,)\n",
        "        #actions = torch.multinomial(probs = sample_ins_probs, 1).squeeze(1) # (current_batch_size,) # (current_batch_size,)\n",
        "        actions = sample_ins_probs.multinomial(1) # (current_batch_size,)\n",
        "        \n",
        "        ### select terminal states ### \n",
        "        terminates = (actions==ndim).squeeze(1)\n",
        "        \n",
        "        # Update dones\n",
        "        dones[~dones] |= terminates\n",
        "        \n",
        "        # Update non completed trajectories : $s = (s^0, ..., s^i, ..., s^{n-1}) \\rightarrow s' = (s^0, ..., s^i + 1, ..., s^{n-1})$\n",
        "        with torch.no_grad():\n",
        "            non_terminates = actions[~terminates]\n",
        "            states[~dones] = states[~dones].scatter_add(1, non_terminates, torch.ones(non_terminates.shape, dtype=torch.long, device=device))\n",
        "    \n",
        "    if ndim == 4 :\n",
        "        for a,b,c,d in states: samples_TB[a,b,c,d]+=1\n",
        "    elif ndim == 2 :\n",
        "        for a,b in states: samples_TB[a,b]+=1\n"
      ],
      "metadata": {
        "id": "90YqlU5sVrcf",
        "colab": {
          "base_uri": "https://localhost:8080/"
        },
        "outputId": "8cc381b6-9bab-4b15-e667-68e01e476b01"
      },
      "execution_count": null,
      "outputs": [
        {
          "output_type": "stream",
          "name": "stderr",
          "text": [
            "100%|██████████| 500/500 [00:04<00:00, 124.79it/s]\n"
          ]
        }
      ]
    },
    {
      "cell_type": "code",
      "source": [
        "if ndim == 2 :\n",
        "    print(samples_TB / samples_TB.sum())"
      ],
      "metadata": {
        "id": "fkFt2bknWnZ7",
        "colab": {
          "base_uri": "https://localhost:8080/"
        },
        "outputId": "189b16f3-3ff8-44c9-85ed-6af4bc00dcc9"
      },
      "execution_count": null,
      "outputs": [
        {
          "output_type": "stream",
          "name": "stdout",
          "text": [
            "[[0.22776562 0.00453125 0.00473437 0.00420313 0.22626562]\n",
            " [0.00403125 0.00426563 0.005125   0.00470312 0.00434375]\n",
            " [0.00423438 0.00457812 0.0044375  0.0041875  0.00398438]\n",
            " [0.0045     0.0043125  0.00470312 0.00442187 0.00484375]\n",
            " [0.228125   0.00465625 0.00425    0.00403125 0.22476562]]\n"
          ]
        }
      ]
    },
    {
      "cell_type": "code",
      "source": [
        "if ndim == 2 :\n",
        "    plt.imshow(samples_TB)\n",
        "else :\n",
        "    plt.imshow(samples_TB[0,0])"
      ],
      "metadata": {
        "id": "qSj-PCCBWsOa",
        "colab": {
          "base_uri": "https://localhost:8080/",
          "height": 265
        },
        "outputId": "42b903fb-83d2-4426-d467-7496996b9153"
      },
      "execution_count": null,
      "outputs": [
        {
          "output_type": "display_data",
          "data": {
            "text/plain": [
              "<Figure size 432x288 with 1 Axes>"
            ],
            "image/png": "[encoded data removed]"
          },
          "metadata": {
            "needs_background": "light"
          }
        }
      ]
    },
    {
      "cell_type": "code",
      "source": [
        "if ndim == 4 :\n",
        "    tmp = samples_TB.sum((2,3))+samples_TB.sum((0,1))+samples_TB.sum((0,2))+samples_TB.sum((1,3))+samples_TB.sum((2,3))+samples_TB.sum((0,3))\n",
        "    plt.imshow(tmp,vmin=0);plt.show()\n",
        "    plt.imshow(samples_TB.sum((1,3)),vmin=0);plt.show()"
      ],
      "metadata": {
        "id": "e8mhX3YgWmBE"
      },
      "execution_count": null,
      "outputs": []
    },
    {
      "cell_type": "markdown",
      "metadata": {
        "id": "4PbkKf2BZCA2"
      },
      "source": [
        "## Detailed balance objective\n",
        "\n",
        "$$ \n",
        "\\mathcal{L}_{DB} \\big(s, s' \\big) = \\left\\{\n",
        "    \\begin{array}{ll}\n",
        "        \\bigg( log \\frac{F_{\\theta}(s) P_{F} (s' | s; \\theta)}{R(s') P_{B} (s | s'; \\theta) } \\bigg)^2 & \\mbox{if } s' \\mbox{ terminal} \\\\\n",
        "        \\bigg( log \\frac{F_{\\theta}(s) P_{F} (s' | s; \\theta) }{F_{\\theta}(s') P_{B} (s | s'; \\theta) } \\bigg)^2 & \\mbox{else.}\n",
        "    \\end{array}\n",
        "\\right. \n",
        "\\\\= \\left\\{\n",
        "    \\begin{array}{ll}\n",
        "        \\bigg[ log(F_{\\theta} (s)) - log\\big( P_{B} (s' | s; \\theta)\\big) + log\\big(P_{F} (s | s'; \\theta)\\big) - log(R(s'))  \\bigg]^2 & \\mbox{if } s' \\mbox{ terminal} \\\\\n",
        "        \\bigg[ log(F_{\\theta} (s)) - log(F_{\\theta} (s')) - log\\big( P_{B} (s' | s; \\theta)\\big) + log\\big(P_{F} (s | s'; \\theta)\\big) \\bigg]^2 & \\mbox{else.}\n",
        "    \\end{array}\n",
        "\\right. \n",
        "$$"
      ]
    },
    {
      "cell_type": "code",
      "execution_count": null,
      "metadata": {
        "id": "EtFFbSQbZR2p",
        "colab": {
          "base_uri": "https://localhost:8080/"
        },
        "outputId": "7b60558b-de69-4951-f729-5394a5e670cd"
      },
      "outputs": [
        {
          "output_type": "execute_result",
          "data": {
            "text/plain": [
              "Sequential(\n",
              "  (0): Linear(in_features=10, out_features=256, bias=True)\n",
              "  (1): LeakyReLU(negative_slope=0.01)\n",
              "  (2): Linear(in_features=256, out_features=256, bias=True)\n",
              "  (3): LeakyReLU(negative_slope=0.01)\n",
              "  (4): Linear(in_features=256, out_features=6, bias=True)\n",
              ")"
            ]
          },
          "metadata": {},
          "execution_count": 36
        }
      ],
      "source": [
        "input_dim = ndim*(H+1) # embedding dim\n",
        "output_dim = 2*ndim+2 # ndim + 1 for P_F (+1 for stop action), ndim for P_B, and 1 for F\n",
        "model_DB = make_mlp([input_dim] + [n_hid] * n_layers + [output_dim]).to(device)\n",
        "logZ_DB = torch.zeros((1,)).to(device) # log (initial state flow), Z = 1\n",
        "optimizer = torch.optim.Adam([{'params':model_DB.parameters(), 'lr':0.001}])\n",
        "\n",
        "model_DB"
      ]
    },
    {
      "cell_type": "code",
      "execution_count": null,
      "metadata": {
        "id": "SBcj3XsFeMTc"
      },
      "outputs": [],
      "source": [
        "losses_DB = []\n",
        "rewards_DB = []\n",
        "logZ_DB_list = []\n",
        "all_visited_DB = []\n",
        "first_visit_DB = -1 * np.ones_like(true_dist)\n",
        "l1log_DB = []"
      ]
    },
    {
      "cell_type": "code",
      "execution_count": null,
      "metadata": {
        "id": "fGVdJs21Uqys",
        "colab": {
          "base_uri": "https://localhost:8080/"
        },
        "outputId": "2d15b751-32ac-48ea-aa86-ac64ed9a9bc2"
      },
      "outputs": [
        {
          "output_type": "stream",
          "name": "stderr",
          "text": [
            "  1%|          | 8/1000 [00:00<00:28, 34.86it/s]"
          ]
        },
        {
          "output_type": "stream",
          "name": "stdout",
          "text": [
            "\n",
            "loss = 9.12228775024414 logZ = -0.07104812562465668 R = 0.20531249\n",
            "L1 = 0.04220068573951721\n"
          ]
        },
        {
          "output_type": "stream",
          "name": "stderr",
          "text": [
            " 11%|█         | 108/1000 [00:02<00:22, 38.82it/s]"
          ]
        },
        {
          "output_type": "stream",
          "name": "stdout",
          "text": [
            "\n",
            "loss = 1.0561129689216613 logZ = 0.7790125608444214 R = 0.40871087\n",
            "L1 = 0.04435238431290825\n"
          ]
        },
        {
          "output_type": "stream",
          "name": "stderr",
          "text": [
            " 21%|██        | 206/1000 [00:05<00:20, 38.72it/s]"
          ]
        },
        {
          "output_type": "stream",
          "name": "stdout",
          "text": [
            "\n",
            "loss = 0.024585392456501723 logZ = 0.8046982884407043 R = 0.46988282\n",
            "L1 = 0.04938209344053743\n"
          ]
        },
        {
          "output_type": "stream",
          "name": "stderr",
          "text": [
            " 31%|███       | 309/1000 [00:08<00:17, 39.20it/s]"
          ]
        },
        {
          "output_type": "stream",
          "name": "stdout",
          "text": [
            "\n",
            "loss = 0.0009779528822582506 logZ = 0.8116322159767151 R = 0.46441406\n",
            "L1 = 0.050779105473396396\n"
          ]
        },
        {
          "output_type": "stream",
          "name": "stderr",
          "text": [
            " 40%|████      | 405/1000 [00:10<00:16, 36.22it/s]"
          ]
        },
        {
          "output_type": "stream",
          "name": "stdout",
          "text": [
            "\n",
            "loss = 4.6449465805835644e-05 logZ = 0.8111069798469543 R = 0.4646875\n",
            "L1 = 0.05149026362453018\n"
          ]
        },
        {
          "output_type": "stream",
          "name": "stderr",
          "text": [
            " 50%|█████     | 505/1000 [00:13<00:13, 38.04it/s]"
          ]
        },
        {
          "output_type": "stream",
          "name": "stdout",
          "text": [
            "\n",
            "loss = 1.0541541446684732e-05 logZ = 0.8108890652656555 R = 0.46316406\n",
            "L1 = 0.05186887361153871\n"
          ]
        },
        {
          "output_type": "stream",
          "name": "stderr",
          "text": [
            " 60%|██████    | 605/1000 [00:15<00:10, 39.44it/s]"
          ]
        },
        {
          "output_type": "stream",
          "name": "stdout",
          "text": [
            "\n",
            "loss = 2.4391822803337957e-06 logZ = 0.810914933681488 R = 0.46113282\n",
            "L1 = 0.052067413719343064\n"
          ]
        },
        {
          "output_type": "stream",
          "name": "stderr",
          "text": [
            " 71%|███████   | 709/1000 [00:18<00:07, 39.09it/s]"
          ]
        },
        {
          "output_type": "stream",
          "name": "stdout",
          "text": [
            "\n",
            "loss = 3.9745658129142216e-07 logZ = 0.8109490871429443 R = 0.46351564\n",
            "L1 = 0.052263695593822365\n"
          ]
        },
        {
          "output_type": "stream",
          "name": "stderr",
          "text": [
            " 80%|████████  | 805/1000 [00:21<00:05, 37.87it/s]"
          ]
        },
        {
          "output_type": "stream",
          "name": "stdout",
          "text": [
            "\n",
            "loss = 5.1909804765770674e-08 logZ = 0.8109312653541565 R = 0.46488282\n",
            "L1 = 0.05243827787417448\n"
          ]
        },
        {
          "output_type": "stream",
          "name": "stderr",
          "text": [
            " 90%|█████████ | 904/1000 [00:23<00:02, 33.13it/s]"
          ]
        },
        {
          "output_type": "stream",
          "name": "stdout",
          "text": [
            "\n",
            "loss = 5.717499766411116e-09 logZ = 0.8109309077262878 R = 0.4640625\n",
            "L1 = 0.052559540003505045\n"
          ]
        },
        {
          "output_type": "stream",
          "name": "stderr",
          "text": [
            "100%|██████████| 1000/1000 [00:26<00:00, 38.06it/s]\n"
          ]
        }
      ],
      "source": [
        "for it in tqdm.trange(n_train_steps):\n",
        "    \n",
        "    # DB loss for each state of each trajectory : a trajectory can have a maximum length (#states) of `(H+1) + H + ... + H = (H+1) + (ndim-1)*H`\n",
        "    loss_DB = torch.zeros((batch_size, H+1+(ndim-1)*H)).to(device)\n",
        "    # finished trajectories\n",
        "    dones = torch.full((batch_size,), False, dtype=torch.bool).to(device)\n",
        "    # s_0\n",
        "    states = torch.zeros((batch_size, ndim), dtype=torch.long).to(device)\n",
        "    # actions chosen at each step : we can choose the coordinate to increment (0 ... ndim-1), or choose to return the current state as terminal (ndim)\n",
        "    actions = None # (current_batch_size,)\n",
        "\n",
        "    i = 0\n",
        "    while torch.any(~dones):\n",
        "\n",
        "        ### Forward pass ### \n",
        "        current_batch_size = (~dones).sum()\n",
        "        non_terminal_states = states[~dones] # (current_batch_size, ndim)\n",
        "        embed = one_hot_embedding(non_terminal_states) # (current_batch_size, input_dim)\n",
        "        logits = model_DB(embed) # (current_batch_size, output_dim) \n",
        "\n",
        "        ### logF ### \n",
        "        logF = logits[...,2*ndim+1] # (current_batch_size,)\n",
        "        loss_DB[~dones,i] += logF # add logF(s_i) to the loss L(s_i, s_{i+1})\n",
        "        if i>0: loss_DB[~dones,i-1] -= logF # add -logF(s_i) to the loss L(s_{i-1}, s_i)\n",
        "        #else : logZ_DB[:] = logF.mean().item() # initial state : Z = F(s_0)\n",
        "        else: logZ_DB[:] = logF[0].item() # initial state : Z = F(s_0)\n",
        "        \n",
        "        ### Backward Policy ### \n",
        "        PB_logits = logits[...,ndim+1:2*ndim+1] # (current_batch_size, ndim)\n",
        "        PB_logits = PB_logits * (0 if uniform_PB else 1) # (current_batch_size, ndim)\n",
        "        # Being in a edge cell -- (a zero coordinate), we can't move backward\n",
        "        edge_mask = (non_terminal_states == 0).float() # (current_batch_size, ndim)\n",
        "        logPB = (PB_logits + minus_inf*edge_mask).log_softmax(1) # (current_batch_size, ndim)\n",
        "        # add -logPB(s_{i-1} | s_i) to the loss L(s_{i-1}, s_i)\n",
        "        if actions is not None: \n",
        "            \"\"\"\n",
        "            Gather along the parents' dimension (1) to select the logPB of the previously chosen actions, while avoiding the actions leading \n",
        "            to terminal states (action==ndim). The reason of using the previous chosen actions () is that PB is calculated on the same trajectory as PF\n",
        "            See below for the calculation of `action`. We avoid actions leading to terminal states because a terminal state can't be parent of another \n",
        "            state\n",
        "            \"\"\"\n",
        "            loss_DB[~dones,i-1] -= logPB.gather(1, actions[actions!=ndim].unsqueeze(1)).squeeze(1)\n",
        "    \n",
        "        ### Forward Policy ### \n",
        "        PF_logits = logits[...,:ndim+1] # (current_batch_size, ndim+1) \n",
        "        # Being in a edge cell ++ (a coordinate that is H), we can't move forward\n",
        "        edge_mask = (non_terminal_states == H).float() # (current_batch_size, ndim)\n",
        "        # but any cell can be a terminal cell\n",
        "        stop_action_mask = torch.zeros((current_batch_size, 1), device=device) # (current_batch_size, 1)\n",
        "        # Being in a edge cell, we can't move forward, but any cell can be a terminal cell\n",
        "        PF_mask = torch.cat([edge_mask, stop_action_mask], 1) # (current_batch_size, ndim+1)\n",
        "        # logPF (with mask)\n",
        "        logPF = (PF_logits + minus_inf*PF_mask).log_softmax(1) # (current_batch_size, ndim+1)\n",
        "        # choose next states\n",
        "        sample_temperature = 1\n",
        "        #exp_weight= 0.\n",
        "        #sample_ins_probs = (1-exp_weight)*(logPF/sample_temperature).softmax(1) + exp_weight*(1-PF_mask) / (1-PF_mask+0.0000001).sum(1).unsqueeze(1) # (current_batch_size, ndim+1)\n",
        "        sample_ins_probs = (logPF/sample_temperature).softmax(1) # (current_batch_size, ndim+1)\n",
        "        #actions = torch.distributions.categorical.Categorical(probs = sample_ins_probs).sample() # (current_batch_size,)\n",
        "        #actions = torch.multinomial(probs = sample_ins_probs, 1).squeeze(1) # (current_batch_size,) # (current_batch_size,)\n",
        "        actions = sample_ins_probs.multinomial(1) # (current_batch_size,)\n",
        "        # add logPF(s_i | s_{i+1}) to the loss L(s_i, s_{i+1}) : gather along the children's dimension (1) to select the logPF for the chosen actions\n",
        "        loss_DB[~dones,i] += logPF.gather(1, actions).squeeze(1)\n",
        "\n",
        "        ### select terminal states ### \n",
        "        terminates = (actions==ndim).squeeze(1)\n",
        "        for state in non_terminal_states[terminates]: \n",
        "            state_index = get_state_index(state.cpu())\n",
        "            if first_visit_DB[state_index]<0: first_visit_DB[state_index] = it\n",
        "            all_visited_DB.append(state_index)\n",
        "\n",
        "        # Add reward for terminal state\n",
        "        termination_mask = ~dones\n",
        "        termination_mask[~dones] &= terminates\n",
        "        R_x = reward_function(non_terminal_states[terminates].float()) \n",
        "        loss_DB[termination_mask,i] -= (R_x + 1e-8).log()\n",
        "        \n",
        "        # Update dones\n",
        "        dones[~dones] |= terminates\n",
        "\n",
        "        # Update non completed trajectories : $s = (s^0, ..., s^i, ..., s^{n-1}) \\rightarrow s' = (s^0, ..., s^i + 1, ..., s^{n-1})$\n",
        "        with torch.no_grad():\n",
        "            non_terminates = actions[~terminates]\n",
        "            states[~dones] = states[~dones].scatter_add(1, non_terminates, torch.ones(non_terminates.shape, dtype=torch.long, device=device))\n",
        "            \n",
        "        i += 1\n",
        "\n",
        "    #lens = states.sum(1)+1 # number of actions taken for each trajectory\n",
        "    #loss = (loss_DB**2).sum()/lens.sum() \n",
        "    loss = (loss_DB**2).sum(dim=1).sum()/batch_size\n",
        "\n",
        "    optimizer.zero_grad()\n",
        "    loss.backward()\n",
        "    optimizer.step()\n",
        "\n",
        "    losses_DB.append(loss.item())\n",
        "    R = reward_function(states.float())\n",
        "    rewards_DB.append(R.mean().cpu())\n",
        "    logZ_DB_list.append(logZ_DB.item())\n",
        "\n",
        "    if it%100==0: \n",
        "        print('\\nloss =', np.array(losses_DB[-100:]).mean(), 'logZ =', logZ_DB.item(), \"R =\", np.array(rewards_DB[-100:]).mean())\n",
        "        emp_dist = np.bincount(all_visited_DB[-200000:], minlength=len(true_dist)).astype(float)\n",
        "        emp_dist /= emp_dist.sum()\n",
        "        l1 = np.abs(true_dist-emp_dist).mean()\n",
        "        print('L1 =', l1)\n",
        "        l1log_DB.append((len(all_visited_DB), l1))"
      ]
    },
    {
      "cell_type": "markdown",
      "source": [
        "### samples"
      ],
      "metadata": {
        "id": "AxJvxFOOXKoP"
      }
    },
    {
      "cell_type": "code",
      "source": [
        "#model_DB, logZ_DB, losses_DB, rewards_DB, logZ_DB_list, all_visited_DB, first_visit_DB, l1log_DB = data[\"TB\"]"
      ],
      "metadata": {
        "id": "Lxf4RPFYXMQ-"
      },
      "execution_count": null,
      "outputs": []
    },
    {
      "cell_type": "code",
      "source": [
        "samples_DB = np.zeros((H+1,)*ndim)"
      ],
      "metadata": {
        "id": "rQ2QcZQUXNh2"
      },
      "execution_count": null,
      "outputs": []
    },
    {
      "cell_type": "code",
      "source": [
        "for it in tqdm.trange(500):\n",
        "    # finished trajectories\n",
        "    dones = torch.full((batch_size,), False, dtype=torch.bool).to(device)\n",
        "    # s_0\n",
        "    states = torch.zeros((batch_size, ndim), dtype=torch.long).to(device)\n",
        "    # actions chosen at each step : we can choose the coordinate to increment (0 ... ndim-1), or choose to return the current state as terminal (ndim)\n",
        "    actions = None # (current_batch_size,)\n",
        "\n",
        "    while torch.any(~dones):\n",
        "\n",
        "        ### Forward pass ### \n",
        "        current_batch_size = (~dones).sum()\n",
        "        non_terminal_states = states[~dones] # (current_batch_size, ndim)\n",
        "        embed = one_hot_embedding(non_terminal_states) # (current_batch_size, input_dim)\n",
        "        with torch.no_grad():\n",
        "            logits = model_DB(embed) # (current_batch_size, output_dim) \n",
        "        \n",
        "        ### Forward Policy ### \n",
        "        PF_logits = logits[...,:ndim+1] # (current_batch_size, ndim+1) \n",
        "        # Being in a edge cell ++ (a coordinate that is H), we can't move forward\n",
        "        edge_mask = (non_terminal_states == H).float() # (current_batch_size, ndim)\n",
        "        # but any cell can be a terminal cell\n",
        "        stop_action_mask = torch.zeros((current_batch_size, 1), device=device) # (current_batch_size, 1)\n",
        "        # Being in a edge cell, we can't move forward, but any cell can be a terminal cell\n",
        "        PF_mask = torch.cat([edge_mask, stop_action_mask], 1) # (current_batch_size, ndim+1)\n",
        "        # logPF (with mask)\n",
        "        logPF = (PF_logits + minus_inf*PF_mask).log_softmax(1) # (current_batch_size, ndim+1)\n",
        "        # choose next states\n",
        "        sample_temperature = 1\n",
        "        #exp_weight= 0.\n",
        "        #sample_ins_probs = (1-exp_weight)*(logPF/sample_temperature).softmax(1) + exp_weight*(1-PF_mask) / (1-PF_mask+0.0000001).sum(1).unsqueeze(1) # (current_batch_size, ndim+1)\n",
        "        sample_ins_probs = (logPF/sample_temperature).softmax(1) # (current_batch_size, ndim+1)\n",
        "        #actions = torch.distributions.categorical.Categorical(probs = sample_ins_probs).sample() # (current_batch_size,)\n",
        "        #actions = torch.multinomial(probs = sample_ins_probs, 1).squeeze(1) # (current_batch_size,) # (current_batch_size,)\n",
        "        actions = sample_ins_probs.multinomial(1) # (current_batch_size,)\n",
        "\n",
        "        ### select terminal states ### \n",
        "        terminates = (actions==ndim).squeeze(1)\n",
        "\n",
        "        # Add reward for terminal state\n",
        "        termination_mask = ~dones\n",
        "        termination_mask[~dones] &= terminates\n",
        "        \n",
        "        # Update dones\n",
        "        dones[~dones] |= terminates\n",
        "\n",
        "        # Update non completed trajectories : $s = (s^0, ..., s^i, ..., s^{n-1}) \\rightarrow s' = (s^0, ..., s^i + 1, ..., s^{n-1})$\n",
        "        with torch.no_grad():\n",
        "            non_terminates = actions[~terminates]\n",
        "            states[~dones] = states[~dones].scatter_add(1, non_terminates, torch.ones(non_terminates.shape, dtype=torch.long, device=device))\n",
        "            \n",
        "    if ndim == 4 :\n",
        "        for a,b,c,d in states: samples_DB[a,b,c,d]+=1\n",
        "    elif ndim == 2 :\n",
        "        for a,b in states: samples_DB[a,b]+=1"
      ],
      "metadata": {
        "id": "8LAd9E_7XXPB",
        "colab": {
          "base_uri": "https://localhost:8080/"
        },
        "outputId": "6811249a-2a59-4d83-a67e-e4e0c348471e"
      },
      "execution_count": null,
      "outputs": [
        {
          "output_type": "stream",
          "name": "stderr",
          "text": [
            "100%|██████████| 500/500 [00:04<00:00, 121.81it/s]\n"
          ]
        }
      ]
    },
    {
      "cell_type": "code",
      "source": [
        "if ndim == 2 :\n",
        "    print(samples_DB / samples_DB.sum())"
      ],
      "metadata": {
        "id": "W2EyvbWWYgma",
        "colab": {
          "base_uri": "https://localhost:8080/"
        },
        "outputId": "ef1cc271-576b-46df-c4fb-4ea4e79c622e"
      },
      "execution_count": null,
      "outputs": [
        {
          "output_type": "stream",
          "name": "stdout",
          "text": [
            "[[0.22448438 0.0048125  0.0043125  0.00451562 0.22798437]\n",
            " [0.00460937 0.00451562 0.00498438 0.0045625  0.00475   ]\n",
            " [0.0045     0.00403125 0.00464062 0.00445312 0.0041875 ]\n",
            " [0.00407813 0.00454687 0.0043125  0.004      0.00489063]\n",
            " [0.22621875 0.00484375 0.00403125 0.00454687 0.2271875 ]]\n"
          ]
        }
      ]
    },
    {
      "cell_type": "code",
      "source": [
        "if ndim == 2 :\n",
        "    plt.imshow(samples_DB)\n",
        "else :\n",
        "    plt.imshow(samples_DB[0,0])"
      ],
      "metadata": {
        "id": "doESWla2YiB7",
        "colab": {
          "base_uri": "https://localhost:8080/",
          "height": 265
        },
        "outputId": "2d2fabec-75fd-41b7-a7a8-056a89fa8fe8"
      },
      "execution_count": null,
      "outputs": [
        {
          "output_type": "display_data",
          "data": {
            "text/plain": [
              "<Figure size 432x288 with 1 Axes>"
            ],
            "image/png": "[encoded data removed]"
          },
          "metadata": {
            "needs_background": "light"
          }
        }
      ]
    },
    {
      "cell_type": "code",
      "source": [
        "if ndim == 4 :\n",
        "    tmp = samples_DB.sum((2,3))+samples_DB.sum((0,1))+samples_DB.sum((0,2))+samples_DB.sum((1,3))+samples_DB.sum((2,3))+samples_DB.sum((0,3))\n",
        "    plt.imshow(tmp,vmin=0);plt.show()\n",
        "    plt.imshow(samples_DB.sum((1,3)),vmin=0);plt.show()"
      ],
      "metadata": {
        "id": "ZLiDLS3qYfXP"
      },
      "execution_count": null,
      "outputs": []
    },
    {
      "cell_type": "markdown",
      "metadata": {
        "id": "Ur9c77EudOEo"
      },
      "source": [
        "## Flow matching objective\n",
        "\n",
        "$$\n",
        "\\mathcal{L}_{FM} \\big(s\\big) = \\left\\{\n",
        "    \\begin{array}{ll}\n",
        "        \\bigg[ log \\bigg( \\epsilon + \\sum_{s'' \\rightarrow s} exp \\text{ } F_{\\theta}^{log}(s'', s) \\bigg) - log \\bigg( \\epsilon + R(s) \\bigg) \\bigg]^2 & \\mbox{if } s \\mbox{ terminal} \\\\\n",
        "        \\bigg[ log \\bigg( \\epsilon + \\sum_{s'' \\rightarrow s} exp \\text{ } F_{\\theta} ^{log}(s'', s) \\bigg) - log \\bigg( \\epsilon +  \\sum_{s \\rightarrow s'} exp \\text{ } F_{\\theta}^{log}(s, s') \\bigg) \\bigg]^2 & \\mbox{else (s non-initial)}\n",
        "    \\end{array}\n",
        "\\right. \n",
        "$$\n"
      ]
    },
    {
      "cell_type": "code",
      "execution_count": null,
      "metadata": {
        "id": "GsiKBgv0azN3",
        "colab": {
          "base_uri": "https://localhost:8080/"
        },
        "outputId": "d9e8bd3a-f1a1-4636-ff1d-581e452af47a"
      },
      "outputs": [
        {
          "output_type": "execute_result",
          "data": {
            "text/plain": [
              "tensor(0.0100)"
            ]
          },
          "metadata": {},
          "execution_count": 45
        }
      ],
      "source": [
        "epsilon = all_rewards.min()\n",
        "#epsilon = 1e-6\n",
        "epsilon"
      ]
    },
    {
      "cell_type": "markdown",
      "metadata": {
        "id": "PSKrCmcLrFrj"
      },
      "source": [
        "\n",
        "\n",
        "---\n",
        "\n",
        "\n",
        "The following functions allow, in a given state, to find all its parents, to evaluate the model on these parents, and to consider the flow from the parents to the current state."
      ]
    },
    {
      "cell_type": "code",
      "execution_count": null,
      "metadata": {
        "id": "hOnGql_p4O5R"
      },
      "outputs": [],
      "source": [
        "def get_parents(state) :\n",
        "    \"\"\"\n",
        "    Return the parents of a given state, and the trasitions leading from the parents to the current state\n",
        "    For `state = [3., 1.]`, `parents = [[2., 1.], [3., 0.]]` and `transitions = [0, 1]`\n",
        "    \"\"\"\n",
        "    assert state.sum() != 0.\n",
        "    parents, transitions = [], []\n",
        "    np = 0\n",
        "    for i in range(ndim) :\n",
        "        sp = state + 0\n",
        "        if sp[i] > 0 :\n",
        "            sp[i] -= 1\n",
        "            np += 1\n",
        "            # if sp.max() == H: # can't have a terminal parent\n",
        "            #     np -= 1\n",
        "            #     continue\n",
        "            parents.append(sp)\n",
        "            transitions.append(i)\n",
        "    if np == 0 : return None, None\n",
        "    return torch.stack(parents), torch.LongTensor(transitions)\n",
        "\n",
        "def get_inflow_old(state, model) :\n",
        "    \"\"\"Return the in flow of a given state\"\"\"\n",
        "    parents, transitions = get_parents(state)\n",
        "    embed = one_hot_embedding(parents.long()) # (n_parents, embedding_dim)\n",
        "    logF = model(embed) # (n_parents, ndim+1)\n",
        "    return logF.gather(1, transitions.unsqueeze(1).to(device)).exp().sum()"
      ]
    },
    {
      "cell_type": "markdown",
      "metadata": {
        "id": "brT7wz8X45P6"
      },
      "source": [
        "It is better to store the parents of each state to accelerate the training"
      ]
    },
    {
      "cell_type": "code",
      "execution_count": null,
      "metadata": {
        "id": "heevMh_d4PyZ"
      },
      "outputs": [],
      "source": [
        "all_parents = {get_state_index(state.long()) : get_parents(state) for state in grid if state.sum() != 0.}"
      ]
    },
    {
      "cell_type": "code",
      "execution_count": null,
      "metadata": {
        "id": "tSpBgIEarE1g"
      },
      "outputs": [],
      "source": [
        "def get_inflow(state, model, stop_action = False) :\n",
        "    \"\"\"Return the in flow of a given state\"\"\"\n",
        "    if stop_action:\n",
        "        #parents, transitions = state.unsqueeze(0), torch.LongTensor([ndim])         \n",
        "        # Any state can be a parent of the terminal state : the corresponding action is always ndim\n",
        "        parents = grid.clone()\n",
        "        transitions = torch.LongTensor([ndim]*grid.size(0)) \n",
        "    else :\n",
        "        state_id = get_state_index(state.long().cpu())\n",
        "        parents, transitions = all_parents.get(state_id, (None, None))\n",
        "    if parents is not None :\n",
        "        embed = one_hot_embedding(parents.long()) # (n_parents, embedding_dim)\n",
        "        logF = model(embed.to(device)) # (n_parents, ndim+1)\n",
        "        return logF.gather(1, transitions.unsqueeze(1).to(device)).exp().sum()\n",
        "    #else : return torch.tensor(0.)"
      ]
    },
    {
      "cell_type": "code",
      "source": [
        "# for debugging\n",
        "def parents_flow(non_terminal_states, actions, model):\n",
        "    a = actions[actions!=ndim]\n",
        "    parents = []\n",
        "    print(non_terminal_states.shape, a.shape)\n",
        "    print(non_terminal_states, actions)\n",
        "    for n, i in zip(non_terminal_states, a) :\n",
        "        s = n+0\n",
        "        s[i]-=1\n",
        "        parents.append(s)\n",
        "    parents = torch.stack(parents)\n",
        "    print(parents)\n",
        "    embed = one_hot_embedding(parents.long()) # (n_parents, embedding_dim)\n",
        "    logF = model(embed.to(device)) # (n_parents, ndim+1)\n",
        "    return logF.gather(1, a.unsqueeze(1).to(device)).exp().sum(dim=1)"
      ],
      "metadata": {
        "id": "Il70AnjGvonD"
      },
      "execution_count": null,
      "outputs": []
    },
    {
      "cell_type": "markdown",
      "metadata": {
        "id": "n_2XxX4IrrAc"
      },
      "source": [
        "\n",
        "\n",
        "---\n",
        "\n"
      ]
    },
    {
      "cell_type": "code",
      "execution_count": null,
      "metadata": {
        "id": "V9R1AZzjkKPB",
        "colab": {
          "base_uri": "https://localhost:8080/"
        },
        "outputId": "124d2043-1a8b-49fe-ec0a-75372fc25afc"
      },
      "outputs": [
        {
          "output_type": "execute_result",
          "data": {
            "text/plain": [
              "Sequential(\n",
              "  (0): Linear(in_features=10, out_features=256, bias=True)\n",
              "  (1): LeakyReLU(negative_slope=0.01)\n",
              "  (2): Linear(in_features=256, out_features=256, bias=True)\n",
              "  (3): LeakyReLU(negative_slope=0.01)\n",
              "  (4): Linear(in_features=256, out_features=3, bias=True)\n",
              ")"
            ]
          },
          "metadata": {},
          "execution_count": 50
        }
      ],
      "source": [
        "input_dim = ndim*(H+1) # embedding dim\n",
        "output_dim = ndim+1 # ndim + 1 for F (+1 for stop action)\n",
        "model_FM = make_mlp([input_dim] + [n_hid] * n_layers + [output_dim]).to(device)\n",
        "logZ_FM = torch.zeros((1,)).to(device) # log (initial state flow), Z = 1\n",
        "optimizer = torch.optim.Adam([{'params':model_FM.parameters(), 'lr':0.001}])\n",
        "\n",
        "model_FM"
      ]
    },
    {
      "cell_type": "code",
      "execution_count": null,
      "metadata": {
        "id": "fuA_CNgJtY_D"
      },
      "outputs": [],
      "source": [
        "losses_FM = []\n",
        "rewards_FM = []\n",
        "logZ_FM_list = []\n",
        "all_visited_FM = []\n",
        "first_visit_FM = -1 * np.ones_like(true_dist)\n",
        "l1log_FM = []"
      ]
    },
    {
      "cell_type": "code",
      "execution_count": null,
      "metadata": {
        "id": "ZvhX6Fry2aOi"
      },
      "outputs": [],
      "source": [
        "# #batch_size = 128\n",
        "# #batch_size = 8\n",
        "# #epsilon = 1e-2\n",
        "# for it in tqdm.trange(n_train_steps): \n",
        "# #for it in tqdm.trange(1000):    \n",
        "#     # FM loss for each state of each trajectory : a trajectory can have a maximum length (#states) of `(H+1) + H + ... + H = (H+1) + (ndim-1)*H`\n",
        "#     loss_FM = torch.zeros((batch_size, H+1+(ndim-1)*H +1)).to(device) # +1 for s_f\n",
        "#     # finished trajectories\n",
        "#     dones = torch.full((batch_size,), False, dtype=torch.bool).to(device)\n",
        "#     # s_0\n",
        "#     states = torch.zeros((batch_size, ndim), dtype=torch.long).to(device)\n",
        "#     # actions chosen at each step : we can choose the coordinate to increment (0 ... ndim-1), or choose to return the current state as terminal (ndim)\n",
        "#     actions = None # (current_batch_size,)\n",
        "\n",
        "#     current_batch_size = (~dones).sum()\n",
        "#     non_terminal_states = states[~dones] # (current_batch_size, ndim)\n",
        "\n",
        "#     i = 0\n",
        "#     while True:\n",
        "#         if actions is not None :\n",
        "#             ### select terminals and non-terminal actions ### \n",
        "#             # non-terminals\n",
        "#             terminates = (actions==ndim).squeeze(1)\n",
        "#             termination_mask = ~dones\n",
        "#             termination_mask[~dones] &= terminates\n",
        "#             # terminals\n",
        "#             non_terminates = (actions!=ndim).squeeze(1)\n",
        "#             non_termination_mask = ~dones\n",
        "#             non_termination_mask[~dones] &= non_terminates\n",
        "\n",
        "#             ### In Flow : non-initial and non-terminal state ### \n",
        "#             if non_terminates.any(): \n",
        "#                 #inFlow = torch.stack([get_inflow(state, model_FM) for state in non_terminal_states[non_terminates]]) # (current_batch_size,)\n",
        "#                 #inFlow = torch.tensor(0.) if i==0 else parents_flow(non_terminal_states[non_terminates], actions, model_FM)\n",
        "#                 inFlow = logPF.gather(1, actions[actions!=ndim].unsqueeze(1)).exp().sum(dim=1)\n",
        "#                 loss_FM[non_termination_mask,i] += (epsilon + inFlow).log()  \n",
        "\n",
        "#             ### In Flow : terminal state ###\n",
        "#             if terminates.any():\n",
        "#                 # add log_sumF(., s_i) to the loss L(s_i)   \n",
        "#                 inFlow = torch.stack([get_inflow(state, model_FM, stop_action=True) for state in non_terminal_states[terminates]]) # (current_batch_size,)\n",
        "#                 loss_FM[termination_mask,i] += (epsilon + inFlow).log() \n",
        "\n",
        "#             ### Out Flow for non-terminal states : add -log_sumF(s_i, .) to the loss L(s_i) ###\n",
        "#             #outFlow = logF[non_terminates].exp().sum(dim=-1)\n",
        "#             outFlow = logPF[non_terminates].exp().sum(dim=-1)\n",
        "#             loss_FM[non_termination_mask,i] -= (epsilon + outFlow).log()\n",
        "\n",
        "#             ### Out Flow for terminal states : Add -reward for terminal state ###\n",
        "#             R_x = reward_function(non_terminal_states[terminates].float())\n",
        "#             loss_FM[termination_mask,i] -= (epsilon + R_x).log()\n",
        "\n",
        "#             ### select terminal states ### \n",
        "#             for state in non_terminal_states[terminates]: \n",
        "#                 state_index = get_state_index(state.cpu())\n",
        "#                 if first_visit_FM[state_index]<0: first_visit_FM[state_index] = it\n",
        "#                 all_visited_FM.append(state_index)\n",
        "\n",
        "#             # Update dones\n",
        "#             dones[~dones] |= terminates\n",
        "\n",
        "#             # Update non completed trajectories : $s = (s^0, ..., s^i, ..., s^{n-1}) \\rightarrow s' = (s^0, ..., s^i + 1, ..., s^{n-1})$\n",
        "#             with torch.no_grad():\n",
        "#                 non_terminates = actions[~terminates]\n",
        "#                 states[~dones] = states[~dones].scatter_add(1, non_terminates, torch.ones(non_terminates.shape, dtype=torch.long, device=device))\n",
        "\n",
        "#             i += 1\n",
        "\n",
        "#         if torch.any(~dones) :\n",
        "#             ### Forward pass ### \n",
        "#             current_batch_size = (~dones).sum()\n",
        "#             non_terminal_states = states[~dones] # (current_batch_size, ndim)\n",
        "#             embed = one_hot_embedding(non_terminal_states) # (current_batch_size, input_dim)\n",
        "#             logF = model_FM(embed) # (current_batch_size, output_dim = ndim+1) \n",
        "\n",
        "#             ### Forward Policy : tempered version of the state-action flow F ### \n",
        "#             # Being in a edge cell ++ (a coordinate that is H), we can't move forward\n",
        "#             edge_mask = (non_terminal_states == H).float() # (current_batch_size, ndim)\n",
        "#             # but any cell can be a terminal cell\n",
        "#             stop_action_mask = torch.zeros((current_batch_size, 1), device=device) # (current_batch_size, 1)\n",
        "#             # Being in a edge cell, we can't move forward, but any cell can be a terminal cell\n",
        "#             PF_mask = torch.cat([edge_mask, stop_action_mask], 1) # (current_batch_size, ndim+1)\n",
        "#             # logPF (with mask)\n",
        "#             logPF = (logF + minus_inf*PF_mask).log_softmax(1) # (current_batch_size, ndim+1)\n",
        "#             # choose next states\n",
        "#             sample_temperature = 1\n",
        "#             #exp_weight= 0.\n",
        "#             #PF = (1-exp_weight)*(logPF/sample_temperature).softmax(1) + exp_weight*(1-PF_mask) / (1-PF_mask+0.0000001).sum(1).unsqueeze(1) # (current_batch_size, ndim+1)\n",
        "#             PF = (logPF/sample_temperature).softmax(1) # (current_batch_size, ndim+1)\n",
        "#             #actions = torch.distributions.categorical.Categorical(probs = PF).sample() # (current_batch_size,)\n",
        "#             #actions = torch.multinomial(probs = PF, 1).squeeze(1) # (current_batch_size,) # (current_batch_size,)\n",
        "#             actions = PF.multinomial(1) # (current_batch_size,)\n",
        "#         else :\n",
        "#             break\n",
        "\n",
        "#         if i==0 :\n",
        "#             # initial state\n",
        "#             #all_init_flow = logF.exp().sum(dim=1) # (current_batch_size,)\n",
        "#             all_init_flow = logPF.exp().sum(dim=1) # (current_batch_size,)\n",
        "#             #logZ_FM[:] = all_init_flow.mean().item() \n",
        "#             logZ_FM[:] = all_init_flow[0].item() # initial state)\n",
        "\n",
        "#     loss_FM = loss_FM[:,1:] # remove L(s_0)\n",
        "#     loss = (loss_FM**2).sum(dim=1).sum()/batch_size\n",
        "\n",
        "#     optimizer.zero_grad()\n",
        "#     loss.backward()\n",
        "#     optimizer.step()\n",
        "\n",
        "#     losses_FM.append(loss.item())\n",
        "#     R = reward_function(states.float())\n",
        "#     rewards_FM.append(R.mean().cpu())\n",
        "#     logZ_FM_list.append(logZ_FM.item())\n",
        "\n",
        "#     if it%100==0: \n",
        "#         print('\\nloss =', np.array(losses_FM[-100:]).mean(), 'logZ =', logZ_FM.item(), \"R =\", np.array(rewards_FM[-100:]).mean())\n",
        "#         emp_dist = np.bincount(all_visited_FM[-200000:], minlength=len(true_dist)).astype(float)\n",
        "#         emp_dist /= emp_dist.sum()\n",
        "#         l1 = np.abs(true_dist-emp_dist).mean()\n",
        "#         print('L1 =', l1)\n",
        "#         l1log_FM.append((len(all_visited_FM), l1))"
      ]
    },
    {
      "cell_type": "code",
      "source": [
        "for it in tqdm.trange(n_train_steps): \n",
        "#for it in tqdm.trange(100):    \n",
        "    # FM loss for each state of each trajectory : a trajectory can have a maximum length (#states) of `(H+1) + H + ... + H = (H+1) + (ndim-1)*H`\n",
        "    loss_FM = torch.zeros((batch_size, H+1+(ndim-1)*H)).to(device)\n",
        "    # finished trajectories\n",
        "    dones = torch.full((batch_size,), False, dtype=torch.bool).to(device)\n",
        "    # s_0\n",
        "    states = torch.zeros((batch_size, ndim), dtype=torch.long).to(device)\n",
        "    # actions chosen at each step : we can choose the coordinate to increment (0 ... ndim-1), or choose to return the current state as terminal (ndim)\n",
        "    actions = None # (current_batch_size,)\n",
        "\n",
        "    i = 0\n",
        "    while torch.any(~dones):\n",
        "\n",
        "        ### Forward pass ### \n",
        "        current_batch_size = (~dones).sum()\n",
        "        non_terminal_states = states[~dones] # (current_batch_size, ndim)\n",
        "        embed = one_hot_embedding(non_terminal_states) # (current_batch_size, input_dim)\n",
        "        logF = model_FM(embed) # (current_batch_size, output_dim = ndim+1) \n",
        "\n",
        "        ### Forward Policy : tempered version of the state-action flow F ### \n",
        "        # Being in a edge cell ++ (a coordinate that is H), we can't move forward\n",
        "        edge_mask = (non_terminal_states == H).float() # (current_batch_size, ndim)\n",
        "        # but any cell can be a terminal cell\n",
        "        stop_action_mask = torch.zeros((current_batch_size, 1), device=device) # (current_batch_size, 1)\n",
        "        # Being in a edge cell, we can't move forward, but any cell can be a terminal cell\n",
        "        PF_mask = torch.cat([edge_mask, stop_action_mask], 1) # (current_batch_size, ndim+1)\n",
        "        # logPF (with mask)\n",
        "        logPF = (logF + minus_inf*PF_mask).log_softmax(1) # (current_batch_size, ndim+1)\n",
        "        # choose next states\n",
        "        sample_temperature = 1\n",
        "        #exp_weight= 0.\n",
        "        #PF = (1-exp_weight)*(logPF/sample_temperature).softmax(1) + exp_weight*(1-PF_mask) / (1-PF_mask+0.0000001).sum(1).unsqueeze(1) # (current_batch_size, ndim+1)\n",
        "        PF = (logPF/sample_temperature).softmax(1) # (current_batch_size, ndim+1)\n",
        "        #actions = torch.distributions.categorical.Categorical(probs = PF).sample() # (current_batch_size,)\n",
        "        #actions = torch.multinomial(probs = PF, 1).squeeze(1) # (current_batch_size,) # (current_batch_size,)\n",
        "        actions = PF.multinomial(1) # (current_batch_size,)\n",
        "        \n",
        "        ### Out Flow for non-terminal states : add -log_sumF(s_i, .) to the loss L(s_i) ###\n",
        "        non_terminates = (actions!=ndim).squeeze(1)\n",
        "        termination_mask = ~dones\n",
        "        termination_mask[~dones] &= non_terminates\n",
        "        #outFlow = logF[non_terminates].exp().sum(dim=-1)\n",
        "        outFlow = logPF[non_terminates].exp().sum(dim=-1)\n",
        "        loss_FM[termination_mask,i] -= (epsilon + outFlow).log()\n",
        "\n",
        "        ### In Flow : non-initial and non-terminal state ###\n",
        "        if i!=0 :\n",
        "            # add log_sumF(., s_i) to the loss L(s_i)\n",
        "            #inFlow = torch.stack([get_inflow(state, model_FM) for state in non_terminal_states]) # (current_batch_size,)\n",
        "            #loss_FM[~dones,i] += (epsilon + inFlow).log()    \n",
        "            if non_terminates.any(): \n",
        "                inFlow = torch.stack([get_inflow(state, model_FM) for state in non_terminal_states[non_terminates]]) # (current_batch_size,)\n",
        "                loss_FM[termination_mask,i] += (epsilon + inFlow).log()      \n",
        "        else :\n",
        "            # initial state\n",
        "            #all_init_flow = logF.exp().sum(dim=1) # (current_batch_size,)\n",
        "            all_init_flow = logPF.exp().sum(dim=1) # (current_batch_size,)\n",
        "            #logZ_FM[:] = all_init_flow.mean().item() \n",
        "            logZ_FM[:] = all_init_flow[0].item() # initial state)\n",
        "\n",
        "        ### select terminal states ### \n",
        "        terminates = (actions==ndim).squeeze(1)\n",
        "        for state in non_terminal_states[terminates]: \n",
        "            state_index = get_state_index(state.cpu())\n",
        "            if first_visit_FM[state_index]<0: first_visit_FM[state_index] = it\n",
        "            all_visited_FM.append(state_index)\n",
        "\n",
        "        # Add -reward for terminal state : Out Flow for terminal states\n",
        "        termination_mask = ~dones\n",
        "        termination_mask[~dones] &= terminates\n",
        "        R_x = reward_function(non_terminal_states[terminates].float())\n",
        "        loss_FM[termination_mask,i] -= (epsilon + R_x).log()\n",
        "\n",
        "        ### In Flow : terminal state ###\n",
        "        if i!=0 and terminates.any():\n",
        "            # add log_sumF(., s_i) to the loss L(s_i)   \n",
        "            inFlow = torch.stack([get_inflow(state, model_FM, stop_action=True) for state in non_terminal_states[terminates]]) # (current_batch_size,)\n",
        "            #print(inFlow, \"===========\", non_terminal_states[terminates])\n",
        "            loss_FM[termination_mask,i] += (epsilon + inFlow).log()           \n",
        "\n",
        "        # Update dones\n",
        "        dones[~dones] |= terminates\n",
        "\n",
        "        # Update non completed trajectories : $s = (s^0, ..., s^i, ..., s^{n-1}) \\rightarrow s' = (s^0, ..., s^i + 1, ..., s^{n-1})$\n",
        "        with torch.no_grad():\n",
        "            non_terminates = actions[~terminates]\n",
        "            states[~dones] = states[~dones].scatter_add(1, non_terminates, torch.ones(non_terminates.shape, dtype=torch.long, device=device))\n",
        "\n",
        "        i += 1\n",
        "    \n",
        "    loss_FM = loss_FM[:,1:] # remove L(s_0)\n",
        "    loss = (loss_FM**2).sum(dim=1).sum()/batch_size\n",
        "\n",
        "    optimizer.zero_grad()\n",
        "    loss.backward()\n",
        "    optimizer.step()\n",
        "\n",
        "    losses_FM.append(loss.item())\n",
        "    R = reward_function(states.float())\n",
        "    rewards_FM.append(R.mean().cpu())\n",
        "    logZ_FM_list.append(logZ_FM.item())\n",
        "\n",
        "    if it%100==0: \n",
        "        print('\\nloss =', np.array(losses_FM[-100:]).mean(), 'logZ =', logZ_FM.item(), \"R =\", np.array(rewards_FM[-100:]).mean())\n",
        "        emp_dist = np.bincount(all_visited_FM[-200000:], minlength=len(true_dist)).astype(float)\n",
        "        emp_dist /= emp_dist.sum()\n",
        "        l1 = np.abs(true_dist-emp_dist).mean()\n",
        "        print('L1 =', l1)\n",
        "        l1log_FM.append((len(all_visited_FM), l1))"
      ],
      "metadata": {
        "id": "c6srvFCHXtGQ",
        "colab": {
          "base_uri": "https://localhost:8080/"
        },
        "outputId": "2296ecc8-d85d-4f2f-8357-d11afbd52574"
      },
      "execution_count": null,
      "outputs": [
        {
          "output_type": "stream",
          "name": "stderr",
          "text": [
            "  0%|          | 2/1000 [00:00<02:32,  6.54it/s]"
          ]
        },
        {
          "output_type": "stream",
          "name": "stdout",
          "text": [
            "\n",
            "loss = 30.88088607788086 logZ = 0.9999999403953552 R = 0.22484374\n",
            "L1 = 0.03907568573951721\n"
          ]
        },
        {
          "output_type": "stream",
          "name": "stderr",
          "text": [
            " 10%|█         | 101/1000 [00:44<07:10,  2.09it/s]"
          ]
        },
        {
          "output_type": "stream",
          "name": "stdout",
          "text": [
            "\n",
            "loss = 4.355542334318161 logZ = 1.0 R = 0.4235546\n",
            "L1 = 0.05721897769682478\n"
          ]
        },
        {
          "output_type": "stream",
          "name": "stderr",
          "text": [
            " 20%|██        | 201/1000 [01:30<06:05,  2.19it/s]"
          ]
        },
        {
          "output_type": "stream",
          "name": "stdout",
          "text": [
            "\n",
            "loss = 0.9859916377067566 logZ = 1.0 R = 0.45824218\n",
            "L1 = 0.06120591183800009\n"
          ]
        },
        {
          "output_type": "stream",
          "name": "stderr",
          "text": [
            " 30%|███       | 301/1000 [02:22<06:39,  1.75it/s]"
          ]
        },
        {
          "output_type": "stream",
          "name": "stdout",
          "text": [
            "\n",
            "loss = 1.008434517979622 logZ = 0.9999999403953552 R = 0.456875\n",
            "L1 = 0.06242121199832802\n"
          ]
        },
        {
          "output_type": "stream",
          "name": "stderr",
          "text": [
            " 40%|████      | 401/1000 [03:09<04:42,  2.12it/s]"
          ]
        },
        {
          "output_type": "stream",
          "name": "stdout",
          "text": [
            "\n",
            "loss = 0.9743653321266175 logZ = 0.9999999403953552 R = 0.45890626\n",
            "L1 = 0.06320649960986396\n"
          ]
        },
        {
          "output_type": "stream",
          "name": "stderr",
          "text": [
            " 50%|█████     | 501/1000 [03:56<03:43,  2.23it/s]"
          ]
        },
        {
          "output_type": "stream",
          "name": "stdout",
          "text": [
            "\n",
            "loss = 1.0112667667865753 logZ = 1.0 R = 0.45679688\n",
            "L1 = 0.06354855863396042\n"
          ]
        },
        {
          "output_type": "stream",
          "name": "stderr",
          "text": [
            " 60%|██████    | 601/1000 [04:43<03:02,  2.19it/s]"
          ]
        },
        {
          "output_type": "stream",
          "name": "stdout",
          "text": [
            "\n",
            "loss = 0.9885555344820023 logZ = 0.9999999403953552 R = 0.45824218\n",
            "L1 = 0.06380486590294988\n"
          ]
        },
        {
          "output_type": "stream",
          "name": "stderr",
          "text": [
            " 70%|███████   | 701/1000 [05:30<02:20,  2.13it/s]"
          ]
        },
        {
          "output_type": "stream",
          "name": "stdout",
          "text": [
            "\n",
            "loss = 0.9919478964805603 logZ = 0.9999999403953552 R = 0.4580078\n",
            "L1 = 0.06401122815938887\n"
          ]
        },
        {
          "output_type": "stream",
          "name": "stderr",
          "text": [
            " 80%|████████  | 801/1000 [06:17<01:37,  2.05it/s]"
          ]
        },
        {
          "output_type": "stream",
          "name": "stdout",
          "text": [
            "\n",
            "loss = 0.9993963533639908 logZ = 0.9999999403953552 R = 0.45773438\n",
            "L1 = 0.06416216288613023\n"
          ]
        },
        {
          "output_type": "stream",
          "name": "stderr",
          "text": [
            " 90%|█████████ | 901/1000 [07:04<00:47,  2.09it/s]"
          ]
        },
        {
          "output_type": "stream",
          "name": "stdout",
          "text": [
            "\n",
            "loss = 0.9823740464448929 logZ = 0.9999999403953552 R = 0.45859376\n",
            "L1 = 0.06429207991548172\n"
          ]
        },
        {
          "output_type": "stream",
          "name": "stderr",
          "text": [
            "100%|██████████| 1000/1000 [07:50<00:00,  2.12it/s]\n"
          ]
        }
      ]
    },
    {
      "cell_type": "code",
      "source": [
        "loss_FM[:,1:], loss_FM.shape"
      ],
      "metadata": {
        "colab": {
          "base_uri": "https://localhost:8080/"
        },
        "id": "zBS86NsgK-PF",
        "outputId": "36cc1983-610e-4ed1-eb88-1c3c0782a4b9"
      },
      "execution_count": null,
      "outputs": [
        {
          "output_type": "execute_result",
          "data": {
            "text/plain": [
              "(tensor([[-1.6515e-03, -3.3549e-04, -2.0655e-05,  3.9067e-05, -8.5738e-04,\n",
              "          -5.6446e-04, -3.2715e-01],\n",
              "         [ 8.4741e-05, -6.2599e-04, -9.1254e-04, -3.8142e-04, -6.2103e-04,\n",
              "          -4.8132e-04, -3.2715e-01],\n",
              "         [ 8.4741e-05, -6.2599e-04, -9.1254e-04, -1.4837e-03, -6.5020e-04,\n",
              "           2.9309e+00,  0.0000e+00],\n",
              "         [-2.9863e-03, -6.2599e-04, -9.1254e-04, -3.8142e-04, -6.2103e-04,\n",
              "          -4.8132e-04, -3.2715e-01],\n",
              "         [ 8.4741e-05, -3.3549e-04, -9.1254e-04, -3.8142e-04, -6.5020e-04,\n",
              "          -4.8132e-04, -3.2715e-01],\n",
              "         [ 8.4741e-05, -6.2599e-04, -7.3902e-04, -3.8142e-04, -6.2103e-04,\n",
              "          -4.8132e-04, -3.2715e-01],\n",
              "         [ 8.4741e-05, -6.2599e-04, -7.3902e-04, -3.4612e-04, -6.2103e-04,\n",
              "          -4.8132e-04, -3.2715e-01],\n",
              "         [ 8.4741e-05, -6.2599e-04, -7.3902e-04, -3.4612e-04, -6.2103e-04,\n",
              "          -4.8132e-04, -3.2715e-01],\n",
              "         [ 8.4741e-05, -6.2599e-04, -9.1254e-04, -1.4837e-03, -6.5020e-04,\n",
              "          -5.6446e-04, -3.2715e-01],\n",
              "         [ 8.4741e-05, -3.3549e-04, -2.0655e-05,  3.9067e-05, -8.5738e-04,\n",
              "          -5.6446e-04, -3.2715e-01],\n",
              "         [ 8.4741e-05, -6.2599e-04, -7.3902e-04, -3.4612e-04, -6.2103e-04,\n",
              "          -4.8132e-04, -3.2715e-01],\n",
              "         [ 8.4741e-05, -6.2599e-04, -7.3902e-04, -3.4612e-04, -6.2103e-04,\n",
              "          -4.8132e-04, -3.2715e-01],\n",
              "         [-2.9863e-03, -6.2599e-04, -7.3902e-04, -3.4612e-04, -6.2103e-04,\n",
              "           2.9309e+00,  0.0000e+00],\n",
              "         [-2.9863e-03, -2.9665e-03, -2.7752e-03, -3.4612e-04, -6.2103e-04,\n",
              "          -4.8132e-04, -3.2715e-01],\n",
              "         [-1.6515e-03, -3.3549e-04, -9.1254e-04, -1.4837e-03, -6.5020e-04,\n",
              "          -5.6446e-04, -3.2715e-01],\n",
              "         [-2.9863e-03, -2.9665e-03, -2.7752e-03, -3.4612e-04, -6.2103e-04,\n",
              "          -4.8132e-04, -3.2715e-01],\n",
              "         [-2.9863e-03, -2.9665e-03, -2.7752e-03, -3.4612e-04, -6.2103e-04,\n",
              "          -4.8132e-04, -3.2715e-01],\n",
              "         [-2.9863e-03, -2.9665e-03, -3.2715e-01,  0.0000e+00,  0.0000e+00,\n",
              "           0.0000e+00,  0.0000e+00],\n",
              "         [ 8.4741e-05, -3.3549e-04, -9.1254e-04, -1.4837e-03, -8.5738e-04,\n",
              "          -5.6446e-04, -3.2715e-01],\n",
              "         [-1.6515e-03, -3.3549e-04, -9.1254e-04, -1.4837e-03, -8.5738e-04,\n",
              "          -5.6446e-04, -3.2715e-01],\n",
              "         [-1.6515e-03, -8.5088e-04,  2.9309e+00,  0.0000e+00,  0.0000e+00,\n",
              "           0.0000e+00,  0.0000e+00],\n",
              "         [ 8.4741e-05, -6.2599e-04, -9.1254e-04, -3.8142e-04, -6.2103e-04,\n",
              "          -4.8132e-04, -3.2715e-01],\n",
              "         [ 8.4741e-05, -6.2599e-04, -9.1254e-04, -3.8142e-04, -6.5020e-04,\n",
              "          -5.6446e-04, -3.2715e-01],\n",
              "         [-1.6515e-03, -8.5088e-04, -1.5312e-03,  3.9067e-05, -8.5738e-04,\n",
              "          -5.6446e-04, -3.2715e-01],\n",
              "         [-1.6515e-03, -3.3549e-04, -2.0655e-05, -1.4837e-03, -8.5738e-04,\n",
              "          -5.6446e-04, -3.2715e-01],\n",
              "         [-1.6515e-03, -3.3549e-04, -9.1254e-04, -1.4837e-03, -6.5020e-04,\n",
              "          -4.8132e-04, -3.2715e-01],\n",
              "         [-2.9863e-03, -6.2599e-04, -9.1254e-04, -1.4837e-03, -6.5020e-04,\n",
              "           2.9309e+00,  0.0000e+00],\n",
              "         [-2.9863e-03, -2.9665e-03, -2.7752e-03, -3.4612e-04, -6.2103e-04,\n",
              "          -4.8132e-04, -3.2715e-01],\n",
              "         [-1.6515e-03, -3.3549e-04, -9.1254e-04, -1.4837e-03, -6.5020e-04,\n",
              "          -4.8132e-04, -3.2715e-01],\n",
              "         [ 8.4741e-05, -6.2599e-04, -7.3902e-04, -3.8142e-04, -6.2103e-04,\n",
              "          -4.8132e-04, -3.2715e-01],\n",
              "         [-2.9863e-03, -6.2599e-04, -9.1254e-04, -3.8142e-04, -6.5020e-04,\n",
              "          -5.6446e-04, -3.2715e-01],\n",
              "         [ 8.4741e-05, -3.3549e-04, -2.0655e-05, -1.4837e-03, -8.5738e-04,\n",
              "          -5.6446e-04, -3.2715e-01],\n",
              "         [ 8.4741e-05, -3.3549e-04, -2.0655e-05, -1.4837e-03, -6.5020e-04,\n",
              "          -4.8132e-04, -3.2715e-01],\n",
              "         [-2.9863e-03, -2.9665e-03, -2.7752e-03, -3.4612e-04, -6.2103e-04,\n",
              "          -4.8132e-04, -3.2715e-01],\n",
              "         [ 8.4741e-05, -3.3549e-04, -9.1254e-04, -1.4837e-03, -6.5020e-04,\n",
              "          -5.6446e-04, -3.2715e-01],\n",
              "         [-1.6515e-03, -8.5088e-04, -1.5312e-03,  3.9067e-05, -8.5738e-04,\n",
              "          -5.6446e-04, -3.2715e-01],\n",
              "         [ 8.4741e-05, -3.3549e-04, -9.1254e-04, -1.4837e-03, -8.5738e-04,\n",
              "          -5.6446e-04, -3.2715e-01],\n",
              "         [-2.9863e-03, -2.9665e-03, -2.7752e-03, -3.4612e-04, -6.2103e-04,\n",
              "          -4.8132e-04, -3.2715e-01],\n",
              "         [-2.9863e-03, -2.9665e-03, -2.7752e-03, -3.4612e-04, -6.2103e-04,\n",
              "          -4.8132e-04, -3.2715e-01],\n",
              "         [-2.9863e-03, -2.9665e-03, -2.7752e-03, -3.4612e-04, -6.2103e-04,\n",
              "          -4.8132e-04, -3.2715e-01],\n",
              "         [-1.6515e-03, -8.5088e-04, -1.5312e-03,  3.9067e-05, -8.5738e-04,\n",
              "          -5.6446e-04, -3.2715e-01],\n",
              "         [-1.6515e-03, -8.5088e-04, -1.5312e-03,  3.9067e-05, -8.5738e-04,\n",
              "          -5.6446e-04, -3.2715e-01],\n",
              "         [-1.6515e-03, -8.5088e-04, -1.5312e-03,  3.9067e-05, -8.5738e-04,\n",
              "          -5.6446e-04, -3.2715e-01],\n",
              "         [-2.9863e-03,  2.9309e+00,  0.0000e+00,  0.0000e+00,  0.0000e+00,\n",
              "           0.0000e+00,  0.0000e+00],\n",
              "         [ 8.4741e-05, -6.2599e-04, -7.3902e-04, -3.8142e-04, -6.5020e-04,\n",
              "           2.9309e+00,  0.0000e+00],\n",
              "         [-1.6515e-03, -3.3549e-04, -2.0655e-05,  3.9067e-05, -8.5738e-04,\n",
              "          -5.6446e-04, -3.2715e-01],\n",
              "         [ 8.4741e-05, -3.3549e-04, -2.0655e-05,  3.9067e-05, -8.5738e-04,\n",
              "          -5.6446e-04, -3.2715e-01],\n",
              "         [-1.6515e-03, -8.5088e-04, -1.5312e-03,  3.9067e-05, -8.5738e-04,\n",
              "          -5.6446e-04, -3.2715e-01],\n",
              "         [ 8.4741e-05, -3.3549e-04, -9.1254e-04, -3.8142e-04, -6.2103e-04,\n",
              "          -4.8132e-04, -3.2715e-01],\n",
              "         [ 8.4741e-05, -6.2599e-04, -9.1254e-04, -3.8142e-04, -6.2103e-04,\n",
              "          -4.8132e-04, -3.2715e-01],\n",
              "         [-2.9863e-03, -2.9665e-03, -2.7752e-03, -3.4612e-04, -6.2103e-04,\n",
              "          -4.8132e-04, -3.2715e-01],\n",
              "         [-2.9863e-03, -2.9665e-03, -2.7752e-03, -3.4612e-04, -6.2103e-04,\n",
              "          -4.8132e-04, -3.2715e-01],\n",
              "         [ 8.4741e-05, -6.2599e-04, -7.3902e-04, -3.8142e-04, -6.2103e-04,\n",
              "          -4.8132e-04, -3.2715e-01],\n",
              "         [-1.6515e-03, -8.5088e-04, -1.5312e-03,  3.9067e-05, -8.5738e-04,\n",
              "          -5.6446e-04, -3.2715e-01],\n",
              "         [ 8.4741e-05, -6.2599e-04, -7.3902e-04, -3.4612e-04, -6.2103e-04,\n",
              "          -4.8132e-04, -3.2715e-01],\n",
              "         [ 8.4741e-05, -3.3549e-04, -2.0655e-05,  3.9067e-05, -8.5738e-04,\n",
              "          -5.6446e-04, -3.2715e-01],\n",
              "         [-1.6515e-03, -3.3549e-04, -9.1254e-04, -1.4837e-03, -6.5020e-04,\n",
              "          -4.8132e-04, -3.2715e-01],\n",
              "         [-2.9863e-03, -2.9665e-03, -7.3902e-04,  2.9309e+00,  0.0000e+00,\n",
              "           0.0000e+00,  0.0000e+00],\n",
              "         [ 8.4741e-05, -6.2599e-04, -9.1254e-04, -1.4837e-03, -8.5738e-04,\n",
              "          -5.6446e-04, -3.2715e-01],\n",
              "         [ 8.4741e-05, -6.2599e-04, -9.1254e-04, -3.8142e-04, -6.2103e-04,\n",
              "          -4.8132e-04, -3.2715e-01],\n",
              "         [-2.9863e-03, -2.9665e-03, -2.7752e-03, -3.4612e-04, -6.2103e-04,\n",
              "          -4.8132e-04, -3.2715e-01],\n",
              "         [-2.9863e-03, -6.2599e-04, -9.1254e-04, -3.8142e-04, -6.2103e-04,\n",
              "          -4.8132e-04, -3.2715e-01],\n",
              "         [ 8.4741e-05, -6.2599e-04, -9.1254e-04, -3.8142e-04, -6.2103e-04,\n",
              "          -4.8132e-04, -3.2715e-01],\n",
              "         [ 8.4741e-05, -6.2599e-04, -7.3902e-04, -3.4612e-04, -6.2103e-04,\n",
              "          -4.8132e-04, -3.2715e-01],\n",
              "         [-1.6515e-03, -3.3549e-04, -9.1254e-04, -1.4837e-03, -8.5738e-04,\n",
              "          -5.6446e-04, -3.2715e-01],\n",
              "         [-1.6515e-03, -8.5088e-04, -1.5312e-03,  3.9067e-05, -8.5738e-04,\n",
              "          -5.6446e-04, -3.2715e-01],\n",
              "         [ 8.4741e-05, -6.2599e-04, -7.3902e-04, -3.4612e-04, -6.2103e-04,\n",
              "          -4.8132e-04, -3.2715e-01],\n",
              "         [-2.9863e-03, -2.9665e-03, -2.7752e-03, -3.4612e-04, -6.2103e-04,\n",
              "          -4.8132e-04, -3.2715e-01],\n",
              "         [ 8.4741e-05, -6.2599e-04, -9.1254e-04, -1.4837e-03, -6.5020e-04,\n",
              "          -5.6446e-04, -3.2715e-01],\n",
              "         [-1.6515e-03, -8.5088e-04, -1.5312e-03,  3.9067e-05, -8.5738e-04,\n",
              "          -5.6446e-04, -3.2715e-01],\n",
              "         [-1.6515e-03, -3.3549e-04, -9.1254e-04, -3.8142e-04, -6.2103e-04,\n",
              "          -4.8132e-04, -3.2715e-01],\n",
              "         [ 0.0000e+00,  0.0000e+00,  0.0000e+00,  0.0000e+00,  0.0000e+00,\n",
              "           0.0000e+00,  0.0000e+00],\n",
              "         [ 8.4741e-05, -6.2599e-04, -7.3902e-04, -3.8142e-04, -6.5020e-04,\n",
              "          -5.6446e-04, -3.2715e-01],\n",
              "         [-2.9863e-03, -6.2599e-04, -9.1254e-04, -3.8142e-04, -6.5020e-04,\n",
              "          -5.6446e-04, -3.2715e-01],\n",
              "         [-2.9863e-03, -6.2599e-04, -7.3902e-04, -3.4612e-04, -6.2103e-04,\n",
              "          -4.8132e-04, -3.2715e-01],\n",
              "         [ 8.4741e-05, -6.2599e-04, -9.1254e-04, -3.8142e-04, -6.5020e-04,\n",
              "          -5.6446e-04, -3.2715e-01],\n",
              "         [ 8.4741e-05, -3.3549e-04, -2.0655e-05, -1.4837e-03, -6.5020e-04,\n",
              "          -5.6446e-04, -3.2715e-01],\n",
              "         [-1.6515e-03, -3.3549e-04, -2.0655e-05, -1.4837e-03, -8.5738e-04,\n",
              "          -5.6446e-04, -3.2715e-01],\n",
              "         [-1.6515e-03, -8.5088e-04, -2.0655e-05,  3.9067e-05, -8.5738e-04,\n",
              "          -5.6446e-04, -3.2715e-01],\n",
              "         [-2.9863e-03, -2.9665e-03, -2.7752e-03, -3.4612e-04,  2.9309e+00,\n",
              "           0.0000e+00,  0.0000e+00],\n",
              "         [-1.6515e-03, -8.5088e-04, -1.5312e-03,  3.9067e-05, -8.5738e-04,\n",
              "          -5.6446e-04, -3.2715e-01],\n",
              "         [-2.9863e-03, -2.9665e-03, -7.3902e-04, -3.8142e-04, -6.5020e-04,\n",
              "          -4.8132e-04, -3.2715e-01],\n",
              "         [ 0.0000e+00,  0.0000e+00,  0.0000e+00,  0.0000e+00,  0.0000e+00,\n",
              "           0.0000e+00,  0.0000e+00],\n",
              "         [-1.6515e-03, -3.3549e-04, -9.1254e-04, -3.8142e-04, -6.2103e-04,\n",
              "          -4.8132e-04, -3.2715e-01],\n",
              "         [ 8.4741e-05, -6.2599e-04, -7.3902e-04, -3.8142e-04, -6.5020e-04,\n",
              "          -5.6446e-04, -3.2715e-01],\n",
              "         [ 8.4741e-05, -3.3549e-04, -9.1254e-04, -3.8142e-04, -6.5020e-04,\n",
              "          -5.6446e-04, -3.2715e-01],\n",
              "         [-1.6515e-03, -8.5088e-04, -2.0655e-05,  3.9067e-05,  2.9309e+00,\n",
              "           0.0000e+00,  0.0000e+00],\n",
              "         [ 8.4741e-05, -3.3549e-04, -2.0655e-05, -1.4837e-03, -8.5738e-04,\n",
              "          -5.6446e-04, -3.2715e-01],\n",
              "         [ 8.4741e-05, -3.3549e-04, -9.1254e-04, -3.8142e-04, -6.2103e-04,\n",
              "          -4.8132e-04, -3.2715e-01],\n",
              "         [ 8.4741e-05, -3.3549e-04, -2.0655e-05, -1.4837e-03, -6.5020e-04,\n",
              "          -5.6446e-04, -3.2715e-01],\n",
              "         [-2.9863e-03, -2.9665e-03, -2.7752e-03, -3.4612e-04, -6.2103e-04,\n",
              "          -4.8132e-04, -3.2715e-01],\n",
              "         [-1.6515e-03, -8.5088e-04, -1.5312e-03,  3.9067e-05, -8.5738e-04,\n",
              "          -5.6446e-04, -3.2715e-01],\n",
              "         [-1.6515e-03, -8.5088e-04, -1.5312e-03,  3.9067e-05, -8.5738e-04,\n",
              "          -5.6446e-04, -3.2715e-01],\n",
              "         [ 8.4741e-05, -3.3549e-04, -2.0655e-05,  3.9067e-05, -8.5738e-04,\n",
              "          -5.6446e-04, -3.2715e-01],\n",
              "         [-2.9863e-03, -2.9665e-03, -7.3902e-04, -3.4612e-04, -6.2103e-04,\n",
              "          -4.8132e-04, -3.2715e-01],\n",
              "         [-1.6515e-03, -8.5088e-04, -1.5312e-03,  3.9067e-05, -8.5738e-04,\n",
              "          -5.6446e-04, -3.2715e-01],\n",
              "         [-1.6515e-03, -3.3549e-04, -2.0655e-05, -1.4837e-03, -8.5738e-04,\n",
              "          -5.6446e-04, -3.2715e-01],\n",
              "         [-2.9863e-03, -2.9665e-03, -2.7752e-03, -3.4612e-04, -6.2103e-04,\n",
              "          -4.8132e-04, -3.2715e-01],\n",
              "         [ 8.4741e-05, -3.3549e-04, -2.0655e-05,  3.9067e-05, -8.5738e-04,\n",
              "          -5.6446e-04, -3.2715e-01],\n",
              "         [-2.9863e-03, -2.9665e-03, -2.7752e-03, -3.4612e-04, -6.2103e-04,\n",
              "          -4.8132e-04, -3.2715e-01],\n",
              "         [-2.9863e-03, -6.2599e-04, -9.1254e-04, -1.4837e-03, -6.5020e-04,\n",
              "          -5.6446e-04, -3.2715e-01],\n",
              "         [-1.6515e-03, -8.5088e-04, -2.0655e-05, -1.4837e-03, -8.5738e-04,\n",
              "          -5.6446e-04, -3.2715e-01],\n",
              "         [-1.6515e-03, -8.5088e-04, -2.0655e-05, -1.4837e-03, -8.5738e-04,\n",
              "          -5.6446e-04, -3.2715e-01],\n",
              "         [-1.6515e-03, -8.5088e-04, -1.5312e-03,  3.9067e-05, -8.5738e-04,\n",
              "          -5.6446e-04, -3.2715e-01],\n",
              "         [-1.6515e-03, -3.3549e-04, -9.1254e-04, -1.4837e-03, -6.5020e-04,\n",
              "          -4.8132e-04, -3.2715e-01],\n",
              "         [-1.6515e-03, -8.5088e-04, -1.5312e-03,  2.9309e+00,  0.0000e+00,\n",
              "           0.0000e+00,  0.0000e+00],\n",
              "         [-2.9863e-03, -6.2599e-04, -7.3902e-04, -3.8142e-04, -6.5020e-04,\n",
              "          -5.6446e-04, -3.2715e-01],\n",
              "         [-2.9863e-03, -6.2599e-04, -9.1254e-04, -1.4837e-03, -8.5738e-04,\n",
              "          -5.6446e-04, -3.2715e-01],\n",
              "         [-1.6515e-03, -3.3549e-04, -9.1254e-04, -3.8142e-04, -6.2103e-04,\n",
              "          -4.8132e-04, -3.2715e-01],\n",
              "         [-1.6515e-03, -3.3549e-04, -9.1254e-04, -3.8142e-04, -6.5020e-04,\n",
              "          -5.6446e-04, -3.2715e-01],\n",
              "         [-2.9863e-03, -6.2599e-04, -9.1254e-04, -1.4837e-03, -8.5738e-04,\n",
              "          -5.6446e-04, -3.2715e-01],\n",
              "         [-2.9863e-03, -2.9665e-03, -7.3902e-04, -3.4612e-04, -6.2103e-04,\n",
              "          -4.8132e-04, -3.2715e-01],\n",
              "         [ 8.4741e-05, -6.2599e-04, -7.3902e-04, -3.4612e-04, -6.2103e-04,\n",
              "          -4.8132e-04, -3.2715e-01],\n",
              "         [ 0.0000e+00,  0.0000e+00,  0.0000e+00,  0.0000e+00,  0.0000e+00,\n",
              "           0.0000e+00,  0.0000e+00],\n",
              "         [ 8.4741e-05, -6.2599e-04, -7.3902e-04, -3.4612e-04, -6.2103e-04,\n",
              "          -4.8132e-04, -3.2715e-01],\n",
              "         [ 2.9309e+00,  0.0000e+00,  0.0000e+00,  0.0000e+00,  0.0000e+00,\n",
              "           0.0000e+00,  0.0000e+00],\n",
              "         [-1.6515e-03, -8.5088e-04, -2.0655e-05,  3.9067e-05, -8.5738e-04,\n",
              "          -5.6446e-04, -3.2715e-01],\n",
              "         [-1.6515e-03, -3.3549e-04, -9.1254e-04, -3.8142e-04, -6.5020e-04,\n",
              "          -4.8132e-04, -3.2715e-01],\n",
              "         [-1.6515e-03, -8.5088e-04, -1.5312e-03,  3.9067e-05, -8.5738e-04,\n",
              "          -5.6446e-04, -3.2715e-01],\n",
              "         [-2.9863e-03, -2.9665e-03, -7.3902e-04, -3.4612e-04, -6.2103e-04,\n",
              "          -4.8132e-04, -3.2715e-01],\n",
              "         [-1.6515e-03, -3.3549e-04, -9.1254e-04, -1.4837e-03, -6.5020e-04,\n",
              "          -5.6446e-04, -3.2715e-01],\n",
              "         [ 8.4741e-05, -3.3549e-04, -9.1254e-04, -3.8142e-04, -6.2103e-04,\n",
              "          -4.8132e-04, -3.2715e-01],\n",
              "         [-2.9863e-03, -2.9665e-03, -2.7752e-03, -3.4612e-04, -6.2103e-04,\n",
              "          -4.8132e-04, -3.2715e-01],\n",
              "         [-1.6515e-03, -8.5088e-04, -1.5312e-03,  2.9309e+00,  0.0000e+00,\n",
              "           0.0000e+00,  0.0000e+00],\n",
              "         [-1.6515e-03, -3.3549e-04, -2.0655e-05, -1.4837e-03, -6.5020e-04,\n",
              "          -5.6446e-04, -3.2715e-01],\n",
              "         [ 8.4741e-05, -3.3549e-04, -2.0655e-05, -1.4837e-03, -8.5738e-04,\n",
              "          -5.6446e-04, -3.2715e-01],\n",
              "         [-1.6515e-03, -8.5088e-04, -2.0655e-05,  3.9067e-05, -8.5738e-04,\n",
              "          -5.6446e-04, -3.2715e-01],\n",
              "         [-2.9863e-03, -2.9665e-03, -2.7752e-03, -3.4612e-04, -6.2103e-04,\n",
              "          -4.8132e-04, -3.2715e-01]], grad_fn=<SliceBackward0>),\n",
              " torch.Size([128, 8]))"
            ]
          },
          "metadata": {},
          "execution_count": 54
        }
      ]
    },
    {
      "cell_type": "code",
      "source": [
        "loss_FM[loss_FM != 0].shape"
      ],
      "metadata": {
        "colab": {
          "base_uri": "https://localhost:8080/"
        },
        "id": "haFjpnJ3LeKq",
        "outputId": "52328d92-eaf4-4388-edf3-26d0b5fd3784"
      },
      "execution_count": null,
      "outputs": [
        {
          "output_type": "execute_result",
          "data": {
            "text/plain": [
              "torch.Size([965])"
            ]
          },
          "metadata": {},
          "execution_count": 55
        }
      ]
    },
    {
      "cell_type": "markdown",
      "source": [
        "### samples"
      ],
      "metadata": {
        "id": "8XV5z82DY7rv"
      }
    },
    {
      "cell_type": "code",
      "source": [
        "#model_FM, logZ_FM, losses_FM, rewards_FM, logZ_FM_list, all_visited_FM, first_visit_FM, l1log_FM = data[\"FM\"]"
      ],
      "metadata": {
        "id": "UXEM4Gx6ZJ0p"
      },
      "execution_count": null,
      "outputs": []
    },
    {
      "cell_type": "code",
      "source": [
        "samples_FM = np.zeros((H+1,)*ndim)"
      ],
      "metadata": {
        "id": "OemU8ZouZAJd"
      },
      "execution_count": null,
      "outputs": []
    },
    {
      "cell_type": "code",
      "source": [
        "# #batch_size = 128\n",
        "# #batch_size = 8\n",
        "# #batch_size = 1\n",
        "# epsilon = 1e-2\n",
        "# for it in tqdm.trange(100):    \n",
        "#     # finished trajectories\n",
        "#     dones = torch.full((batch_size,), False, dtype=torch.bool).to(device)\n",
        "#     # s_0\n",
        "#     states = torch.zeros((batch_size, ndim), dtype=torch.long).to(device)\n",
        "#     # actions chosen at each step : we can choose the coordinate to increment (0 ... ndim-1), or choose to return the current state as terminal (ndim)\n",
        "#     actions = None # (current_batch_size,)\n",
        "\n",
        "#     current_batch_size = (~dones).sum()\n",
        "#     non_terminal_states = states[~dones] # (current_batch_size, ndim)\n",
        "\n",
        "#     i = 0\n",
        "#     while torch.any(~dones):\n",
        "\n",
        "#         if actions is not None :  \n",
        "#             ### select terminal states ### \n",
        "#             terminates = (actions==ndim).squeeze(1)\n",
        "\n",
        "#             # Update dones\n",
        "#             dones[~dones] |= terminates\n",
        "\n",
        "#             # Update non completed trajectories : $s = (s^0, ..., s^i, ..., s^{n-1}) \\rightarrow s' = (s^0, ..., s^i + 1, ..., s^{n-1})$\n",
        "#             with torch.no_grad():\n",
        "#                 non_terminates = actions[~terminates]\n",
        "#                 states[~dones] = states[~dones].scatter_add(1, non_terminates, torch.ones(non_terminates.shape, dtype=torch.long, device=device))\n",
        "#             i += 1\n",
        "\n",
        "#         if torch.any(~dones) :\n",
        "#             ### Forward pass ### \n",
        "#             current_batch_size = (~dones).sum()\n",
        "#             non_terminal_states = states[~dones] # (current_batch_size, ndim)\n",
        "#             embed = one_hot_embedding(non_terminal_states) # (current_batch_size, input_dim)\n",
        "#             logF = model_FM(embed) # (current_batch_size, output_dim = ndim+1) \n",
        "\n",
        "#             ### Forward Policy : tempered version of the state-action flow F ### \n",
        "#             # Being in a edge cell ++ (a coordinate that is H), we can't move forward\n",
        "#             edge_mask = (non_terminal_states == H).float() # (current_batch_size, ndim)\n",
        "#             # but any cell can be a terminal cell\n",
        "#             stop_action_mask = torch.zeros((current_batch_size, 1), device=device) # (current_batch_size, 1)\n",
        "#             # Being in a edge cell, we can't move forward, but any cell can be a terminal cell\n",
        "#             PF_mask = torch.cat([edge_mask, stop_action_mask], 1) # (current_batch_size, ndim+1)\n",
        "#             # logPF (with mask)\n",
        "#             logPF = (logF + minus_inf*PF_mask).log_softmax(1) # (current_batch_size, ndim+1)\n",
        "#             # choose next states\n",
        "#             sample_temperature = 1\n",
        "#             #exp_weight= 0.\n",
        "#             #PF = (1-exp_weight)*(logPF/sample_temperature).softmax(1) + exp_weight*(1-PF_mask) / (1-PF_mask+0.0000001).sum(1).unsqueeze(1) # (current_batch_size, ndim+1)\n",
        "#             PF = (logPF/sample_temperature).softmax(1) # (current_batch_size, ndim+1)\n",
        "#             #actions = torch.distributions.categorical.Categorical(probs = PF).sample() # (current_batch_size,)\n",
        "#             #actions = torch.multinomial(probs = PF, 1).squeeze(1) # (current_batch_size,) # (current_batch_size,)\n",
        "#             actions = PF.multinomial(1) # (current_batch_size,)\n",
        "#         else :\n",
        "#             break\n",
        "\n",
        "#     if ndim == 4 :\n",
        "#         for a,b,c,d in states: samples_FM[a,b,c,d]+=1\n",
        "#     elif ndim == 2 :\n",
        "#         for a,b in states: samples_FM[a,b]+=1"
      ],
      "metadata": {
        "id": "CqEWCjIVY95J"
      },
      "execution_count": null,
      "outputs": []
    },
    {
      "cell_type": "code",
      "source": [
        "for it in tqdm.trange(500):    \n",
        "    # finished trajectories\n",
        "    dones = torch.full((batch_size,), False, dtype=torch.bool).to(device)\n",
        "    # s_0\n",
        "    states = torch.zeros((batch_size, ndim), dtype=torch.long).to(device)\n",
        "    # actions chosen at each step : we can choose the coordinate to increment (0 ... ndim-1), or choose to return the current state as terminal (ndim)\n",
        "    actions = None # (current_batch_size,)\n",
        "\n",
        "    while torch.any(~dones):\n",
        "\n",
        "        ### Forward pass ### \n",
        "        current_batch_size = (~dones).sum()\n",
        "        non_terminal_states = states[~dones] # (current_batch_size, ndim)\n",
        "        embed = one_hot_embedding(non_terminal_states) # (current_batch_size, input_dim)\n",
        "        with torch.no_grad():\n",
        "            logF = model_FM(embed) # (current_batch_size, output_dim = ndim+1) \n",
        "\n",
        "        ### Forward Policy : tempered version of the flow F ### \n",
        "        # Being in a edge cell ++ (a coordinate that is H), we can't move forward\n",
        "        edge_mask = (non_terminal_states == H).float() # (current_batch_size, ndim)\n",
        "        # but any cell can be a terminal cell\n",
        "        stop_action_mask = torch.zeros((current_batch_size, 1), device=device) # (current_batch_size, 1)\n",
        "        # Being in a edge cell, we can't move forward, but any cell can be a terminal cell\n",
        "        PF_mask = torch.cat([edge_mask, stop_action_mask], 1) # (current_batch_size, ndim+1)\n",
        "        # logPF (with mask)\n",
        "        logPF = (logF + minus_inf*PF_mask).log_softmax(1) # (current_batch_size, ndim+1)\n",
        "        # choose next states\n",
        "        sample_temperature = 1\n",
        "        #exp_weight= 0.\n",
        "        #PF = (1-exp_weight)*(logPF/sample_temperature).softmax(1) + exp_weight*(1-PF_mask) / (1-PF_mask+0.0000001).sum(1).unsqueeze(1) # (current_batch_size, ndim+1)\n",
        "        PF = (logPF/sample_temperature).softmax(1) # (current_batch_size, ndim+1)\n",
        "        #actions = torch.distributions.categorical.Categorical(probs = PF).sample() # (current_batch_size,)\n",
        "        #actions = torch.multinomial(probs = PF, 1).squeeze(1) # (current_batch_size,) # (current_batch_size,)\n",
        "        actions = PF.multinomial(1) # (current_batch_size,)\n",
        "        \n",
        "        ### select terminal states ### \n",
        "        terminates = (actions==ndim).squeeze(1)\n",
        "\n",
        "        # Update dones\n",
        "        dones[~dones] |= terminates\n",
        "\n",
        "        # Update non completed trajectories : $s = (s^0, ..., s^i, ..., s^{n-1}) \\rightarrow s' = (s^0, ..., s^i + 1, ..., s^{n-1})$\n",
        "        with torch.no_grad():\n",
        "            non_terminates = actions[~terminates]\n",
        "            states[~dones] = states[~dones].scatter_add(1, non_terminates, torch.ones(non_terminates.shape, dtype=torch.long, device=device))\n",
        "\n",
        "    if ndim == 4 :\n",
        "        for a,b,c,d in states: samples_FM[a,b,c,d]+=1\n",
        "    elif ndim == 2 :\n",
        "        for a,b in states: samples_FM[a,b]+=1"
      ],
      "metadata": {
        "id": "aroKVi88X5Cf",
        "colab": {
          "base_uri": "https://localhost:8080/"
        },
        "outputId": "a4245165-7bce-4ec2-8b86-cdaea7ff6217"
      },
      "execution_count": null,
      "outputs": [
        {
          "output_type": "stream",
          "name": "stderr",
          "text": [
            "100%|██████████| 500/500 [00:04<00:00, 104.19it/s]\n"
          ]
        }
      ]
    },
    {
      "cell_type": "code",
      "source": [
        "if ndim == 2 :\n",
        "    print(samples_FM / samples_FM.sum())"
      ],
      "metadata": {
        "id": "wQQlppHYZSBb",
        "colab": {
          "base_uri": "https://localhost:8080/"
        },
        "outputId": "47b345dc-d28c-4860-ad9a-56c112b61a1a"
      },
      "execution_count": null,
      "outputs": [
        {
          "output_type": "stream",
          "name": "stdout",
          "text": [
            "[[0.01278125 0.00454687 0.00245313 0.00315625 0.00675   ]\n",
            " [0.00754687 0.00495313 0.00329687 0.00345313 0.01084375]\n",
            " [0.0020625  0.00176563 0.00220312 0.00320312 0.00860938]\n",
            " [0.00232812 0.00215625 0.002375   0.00432813 0.01721875]\n",
            " [0.00375    0.00409375 0.00625    0.01317187 0.86670313]]\n"
          ]
        }
      ]
    },
    {
      "cell_type": "code",
      "source": [
        "if ndim == 2 :\n",
        "    plt.imshow(samples_FM)\n",
        "else :\n",
        "    plt.imshow(samples_FM[0,0])"
      ],
      "metadata": {
        "id": "lK-QZmMhZT8-",
        "colab": {
          "base_uri": "https://localhost:8080/",
          "height": 265
        },
        "outputId": "25e6647f-c776-4974-fa91-303b4d38054e"
      },
      "execution_count": null,
      "outputs": [
        {
          "output_type": "display_data",
          "data": {
            "text/plain": [
              "<Figure size 432x288 with 1 Axes>"
            ],
            "image/png": "[encoded data removed]"
          },
          "metadata": {
            "needs_background": "light"
          }
        }
      ]
    },
    {
      "cell_type": "code",
      "source": [
        "if ndim == 4 :\n",
        "    tmp = samples_FM.sum((2,3))+samples_FM.sum((0,1))+samples_FM.sum((0,2))+samples_FM.sum((1,3))+samples_FM.sum((2,3))+samples_FM.sum((0,3))\n",
        "    plt.imshow(tmp,vmin=0);plt.show()\n",
        "    plt.imshow(samples_FM.sum((1,3)),vmin=0);plt.show()"
      ],
      "metadata": {
        "id": "PRMbBzt0ZQgo"
      },
      "execution_count": null,
      "outputs": []
    },
    {
      "cell_type": "markdown",
      "source": [
        "**This implementation has a problem. Refer to this official implementation for the moment : https://github.com/GFNOrg/gflownet**"
      ],
      "metadata": {
        "id": "wYr96X4XYsCu"
      }
    },
    {
      "cell_type": "markdown",
      "metadata": {
        "id": "AYh5lqX1ZBVL"
      },
      "source": [
        "## Random (uniform) agent"
      ]
    },
    {
      "cell_type": "code",
      "execution_count": null,
      "metadata": {
        "id": "Yl3jqdTYdMe3"
      },
      "outputs": [],
      "source": [
        "rewards_random = []\n",
        "all_visited_random = []\n",
        "first_visit_random = -1 * np.ones_like(true_dist)\n",
        "l1log_random = []"
      ]
    },
    {
      "cell_type": "code",
      "execution_count": null,
      "metadata": {
        "id": "ns2X5pc-EfGM",
        "colab": {
          "base_uri": "https://localhost:8080/"
        },
        "outputId": "68da2bd1-3e8e-452a-a40b-45169c9a1d9d"
      },
      "outputs": [
        {
          "output_type": "stream",
          "name": "stderr",
          "text": [
            "  4%|▎         | 37/1000 [00:00<00:05, 186.85it/s]"
          ]
        },
        {
          "output_type": "stream",
          "name": "stdout",
          "text": [
            "\n",
            "R = 0.17796874\n",
            "L1 = 0.03492659747600555\n"
          ]
        },
        {
          "output_type": "stream",
          "name": "stderr",
          "text": [
            " 13%|█▎        | 130/1000 [00:00<00:04, 178.29it/s]"
          ]
        },
        {
          "output_type": "stream",
          "name": "stdout",
          "text": [
            "\n",
            "R = 0.19171876\n",
            "L1 = 0.03716041756738531\n"
          ]
        },
        {
          "output_type": "stream",
          "name": "stderr",
          "text": [
            " 23%|██▎       | 226/1000 [00:01<00:04, 183.70it/s]"
          ]
        },
        {
          "output_type": "stream",
          "name": "stdout",
          "text": [
            "\n",
            "R = 0.19402343\n",
            "L1 = 0.037368596187278405\n"
          ]
        },
        {
          "output_type": "stream",
          "name": "stderr",
          "text": [
            " 32%|███▏      | 324/1000 [00:01<00:03, 189.75it/s]"
          ]
        },
        {
          "output_type": "stream",
          "name": "stdout",
          "text": [
            "\n",
            "R = 0.1913672\n",
            "L1 = 0.03718573368863014\n"
          ]
        },
        {
          "output_type": "stream",
          "name": "stderr",
          "text": [
            " 42%|████▏     | 423/1000 [00:02<00:03, 188.86it/s]"
          ]
        },
        {
          "output_type": "stream",
          "name": "stdout",
          "text": [
            "\n",
            "R = 0.1946875\n",
            "L1 = 0.0371180797544798\n"
          ]
        },
        {
          "output_type": "stream",
          "name": "stderr",
          "text": [
            " 54%|█████▍    | 539/1000 [00:02<00:02, 188.32it/s]"
          ]
        },
        {
          "output_type": "stream",
          "name": "stdout",
          "text": [
            "\n",
            "R = 0.19429688\n",
            "L1 = 0.03715713639816124\n"
          ]
        },
        {
          "output_type": "stream",
          "name": "stderr",
          "text": [
            " 64%|██████▎   | 636/1000 [00:03<00:01, 184.99it/s]"
          ]
        },
        {
          "output_type": "stream",
          "name": "stdout",
          "text": [
            "\n",
            "R = 0.1928125\n",
            "L1 = 0.03721757085370938\n"
          ]
        },
        {
          "output_type": "stream",
          "name": "stderr",
          "text": [
            " 73%|███████▎  | 732/1000 [00:03<00:01, 185.55it/s]"
          ]
        },
        {
          "output_type": "stream",
          "name": "stdout",
          "text": [
            "\n",
            "R = 0.19332032\n",
            "L1 = 0.03719211102807403\n"
          ]
        },
        {
          "output_type": "stream",
          "name": "stderr",
          "text": [
            " 83%|████████▎ | 829/1000 [00:04<00:00, 187.70it/s]"
          ]
        },
        {
          "output_type": "stream",
          "name": "stdout",
          "text": [
            "\n",
            "R = 0.1946875\n",
            "L1 = 0.03723230908649245\n"
          ]
        },
        {
          "output_type": "stream",
          "name": "stderr",
          "text": [
            " 92%|█████████▎| 925/1000 [00:05<00:00, 184.68it/s]"
          ]
        },
        {
          "output_type": "stream",
          "name": "stdout",
          "text": [
            "\n",
            "R = 0.1920703\n",
            "L1 = 0.03718797372461821\n"
          ]
        },
        {
          "output_type": "stream",
          "name": "stderr",
          "text": [
            "100%|██████████| 1000/1000 [00:05<00:00, 184.62it/s]\n"
          ]
        }
      ],
      "source": [
        "for it in tqdm.trange(n_train_steps):\n",
        "\n",
        "    # finished trajectories\n",
        "    dones = torch.full((batch_size,), False, dtype=torch.bool).to(device)\n",
        "    # s_0\n",
        "    states = torch.zeros((batch_size, ndim), dtype=torch.long).to(device)\n",
        "\n",
        "    while torch.any(~dones) : #and i <= max_length_traj :\n",
        "        # Forward pass\n",
        "        current_batch_size = (~dones).sum()\n",
        "        non_terminal_states = states[~dones] # (current_batch_size, ndim)\n",
        "        \n",
        "        ### Uniform Forward Policy ### \n",
        "        PF_logits = torch.ones(current_batch_size, ndim+1).to(device) # (current_batch_size, ndim+1) \n",
        "        # Being in a edge cell ++ (a coordinate that is H), we can't move forward\n",
        "        edge_mask = (non_terminal_states == H).float() # (current_batch_size, ndim)\n",
        "        # but any cell can be a terminal cell\n",
        "        stop_action_mask = torch.zeros((current_batch_size, 1), device=device) # (current_batch_size, 1)\n",
        "        # Being in a edge cell, we can't move forward, but any cell can be a terminal cell\n",
        "        PF_mask = torch.cat([edge_mask, stop_action_mask], 1) # (current_batch_size, ndim+1)\n",
        "        # PF (with mask)\n",
        "        PF = (PF_logits + minus_inf*PF_mask).softmax(1) # (current_batch_size, ndim+1)\n",
        "        # choose next states\n",
        "        #actions = torch.from_numpy(np.random.choice(np.arange(ndim+1), size=(current_batch_size,1), p = PF))\n",
        "        actions = PF.multinomial(1)\n",
        "        #if i == max_length_traj : actions = torch.LongTensor(current_batch_size,1).fill_(ndim)\n",
        "        # select terminal states\n",
        "        terminates = (actions==ndim).squeeze(1)\n",
        "        for state in non_terminal_states[terminates]: \n",
        "            state_index = get_state_index(state.cpu())\n",
        "            if first_visit_random[state_index]<0: first_visit_random[state_index] = it\n",
        "            all_visited_random.append(state_index)\n",
        "        # Update dones\n",
        "        dones[~dones] |= terminates\n",
        "\n",
        "        # Update non completed trajectories : $s = (s^0, ..., s^i, ..., s^{n-1}) \\rightarrow s' = (s^0, ..., s^i + 1, ..., s^{n-1})$\n",
        "        with torch.no_grad():\n",
        "            non_terminates = actions[~terminates]\n",
        "            states[~dones] = states[~dones].scatter_add(1, non_terminates, torch.ones(non_terminates.shape, dtype=torch.long, device=device))\n",
        "\n",
        "    R = reward_function(states.float())\n",
        "    rewards_random.append(R.mean().cpu())\n",
        "    if it%100==0: \n",
        "        print(\"\\nR =\", np.array(rewards_random[-100:]).mean())\n",
        "        emp_dist = np.bincount(all_visited_random[-200000:], minlength=len(true_dist)).astype(float)\n",
        "        emp_dist /= emp_dist.sum()\n",
        "        l1 = np.abs(true_dist-emp_dist).mean()\n",
        "        print('L1 =', l1)\n",
        "        l1log_random.append((len(all_visited_random), l1))"
      ]
    },
    {
      "cell_type": "markdown",
      "source": [
        "### samples"
      ],
      "metadata": {
        "id": "HUtnGHiTZzux"
      }
    },
    {
      "cell_type": "code",
      "source": [
        "samples_random = np.zeros((H+1,)*ndim)"
      ],
      "metadata": {
        "id": "H-eBidKMZ2bV"
      },
      "execution_count": null,
      "outputs": []
    },
    {
      "cell_type": "code",
      "source": [
        "for it in tqdm.trange(500):\n",
        "\n",
        "    # finished trajectories\n",
        "    dones = torch.full((batch_size,), False, dtype=torch.bool).to(device)\n",
        "    # s_0\n",
        "    states = torch.zeros((batch_size, ndim), dtype=torch.long).to(device)\n",
        "\n",
        "    while torch.any(~dones) : #and i <= max_length_traj :\n",
        "        # Forward pass\n",
        "        current_batch_size = (~dones).sum()\n",
        "        non_terminal_states = states[~dones] # (current_batch_size, ndim)\n",
        "        \n",
        "        ### Uniform Forward Policy ### \n",
        "        PF_logits = torch.ones(current_batch_size, ndim+1).to(device) # (current_batch_size, ndim+1) \n",
        "        # Being in a edge cell ++ (a coordinate that is H), we can't move forward\n",
        "        edge_mask = (non_terminal_states == H).float() # (current_batch_size, ndim)\n",
        "        # but any cell can be a terminal cell\n",
        "        stop_action_mask = torch.zeros((current_batch_size, 1), device=device) # (current_batch_size, 1)\n",
        "        # Being in a edge cell, we can't move forward, but any cell can be a terminal cell\n",
        "        PF_mask = torch.cat([edge_mask, stop_action_mask], 1) # (current_batch_size, ndim+1)\n",
        "        # PF (with mask)\n",
        "        PF = (PF_logits + minus_inf*PF_mask).softmax(1) # (current_batch_size, ndim+1)\n",
        "        # choose next states\n",
        "        #actions = torch.from_numpy(np.random.choice(np.arange(ndim+1), size=(current_batch_size,1), p = PF))\n",
        "        actions = PF.multinomial(1)\n",
        "        #if i == max_length_traj : actions = torch.LongTensor(current_batch_size,1).fill_(ndim)\n",
        "        # select terminal states\n",
        "        terminates = (actions==ndim).squeeze(1)\n",
        " \n",
        "        # Update dones\n",
        "        dones[~dones] |= terminates\n",
        "\n",
        "        # Update non completed trajectories : $s = (s^0, ..., s^i, ..., s^{n-1}) \\rightarrow s' = (s^0, ..., s^i + 1, ..., s^{n-1})$\n",
        "        with torch.no_grad():\n",
        "            non_terminates = actions[~terminates]\n",
        "            states[~dones] = states[~dones].scatter_add(1, non_terminates, torch.ones(non_terminates.shape, dtype=torch.long, device=device))\n",
        "\n",
        "    if ndim == 4 :\n",
        "        for a,b,c,d in states: samples_random[a,b,c,d]+=1\n",
        "    elif ndim == 2 :\n",
        "        for a,b in states: samples_random[a,b]+=1"
      ],
      "metadata": {
        "id": "s4s7MyvSaOdE",
        "colab": {
          "base_uri": "https://localhost:8080/"
        },
        "outputId": "5d40297e-34cb-4216-a249-d1e93644f395"
      },
      "execution_count": null,
      "outputs": [
        {
          "output_type": "stream",
          "name": "stderr",
          "text": [
            "100%|██████████| 500/500 [00:01<00:00, 250.32it/s]\n"
          ]
        }
      ]
    },
    {
      "cell_type": "code",
      "source": [
        "if ndim == 2 :\n",
        "    print(samples_random / samples_random.sum())"
      ],
      "metadata": {
        "id": "xEwhQAO-alyd",
        "colab": {
          "base_uri": "https://localhost:8080/"
        },
        "outputId": "8360f43e-1b6d-40b0-f1db-ce726cd948e9"
      },
      "execution_count": null,
      "outputs": [
        {
          "output_type": "stream",
          "name": "stdout",
          "text": [
            "[[0.33190625 0.11071875 0.03601563 0.01239063 0.00626563]\n",
            " [0.11278125 0.0754375  0.03742188 0.016125   0.0108125 ]\n",
            " [0.03798438 0.03692187 0.02457812 0.01328125 0.01315625]\n",
            " [0.01196875 0.01660937 0.014      0.00876563 0.01084375]\n",
            " [0.00614063 0.01135937 0.01223438 0.01085937 0.02142187]]\n"
          ]
        }
      ]
    },
    {
      "cell_type": "code",
      "source": [
        "if ndim == 2 :\n",
        "    plt.imshow(samples_random)\n",
        "else :\n",
        "    plt.imshow(samples_random[0,0])"
      ],
      "metadata": {
        "id": "FcoZjxAxan3D",
        "colab": {
          "base_uri": "https://localhost:8080/",
          "height": 265
        },
        "outputId": "e32a8f4c-ffa9-4925-eec2-264325953de4"
      },
      "execution_count": null,
      "outputs": [
        {
          "output_type": "display_data",
          "data": {
            "text/plain": [
              "<Figure size 432x288 with 1 Axes>"
            ],
            "image/png": "[encoded data removed]"
          },
          "metadata": {
            "needs_background": "light"
          }
        }
      ]
    },
    {
      "cell_type": "code",
      "source": [
        "if ndim == 4 :\n",
        "    tmp = samples_random.sum((2,3))+samples_random.sum((0,1))+samples_random.sum((0,2))+samples_random.sum((1,3))+samples_random.sum((2,3))+samples_random.sum((0,3))\n",
        "    plt.imshow(tmp,vmin=0);plt.show()\n",
        "    plt.imshow(samples_random.sum((1,3)),vmin=0);plt.show()"
      ],
      "metadata": {
        "id": "fzTaQRbyZ9E7"
      },
      "execution_count": null,
      "outputs": []
    },
    {
      "cell_type": "markdown",
      "source": [
        "## Saves models"
      ],
      "metadata": {
        "id": "3XxLoeGvcQk5"
      }
    },
    {
      "cell_type": "code",
      "source": [
        "data = {\n",
        "    \"TB\" : [model_TB, logZ_TB, losses_TB, rewards_TB, logZ_TB_list, all_visited_TB, first_visit_TB, l1log_TB],\n",
        "    \"DB\" : [model_DB, logZ_DB, losses_DB, rewards_DB, logZ_DB_list, all_visited_DB, first_visit_DB, l1log_DB],\n",
        "    \"FM\" : [model_FM, logZ_FM, losses_FM, rewards_FM, logZ_FM_list, all_visited_FM, first_visit_FM, l1log_FM],\n",
        "    \"random\" : [None, None, None, rewards_random, None, all_visited_random, first_visit_random, l1log_random],\n",
        "}\n",
        "\n",
        "torch.save(data, \"/content/data_gfn.pth\")"
      ],
      "metadata": {
        "id": "mt4B-_etcSrR"
      },
      "execution_count": null,
      "outputs": []
    },
    {
      "cell_type": "markdown",
      "metadata": {
        "id": "5hRDhCYseBJF"
      },
      "source": [
        "## Plot"
      ]
    },
    {
      "cell_type": "code",
      "execution_count": null,
      "metadata": {
        "id": "Rdbrc2xkeC_C",
        "colab": {
          "base_uri": "https://localhost:8080/",
          "height": 1000
        },
        "outputId": "87a2a663-de26-4061-9314-7b1a4b1c5b34"
      },
      "outputs": [
        {
          "output_type": "execute_result",
          "data": {
            "text/plain": [
              "'\\nxs = list(range(len(emp_loss_TB)))\\nax4.plot(xs, emp_loss_TB, label=\"TB\")\\n#-\\nxs = list(range(len(emp_loss_DB)))\\nax4.plot(xs, emp_loss_DB, label=\"DB\")\\n#-\\nxs = list(range(len(emp_loss_FM)))\\nax4.plot(xs, emp_loss_FM, label=\"FM\")\\n#-\\nxs = list(range(len(emp_loss_random)))\\nax4.plot(xs, emp_loss_random, label=\"rand\")\\n#-\\nax4.set(xlabel=\\'#states visited\\', ylabel=\\'empirical loss\\')\\nax4.set_title(\\'empirical loss per epoch\\')\\nax4.legend()\\n'"
            ],
            "application/vnd.google.colaboratory.intrinsic+json": {
              "type": "string"
            }
          },
          "metadata": {},
          "execution_count": 71
        },
        {
          "output_type": "display_data",
          "data": {
            "text/plain": [
              "<Figure size 1728x1152 with 3 Axes>"
            ],
            "image/png": "[encoded data removed]"
          },
          "metadata": {
            "needs_background": "light"
          }
        }
      ],
      "source": [
        "figsize=(6*4,4*4)\n",
        "#fig, (ax1, ax2, ax3, ax4)  = plt.subplots(4, 1, sharex=False, sharey=False, figsize = figsize)\n",
        "fig, (ax1, ax2, ax3)  = plt.subplots(3, 1, sharex=False, sharey=False, figsize = figsize)\n",
        "fig.suptitle(\"Flownet agent : TB, DB, FM and Random angent\")\n",
        "\n",
        "## loss\n",
        "xs_TB = list(range(len(losses_TB)))\n",
        "ax1.plot(xs_TB, losses_TB, label=\"TB\")\n",
        "#-\n",
        "xs_DB = list(range(len(losses_DB)))\n",
        "ax1.plot(xs_DB, losses_DB, label=\"DB\")\n",
        "#-\n",
        "xs_FM = list(range(len(losses_FM)))\n",
        "ax1.plot(xs_FM, losses_FM, label=\"FM\")\n",
        "#-\n",
        "ax1.set(xlabel='episodes', ylabel='loss')\n",
        "ax1.set_title('loss per episodes : do not compare')\n",
        "ax1.legend()\n",
        "\n",
        "## rewards\n",
        "ax2.plot(xs_TB, rewards_TB, label=\"TB\")\n",
        "ax2.plot(xs_DB, rewards_DB, label=\"DB\")\n",
        "ax2.plot(xs_FM, rewards_FM, label=\"FM\")\n",
        "ax2.plot(xs_TB, rewards_random, label=\"rand\")\n",
        "ax2.set(xlabel='episodes', ylabel='reward')\n",
        "ax2.set_title('reward per episodes')\n",
        "ax2.legend()\n",
        "\n",
        "## empirical loss\n",
        "xs = [a[0] for a in l1log_TB]\n",
        "emp_loss_TB = [a[1] for a in l1log_TB]\n",
        "ax3.plot(xs, emp_loss_TB, label=\"TB\")\n",
        "#-\n",
        "xs = [a[0] for a in l1log_DB]\n",
        "emp_loss_DB = [a[1] for a in l1log_DB]\n",
        "ax3.plot(xs, emp_loss_DB, label=\"DB\")\n",
        "#-\n",
        "xs = [a[0] for a in l1log_FM]\n",
        "emp_loss_FM = [a[1] for a in l1log_FM]\n",
        "ax3.plot(xs, emp_loss_FM, label=\"FM\")\n",
        "#-\n",
        "xs = [a[0] for a in l1log_random]\n",
        "emp_loss_random = [a[1] for a in l1log_random]\n",
        "ax3.plot(xs, emp_loss_random, label=\"rand\")\n",
        "#-\n",
        "ax3.set(xlabel='#states visited', ylabel='empirical loss')\n",
        "ax3.set_title('empirical loss per #state visited')\n",
        "ax3.legend()\n",
        "\n",
        "\n",
        "## empiciral loss\n",
        "\"\"\"\n",
        "xs = list(range(len(emp_loss_TB)))\n",
        "ax4.plot(xs, emp_loss_TB, label=\"TB\")\n",
        "#-\n",
        "xs = list(range(len(emp_loss_DB)))\n",
        "ax4.plot(xs, emp_loss_DB, label=\"DB\")\n",
        "#-\n",
        "xs = list(range(len(emp_loss_FM)))\n",
        "ax4.plot(xs, emp_loss_FM, label=\"FM\")\n",
        "#-\n",
        "xs = list(range(len(emp_loss_random)))\n",
        "ax4.plot(xs, emp_loss_random, label=\"rand\")\n",
        "#-\n",
        "ax4.set(xlabel='#states visited', ylabel='empirical loss')\n",
        "ax4.set_title('empirical loss per epoch')\n",
        "ax4.legend()\n",
        "\"\"\""
      ]
    },
    {
      "cell_type": "markdown",
      "metadata": {
        "id": "MgRtXWYlHTUp"
      },
      "source": [
        "\n",
        "\n",
        "---\n",
        "\n"
      ]
    },
    {
      "cell_type": "code",
      "execution_count": null,
      "metadata": {
        "id": "sO1cdi-foPIi"
      },
      "outputs": [],
      "source": [
        "#threshold = R1\n",
        "threshold = R2\n",
        "#max_steps = None\n",
        "max_steps = 1000\n",
        "modes_founds_TB_, xs_TB_ = get_modes_founds(first_visit_TB, threshold, max_steps)\n",
        "modes_founds_DB_, xs_DB_ = get_modes_founds(first_visit_DB, threshold, max_steps)\n",
        "modes_founds_FM_, xs_FM_ = get_modes_founds(first_visit_FM, threshold, max_steps)\n",
        "modes_founds_random_, xs_random_ = get_modes_founds(first_visit_random, threshold, max_steps) "
      ]
    },
    {
      "cell_type": "code",
      "execution_count": null,
      "metadata": {
        "id": "9igd35fCtGe5",
        "colab": {
          "base_uri": "https://localhost:8080/",
          "height": 731
        },
        "outputId": "af66b6c6-e8e1-4ed0-8f57-d4770079ccfd"
      },
      "outputs": [
        {
          "output_type": "execute_result",
          "data": {
            "text/plain": [
              "<matplotlib.legend.Legend at 0x7f051043ec10>"
            ]
          },
          "metadata": {},
          "execution_count": 73
        },
        {
          "output_type": "display_data",
          "data": {
            "text/plain": [
              "<Figure size 1440x864 with 1 Axes>"
            ],
            "image/png": "[encoded data removed]"
          },
          "metadata": {
            "needs_background": "light"
          }
        }
      ],
      "source": [
        "figsize=(5*4,3*4)\n",
        "fig, ax1 = plt.subplots(1, 1, sharex=False, sharey=False, figsize = figsize)\n",
        "\n",
        "ax1.plot(xs_TB_, modes_founds_TB_, label=\"TB\")\n",
        "ax1.plot(xs_DB_, modes_founds_DB_, label=\"DB\")\n",
        "ax1.plot(xs_FM_, modes_founds_FM_, label=\"FM\")\n",
        "ax1.plot(xs_random_, modes_founds_random_, label=\"rand\")\n",
        "ax1.set(xlabel='#states visited', ylabel='mode founds')\n",
        "#ax1.set_title('...')\n",
        "ax1.legend()"
      ]
    },
    {
      "cell_type": "markdown",
      "metadata": {
        "id": "pdlp1PWJh6M2"
      },
      "source": [
        "# Load pretrained models and sample with\n",
        "\n"
      ]
    },
    {
      "cell_type": "code",
      "execution_count": null,
      "metadata": {
        "id": "thISsNDJh68X"
      },
      "outputs": [],
      "source": [
        "import torch\n",
        "device = torch.device(\"cuda\" if torch.cuda.is_available() else \"cpu\")\n",
        "\n",
        "data = torch.load(\"/content/data_gfn.pth\", map_location=device)"
      ]
    },
    {
      "cell_type": "markdown",
      "source": [
        "Run the samples sections above"
      ],
      "metadata": {
        "id": "WMP5PRhmcl31"
      }
    }
  ],
  "metadata": {
    "colab": {
      "collapsed_sections": [],
      "name": "2_Hypergrid_env.ipynb",
      "toc_visible": true,
      "provenance": [],
      "include_colab_link": true
    },
    "kernelspec": {
      "display_name": "Python 3",
      "name": "python3"
    },
    "language_info": {
      "name": "python"
    }
  },
  "nbformat": 4,
  "nbformat_minor": 0
}