{
  "nbformat": 4,
  "nbformat_minor": 0,
  "metadata": {
    "colab": {
      "name": "3_ImageGeneration&GAN.ipynb",
      "provenance": [],
      "collapsed_sections": [],
      "include_colab_link": true
    },
    "kernelspec": {
      "name": "python3",
      "display_name": "Python 3"
    },
    "language_info": {
      "name": "python"
    },
    "accelerator": "GPU",
    "widgets": {
      "application/vnd.jupyter.widget-state+json": {
        "c3b7af621fb54e328e1c4611d5046ee3": {
          "model_module": "@jupyter-widgets/controls",
          "model_name": "HBoxModel",
          "model_module_version": "1.5.0",
          "state": {
            "_dom_classes": [],
            "_model_module": "@jupyter-widgets/controls",
            "_model_module_version": "1.5.0",
            "_model_name": "HBoxModel",
            "_view_count": null,
            "_view_module": "@jupyter-widgets/controls",
            "_view_module_version": "1.5.0",
            "_view_name": "HBoxView",
            "box_style": "",
            "children": [
              "IPY_MODEL_b1f38a6c441646b2ac8a5b94486c5e39",
              "IPY_MODEL_3175d53b00264c94807a56fdb85c2899",
              "IPY_MODEL_dd880baf474d4fb4bf0670bfe15a62fd"
            ],
            "layout": "IPY_MODEL_a9ce0e0f689b4f3fa639dfa89a910ede"
          }
        },
        "b1f38a6c441646b2ac8a5b94486c5e39": {
          "model_module": "@jupyter-widgets/controls",
          "model_name": "HTMLModel",
          "model_module_version": "1.5.0",
          "state": {
            "_dom_classes": [],
            "_model_module": "@jupyter-widgets/controls",
            "_model_module_version": "1.5.0",
            "_model_name": "HTMLModel",
            "_view_count": null,
            "_view_module": "@jupyter-widgets/controls",
            "_view_module_version": "1.5.0",
            "_view_name": "HTMLView",
            "description": "",
            "description_tooltip": null,
            "layout": "IPY_MODEL_e401d1656fd042c1b675cd063395221c",
            "placeholder": "​",
            "style": "IPY_MODEL_98b413b979f64386ad8890af3ea4213d",
            "value": ""
          }
        },
        "3175d53b00264c94807a56fdb85c2899": {
          "model_module": "@jupyter-widgets/controls",
          "model_name": "FloatProgressModel",
          "model_module_version": "1.5.0",
          "state": {
            "_dom_classes": [],
            "_model_module": "@jupyter-widgets/controls",
            "_model_module_version": "1.5.0",
            "_model_name": "FloatProgressModel",
            "_view_count": null,
            "_view_module": "@jupyter-widgets/controls",
            "_view_module_version": "1.5.0",
            "_view_name": "ProgressView",
            "bar_style": "success",
            "description": "",
            "description_tooltip": null,
            "layout": "IPY_MODEL_21b0151a800c43ee83faa3cf400ecd89",
            "max": 9912422,
            "min": 0,
            "orientation": "horizontal",
            "style": "IPY_MODEL_fd9fe9e04ca74559954e9048913fdafe",
            "value": 9912422
          }
        },
        "dd880baf474d4fb4bf0670bfe15a62fd": {
          "model_module": "@jupyter-widgets/controls",
          "model_name": "HTMLModel",
          "model_module_version": "1.5.0",
          "state": {
            "_dom_classes": [],
            "_model_module": "@jupyter-widgets/controls",
            "_model_module_version": "1.5.0",
            "_model_name": "HTMLModel",
            "_view_count": null,
            "_view_module": "@jupyter-widgets/controls",
            "_view_module_version": "1.5.0",
            "_view_name": "HTMLView",
            "description": "",
            "description_tooltip": null,
            "layout": "IPY_MODEL_7629b3e849ad43c89542e46fab302263",
            "placeholder": "​",
            "style": "IPY_MODEL_60761f97352b4d45ab7032e7fd424c9d",
            "value": " 9913344/? [00:00&lt;00:00, 52554872.21it/s]"
          }
        },
        "a9ce0e0f689b4f3fa639dfa89a910ede": {
          "model_module": "@jupyter-widgets/base",
          "model_name": "LayoutModel",
          "model_module_version": "1.2.0",
          "state": {
            "_model_module": "@jupyter-widgets/base",
            "_model_module_version": "1.2.0",
            "_model_name": "LayoutModel",
            "_view_count": null,
            "_view_module": "@jupyter-widgets/base",
            "_view_module_version": "1.2.0",
            "_view_name": "LayoutView",
            "align_content": null,
            "align_items": null,
            "align_self": null,
            "border": null,
            "bottom": null,
            "display": null,
            "flex": null,
            "flex_flow": null,
            "grid_area": null,
            "grid_auto_columns": null,
            "grid_auto_flow": null,
            "grid_auto_rows": null,
            "grid_column": null,
            "grid_gap": null,
            "grid_row": null,
            "grid_template_areas": null,
            "grid_template_columns": null,
            "grid_template_rows": null,
            "height": null,
            "justify_content": null,
            "justify_items": null,
            "left": null,
            "margin": null,
            "max_height": null,
            "max_width": null,
            "min_height": null,
            "min_width": null,
            "object_fit": null,
            "object_position": null,
            "order": null,
            "overflow": null,
            "overflow_x": null,
            "overflow_y": null,
            "padding": null,
            "right": null,
            "top": null,
            "visibility": null,
            "width": null
          }
        },
        "e401d1656fd042c1b675cd063395221c": {
          "model_module": "@jupyter-widgets/base",
          "model_name": "LayoutModel",
          "model_module_version": "1.2.0",
          "state": {
            "_model_module": "@jupyter-widgets/base",
            "_model_module_version": "1.2.0",
            "_model_name": "LayoutModel",
            "_view_count": null,
            "_view_module": "@jupyter-widgets/base",
            "_view_module_version": "1.2.0",
            "_view_name": "LayoutView",
            "align_content": null,
            "align_items": null,
            "align_self": null,
            "border": null,
            "bottom": null,
            "display": null,
            "flex": null,
            "flex_flow": null,
            "grid_area": null,
            "grid_auto_columns": null,
            "grid_auto_flow": null,
            "grid_auto_rows": null,
            "grid_column": null,
            "grid_gap": null,
            "grid_row": null,
            "grid_template_areas": null,
            "grid_template_columns": null,
            "grid_template_rows": null,
            "height": null,
            "justify_content": null,
            "justify_items": null,
            "left": null,
            "margin": null,
            "max_height": null,
            "max_width": null,
            "min_height": null,
            "min_width": null,
            "object_fit": null,
            "object_position": null,
            "order": null,
            "overflow": null,
            "overflow_x": null,
            "overflow_y": null,
            "padding": null,
            "right": null,
            "top": null,
            "visibility": null,
            "width": null
          }
        },
        "98b413b979f64386ad8890af3ea4213d": {
          "model_module": "@jupyter-widgets/controls",
          "model_name": "DescriptionStyleModel",
          "model_module_version": "1.5.0",
          "state": {
            "_model_module": "@jupyter-widgets/controls",
            "_model_module_version": "1.5.0",
            "_model_name": "DescriptionStyleModel",
            "_view_count": null,
            "_view_module": "@jupyter-widgets/base",
            "_view_module_version": "1.2.0",
            "_view_name": "StyleView",
            "description_width": ""
          }
        },
        "21b0151a800c43ee83faa3cf400ecd89": {
          "model_module": "@jupyter-widgets/base",
          "model_name": "LayoutModel",
          "model_module_version": "1.2.0",
          "state": {
            "_model_module": "@jupyter-widgets/base",
            "_model_module_version": "1.2.0",
            "_model_name": "LayoutModel",
            "_view_count": null,
            "_view_module": "@jupyter-widgets/base",
            "_view_module_version": "1.2.0",
            "_view_name": "LayoutView",
            "align_content": null,
            "align_items": null,
            "align_self": null,
            "border": null,
            "bottom": null,
            "display": null,
            "flex": null,
            "flex_flow": null,
            "grid_area": null,
            "grid_auto_columns": null,
            "grid_auto_flow": null,
            "grid_auto_rows": null,
            "grid_column": null,
            "grid_gap": null,
            "grid_row": null,
            "grid_template_areas": null,
            "grid_template_columns": null,
            "grid_template_rows": null,
            "height": null,
            "justify_content": null,
            "justify_items": null,
            "left": null,
            "margin": null,
            "max_height": null,
            "max_width": null,
            "min_height": null,
            "min_width": null,
            "object_fit": null,
            "object_position": null,
            "order": null,
            "overflow": null,
            "overflow_x": null,
            "overflow_y": null,
            "padding": null,
            "right": null,
            "top": null,
            "visibility": null,
            "width": null
          }
        },
        "fd9fe9e04ca74559954e9048913fdafe": {
          "model_module": "@jupyter-widgets/controls",
          "model_name": "ProgressStyleModel",
          "model_module_version": "1.5.0",
          "state": {
            "_model_module": "@jupyter-widgets/controls",
            "_model_module_version": "1.5.0",
            "_model_name": "ProgressStyleModel",
            "_view_count": null,
            "_view_module": "@jupyter-widgets/base",
            "_view_module_version": "1.2.0",
            "_view_name": "StyleView",
            "bar_color": null,
            "description_width": ""
          }
        },
        "7629b3e849ad43c89542e46fab302263": {
          "model_module": "@jupyter-widgets/base",
          "model_name": "LayoutModel",
          "model_module_version": "1.2.0",
          "state": {
            "_model_module": "@jupyter-widgets/base",
            "_model_module_version": "1.2.0",
            "_model_name": "LayoutModel",
            "_view_count": null,
            "_view_module": "@jupyter-widgets/base",
            "_view_module_version": "1.2.0",
            "_view_name": "LayoutView",
            "align_content": null,
            "align_items": null,
            "align_self": null,
            "border": null,
            "bottom": null,
            "display": null,
            "flex": null,
            "flex_flow": null,
            "grid_area": null,
            "grid_auto_columns": null,
            "grid_auto_flow": null,
            "grid_auto_rows": null,
            "grid_column": null,
            "grid_gap": null,
            "grid_row": null,
            "grid_template_areas": null,
            "grid_template_columns": null,
            "grid_template_rows": null,
            "height": null,
            "justify_content": null,
            "justify_items": null,
            "left": null,
            "margin": null,
            "max_height": null,
            "max_width": null,
            "min_height": null,
            "min_width": null,
            "object_fit": null,
            "object_position": null,
            "order": null,
            "overflow": null,
            "overflow_x": null,
            "overflow_y": null,
            "padding": null,
            "right": null,
            "top": null,
            "visibility": null,
            "width": null
          }
        },
        "60761f97352b4d45ab7032e7fd424c9d": {
          "model_module": "@jupyter-widgets/controls",
          "model_name": "DescriptionStyleModel",
          "model_module_version": "1.5.0",
          "state": {
            "_model_module": "@jupyter-widgets/controls",
            "_model_module_version": "1.5.0",
            "_model_name": "DescriptionStyleModel",
            "_view_count": null,
            "_view_module": "@jupyter-widgets/base",
            "_view_module_version": "1.2.0",
            "_view_name": "StyleView",
            "description_width": ""
          }
        },
        "fcc34341aa62417589e94fef7b8a7496": {
          "model_module": "@jupyter-widgets/controls",
          "model_name": "HBoxModel",
          "model_module_version": "1.5.0",
          "state": {
            "_dom_classes": [],
            "_model_module": "@jupyter-widgets/controls",
            "_model_module_version": "1.5.0",
            "_model_name": "HBoxModel",
            "_view_count": null,
            "_view_module": "@jupyter-widgets/controls",
            "_view_module_version": "1.5.0",
            "_view_name": "HBoxView",
            "box_style": "",
            "children": [
              "IPY_MODEL_5710298fba0e42c79aab9529ce75037f",
              "IPY_MODEL_5ddb7f399fa840cf93decc83dc6166f7",
              "IPY_MODEL_a9807ef780e1404cbb46965e419d14b4"
            ],
            "layout": "IPY_MODEL_2625777c7b6d4431bcb2ee81b00534df"
          }
        },
        "5710298fba0e42c79aab9529ce75037f": {
          "model_module": "@jupyter-widgets/controls",
          "model_name": "HTMLModel",
          "model_module_version": "1.5.0",
          "state": {
            "_dom_classes": [],
            "_model_module": "@jupyter-widgets/controls",
            "_model_module_version": "1.5.0",
            "_model_name": "HTMLModel",
            "_view_count": null,
            "_view_module": "@jupyter-widgets/controls",
            "_view_module_version": "1.5.0",
            "_view_name": "HTMLView",
            "description": "",
            "description_tooltip": null,
            "layout": "IPY_MODEL_19e0b3755a814c53bb0381b93236f944",
            "placeholder": "​",
            "style": "IPY_MODEL_6568165fc73440debde28ccfe3cb14f7",
            "value": ""
          }
        },
        "5ddb7f399fa840cf93decc83dc6166f7": {
          "model_module": "@jupyter-widgets/controls",
          "model_name": "FloatProgressModel",
          "model_module_version": "1.5.0",
          "state": {
            "_dom_classes": [],
            "_model_module": "@jupyter-widgets/controls",
            "_model_module_version": "1.5.0",
            "_model_name": "FloatProgressModel",
            "_view_count": null,
            "_view_module": "@jupyter-widgets/controls",
            "_view_module_version": "1.5.0",
            "_view_name": "ProgressView",
            "bar_style": "success",
            "description": "",
            "description_tooltip": null,
            "layout": "IPY_MODEL_55beea1889994baa8c51a59057923c0d",
            "max": 28881,
            "min": 0,
            "orientation": "horizontal",
            "style": "IPY_MODEL_4f3045f15d8a44589c1650625691987e",
            "value": 28881
          }
        },
        "a9807ef780e1404cbb46965e419d14b4": {
          "model_module": "@jupyter-widgets/controls",
          "model_name": "HTMLModel",
          "model_module_version": "1.5.0",
          "state": {
            "_dom_classes": [],
            "_model_module": "@jupyter-widgets/controls",
            "_model_module_version": "1.5.0",
            "_model_name": "HTMLModel",
            "_view_count": null,
            "_view_module": "@jupyter-widgets/controls",
            "_view_module_version": "1.5.0",
            "_view_name": "HTMLView",
            "description": "",
            "description_tooltip": null,
            "layout": "IPY_MODEL_d1c20a4c46d347788c43f18f61d9eb05",
            "placeholder": "​",
            "style": "IPY_MODEL_2151f780e5844e4aba14cdaecbfd1807",
            "value": " 29696/? [00:00&lt;00:00, 800573.67it/s]"
          }
        },
        "2625777c7b6d4431bcb2ee81b00534df": {
          "model_module": "@jupyter-widgets/base",
          "model_name": "LayoutModel",
          "model_module_version": "1.2.0",
          "state": {
            "_model_module": "@jupyter-widgets/base",
            "_model_module_version": "1.2.0",
            "_model_name": "LayoutModel",
            "_view_count": null,
            "_view_module": "@jupyter-widgets/base",
            "_view_module_version": "1.2.0",
            "_view_name": "LayoutView",
            "align_content": null,
            "align_items": null,
            "align_self": null,
            "border": null,
            "bottom": null,
            "display": null,
            "flex": null,
            "flex_flow": null,
            "grid_area": null,
            "grid_auto_columns": null,
            "grid_auto_flow": null,
            "grid_auto_rows": null,
            "grid_column": null,
            "grid_gap": null,
            "grid_row": null,
            "grid_template_areas": null,
            "grid_template_columns": null,
            "grid_template_rows": null,
            "height": null,
            "justify_content": null,
            "justify_items": null,
            "left": null,
            "margin": null,
            "max_height": null,
            "max_width": null,
            "min_height": null,
            "min_width": null,
            "object_fit": null,
            "object_position": null,
            "order": null,
            "overflow": null,
            "overflow_x": null,
            "overflow_y": null,
            "padding": null,
            "right": null,
            "top": null,
            "visibility": null,
            "width": null
          }
        },
        "19e0b3755a814c53bb0381b93236f944": {
          "model_module": "@jupyter-widgets/base",
          "model_name": "LayoutModel",
          "model_module_version": "1.2.0",
          "state": {
            "_model_module": "@jupyter-widgets/base",
            "_model_module_version": "1.2.0",
            "_model_name": "LayoutModel",
            "_view_count": null,
            "_view_module": "@jupyter-widgets/base",
            "_view_module_version": "1.2.0",
            "_view_name": "LayoutView",
            "align_content": null,
            "align_items": null,
            "align_self": null,
            "border": null,
            "bottom": null,
            "display": null,
            "flex": null,
            "flex_flow": null,
            "grid_area": null,
            "grid_auto_columns": null,
            "grid_auto_flow": null,
            "grid_auto_rows": null,
            "grid_column": null,
            "grid_gap": null,
            "grid_row": null,
            "grid_template_areas": null,
            "grid_template_columns": null,
            "grid_template_rows": null,
            "height": null,
            "justify_content": null,
            "justify_items": null,
            "left": null,
            "margin": null,
            "max_height": null,
            "max_width": null,
            "min_height": null,
            "min_width": null,
            "object_fit": null,
            "object_position": null,
            "order": null,
            "overflow": null,
            "overflow_x": null,
            "overflow_y": null,
            "padding": null,
            "right": null,
            "top": null,
            "visibility": null,
            "width": null
          }
        },
        "6568165fc73440debde28ccfe3cb14f7": {
          "model_module": "@jupyter-widgets/controls",
          "model_name": "DescriptionStyleModel",
          "model_module_version": "1.5.0",
          "state": {
            "_model_module": "@jupyter-widgets/controls",
            "_model_module_version": "1.5.0",
            "_model_name": "DescriptionStyleModel",
            "_view_count": null,
            "_view_module": "@jupyter-widgets/base",
            "_view_module_version": "1.2.0",
            "_view_name": "StyleView",
            "description_width": ""
          }
        },
        "55beea1889994baa8c51a59057923c0d": {
          "model_module": "@jupyter-widgets/base",
          "model_name": "LayoutModel",
          "model_module_version": "1.2.0",
          "state": {
            "_model_module": "@jupyter-widgets/base",
            "_model_module_version": "1.2.0",
            "_model_name": "LayoutModel",
            "_view_count": null,
            "_view_module": "@jupyter-widgets/base",
            "_view_module_version": "1.2.0",
            "_view_name": "LayoutView",
            "align_content": null,
            "align_items": null,
            "align_self": null,
            "border": null,
            "bottom": null,
            "display": null,
            "flex": null,
            "flex_flow": null,
            "grid_area": null,
            "grid_auto_columns": null,
            "grid_auto_flow": null,
            "grid_auto_rows": null,
            "grid_column": null,
            "grid_gap": null,
            "grid_row": null,
            "grid_template_areas": null,
            "grid_template_columns": null,
            "grid_template_rows": null,
            "height": null,
            "justify_content": null,
            "justify_items": null,
            "left": null,
            "margin": null,
            "max_height": null,
            "max_width": null,
            "min_height": null,
            "min_width": null,
            "object_fit": null,
            "object_position": null,
            "order": null,
            "overflow": null,
            "overflow_x": null,
            "overflow_y": null,
            "padding": null,
            "right": null,
            "top": null,
            "visibility": null,
            "width": null
          }
        },
        "4f3045f15d8a44589c1650625691987e": {
          "model_module": "@jupyter-widgets/controls",
          "model_name": "ProgressStyleModel",
          "model_module_version": "1.5.0",
          "state": {
            "_model_module": "@jupyter-widgets/controls",
            "_model_module_version": "1.5.0",
            "_model_name": "ProgressStyleModel",
            "_view_count": null,
            "_view_module": "@jupyter-widgets/base",
            "_view_module_version": "1.2.0",
            "_view_name": "StyleView",
            "bar_color": null,
            "description_width": ""
          }
        },
        "d1c20a4c46d347788c43f18f61d9eb05": {
          "model_module": "@jupyter-widgets/base",
          "model_name": "LayoutModel",
          "model_module_version": "1.2.0",
          "state": {
            "_model_module": "@jupyter-widgets/base",
            "_model_module_version": "1.2.0",
            "_model_name": "LayoutModel",
            "_view_count": null,
            "_view_module": "@jupyter-widgets/base",
            "_view_module_version": "1.2.0",
            "_view_name": "LayoutView",
            "align_content": null,
            "align_items": null,
            "align_self": null,
            "border": null,
            "bottom": null,
            "display": null,
            "flex": null,
            "flex_flow": null,
            "grid_area": null,
            "grid_auto_columns": null,
            "grid_auto_flow": null,
            "grid_auto_rows": null,
            "grid_column": null,
            "grid_gap": null,
            "grid_row": null,
            "grid_template_areas": null,
            "grid_template_columns": null,
            "grid_template_rows": null,
            "height": null,
            "justify_content": null,
            "justify_items": null,
            "left": null,
            "margin": null,
            "max_height": null,
            "max_width": null,
            "min_height": null,
            "min_width": null,
            "object_fit": null,
            "object_position": null,
            "order": null,
            "overflow": null,
            "overflow_x": null,
            "overflow_y": null,
            "padding": null,
            "right": null,
            "top": null,
            "visibility": null,
            "width": null
          }
        },
        "2151f780e5844e4aba14cdaecbfd1807": {
          "model_module": "@jupyter-widgets/controls",
          "model_name": "DescriptionStyleModel",
          "model_module_version": "1.5.0",
          "state": {
            "_model_module": "@jupyter-widgets/controls",
            "_model_module_version": "1.5.0",
            "_model_name": "DescriptionStyleModel",
            "_view_count": null,
            "_view_module": "@jupyter-widgets/base",
            "_view_module_version": "1.2.0",
            "_view_name": "StyleView",
            "description_width": ""
          }
        },
        "9067f574a4504e739c3e82fae73f20c1": {
          "model_module": "@jupyter-widgets/controls",
          "model_name": "HBoxModel",
          "model_module_version": "1.5.0",
          "state": {
            "_dom_classes": [],
            "_model_module": "@jupyter-widgets/controls",
            "_model_module_version": "1.5.0",
            "_model_name": "HBoxModel",
            "_view_count": null,
            "_view_module": "@jupyter-widgets/controls",
            "_view_module_version": "1.5.0",
            "_view_name": "HBoxView",
            "box_style": "",
            "children": [
              "IPY_MODEL_0542090dbb9d442e80f776c40ec45580",
              "IPY_MODEL_5daa32dbcec84be4857804b98bbc7562",
              "IPY_MODEL_ad2bedcadbb64e459e471ee3cb02dc29"
            ],
            "layout": "IPY_MODEL_2e1cc6b3052c4804a40f8a21c5220683"
          }
        },
        "0542090dbb9d442e80f776c40ec45580": {
          "model_module": "@jupyter-widgets/controls",
          "model_name": "HTMLModel",
          "model_module_version": "1.5.0",
          "state": {
            "_dom_classes": [],
            "_model_module": "@jupyter-widgets/controls",
            "_model_module_version": "1.5.0",
            "_model_name": "HTMLModel",
            "_view_count": null,
            "_view_module": "@jupyter-widgets/controls",
            "_view_module_version": "1.5.0",
            "_view_name": "HTMLView",
            "description": "",
            "description_tooltip": null,
            "layout": "IPY_MODEL_42a025ff6f784fc3ab27144c9b8cf4d5",
            "placeholder": "​",
            "style": "IPY_MODEL_aa28441f1beb4c1ebf12c79eaa4930ec",
            "value": ""
          }
        },
        "5daa32dbcec84be4857804b98bbc7562": {
          "model_module": "@jupyter-widgets/controls",
          "model_name": "FloatProgressModel",
          "model_module_version": "1.5.0",
          "state": {
            "_dom_classes": [],
            "_model_module": "@jupyter-widgets/controls",
            "_model_module_version": "1.5.0",
            "_model_name": "FloatProgressModel",
            "_view_count": null,
            "_view_module": "@jupyter-widgets/controls",
            "_view_module_version": "1.5.0",
            "_view_name": "ProgressView",
            "bar_style": "success",
            "description": "",
            "description_tooltip": null,
            "layout": "IPY_MODEL_a6b59d262da64000956a5873f74a015e",
            "max": 1648877,
            "min": 0,
            "orientation": "horizontal",
            "style": "IPY_MODEL_cd461de843204453add8ac3960f7dd75",
            "value": 1648877
          }
        },
        "ad2bedcadbb64e459e471ee3cb02dc29": {
          "model_module": "@jupyter-widgets/controls",
          "model_name": "HTMLModel",
          "model_module_version": "1.5.0",
          "state": {
            "_dom_classes": [],
            "_model_module": "@jupyter-widgets/controls",
            "_model_module_version": "1.5.0",
            "_model_name": "HTMLModel",
            "_view_count": null,
            "_view_module": "@jupyter-widgets/controls",
            "_view_module_version": "1.5.0",
            "_view_name": "HTMLView",
            "description": "",
            "description_tooltip": null,
            "layout": "IPY_MODEL_967ad85461a746a88bf9de34fb8325de",
            "placeholder": "​",
            "style": "IPY_MODEL_6bb87ff1cd5b4c6fa970e5c90e57a204",
            "value": " 1649664/? [00:00&lt;00:00, 18142752.71it/s]"
          }
        },
        "2e1cc6b3052c4804a40f8a21c5220683": {
          "model_module": "@jupyter-widgets/base",
          "model_name": "LayoutModel",
          "model_module_version": "1.2.0",
          "state": {
            "_model_module": "@jupyter-widgets/base",
            "_model_module_version": "1.2.0",
            "_model_name": "LayoutModel",
            "_view_count": null,
            "_view_module": "@jupyter-widgets/base",
            "_view_module_version": "1.2.0",
            "_view_name": "LayoutView",
            "align_content": null,
            "align_items": null,
            "align_self": null,
            "border": null,
            "bottom": null,
            "display": null,
            "flex": null,
            "flex_flow": null,
            "grid_area": null,
            "grid_auto_columns": null,
            "grid_auto_flow": null,
            "grid_auto_rows": null,
            "grid_column": null,
            "grid_gap": null,
            "grid_row": null,
            "grid_template_areas": null,
            "grid_template_columns": null,
            "grid_template_rows": null,
            "height": null,
            "justify_content": null,
            "justify_items": null,
            "left": null,
            "margin": null,
            "max_height": null,
            "max_width": null,
            "min_height": null,
            "min_width": null,
            "object_fit": null,
            "object_position": null,
            "order": null,
            "overflow": null,
            "overflow_x": null,
            "overflow_y": null,
            "padding": null,
            "right": null,
            "top": null,
            "visibility": null,
            "width": null
          }
        },
        "42a025ff6f784fc3ab27144c9b8cf4d5": {
          "model_module": "@jupyter-widgets/base",
          "model_name": "LayoutModel",
          "model_module_version": "1.2.0",
          "state": {
            "_model_module": "@jupyter-widgets/base",
            "_model_module_version": "1.2.0",
            "_model_name": "LayoutModel",
            "_view_count": null,
            "_view_module": "@jupyter-widgets/base",
            "_view_module_version": "1.2.0",
            "_view_name": "LayoutView",
            "align_content": null,
            "align_items": null,
            "align_self": null,
            "border": null,
            "bottom": null,
            "display": null,
            "flex": null,
            "flex_flow": null,
            "grid_area": null,
            "grid_auto_columns": null,
            "grid_auto_flow": null,
            "grid_auto_rows": null,
            "grid_column": null,
            "grid_gap": null,
            "grid_row": null,
            "grid_template_areas": null,
            "grid_template_columns": null,
            "grid_template_rows": null,
            "height": null,
            "justify_content": null,
            "justify_items": null,
            "left": null,
            "margin": null,
            "max_height": null,
            "max_width": null,
            "min_height": null,
            "min_width": null,
            "object_fit": null,
            "object_position": null,
            "order": null,
            "overflow": null,
            "overflow_x": null,
            "overflow_y": null,
            "padding": null,
            "right": null,
            "top": null,
            "visibility": null,
            "width": null
          }
        },
        "aa28441f1beb4c1ebf12c79eaa4930ec": {
          "model_module": "@jupyter-widgets/controls",
          "model_name": "DescriptionStyleModel",
          "model_module_version": "1.5.0",
          "state": {
            "_model_module": "@jupyter-widgets/controls",
            "_model_module_version": "1.5.0",
            "_model_name": "DescriptionStyleModel",
            "_view_count": null,
            "_view_module": "@jupyter-widgets/base",
            "_view_module_version": "1.2.0",
            "_view_name": "StyleView",
            "description_width": ""
          }
        },
        "a6b59d262da64000956a5873f74a015e": {
          "model_module": "@jupyter-widgets/base",
          "model_name": "LayoutModel",
          "model_module_version": "1.2.0",
          "state": {
            "_model_module": "@jupyter-widgets/base",
            "_model_module_version": "1.2.0",
            "_model_name": "LayoutModel",
            "_view_count": null,
            "_view_module": "@jupyter-widgets/base",
            "_view_module_version": "1.2.0",
            "_view_name": "LayoutView",
            "align_content": null,
            "align_items": null,
            "align_self": null,
            "border": null,
            "bottom": null,
            "display": null,
            "flex": null,
            "flex_flow": null,
            "grid_area": null,
            "grid_auto_columns": null,
            "grid_auto_flow": null,
            "grid_auto_rows": null,
            "grid_column": null,
            "grid_gap": null,
            "grid_row": null,
            "grid_template_areas": null,
            "grid_template_columns": null,
            "grid_template_rows": null,
            "height": null,
            "justify_content": null,
            "justify_items": null,
            "left": null,
            "margin": null,
            "max_height": null,
            "max_width": null,
            "min_height": null,
            "min_width": null,
            "object_fit": null,
            "object_position": null,
            "order": null,
            "overflow": null,
            "overflow_x": null,
            "overflow_y": null,
            "padding": null,
            "right": null,
            "top": null,
            "visibility": null,
            "width": null
          }
        },
        "cd461de843204453add8ac3960f7dd75": {
          "model_module": "@jupyter-widgets/controls",
          "model_name": "ProgressStyleModel",
          "model_module_version": "1.5.0",
          "state": {
            "_model_module": "@jupyter-widgets/controls",
            "_model_module_version": "1.5.0",
            "_model_name": "ProgressStyleModel",
            "_view_count": null,
            "_view_module": "@jupyter-widgets/base",
            "_view_module_version": "1.2.0",
            "_view_name": "StyleView",
            "bar_color": null,
            "description_width": ""
          }
        },
        "967ad85461a746a88bf9de34fb8325de": {
          "model_module": "@jupyter-widgets/base",
          "model_name": "LayoutModel",
          "model_module_version": "1.2.0",
          "state": {
            "_model_module": "@jupyter-widgets/base",
            "_model_module_version": "1.2.0",
            "_model_name": "LayoutModel",
            "_view_count": null,
            "_view_module": "@jupyter-widgets/base",
            "_view_module_version": "1.2.0",
            "_view_name": "LayoutView",
            "align_content": null,
            "align_items": null,
            "align_self": null,
            "border": null,
            "bottom": null,
            "display": null,
            "flex": null,
            "flex_flow": null,
            "grid_area": null,
            "grid_auto_columns": null,
            "grid_auto_flow": null,
            "grid_auto_rows": null,
            "grid_column": null,
            "grid_gap": null,
            "grid_row": null,
            "grid_template_areas": null,
            "grid_template_columns": null,
            "grid_template_rows": null,
            "height": null,
            "justify_content": null,
            "justify_items": null,
            "left": null,
            "margin": null,
            "max_height": null,
            "max_width": null,
            "min_height": null,
            "min_width": null,
            "object_fit": null,
            "object_position": null,
            "order": null,
            "overflow": null,
            "overflow_x": null,
            "overflow_y": null,
            "padding": null,
            "right": null,
            "top": null,
            "visibility": null,
            "width": null
          }
        },
        "6bb87ff1cd5b4c6fa970e5c90e57a204": {
          "model_module": "@jupyter-widgets/controls",
          "model_name": "DescriptionStyleModel",
          "model_module_version": "1.5.0",
          "state": {
            "_model_module": "@jupyter-widgets/controls",
            "_model_module_version": "1.5.0",
            "_model_name": "DescriptionStyleModel",
            "_view_count": null,
            "_view_module": "@jupyter-widgets/base",
            "_view_module_version": "1.2.0",
            "_view_name": "StyleView",
            "description_width": ""
          }
        },
        "978eb2fade4d45cc8566d0b1f537820d": {
          "model_module": "@jupyter-widgets/controls",
          "model_name": "HBoxModel",
          "model_module_version": "1.5.0",
          "state": {
            "_dom_classes": [],
            "_model_module": "@jupyter-widgets/controls",
            "_model_module_version": "1.5.0",
            "_model_name": "HBoxModel",
            "_view_count": null,
            "_view_module": "@jupyter-widgets/controls",
            "_view_module_version": "1.5.0",
            "_view_name": "HBoxView",
            "box_style": "",
            "children": [
              "IPY_MODEL_78b49df3ed3b44549f48263a588906ad",
              "IPY_MODEL_c7791e18a75b4703961ac251503565fe",
              "IPY_MODEL_951ba503007a4de09d4dece9dce8922a"
            ],
            "layout": "IPY_MODEL_f4ef679f0c624879a224ea013c2dd3ac"
          }
        },
        "78b49df3ed3b44549f48263a588906ad": {
          "model_module": "@jupyter-widgets/controls",
          "model_name": "HTMLModel",
          "model_module_version": "1.5.0",
          "state": {
            "_dom_classes": [],
            "_model_module": "@jupyter-widgets/controls",
            "_model_module_version": "1.5.0",
            "_model_name": "HTMLModel",
            "_view_count": null,
            "_view_module": "@jupyter-widgets/controls",
            "_view_module_version": "1.5.0",
            "_view_name": "HTMLView",
            "description": "",
            "description_tooltip": null,
            "layout": "IPY_MODEL_fe0faca4836549b7af0aa287f52f8252",
            "placeholder": "​",
            "style": "IPY_MODEL_51e119155fc044a0b03f94bf7b3d60e2",
            "value": ""
          }
        },
        "c7791e18a75b4703961ac251503565fe": {
          "model_module": "@jupyter-widgets/controls",
          "model_name": "FloatProgressModel",
          "model_module_version": "1.5.0",
          "state": {
            "_dom_classes": [],
            "_model_module": "@jupyter-widgets/controls",
            "_model_module_version": "1.5.0",
            "_model_name": "FloatProgressModel",
            "_view_count": null,
            "_view_module": "@jupyter-widgets/controls",
            "_view_module_version": "1.5.0",
            "_view_name": "ProgressView",
            "bar_style": "success",
            "description": "",
            "description_tooltip": null,
            "layout": "IPY_MODEL_0fcee55c7eca4bbfb7f0ecdf9c514ae2",
            "max": 4542,
            "min": 0,
            "orientation": "horizontal",
            "style": "IPY_MODEL_90cfa1a70aa7427d8f2ffe3ff02afb93",
            "value": 4542
          }
        },
        "951ba503007a4de09d4dece9dce8922a": {
          "model_module": "@jupyter-widgets/controls",
          "model_name": "HTMLModel",
          "model_module_version": "1.5.0",
          "state": {
            "_dom_classes": [],
            "_model_module": "@jupyter-widgets/controls",
            "_model_module_version": "1.5.0",
            "_model_name": "HTMLModel",
            "_view_count": null,
            "_view_module": "@jupyter-widgets/controls",
            "_view_module_version": "1.5.0",
            "_view_name": "HTMLView",
            "description": "",
            "description_tooltip": null,
            "layout": "IPY_MODEL_3820bdccdd9b4f95b072f9abece96ec8",
            "placeholder": "​",
            "style": "IPY_MODEL_c80271a45f954d9aa4bebb520cf17ce8",
            "value": " 5120/? [00:00&lt;00:00, 114720.30it/s]"
          }
        },
        "f4ef679f0c624879a224ea013c2dd3ac": {
          "model_module": "@jupyter-widgets/base",
          "model_name": "LayoutModel",
          "model_module_version": "1.2.0",
          "state": {
            "_model_module": "@jupyter-widgets/base",
            "_model_module_version": "1.2.0",
            "_model_name": "LayoutModel",
            "_view_count": null,
            "_view_module": "@jupyter-widgets/base",
            "_view_module_version": "1.2.0",
            "_view_name": "LayoutView",
            "align_content": null,
            "align_items": null,
            "align_self": null,
            "border": null,
            "bottom": null,
            "display": null,
            "flex": null,
            "flex_flow": null,
            "grid_area": null,
            "grid_auto_columns": null,
            "grid_auto_flow": null,
            "grid_auto_rows": null,
            "grid_column": null,
            "grid_gap": null,
            "grid_row": null,
            "grid_template_areas": null,
            "grid_template_columns": null,
            "grid_template_rows": null,
            "height": null,
            "justify_content": null,
            "justify_items": null,
            "left": null,
            "margin": null,
            "max_height": null,
            "max_width": null,
            "min_height": null,
            "min_width": null,
            "object_fit": null,
            "object_position": null,
            "order": null,
            "overflow": null,
            "overflow_x": null,
            "overflow_y": null,
            "padding": null,
            "right": null,
            "top": null,
            "visibility": null,
            "width": null
          }
        },
        "fe0faca4836549b7af0aa287f52f8252": {
          "model_module": "@jupyter-widgets/base",
          "model_name": "LayoutModel",
          "model_module_version": "1.2.0",
          "state": {
            "_model_module": "@jupyter-widgets/base",
            "_model_module_version": "1.2.0",
            "_model_name": "LayoutModel",
            "_view_count": null,
            "_view_module": "@jupyter-widgets/base",
            "_view_module_version": "1.2.0",
            "_view_name": "LayoutView",
            "align_content": null,
            "align_items": null,
            "align_self": null,
            "border": null,
            "bottom": null,
            "display": null,
            "flex": null,
            "flex_flow": null,
            "grid_area": null,
            "grid_auto_columns": null,
            "grid_auto_flow": null,
            "grid_auto_rows": null,
            "grid_column": null,
            "grid_gap": null,
            "grid_row": null,
            "grid_template_areas": null,
            "grid_template_columns": null,
            "grid_template_rows": null,
            "height": null,
            "justify_content": null,
            "justify_items": null,
            "left": null,
            "margin": null,
            "max_height": null,
            "max_width": null,
            "min_height": null,
            "min_width": null,
            "object_fit": null,
            "object_position": null,
            "order": null,
            "overflow": null,
            "overflow_x": null,
            "overflow_y": null,
            "padding": null,
            "right": null,
            "top": null,
            "visibility": null,
            "width": null
          }
        },
        "51e119155fc044a0b03f94bf7b3d60e2": {
          "model_module": "@jupyter-widgets/controls",
          "model_name": "DescriptionStyleModel",
          "model_module_version": "1.5.0",
          "state": {
            "_model_module": "@jupyter-widgets/controls",
            "_model_module_version": "1.5.0",
            "_model_name": "DescriptionStyleModel",
            "_view_count": null,
            "_view_module": "@jupyter-widgets/base",
            "_view_module_version": "1.2.0",
            "_view_name": "StyleView",
            "description_width": ""
          }
        },
        "0fcee55c7eca4bbfb7f0ecdf9c514ae2": {
          "model_module": "@jupyter-widgets/base",
          "model_name": "LayoutModel",
          "model_module_version": "1.2.0",
          "state": {
            "_model_module": "@jupyter-widgets/base",
            "_model_module_version": "1.2.0",
            "_model_name": "LayoutModel",
            "_view_count": null,
            "_view_module": "@jupyter-widgets/base",
            "_view_module_version": "1.2.0",
            "_view_name": "LayoutView",
            "align_content": null,
            "align_items": null,
            "align_self": null,
            "border": null,
            "bottom": null,
            "display": null,
            "flex": null,
            "flex_flow": null,
            "grid_area": null,
            "grid_auto_columns": null,
            "grid_auto_flow": null,
            "grid_auto_rows": null,
            "grid_column": null,
            "grid_gap": null,
            "grid_row": null,
            "grid_template_areas": null,
            "grid_template_columns": null,
            "grid_template_rows": null,
            "height": null,
            "justify_content": null,
            "justify_items": null,
            "left": null,
            "margin": null,
            "max_height": null,
            "max_width": null,
            "min_height": null,
            "min_width": null,
            "object_fit": null,
            "object_position": null,
            "order": null,
            "overflow": null,
            "overflow_x": null,
            "overflow_y": null,
            "padding": null,
            "right": null,
            "top": null,
            "visibility": null,
            "width": null
          }
        },
        "90cfa1a70aa7427d8f2ffe3ff02afb93": {
          "model_module": "@jupyter-widgets/controls",
          "model_name": "ProgressStyleModel",
          "model_module_version": "1.5.0",
          "state": {
            "_model_module": "@jupyter-widgets/controls",
            "_model_module_version": "1.5.0",
            "_model_name": "ProgressStyleModel",
            "_view_count": null,
            "_view_module": "@jupyter-widgets/base",
            "_view_module_version": "1.2.0",
            "_view_name": "StyleView",
            "bar_color": null,
            "description_width": ""
          }
        },
        "3820bdccdd9b4f95b072f9abece96ec8": {
          "model_module": "@jupyter-widgets/base",
          "model_name": "LayoutModel",
          "model_module_version": "1.2.0",
          "state": {
            "_model_module": "@jupyter-widgets/base",
            "_model_module_version": "1.2.0",
            "_model_name": "LayoutModel",
            "_view_count": null,
            "_view_module": "@jupyter-widgets/base",
            "_view_module_version": "1.2.0",
            "_view_name": "LayoutView",
            "align_content": null,
            "align_items": null,
            "align_self": null,
            "border": null,
            "bottom": null,
            "display": null,
            "flex": null,
            "flex_flow": null,
            "grid_area": null,
            "grid_auto_columns": null,
            "grid_auto_flow": null,
            "grid_auto_rows": null,
            "grid_column": null,
            "grid_gap": null,
            "grid_row": null,
            "grid_template_areas": null,
            "grid_template_columns": null,
            "grid_template_rows": null,
            "height": null,
            "justify_content": null,
            "justify_items": null,
            "left": null,
            "margin": null,
            "max_height": null,
            "max_width": null,
            "min_height": null,
            "min_width": null,
            "object_fit": null,
            "object_position": null,
            "order": null,
            "overflow": null,
            "overflow_x": null,
            "overflow_y": null,
            "padding": null,
            "right": null,
            "top": null,
            "visibility": null,
            "width": null
          }
        },
        "c80271a45f954d9aa4bebb520cf17ce8": {
          "model_module": "@jupyter-widgets/controls",
          "model_name": "DescriptionStyleModel",
          "model_module_version": "1.5.0",
          "state": {
            "_model_module": "@jupyter-widgets/controls",
            "_model_module_version": "1.5.0",
            "_model_name": "DescriptionStyleModel",
            "_view_count": null,
            "_view_module": "@jupyter-widgets/base",
            "_view_module_version": "1.2.0",
            "_view_name": "StyleView",
            "description_width": ""
          }
        }
      }
    }
  },
  "cells": [
    {
      "cell_type": "markdown",
      "metadata": {
        "id": "view-in-github",
        "colab_type": "text"
      },
      "source": [
        "<a href=\"https://colab.research.google.com/github/Tikquuss/GflowNets_Tutorial/blob/main/3_ImageGeneration%26GAN.ipynb\" target=\"_parent\"><img src=\"https://colab.research.google.com/assets/colab-badge.svg\" alt=\"Open In Colab\"/></a>"
      ]
    },
    {
      "cell_type": "markdown",
      "source": [
        "# x -----  GFN -------- x\n",
        "\n"
      ],
      "metadata": {
        "id": "6t0OFIVXteoJ"
      }
    },
    {
      "cell_type": "markdown",
      "source": [
        "In this section, we will train a GflowNet whose reward is in the form  $R(y \\ | \\ x) = e^{-a*distance(x,y)}$ where $x$ is a source image and $y$ is an image constructed using GflowNet (trained with Trajectory Balance objective), and $a > 0$ : we start with a black image (only 0's), and at each step GflwoNet  has to choose a pixel and color it white (1) or choose to return the image (stop action).\n",
        "\n",
        "In [4], the *initial state* is a completely empty image ($\\emptyset$ on all pixels) and the action space of the forward policy is $I \\times C$, where :\n",
        "- $I = \\mathbb{N}^{M \\times N} ∼ \\mathbb{N}^{M} \\times \\mathbb{N}^{N}$ (for an image of size $M \\times N$)  : at each step, we have to choose the pixel to color (among the pixels not yet colored).\n",
        "- $C = \\{0, 1\\}$ : each pixel can be colored in black (0) or in white (1)\n",
        "\n",
        "The process continues until all pixels are colored (*final state*).\n",
        "\n",
        "The backward actions (actions of the backward policy) are simple, because they are dual to the one of the forward policy : if the forward policy has chosen a cell $(i, j) \\in I$ and colored it with the color $k \\in C$, the backward policy must choose the same cell $(i, j)$ and decolorize it. The action space of the backward policy is then $I \\times \\{ \\emptyset \\}  ∼ I$."
      ],
      "metadata": {
        "id": "2ol502fBHqd8"
      }
    },
    {
      "cell_type": "markdown",
      "source": [
        "![4.png](data:image/png;base64,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)"
      ],
      "metadata": {
        "id": "RAs9fEIcHrwO"
      }
    },
    {
      "cell_type": "markdown",
      "source": [
        "Image from [4]\n",
        "\n",
        "Note that this description is valid just because during training, we choose to build our objects (i.e. we move from the initial state to the final state during training). But, since we have access to the modes in the reconstruction problem (the modes are the neighbors of $x$ in the metric space generated on $I$ by the distance we use in the reward function), we can decide to train the backward policy to sample the initial state from these modes (finals states with high reward), ie samples complete trajectories leading from the initial state to these modes, and force the forward policy to follow the opposite actions of the backward policy (what I call being its dual). Then, during inference, use this forward policy to sample the final states from the initial state. This process can extremely speed up the training.\n",
        "\n",
        "In our case, to make things simple, the initial state is a completely black image (0), and at each step the model just has to choose the pixel to make white (1) or return the image as final state (stop action). The forward action space is reduced to $I \\cup \\{stop\\_action \\}$. If the forward policy has chosen a cell $(i, j) \\in I$ and colored it (white, $1$), the backward policy must choose the same cell $(i, j)$ and decolorize it (black, $0$). The backward action space is then $I$.\n",
        "\n",
        "We will use Euclidean distance, and we will choose $a$ depending on $M$ and $N$.\n",
        "\n",
        "For small images (4x4, 5x5, ..., 10x10) it works well (the model returns the mode when we sample from it), but for 11x11 for example the model ''fails'' (it returns some modes, but not x). There is only one \"true\" mode in this case (x), but we define the modes by taking the images that have distance below a threshold."
      ],
      "metadata": {
        "id": "Z8QWMFblFYvg"
      }
    },
    {
      "cell_type": "code",
      "source": [
        "from torchvision.datasets import MNIST\n",
        "import torchvision.transforms as transforms"
      ],
      "metadata": {
        "id": "RdHmc4d7uPWL"
      },
      "execution_count": null,
      "outputs": []
    },
    {
      "cell_type": "code",
      "source": [
        "#M,N = 28, 28\n",
        "#M,N = 10, 10\n",
        "M,N = 6, 6\n",
        "transform = transforms.Compose([\n",
        "        transforms.ToTensor(),\n",
        "        transforms.Resize(size=(M,N)),\n",
        "        lambda x : 1*(x!=0) + 0*(x==0),\n",
        "])\n",
        "data = MNIST(root='/content', download=True, train=True, transform=transform)"
      ],
      "metadata": {
        "id": "SVTf0TB6uXkC",
        "colab": {
          "base_uri": "https://localhost:8080/",
          "height": 423,
          "referenced_widgets": [
            "c3b7af621fb54e328e1c4611d5046ee3",
            "b1f38a6c441646b2ac8a5b94486c5e39",
            "3175d53b00264c94807a56fdb85c2899",
            "dd880baf474d4fb4bf0670bfe15a62fd",
            "a9ce0e0f689b4f3fa639dfa89a910ede",
            "e401d1656fd042c1b675cd063395221c",
            "98b413b979f64386ad8890af3ea4213d",
            "21b0151a800c43ee83faa3cf400ecd89",
            "fd9fe9e04ca74559954e9048913fdafe",
            "7629b3e849ad43c89542e46fab302263",
            "60761f97352b4d45ab7032e7fd424c9d",
            "fcc34341aa62417589e94fef7b8a7496",
            "5710298fba0e42c79aab9529ce75037f",
            "5ddb7f399fa840cf93decc83dc6166f7",
            "a9807ef780e1404cbb46965e419d14b4",
            "2625777c7b6d4431bcb2ee81b00534df",
            "19e0b3755a814c53bb0381b93236f944",
            "6568165fc73440debde28ccfe3cb14f7",
            "55beea1889994baa8c51a59057923c0d",
            "4f3045f15d8a44589c1650625691987e",
            "d1c20a4c46d347788c43f18f61d9eb05",
            "2151f780e5844e4aba14cdaecbfd1807",
            "9067f574a4504e739c3e82fae73f20c1",
            "0542090dbb9d442e80f776c40ec45580",
            "5daa32dbcec84be4857804b98bbc7562",
            "ad2bedcadbb64e459e471ee3cb02dc29",
            "2e1cc6b3052c4804a40f8a21c5220683",
            "42a025ff6f784fc3ab27144c9b8cf4d5",
            "aa28441f1beb4c1ebf12c79eaa4930ec",
            "a6b59d262da64000956a5873f74a015e",
            "cd461de843204453add8ac3960f7dd75",
            "967ad85461a746a88bf9de34fb8325de",
            "6bb87ff1cd5b4c6fa970e5c90e57a204",
            "978eb2fade4d45cc8566d0b1f537820d",
            "78b49df3ed3b44549f48263a588906ad",
            "c7791e18a75b4703961ac251503565fe",
            "951ba503007a4de09d4dece9dce8922a",
            "f4ef679f0c624879a224ea013c2dd3ac",
            "fe0faca4836549b7af0aa287f52f8252",
            "51e119155fc044a0b03f94bf7b3d60e2",
            "0fcee55c7eca4bbfb7f0ecdf9c514ae2",
            "90cfa1a70aa7427d8f2ffe3ff02afb93",
            "3820bdccdd9b4f95b072f9abece96ec8",
            "c80271a45f954d9aa4bebb520cf17ce8"
          ]
        },
        "outputId": "08c9d31a-28ec-4e18-9e00-0b8b2fd50bc8"
      },
      "execution_count": null,
      "outputs": [
        {
          "output_type": "stream",
          "name": "stdout",
          "text": [
            "Downloading http://yann.lecun.com/exdb/mnist/train-images-idx3-ubyte.gz\n",
            "Downloading http://yann.lecun.com/exdb/mnist/train-images-idx3-ubyte.gz to /content/MNIST/raw/train-images-idx3-ubyte.gz\n"
          ]
        },
        {
          "output_type": "display_data",
          "data": {
            "text/plain": [
              "  0%|          | 0/9912422 [00:00<?, ?it/s]"
            ],
            "application/vnd.jupyter.widget-view+json": {
              "version_major": 2,
              "version_minor": 0,
              "model_id": "c3b7af621fb54e328e1c4611d5046ee3"
            }
          },
          "metadata": {}
        },
        {
          "output_type": "stream",
          "name": "stdout",
          "text": [
            "Extracting /content/MNIST/raw/train-images-idx3-ubyte.gz to /content/MNIST/raw\n",
            "\n",
            "Downloading http://yann.lecun.com/exdb/mnist/train-labels-idx1-ubyte.gz\n",
            "Downloading http://yann.lecun.com/exdb/mnist/train-labels-idx1-ubyte.gz to /content/MNIST/raw/train-labels-idx1-ubyte.gz\n"
          ]
        },
        {
          "output_type": "display_data",
          "data": {
            "text/plain": [
              "  0%|          | 0/28881 [00:00<?, ?it/s]"
            ],
            "application/vnd.jupyter.widget-view+json": {
              "version_major": 2,
              "version_minor": 0,
              "model_id": "fcc34341aa62417589e94fef7b8a7496"
            }
          },
          "metadata": {}
        },
        {
          "output_type": "stream",
          "name": "stdout",
          "text": [
            "Extracting /content/MNIST/raw/train-labels-idx1-ubyte.gz to /content/MNIST/raw\n",
            "\n",
            "Downloading http://yann.lecun.com/exdb/mnist/t10k-images-idx3-ubyte.gz\n",
            "Downloading http://yann.lecun.com/exdb/mnist/t10k-images-idx3-ubyte.gz to /content/MNIST/raw/t10k-images-idx3-ubyte.gz\n"
          ]
        },
        {
          "output_type": "display_data",
          "data": {
            "text/plain": [
              "  0%|          | 0/1648877 [00:00<?, ?it/s]"
            ],
            "application/vnd.jupyter.widget-view+json": {
              "version_major": 2,
              "version_minor": 0,
              "model_id": "9067f574a4504e739c3e82fae73f20c1"
            }
          },
          "metadata": {}
        },
        {
          "output_type": "stream",
          "name": "stdout",
          "text": [
            "Extracting /content/MNIST/raw/t10k-images-idx3-ubyte.gz to /content/MNIST/raw\n",
            "\n",
            "Downloading http://yann.lecun.com/exdb/mnist/t10k-labels-idx1-ubyte.gz\n",
            "Downloading http://yann.lecun.com/exdb/mnist/t10k-labels-idx1-ubyte.gz to /content/MNIST/raw/t10k-labels-idx1-ubyte.gz\n"
          ]
        },
        {
          "output_type": "display_data",
          "data": {
            "text/plain": [
              "  0%|          | 0/4542 [00:00<?, ?it/s]"
            ],
            "application/vnd.jupyter.widget-view+json": {
              "version_major": 2,
              "version_minor": 0,
              "model_id": "978eb2fade4d45cc8566d0b1f537820d"
            }
          },
          "metadata": {}
        },
        {
          "output_type": "stream",
          "name": "stdout",
          "text": [
            "Extracting /content/MNIST/raw/t10k-labels-idx1-ubyte.gz to /content/MNIST/raw\n",
            "\n"
          ]
        }
      ]
    },
    {
      "cell_type": "code",
      "source": [
        "import matplotlib.pyplot as plt\n",
        "\n",
        "x = data[10][0]\n",
        "print(x.shape)\n",
        "\n",
        "plt.imshow(x.squeeze(0)),plt.show()"
      ],
      "metadata": {
        "colab": {
          "base_uri": "https://localhost:8080/",
          "height": 300
        },
        "id": "lXGd_mGquwg8",
        "outputId": "70b455af-d6aa-4b56-b042-fa79fc68b909"
      },
      "execution_count": null,
      "outputs": [
        {
          "output_type": "stream",
          "name": "stdout",
          "text": [
            "torch.Size([1, 6, 6])\n"
          ]
        },
        {
          "output_type": "display_data",
          "data": {
            "text/plain": [
              "<Figure size 432x288 with 1 Axes>"
            ],
            "image/png": "[encoded data removed]"
          },
          "metadata": {
            "needs_background": "light"
          }
        },
        {
          "output_type": "execute_result",
          "data": {
            "text/plain": [
              "(<matplotlib.image.AxesImage at 0x7f10d8b71810>, None)"
            ]
          },
          "metadata": {},
          "execution_count": 3
        }
      ]
    },
    {
      "cell_type": "code",
      "source": [
        "x = x.view(x.shape[0], -1) # (1, 784)"
      ],
      "metadata": {
        "id": "zXB9FacCyT-e"
      },
      "execution_count": null,
      "outputs": []
    },
    {
      "cell_type": "code",
      "source": [
        "import torch \n",
        "plt.imshow(torch.randint(low=0, high=2, size=(1, M,N)).squeeze(0))"
      ],
      "metadata": {
        "colab": {
          "base_uri": "https://localhost:8080/",
          "height": 283
        },
        "id": "9rqe7LQG0aoF",
        "outputId": "e853f8e3-2a68-4d0e-8190-fc2eb1f397e1"
      },
      "execution_count": null,
      "outputs": [
        {
          "output_type": "execute_result",
          "data": {
            "text/plain": [
              "<matplotlib.image.AxesImage at 0x7f10d859b0d0>"
            ]
          },
          "metadata": {},
          "execution_count": 7
        },
        {
          "output_type": "display_data",
          "data": {
            "text/plain": [
              "<Figure size 432x288 with 1 Axes>"
            ],
            "image/png": "[encoded data removed]"
          },
          "metadata": {
            "needs_background": "light"
          }
        }
      ]
    },
    {
      "cell_type": "code",
      "source": [
        "def make_mlp(l, act=torch.nn.LeakyReLU(), tail=[]):\n",
        "    return torch.nn.Sequential(*(sum(\n",
        "        [[torch.nn.Linear(i, o)] + ([act] if n < len(l)-2 else [])\n",
        "         for n, (i, o) in enumerate(zip(l, l[1:]))], []) + tail))"
      ],
      "metadata": {
        "id": "6tVO5UzWx9yL"
      },
      "execution_count": null,
      "outputs": []
    },
    {
      "cell_type": "code",
      "source": [
        "device = torch.device(\"cuda\" if torch.cuda.is_available() else \"cpu\")\n",
        "x = x.to(device)"
      ],
      "metadata": {
        "id": "WZ0hM9WwzYIl"
      },
      "execution_count": null,
      "outputs": []
    },
    {
      "cell_type": "code",
      "source": [
        "n_hid = 256\n",
        "n_layers = 2\n",
        "ndim = M*N\n",
        "input_dim = ndim # embedding dim\n",
        "output_dim = 2*ndim+1 # ndim + 1 for P_F (+1 for stop action) and ndim for P_B \n",
        "\n",
        "#For GAN, it is better to learn a Z for each image and not a global Z as there.\n",
        "independent_Z = False\n",
        "if independent_Z:\n",
        "    output_dim+=1\n",
        "    logZ_TB = 0\n",
        "    model_TB = make_mlp([input_dim] + [n_hid] * n_layers + [output_dim]).to(device)\n",
        "    optimizer = torch.optim.Adam([ {'params':model_TB.parameters(), 'lr':0.001}])\n",
        "else :\n",
        "    logZ_TB = torch.zeros((1,)).to(device) # log (initial state flow), Z = 1\n",
        "    model_TB = make_mlp([input_dim] + [n_hid] * n_layers + [output_dim]).to(device)\n",
        "    optimizer = torch.optim.Adam([ {'params':model_TB.parameters(), 'lr':0.001}, {'params':[logZ_TB], 'lr':0.1} ])\n",
        "    logZ_TB.requires_grad_()\n",
        "\n",
        "model_TB"
      ],
      "metadata": {
        "colab": {
          "base_uri": "https://localhost:8080/"
        },
        "id": "5nQEqsWWyGJb",
        "outputId": "99ea04ee-65d2-49f9-c67f-7d26f0b047e5"
      },
      "execution_count": null,
      "outputs": [
        {
          "output_type": "execute_result",
          "data": {
            "text/plain": [
              "Sequential(\n",
              "  (0): Linear(in_features=36, out_features=256, bias=True)\n",
              "  (1): LeakyReLU(negative_slope=0.01)\n",
              "  (2): Linear(in_features=256, out_features=256, bias=True)\n",
              "  (3): LeakyReLU(negative_slope=0.01)\n",
              "  (4): Linear(in_features=256, out_features=73, bias=True)\n",
              ")"
            ]
          },
          "metadata": {},
          "execution_count": 10
        }
      ]
    },
    {
      "cell_type": "code",
      "source": [
        "import tqdm\n",
        "import numpy as np"
      ],
      "metadata": {
        "id": "c_9hc3Wqz2bL"
      },
      "execution_count": null,
      "outputs": []
    },
    {
      "cell_type": "code",
      "source": [
        "losses_TB = []\n",
        "rewards_TB = []\n",
        "logZ_TB_list = []\n",
        "all_visited_TB = []"
      ],
      "metadata": {
        "id": "_ZnnfhKb3JTV"
      },
      "execution_count": null,
      "outputs": []
    },
    {
      "cell_type": "code",
      "source": [
        "n_train_steps = 10000\n",
        "batch_size = 1\n",
        "uniform_PB = False\n",
        "minus_inf = -1e8\n",
        "\n",
        "a = 100"
      ],
      "metadata": {
        "id": "QHUDwU-mI-FI"
      },
      "execution_count": null,
      "outputs": []
    },
    {
      "cell_type": "code",
      "source": [
        "for it in tqdm.trange(n_train_steps):    \n",
        "    # TB loss for each trajectory\n",
        "    loss_TB = torch.zeros((batch_size,)).to(device)\n",
        "    loss_TB += 0 if independent_Z else logZ_TB # see the equation above\n",
        "    # finished trajectories\n",
        "    dones = torch.full((batch_size,), False, dtype=torch.bool).to(device)\n",
        "    # s_0\n",
        "    states = torch.zeros(size=(batch_size, ndim)).to(device) # (batch_size, ndim)\n",
        "    # actions chosen at each step \n",
        "    actions = None # (current_batch_size,)\n",
        "\n",
        "    max_steps = 1e8 #ndim+0\n",
        "    i = 0\n",
        "    while torch.any(~dones) and i <= max_steps :\n",
        "        ### Forward pass ### \n",
        "        current_batch_size = (~dones).sum()\n",
        "        non_terminal_states = states[~dones] # (current_batch_size, ndim)\n",
        "        logits = model_TB(non_terminal_states) # (current_batch_size, output_dim)\n",
        "\n",
        "        ### Backward Policy ### \n",
        "        PB_logits = logits[...,ndim+1:2*ndim+1] # (current_batch_size, ndim)\n",
        "        PB_logits = PB_logits * (0 if uniform_PB else 1) # (current_batch_size, ndim)\n",
        "        # Cells that are still black (0) are excluded from the action space of the backward policy\n",
        "        PB_mask = (non_terminal_states == 0.).float() # (current_batch_size, ndim)\n",
        "        logPB = (PB_logits + minus_inf*PB_mask).log_softmax(1) # (current_batch_size, ndim)\n",
        "        if actions is not None: \n",
        "            loss_TB[~dones] -= logPB.gather(1, actions[actions!=ndim].unsqueeze(1)).squeeze(1)\n",
        "        elif independent_Z :\n",
        "            logZ_TB = logits[...,-1]\n",
        "            loss_TB += logZ_TB + 0 \n",
        "            logZ_TB = logZ_TB.mean()\n",
        "\n",
        "        ### Forward Policy ### \n",
        "        PF_logits = logits[...,:ndim+1] # (current_batch_size, ndim+1) \n",
        "        # Cells that are already white (1) are excluded from the action space of the forward policy\n",
        "        edge_mask = (non_terminal_states == 1.).float() # (current_batch_size, ndim)\n",
        "        stop_action_mask = torch.zeros((current_batch_size, 1), device=device) # (current_batch_size, 1)\n",
        "        PF_mask = torch.cat([edge_mask, stop_action_mask], 1) # (current_batch_size, ndim+1)\n",
        "        logPF = (PF_logits + minus_inf*PF_mask).log_softmax(1) # (current_batch_size, ndim+1)\n",
        "        sample_temperature = 1\n",
        "        sample_ins_probs = (logPF/sample_temperature).softmax(1) # (current_batch_size, ndim+1)\n",
        "        actions = sample_ins_probs.multinomial(1) # (current_batch_size,)\n",
        "        loss_TB[~dones] += logPF.gather(1, actions).squeeze(1)\n",
        "\n",
        "        ### select terminal states ### \n",
        "        terminates = (actions==ndim).squeeze(1)\n",
        "        for state in non_terminal_states[terminates]: \n",
        "            all_visited_TB.append(state)\n",
        "       \n",
        "       # Update dones\n",
        "        dones[~dones] |= terminates\n",
        "\n",
        "        # Update non completed trajectories\n",
        "        with torch.no_grad():\n",
        "            non_terminates = actions[~terminates].squeeze()\n",
        "            tmp = states[~dones]\n",
        "            tmp[torch.arange((~dones).sum()), non_terminates] = 1.\n",
        "            states[~dones] = tmp\n",
        "        \n",
        "        i+=1\n",
        "        \n",
        "    dist = torch.nn.functional.mse_loss(input=states.view(M,N), target=x.view(M,N))\n",
        "    R = (-a*dist).exp()\n",
        "    loss_TB -= R.log()\n",
        "    loss = (loss_TB**2).sum()/batch_size\n",
        "\n",
        "    optimizer.zero_grad()\n",
        "    loss.backward()\n",
        "    optimizer.step()\n",
        "\n",
        "    losses_TB.append(loss.item())\n",
        "    rewards_TB.append(R.mean().cpu())\n",
        "    logZ_TB_list.append(logZ_TB.item())\n",
        "\n",
        "    if it%100==0: \n",
        "        print('\\nloss =', np.array(losses_TB[-1:]).mean(), 'logZ =', logZ_TB.item(), \"R =\", np.array(rewards_TB[-1:]).mean())\n",
        "        plt.imshow(states.view(M,N).cpu()), plt.show()"
      ],
      "metadata": {
        "id": "EMKy-WBXz1qg",
        "colab": {
          "base_uri": "https://localhost:8080/",
          "height": 1000
        },
        "outputId": "38beec6a-f8d9-4266-d5a8-35fd00c99dca"
      },
      "execution_count": null,
      "outputs": [
        {
          "output_type": "stream",
          "name": "stderr",
          "text": [
            "\r  0%|          | 0/10000 [00:00<?, ?it/s]"
          ]
        },
        {
          "output_type": "stream",
          "name": "stdout",
          "text": [
            "\n",
            "loss = 512.6591186523438 logZ = -0.10000000149011612 R = 4.9890988e-20\n"
          ]
        },
        {
          "output_type": "display_data",
          "data": {
            "text/plain": [
              "<Figure size 432x288 with 1 Axes>"
            ],
            "image/png": "[encoded data removed]"
          },
          "metadata": {
            "needs_background": "light"
          }
        },
        {
          "output_type": "stream",
          "name": "stderr",
          "text": [
            "  1%|          | 99/10000 [00:09<12:31, 13.18it/s]"
          ]
        },
        {
          "output_type": "stream",
          "name": "stdout",
          "text": [
            "\n",
            "loss = 467.8556213378906 logZ = -7.15767765045166 R = 7.4563803e-25\n"
          ]
        },
        {
          "output_type": "display_data",
          "data": {
            "text/plain": [
              "<Figure size 432x288 with 1 Axes>"
            ],
            "image/png": "[encoded data removed]"
          },
          "metadata": {
            "needs_background": "light"
          }
        },
        {
          "output_type": "stream",
          "name": "stderr",
          "text": [
            "  2%|▏         | 197/10000 [00:15<10:41, 15.27it/s]"
          ]
        },
        {
          "output_type": "stream",
          "name": "stdout",
          "text": [
            "\n",
            "loss = 80.70758056640625 logZ = -12.277861595153809 R = 5.368969e-14\n"
          ]
        },
        {
          "output_type": "display_data",
          "data": {
            "text/plain": [
              "<Figure size 432x288 with 1 Axes>"
            ],
            "image/png": "[encoded data removed]"
          },
          "metadata": {
            "needs_background": "light"
          }
        },
        {
          "output_type": "stream",
          "name": "stderr",
          "text": [
            "  3%|▎         | 298/10000 [00:22<08:17, 19.51it/s]"
          ]
        },
        {
          "output_type": "stream",
          "name": "stdout",
          "text": [
            "\n",
            "loss = 2.67977237701416 logZ = -14.20073127746582 R = 1.2905354e-17\n"
          ]
        },
        {
          "output_type": "display_data",
          "data": {
            "text/plain": [
              "<Figure size 432x288 with 1 Axes>"
            ],
            "image/png": "[encoded data removed]"
          },
          "metadata": {
            "needs_background": "light"
          }
        },
        {
          "output_type": "stream",
          "name": "stderr",
          "text": [
            "  4%|▍         | 399/10000 [00:26<07:15, 22.06it/s]"
          ]
        },
        {
          "output_type": "stream",
          "name": "stdout",
          "text": [
            "\n",
            "loss = 1.3996076583862305 logZ = -14.165170669555664 R = 5.368969e-14\n"
          ]
        },
        {
          "output_type": "display_data",
          "data": {
            "text/plain": [
              "<Figure size 432x288 with 1 Axes>"
            ],
            "image/png": "[encoded data removed]"
          },
          "metadata": {
            "needs_background": "light"
          }
        },
        {
          "output_type": "stream",
          "name": "stderr",
          "text": [
            "  5%|▌         | 500/10000 [00:32<05:16, 30.03it/s]"
          ]
        },
        {
          "output_type": "stream",
          "name": "stdout",
          "text": [
            "\n",
            "loss = 2.0482215881347656 logZ = -12.582322120666504 R = 5.7777417e-08\n"
          ]
        },
        {
          "output_type": "display_data",
          "data": {
            "text/plain": [
              "<Figure size 432x288 with 1 Axes>"
            ],
            "image/png": "[encoded data removed]"
          },
          "metadata": {
            "needs_background": "light"
          }
        },
        {
          "output_type": "stream",
          "name": "stderr",
          "text": [
            "  6%|▌         | 599/10000 [00:35<05:25, 28.85it/s]"
          ]
        },
        {
          "output_type": "stream",
          "name": "stdout",
          "text": [
            "\n",
            "loss = 100.78427124023438 logZ = -12.082448959350586 R = 0.00024036932\n"
          ]
        },
        {
          "output_type": "display_data",
          "data": {
            "text/plain": [
              "<Figure size 432x288 with 1 Axes>"
            ],
            "image/png": "[encoded data removed]"
          },
          "metadata": {
            "needs_background": "light"
          }
        },
        {
          "output_type": "stream",
          "name": "stderr",
          "text": [
            "  7%|▋         | 698/10000 [00:39<07:01, 22.07it/s]"
          ]
        },
        {
          "output_type": "stream",
          "name": "stdout",
          "text": [
            "\n",
            "loss = 4.439117908477783 logZ = -11.341734886169434 R = 0.062176514\n"
          ]
        },
        {
          "output_type": "display_data",
          "data": {
            "text/plain": [
              "<Figure size 432x288 with 1 Axes>"
            ],
            "image/png": "[encoded data removed]"
          },
          "metadata": {
            "needs_background": "light"
          }
        },
        {
          "output_type": "stream",
          "name": "stderr",
          "text": [
            "  8%|▊         | 799/10000 [00:44<07:07, 21.50it/s]"
          ]
        },
        {
          "output_type": "stream",
          "name": "stdout",
          "text": [
            "\n",
            "loss = 26.922605514526367 logZ = -10.089076042175293 R = 5.7777417e-08\n"
          ]
        },
        {
          "output_type": "display_data",
          "data": {
            "text/plain": [
              "<Figure size 432x288 with 1 Axes>"
            ],
            "image/png": "[encoded data removed]"
          },
          "metadata": {
            "needs_background": "light"
          }
        },
        {
          "output_type": "stream",
          "name": "stderr",
          "text": [
            "  9%|▉         | 900/10000 [00:49<07:12, 21.02it/s]"
          ]
        },
        {
          "output_type": "stream",
          "name": "stdout",
          "text": [
            "\n",
            "loss = 0.18853692710399628 logZ = -8.045300483703613 R = 0.003865919\n"
          ]
        },
        {
          "output_type": "display_data",
          "data": {
            "text/plain": [
              "<Figure size 432x288 with 1 Axes>"
            ],
            "image/png": "[encoded data removed]"
          },
          "metadata": {
            "needs_background": "light"
          }
        },
        {
          "output_type": "stream",
          "name": "stderr",
          "text": [
            " 10%|▉         | 999/10000 [00:53<06:57, 21.54it/s]"
          ]
        },
        {
          "output_type": "stream",
          "name": "stdout",
          "text": [
            "\n",
            "loss = 71.15153503417969 logZ = -6.860934734344482 R = 0.003865919\n"
          ]
        },
        {
          "output_type": "display_data",
          "data": {
            "text/plain": [
              "<Figure size 432x288 with 1 Axes>"
            ],
            "image/png": "[encoded data removed]"
          },
          "metadata": {
            "needs_background": "light"
          }
        },
        {
          "output_type": "stream",
          "name": "stderr",
          "text": [
            " 11%|█         | 1098/10000 [00:58<06:45, 21.95it/s]"
          ]
        },
        {
          "output_type": "stream",
          "name": "stdout",
          "text": [
            "\n",
            "loss = 3.086512804031372 logZ = -5.577122688293457 R = 5.7777417e-08\n"
          ]
        },
        {
          "output_type": "display_data",
          "data": {
            "text/plain": [
              "<Figure size 432x288 with 1 Axes>"
            ],
            "image/png": "[encoded data removed]"
          },
          "metadata": {
            "needs_background": "light"
          }
        },
        {
          "output_type": "stream",
          "name": "stderr",
          "text": [
            " 12%|█▏        | 1198/10000 [01:03<07:21, 19.92it/s]"
          ]
        },
        {
          "output_type": "stream",
          "name": "stdout",
          "text": [
            "\n",
            "loss = 0.04760092496871948 logZ = -4.529385089874268 R = 0.003865919\n"
          ]
        },
        {
          "output_type": "display_data",
          "data": {
            "text/plain": [
              "<Figure size 432x288 with 1 Axes>"
            ],
            "image/png": "[encoded data removed]"
          },
          "metadata": {
            "needs_background": "light"
          }
        },
        {
          "output_type": "stream",
          "name": "stderr",
          "text": [
            " 13%|█▎        | 1300/10000 [01:09<07:15, 20.00it/s]"
          ]
        },
        {
          "output_type": "stream",
          "name": "stdout",
          "text": [
            "\n",
            "loss = 0.08809570223093033 logZ = -4.015066146850586 R = 0.00024036932\n"
          ]
        },
        {
          "output_type": "display_data",
          "data": {
            "text/plain": [
              "<Figure size 432x288 with 1 Axes>"
            ],
            "image/png": "[encoded data removed]"
          },
          "metadata": {
            "needs_background": "light"
          }
        },
        {
          "output_type": "stream",
          "name": "stderr",
          "text": [
            " 14%|█▍        | 1399/10000 [01:14<06:57, 20.61it/s]"
          ]
        },
        {
          "output_type": "stream",
          "name": "stdout",
          "text": [
            "\n",
            "loss = 24.32484245300293 logZ = -3.6338181495666504 R = 0.062176514\n"
          ]
        },
        {
          "output_type": "display_data",
          "data": {
            "text/plain": [
              "<Figure size 432x288 with 1 Axes>"
            ],
            "image/png": "[encoded data removed]"
          },
          "metadata": {
            "needs_background": "light"
          }
        },
        {
          "output_type": "stream",
          "name": "stderr",
          "text": [
            " 15%|█▌        | 1500/10000 [01:20<06:54, 20.51it/s]"
          ]
        },
        {
          "output_type": "stream",
          "name": "stdout",
          "text": [
            "\n",
            "loss = 6.3147196769714355 logZ = -2.863300323486328 R = 0.062176514\n"
          ]
        },
        {
          "output_type": "display_data",
          "data": {
            "text/plain": [
              "<Figure size 432x288 with 1 Axes>"
            ],
            "image/png": "[encoded data removed]"
          },
          "metadata": {
            "needs_background": "light"
          }
        },
        {
          "output_type": "stream",
          "name": "stderr",
          "text": [
            " 16%|█▌        | 1600/10000 [01:25<06:57, 20.13it/s]"
          ]
        },
        {
          "output_type": "stream",
          "name": "stdout",
          "text": [
            "\n",
            "loss = 2.0999598503112793 logZ = -1.9609133005142212 R = 0.003865919\n"
          ]
        },
        {
          "output_type": "display_data",
          "data": {
            "text/plain": [
              "<Figure size 432x288 with 1 Axes>"
            ],
            "image/png": "[encoded data removed]"
          },
          "metadata": {
            "needs_background": "light"
          }
        },
        {
          "output_type": "stream",
          "name": "stderr",
          "text": [
            " 17%|█▋        | 1700/10000 [01:30<07:21, 18.79it/s]"
          ]
        },
        {
          "output_type": "stream",
          "name": "stdout",
          "text": [
            "\n",
            "loss = 3.051518201828003 logZ = -1.0194141864776611 R = 0.00024036932\n"
          ]
        },
        {
          "output_type": "display_data",
          "data": {
            "text/plain": [
              "<Figure size 432x288 with 1 Axes>"
            ],
            "image/png": "[encoded data removed]"
          },
          "metadata": {
            "needs_background": "light"
          }
        },
        {
          "output_type": "stream",
          "name": "stderr",
          "text": [
            " 18%|█▊        | 1799/10000 [01:36<07:34, 18.06it/s]"
          ]
        },
        {
          "output_type": "stream",
          "name": "stdout",
          "text": [
            "\n",
            "loss = 6.432326316833496 logZ = -0.3228550851345062 R = 0.062176514\n"
          ]
        },
        {
          "output_type": "display_data",
          "data": {
            "text/plain": [
              "<Figure size 432x288 with 1 Axes>"
            ],
            "image/png": "[encoded data removed]"
          },
          "metadata": {
            "needs_background": "light"
          }
        },
        {
          "output_type": "stream",
          "name": "stderr",
          "text": [
            " 19%|█▉        | 1899/10000 [01:42<06:56, 19.45it/s]"
          ]
        },
        {
          "output_type": "stream",
          "name": "stdout",
          "text": [
            "\n",
            "loss = 0.018489688634872437 logZ = 0.7707247734069824 R = 0.00024036932\n"
          ]
        },
        {
          "output_type": "display_data",
          "data": {
            "text/plain": [
              "<Figure size 432x288 with 1 Axes>"
            ],
            "image/png": "[encoded data removed]"
          },
          "metadata": {
            "needs_background": "light"
          }
        },
        {
          "output_type": "stream",
          "name": "stderr",
          "text": [
            " 20%|█▉        | 1999/10000 [01:49<16:38,  8.01it/s]"
          ]
        },
        {
          "output_type": "stream",
          "name": "stdout",
          "text": [
            "\n",
            "loss = 0.5152246952056885 logZ = 1.4689204692840576 R = 0.003865919\n"
          ]
        },
        {
          "output_type": "display_data",
          "data": {
            "text/plain": [
              "<Figure size 432x288 with 1 Axes>"
            ],
            "image/png": "[encoded data removed]"
          },
          "metadata": {
            "needs_background": "light"
          }
        },
        {
          "output_type": "stream",
          "name": "stderr",
          "text": [
            " 21%|██        | 2099/10000 [01:57<13:54,  9.47it/s]"
          ]
        },
        {
          "output_type": "stream",
          "name": "stdout",
          "text": [
            "\n",
            "loss = 0.6809870600700378 logZ = 1.5550636053085327 R = 0.062176514\n"
          ]
        },
        {
          "output_type": "display_data",
          "data": {
            "text/plain": [
              "<Figure size 432x288 with 1 Axes>"
            ],
            "image/png": "[encoded data removed]"
          },
          "metadata": {
            "needs_background": "light"
          }
        },
        {
          "output_type": "stream",
          "name": "stderr",
          "text": [
            " 22%|██▏       | 2199/10000 [02:05<07:42, 16.86it/s]"
          ]
        },
        {
          "output_type": "stream",
          "name": "stdout",
          "text": [
            "\n",
            "loss = 0.36317571997642517 logZ = 1.6540247201919556 R = 0.062176514\n"
          ]
        },
        {
          "output_type": "display_data",
          "data": {
            "text/plain": [
              "<Figure size 432x288 with 1 Axes>"
            ],
            "image/png": "[encoded data removed]"
          },
          "metadata": {
            "needs_background": "light"
          }
        },
        {
          "output_type": "stream",
          "name": "stderr",
          "text": [
            " 23%|██▎       | 2299/10000 [02:11<07:14, 17.74it/s]"
          ]
        },
        {
          "output_type": "stream",
          "name": "stdout",
          "text": [
            "\n",
            "loss = 0.7421892881393433 logZ = 1.956602692604065 R = 0.062176514\n"
          ]
        },
        {
          "output_type": "display_data",
          "data": {
            "text/plain": [
              "<Figure size 432x288 with 1 Axes>"
            ],
            "image/png": "[encoded data removed]"
          },
          "metadata": {
            "needs_background": "light"
          }
        },
        {
          "output_type": "stream",
          "name": "stderr",
          "text": [
            " 24%|██▍       | 2399/10000 [02:17<07:35, 16.70it/s]"
          ]
        },
        {
          "output_type": "stream",
          "name": "stdout",
          "text": [
            "\n",
            "loss = 0.49145209789276123 logZ = 1.855776309967041 R = 0.003865919\n"
          ]
        },
        {
          "output_type": "display_data",
          "data": {
            "text/plain": [
              "<Figure size 432x288 with 1 Axes>"
            ],
            "image/png": "[encoded data removed]"
          },
          "metadata": {
            "needs_background": "light"
          }
        },
        {
          "output_type": "stream",
          "name": "stderr",
          "text": [
            " 25%|██▌       | 2500/10000 [02:24<12:20, 10.13it/s]"
          ]
        },
        {
          "output_type": "stream",
          "name": "stdout",
          "text": [
            "\n",
            "loss = 0.41346263885498047 logZ = 1.8781675100326538 R = 0.003865919\n"
          ]
        },
        {
          "output_type": "display_data",
          "data": {
            "text/plain": [
              "<Figure size 432x288 with 1 Axes>"
            ],
            "image/png": "[encoded data removed]"
          },
          "metadata": {
            "needs_background": "light"
          }
        },
        {
          "output_type": "stream",
          "name": "stderr",
          "text": [
            " 26%|██▌       | 2599/10000 [02:32<08:46, 14.07it/s]"
          ]
        },
        {
          "output_type": "stream",
          "name": "stdout",
          "text": [
            "\n",
            "loss = 0.4666852056980133 logZ = 1.8828063011169434 R = 0.00024036932\n"
          ]
        },
        {
          "output_type": "display_data",
          "data": {
            "text/plain": [
              "<Figure size 432x288 with 1 Axes>"
            ],
            "image/png": "[encoded data removed]"
          },
          "metadata": {
            "needs_background": "light"
          }
        },
        {
          "output_type": "stream",
          "name": "stderr",
          "text": [
            " 27%|██▋       | 2699/10000 [02:38<12:08, 10.02it/s]"
          ]
        },
        {
          "output_type": "stream",
          "name": "stdout",
          "text": [
            "\n",
            "loss = 0.9387232661247253 logZ = 1.9532827138900757 R = 0.003865919\n"
          ]
        },
        {
          "output_type": "display_data",
          "data": {
            "text/plain": [
              "<Figure size 432x288 with 1 Axes>"
            ],
            "image/png": "[encoded data removed]"
          },
          "metadata": {
            "needs_background": "light"
          }
        },
        {
          "output_type": "stream",
          "name": "stderr",
          "text": [
            " 28%|██▊       | 2798/10000 [02:45<07:10, 16.72it/s]"
          ]
        },
        {
          "output_type": "stream",
          "name": "stdout",
          "text": [
            "\n",
            "loss = 1.943284034729004 logZ = 1.8831965923309326 R = 1.494533e-05\n"
          ]
        },
        {
          "output_type": "display_data",
          "data": {
            "text/plain": [
              "<Figure size 432x288 with 1 Axes>"
            ],
            "image/png": "[encoded data removed]"
          },
          "metadata": {
            "needs_background": "light"
          }
        },
        {
          "output_type": "stream",
          "name": "stderr",
          "text": [
            " 29%|██▉       | 2899/10000 [02:50<07:10, 16.51it/s]"
          ]
        },
        {
          "output_type": "stream",
          "name": "stdout",
          "text": [
            "\n",
            "loss = 0.7061401009559631 logZ = 1.9377720355987549 R = 0.062176514\n"
          ]
        },
        {
          "output_type": "display_data",
          "data": {
            "text/plain": [
              "<Figure size 432x288 with 1 Axes>"
            ],
            "image/png": "[encoded data removed]"
          },
          "metadata": {
            "needs_background": "light"
          }
        },
        {
          "output_type": "stream",
          "name": "stderr",
          "text": [
            " 30%|███       | 3000/10000 [02:57<06:51, 17.00it/s]"
          ]
        },
        {
          "output_type": "stream",
          "name": "stdout",
          "text": [
            "\n",
            "loss = 0.05804408714175224 logZ = 1.993329405784607 R = 0.003865919\n"
          ]
        },
        {
          "output_type": "display_data",
          "data": {
            "text/plain": [
              "<Figure size 432x288 with 1 Axes>"
            ],
            "image/png": "[encoded data removed]"
          },
          "metadata": {
            "needs_background": "light"
          }
        },
        {
          "output_type": "stream",
          "name": "stderr",
          "text": [
            " 31%|███       | 3099/10000 [03:02<06:57, 16.52it/s]"
          ]
        },
        {
          "output_type": "stream",
          "name": "stdout",
          "text": [
            "\n",
            "loss = 1.0305393934249878 logZ = 2.057600736618042 R = 5.7777417e-08\n"
          ]
        },
        {
          "output_type": "display_data",
          "data": {
            "text/plain": [
              "<Figure size 432x288 with 1 Axes>"
            ],
            "image/png": "[encoded data removed]"
          },
          "metadata": {
            "needs_background": "light"
          }
        },
        {
          "output_type": "stream",
          "name": "stderr",
          "text": [
            " 32%|███▏      | 3199/10000 [03:08<06:21, 17.81it/s]"
          ]
        },
        {
          "output_type": "stream",
          "name": "stdout",
          "text": [
            "\n",
            "loss = 0.5999446511268616 logZ = 1.6631559133529663 R = 0.003865919\n"
          ]
        },
        {
          "output_type": "display_data",
          "data": {
            "text/plain": [
              "<Figure size 432x288 with 1 Axes>"
            ],
            "image/png": "[encoded data removed]"
          },
          "metadata": {
            "needs_background": "light"
          }
        },
        {
          "output_type": "stream",
          "name": "stderr",
          "text": [
            " 33%|███▎      | 3300/10000 [03:15<07:28, 14.95it/s]"
          ]
        },
        {
          "output_type": "stream",
          "name": "stdout",
          "text": [
            "\n",
            "loss = 0.5750818252563477 logZ = 1.8955271244049072 R = 1.0\n"
          ]
        },
        {
          "output_type": "display_data",
          "data": {
            "text/plain": [
              "<Figure size 432x288 with 1 Axes>"
            ],
            "image/png": "[encoded data removed]"
          },
          "metadata": {
            "needs_background": "light"
          }
        },
        {
          "output_type": "stream",
          "name": "stderr",
          "text": [
            " 34%|███▍      | 3400/10000 [03:21<05:53, 18.67it/s]"
          ]
        },
        {
          "output_type": "stream",
          "name": "stdout",
          "text": [
            "\n",
            "loss = 0.09065576642751694 logZ = 2.0919559001922607 R = 0.062176514\n"
          ]
        },
        {
          "output_type": "display_data",
          "data": {
            "text/plain": [
              "<Figure size 432x288 with 1 Axes>"
            ],
            "image/png": "[encoded data removed]"
          },
          "metadata": {
            "needs_background": "light"
          }
        },
        {
          "output_type": "stream",
          "name": "stderr",
          "text": [
            " 35%|███▌      | 3500/10000 [03:27<06:20, 17.10it/s]"
          ]
        },
        {
          "output_type": "stream",
          "name": "stdout",
          "text": [
            "\n",
            "loss = 0.5144419074058533 logZ = 1.971221923828125 R = 1.494533e-05\n"
          ]
        },
        {
          "output_type": "display_data",
          "data": {
            "text/plain": [
              "<Figure size 432x288 with 1 Axes>"
            ],
            "image/png": "[encoded data removed]"
          },
          "metadata": {
            "needs_background": "light"
          }
        },
        {
          "output_type": "stream",
          "name": "stderr",
          "text": [
            " 36%|███▌      | 3600/10000 [03:33<06:18, 16.90it/s]"
          ]
        },
        {
          "output_type": "stream",
          "name": "stdout",
          "text": [
            "\n",
            "loss = 0.01736217364668846 logZ = 1.980860710144043 R = 0.062176514\n"
          ]
        },
        {
          "output_type": "display_data",
          "data": {
            "text/plain": [
              "<Figure size 432x288 with 1 Axes>"
            ],
            "image/png": "[encoded data removed]"
          },
          "metadata": {
            "needs_background": "light"
          }
        },
        {
          "output_type": "stream",
          "name": "stderr",
          "text": [
            " 37%|███▋      | 3700/10000 [03:39<06:06, 17.17it/s]"
          ]
        },
        {
          "output_type": "stream",
          "name": "stdout",
          "text": [
            "\n",
            "loss = 0.353585422039032 logZ = 1.971509337425232 R = 0.062176514\n"
          ]
        },
        {
          "output_type": "display_data",
          "data": {
            "text/plain": [
              "<Figure size 432x288 with 1 Axes>"
            ],
            "image/png": "[encoded data removed]"
          },
          "metadata": {
            "needs_background": "light"
          }
        },
        {
          "output_type": "stream",
          "name": "stderr",
          "text": [
            " 38%|███▊      | 3799/10000 [03:45<06:07, 16.85it/s]"
          ]
        },
        {
          "output_type": "stream",
          "name": "stdout",
          "text": [
            "\n",
            "loss = 0.018329495564103127 logZ = 2.122718572616577 R = 0.062176514\n"
          ]
        },
        {
          "output_type": "display_data",
          "data": {
            "text/plain": [
              "<Figure size 432x288 with 1 Axes>"
            ],
            "image/png": "[encoded data removed]"
          },
          "metadata": {
            "needs_background": "light"
          }
        },
        {
          "output_type": "stream",
          "name": "stderr",
          "text": [
            " 39%|███▉      | 3899/10000 [03:51<06:16, 16.20it/s]"
          ]
        },
        {
          "output_type": "stream",
          "name": "stdout",
          "text": [
            "\n",
            "loss = 0.2346440851688385 logZ = 1.9927643537521362 R = 9.292488e-07\n"
          ]
        },
        {
          "output_type": "display_data",
          "data": {
            "text/plain": [
              "<Figure size 432x288 with 1 Axes>"
            ],
            "image/png": "[encoded data removed]"
          },
          "metadata": {
            "needs_background": "light"
          }
        },
        {
          "output_type": "stream",
          "name": "stderr",
          "text": [
            " 40%|████      | 4000/10000 [03:57<06:09, 16.24it/s]"
          ]
        },
        {
          "output_type": "stream",
          "name": "stdout",
          "text": [
            "\n",
            "loss = 0.7721426486968994 logZ = 1.9002652168273926 R = 1.494533e-05\n"
          ]
        },
        {
          "output_type": "display_data",
          "data": {
            "text/plain": [
              "<Figure size 432x288 with 1 Axes>"
            ],
            "image/png": "[encoded data removed]"
          },
          "metadata": {
            "needs_background": "light"
          }
        },
        {
          "output_type": "stream",
          "name": "stderr",
          "text": [
            " 41%|████      | 4100/10000 [04:03<05:17, 18.60it/s]"
          ]
        },
        {
          "output_type": "stream",
          "name": "stdout",
          "text": [
            "\n",
            "loss = 0.0011555254459381104 logZ = 1.9683557748794556 R = 1.0\n"
          ]
        },
        {
          "output_type": "display_data",
          "data": {
            "text/plain": [
              "<Figure size 432x288 with 1 Axes>"
            ],
            "image/png": "[encoded data removed]"
          },
          "metadata": {
            "needs_background": "light"
          }
        },
        {
          "output_type": "stream",
          "name": "stderr",
          "text": [
            " 42%|████▏     | 4200/10000 [04:09<05:33, 17.39it/s]"
          ]
        },
        {
          "output_type": "stream",
          "name": "stdout",
          "text": [
            "\n",
            "loss = 0.2977183163166046 logZ = 2.0399985313415527 R = 0.00024036932\n"
          ]
        },
        {
          "output_type": "display_data",
          "data": {
            "text/plain": [
              "<Figure size 432x288 with 1 Axes>"
            ],
            "image/png": "[encoded data removed]"
          },
          "metadata": {
            "needs_background": "light"
          }
        },
        {
          "output_type": "stream",
          "name": "stderr",
          "text": [
            " 43%|████▎     | 4299/10000 [04:15<05:31, 17.21it/s]"
          ]
        },
        {
          "output_type": "stream",
          "name": "stdout",
          "text": [
            "\n",
            "loss = 0.24043473601341248 logZ = 1.9770630598068237 R = 1.0\n"
          ]
        },
        {
          "output_type": "display_data",
          "data": {
            "text/plain": [
              "<Figure size 432x288 with 1 Axes>"
            ],
            "image/png": "[encoded data removed]"
          },
          "metadata": {
            "needs_background": "light"
          }
        },
        {
          "output_type": "stream",
          "name": "stderr",
          "text": [
            " 44%|████▍     | 4399/10000 [04:22<05:51, 15.94it/s]"
          ]
        },
        {
          "output_type": "stream",
          "name": "stdout",
          "text": [
            "\n",
            "loss = 0.04254543408751488 logZ = 1.9164940118789673 R = 0.00024036932\n"
          ]
        },
        {
          "output_type": "display_data",
          "data": {
            "text/plain": [
              "<Figure size 432x288 with 1 Axes>"
            ],
            "image/png": "[encoded data removed]"
          },
          "metadata": {
            "needs_background": "light"
          }
        },
        {
          "output_type": "stream",
          "name": "stderr",
          "text": [
            " 45%|████▍     | 4499/10000 [04:28<05:10, 17.72it/s]"
          ]
        },
        {
          "output_type": "stream",
          "name": "stdout",
          "text": [
            "\n",
            "loss = 0.00010994883632520214 logZ = 2.156998634338379 R = 0.062176514\n"
          ]
        },
        {
          "output_type": "display_data",
          "data": {
            "text/plain": [
              "<Figure size 432x288 with 1 Axes>"
            ],
            "image/png": "[encoded data removed]"
          },
          "metadata": {
            "needs_background": "light"
          }
        },
        {
          "output_type": "stream",
          "name": "stderr",
          "text": [
            " 46%|████▌     | 4599/10000 [04:34<04:51, 18.55it/s]"
          ]
        },
        {
          "output_type": "stream",
          "name": "stdout",
          "text": [
            "\n",
            "loss = 0.012078847736120224 logZ = 2.038860321044922 R = 0.003865919\n"
          ]
        },
        {
          "output_type": "display_data",
          "data": {
            "text/plain": [
              "<Figure size 432x288 with 1 Axes>"
            ],
            "image/png": "[encoded data removed]"
          },
          "metadata": {
            "needs_background": "light"
          }
        },
        {
          "output_type": "stream",
          "name": "stderr",
          "text": [
            " 47%|████▋     | 4700/10000 [04:40<05:09, 17.12it/s]"
          ]
        },
        {
          "output_type": "stream",
          "name": "stdout",
          "text": [
            "\n",
            "loss = 0.9808588027954102 logZ = 1.7169541120529175 R = 0.00024036932\n"
          ]
        },
        {
          "output_type": "display_data",
          "data": {
            "text/plain": [
              "<Figure size 432x288 with 1 Axes>"
            ],
            "image/png": "[encoded data removed]"
          },
          "metadata": {
            "needs_background": "light"
          }
        },
        {
          "output_type": "stream",
          "name": "stderr",
          "text": [
            " 48%|████▊     | 4800/10000 [04:46<04:42, 18.41it/s]"
          ]
        },
        {
          "output_type": "stream",
          "name": "stdout",
          "text": [
            "\n",
            "loss = 0.3925711214542389 logZ = 1.864484190940857 R = 0.062176514\n"
          ]
        },
        {
          "output_type": "display_data",
          "data": {
            "text/plain": [
              "<Figure size 432x288 with 1 Axes>"
            ],
            "image/png": "[encoded data removed]"
          },
          "metadata": {
            "needs_background": "light"
          }
        },
        {
          "output_type": "stream",
          "name": "stderr",
          "text": [
            " 49%|████▉     | 4899/10000 [04:52<04:30, 18.84it/s]"
          ]
        },
        {
          "output_type": "stream",
          "name": "stdout",
          "text": [
            "\n",
            "loss = 1.0991688966751099 logZ = 1.957149863243103 R = 0.062176514\n"
          ]
        },
        {
          "output_type": "display_data",
          "data": {
            "text/plain": [
              "<Figure size 432x288 with 1 Axes>"
            ],
            "image/png": "[encoded data removed]"
          },
          "metadata": {
            "needs_background": "light"
          }
        },
        {
          "output_type": "stream",
          "name": "stderr",
          "text": [
            " 50%|█████     | 5000/10000 [04:58<04:35, 18.16it/s]"
          ]
        },
        {
          "output_type": "stream",
          "name": "stdout",
          "text": [
            "\n",
            "loss = 0.002156264381483197 logZ = 2.01462459564209 R = 0.062176514\n"
          ]
        },
        {
          "output_type": "display_data",
          "data": {
            "text/plain": [
              "<Figure size 432x288 with 1 Axes>"
            ],
            "image/png": "[encoded data removed]"
          },
          "metadata": {
            "needs_background": "light"
          }
        },
        {
          "output_type": "stream",
          "name": "stderr",
          "text": [
            " 51%|█████     | 5100/10000 [05:04<04:43, 17.29it/s]"
          ]
        },
        {
          "output_type": "stream",
          "name": "stdout",
          "text": [
            "\n",
            "loss = 0.39482223987579346 logZ = 1.9922047853469849 R = 0.003865919\n"
          ]
        },
        {
          "output_type": "display_data",
          "data": {
            "text/plain": [
              "<Figure size 432x288 with 1 Axes>"
            ],
            "image/png": "[encoded data removed]"
          },
          "metadata": {
            "needs_background": "light"
          }
        },
        {
          "output_type": "stream",
          "name": "stderr",
          "text": [
            " 52%|█████▏    | 5200/10000 [05:10<04:25, 18.06it/s]"
          ]
        },
        {
          "output_type": "stream",
          "name": "stdout",
          "text": [
            "\n",
            "loss = 2.2336696929414757e-05 logZ = 1.9165253639221191 R = 0.062176514\n"
          ]
        },
        {
          "output_type": "display_data",
          "data": {
            "text/plain": [
              "<Figure size 432x288 with 1 Axes>"
            ],
            "image/png": "[encoded data removed]"
          },
          "metadata": {
            "needs_background": "light"
          }
        },
        {
          "output_type": "stream",
          "name": "stderr",
          "text": [
            " 53%|█████▎    | 5299/10000 [05:16<04:54, 15.98it/s]"
          ]
        },
        {
          "output_type": "stream",
          "name": "stdout",
          "text": [
            "\n",
            "loss = 0.07862699031829834 logZ = 2.1438496112823486 R = 0.062176514\n"
          ]
        },
        {
          "output_type": "display_data",
          "data": {
            "text/plain": [
              "<Figure size 432x288 with 1 Axes>"
            ],
            "image/png": "[encoded data removed]"
          },
          "metadata": {
            "needs_background": "light"
          }
        },
        {
          "output_type": "stream",
          "name": "stderr",
          "text": [
            " 54%|█████▍    | 5399/10000 [05:22<04:22, 17.50it/s]"
          ]
        },
        {
          "output_type": "stream",
          "name": "stdout",
          "text": [
            "\n",
            "loss = 1.7122266292572021 logZ = 2.019627094268799 R = 0.003865919\n"
          ]
        },
        {
          "output_type": "display_data",
          "data": {
            "text/plain": [
              "<Figure size 432x288 with 1 Axes>"
            ],
            "image/png": "[encoded data removed]"
          },
          "metadata": {
            "needs_background": "light"
          }
        },
        {
          "output_type": "stream",
          "name": "stderr",
          "text": [
            " 55%|█████▍    | 5499/10000 [05:28<04:44, 15.80it/s]"
          ]
        },
        {
          "output_type": "stream",
          "name": "stdout",
          "text": [
            "\n",
            "loss = 0.6549355387687683 logZ = 1.7839223146438599 R = 0.00024036932\n"
          ]
        },
        {
          "output_type": "display_data",
          "data": {
            "text/plain": [
              "<Figure size 432x288 with 1 Axes>"
            ],
            "image/png": "[encoded data removed]"
          },
          "metadata": {
            "needs_background": "light"
          }
        },
        {
          "output_type": "stream",
          "name": "stderr",
          "text": [
            " 56%|█████▌    | 5599/10000 [05:34<04:28, 16.42it/s]"
          ]
        },
        {
          "output_type": "stream",
          "name": "stdout",
          "text": [
            "\n",
            "loss = 0.24828775227069855 logZ = 1.88702392578125 R = 0.003865919\n"
          ]
        },
        {
          "output_type": "display_data",
          "data": {
            "text/plain": [
              "<Figure size 432x288 with 1 Axes>"
            ],
            "image/png": "[encoded data removed]"
          },
          "metadata": {
            "needs_background": "light"
          }
        },
        {
          "output_type": "stream",
          "name": "stderr",
          "text": [
            " 57%|█████▋    | 5700/10000 [05:40<04:18, 16.64it/s]"
          ]
        },
        {
          "output_type": "stream",
          "name": "stdout",
          "text": [
            "\n",
            "loss = 0.13230225443840027 logZ = 1.7966036796569824 R = 0.003865919\n"
          ]
        },
        {
          "output_type": "display_data",
          "data": {
            "text/plain": [
              "<Figure size 432x288 with 1 Axes>"
            ],
            "image/png": "[encoded data removed]"
          },
          "metadata": {
            "needs_background": "light"
          }
        },
        {
          "output_type": "stream",
          "name": "stderr",
          "text": [
            " 58%|█████▊    | 5800/10000 [05:46<04:16, 16.39it/s]"
          ]
        },
        {
          "output_type": "stream",
          "name": "stdout",
          "text": [
            "\n",
            "loss = 0.019952476024627686 logZ = 1.8560327291488647 R = 0.062176514\n"
          ]
        },
        {
          "output_type": "display_data",
          "data": {
            "text/plain": [
              "<Figure size 432x288 with 1 Axes>"
            ],
            "image/png": "[encoded data removed]"
          },
          "metadata": {
            "needs_background": "light"
          }
        },
        {
          "output_type": "stream",
          "name": "stderr",
          "text": [
            " 59%|█████▉    | 5900/10000 [05:52<03:56, 17.34it/s]"
          ]
        },
        {
          "output_type": "stream",
          "name": "stdout",
          "text": [
            "\n",
            "loss = 0.14374490082263947 logZ = 1.8825818300247192 R = 0.00024036932\n"
          ]
        },
        {
          "output_type": "display_data",
          "data": {
            "text/plain": [
              "<Figure size 432x288 with 1 Axes>"
            ],
            "image/png": "[encoded data removed]"
          },
          "metadata": {
            "needs_background": "light"
          }
        },
        {
          "output_type": "stream",
          "name": "stderr",
          "text": [
            " 60%|█████▉    | 5999/10000 [05:58<03:21, 19.83it/s]"
          ]
        },
        {
          "output_type": "stream",
          "name": "stdout",
          "text": [
            "\n",
            "loss = 0.10560039430856705 logZ = 1.7303539514541626 R = 0.003865919\n"
          ]
        },
        {
          "output_type": "display_data",
          "data": {
            "text/plain": [
              "<Figure size 432x288 with 1 Axes>"
            ],
            "image/png": "[encoded data removed]"
          },
          "metadata": {
            "needs_background": "light"
          }
        },
        {
          "output_type": "stream",
          "name": "stderr",
          "text": [
            " 61%|██████    | 6100/10000 [06:05<03:55, 16.53it/s]"
          ]
        },
        {
          "output_type": "stream",
          "name": "stdout",
          "text": [
            "\n",
            "loss = 0.13774384558200836 logZ = 2.0305707454681396 R = 0.003865919\n"
          ]
        },
        {
          "output_type": "display_data",
          "data": {
            "text/plain": [
              "<Figure size 432x288 with 1 Axes>"
            ],
            "image/png": "[encoded data removed]"
          },
          "metadata": {
            "needs_background": "light"
          }
        },
        {
          "output_type": "stream",
          "name": "stderr",
          "text": [
            " 62%|██████▏   | 6200/10000 [06:11<03:32, 17.85it/s]"
          ]
        },
        {
          "output_type": "stream",
          "name": "stdout",
          "text": [
            "\n",
            "loss = 0.03627481684088707 logZ = 2.1307806968688965 R = 0.062176514\n"
          ]
        },
        {
          "output_type": "display_data",
          "data": {
            "text/plain": [
              "<Figure size 432x288 with 1 Axes>"
            ],
            "image/png": "[encoded data removed]"
          },
          "metadata": {
            "needs_background": "light"
          }
        },
        {
          "output_type": "stream",
          "name": "stderr",
          "text": [
            " 63%|██████▎   | 6298/10000 [06:18<03:30, 17.55it/s]"
          ]
        },
        {
          "output_type": "stream",
          "name": "stdout",
          "text": [
            "\n",
            "loss = 0.05710337683558464 logZ = 1.4079080820083618 R = 1.494533e-05\n"
          ]
        },
        {
          "output_type": "display_data",
          "data": {
            "text/plain": [
              "<Figure size 432x288 with 1 Axes>"
            ],
            "image/png": "[encoded data removed]"
          },
          "metadata": {
            "needs_background": "light"
          }
        },
        {
          "output_type": "stream",
          "name": "stderr",
          "text": [
            " 64%|██████▍   | 6399/10000 [06:24<03:44, 16.04it/s]"
          ]
        },
        {
          "output_type": "stream",
          "name": "stdout",
          "text": [
            "\n",
            "loss = 0.30454009771347046 logZ = 1.6067792177200317 R = 0.062176514\n"
          ]
        },
        {
          "output_type": "display_data",
          "data": {
            "text/plain": [
              "<Figure size 432x288 with 1 Axes>"
            ],
            "image/png": "[encoded data removed]"
          },
          "metadata": {
            "needs_background": "light"
          }
        },
        {
          "output_type": "stream",
          "name": "stderr",
          "text": [
            " 65%|██████▌   | 6500/10000 [06:31<03:34, 16.31it/s]"
          ]
        },
        {
          "output_type": "stream",
          "name": "stdout",
          "text": [
            "\n",
            "loss = 0.05676795542240143 logZ = 1.9894821643829346 R = 0.003865919\n"
          ]
        },
        {
          "output_type": "display_data",
          "data": {
            "text/plain": [
              "<Figure size 432x288 with 1 Axes>"
            ],
            "image/png": "[encoded data removed]"
          },
          "metadata": {
            "needs_background": "light"
          }
        },
        {
          "output_type": "stream",
          "name": "stderr",
          "text": [
            " 66%|██████▌   | 6599/10000 [06:37<03:26, 16.49it/s]"
          ]
        },
        {
          "output_type": "stream",
          "name": "stdout",
          "text": [
            "\n",
            "loss = 0.07968252152204514 logZ = 1.7924302816390991 R = 0.00024036932\n"
          ]
        },
        {
          "output_type": "display_data",
          "data": {
            "text/plain": [
              "<Figure size 432x288 with 1 Axes>"
            ],
            "image/png": "[encoded data removed]"
          },
          "metadata": {
            "needs_background": "light"
          }
        },
        {
          "output_type": "stream",
          "name": "stderr",
          "text": [
            " 67%|██████▋   | 6700/10000 [06:43<03:27, 15.94it/s]"
          ]
        },
        {
          "output_type": "stream",
          "name": "stdout",
          "text": [
            "\n",
            "loss = 1.062090277671814 logZ = 2.128617286682129 R = 1.494533e-05\n"
          ]
        },
        {
          "output_type": "display_data",
          "data": {
            "text/plain": [
              "<Figure size 432x288 with 1 Axes>"
            ],
            "image/png": "[encoded data removed]"
          },
          "metadata": {
            "needs_background": "light"
          }
        },
        {
          "output_type": "stream",
          "name": "stderr",
          "text": [
            " 68%|██████▊   | 6800/10000 [06:49<03:08, 16.96it/s]"
          ]
        },
        {
          "output_type": "stream",
          "name": "stdout",
          "text": [
            "\n",
            "loss = 0.010331026278436184 logZ = 1.7289063930511475 R = 0.062176514\n"
          ]
        },
        {
          "output_type": "display_data",
          "data": {
            "text/plain": [
              "<Figure size 432x288 with 1 Axes>"
            ],
            "image/png": "[encoded data removed]"
          },
          "metadata": {
            "needs_background": "light"
          }
        },
        {
          "output_type": "stream",
          "name": "stderr",
          "text": [
            " 69%|██████▉   | 6900/10000 [06:56<05:30,  9.37it/s]"
          ]
        },
        {
          "output_type": "stream",
          "name": "stdout",
          "text": [
            "\n",
            "loss = 0.17409968376159668 logZ = 1.6783418655395508 R = 0.00024036932\n"
          ]
        },
        {
          "output_type": "display_data",
          "data": {
            "text/plain": [
              "<Figure size 432x288 with 1 Axes>"
            ],
            "image/png": "[encoded data removed]"
          },
          "metadata": {
            "needs_background": "light"
          }
        },
        {
          "output_type": "stream",
          "name": "stderr",
          "text": [
            " 70%|███████   | 7000/10000 [07:03<02:55, 17.08it/s]"
          ]
        },
        {
          "output_type": "stream",
          "name": "stdout",
          "text": [
            "\n",
            "loss = 0.2784833312034607 logZ = 2.1689364910125732 R = 0.062176514\n"
          ]
        },
        {
          "output_type": "display_data",
          "data": {
            "text/plain": [
              "<Figure size 432x288 with 1 Axes>"
            ],
            "image/png": "[encoded data removed]"
          },
          "metadata": {
            "needs_background": "light"
          }
        },
        {
          "output_type": "stream",
          "name": "stderr",
          "text": [
            " 71%|███████   | 7100/10000 [07:09<02:49, 17.14it/s]"
          ]
        },
        {
          "output_type": "stream",
          "name": "stdout",
          "text": [
            "\n",
            "loss = 3.379459857940674 logZ = 1.6436216831207275 R = 0.003865919\n"
          ]
        },
        {
          "output_type": "display_data",
          "data": {
            "text/plain": [
              "<Figure size 432x288 with 1 Axes>"
            ],
            "image/png": "[encoded data removed]"
          },
          "metadata": {
            "needs_background": "light"
          }
        },
        {
          "output_type": "stream",
          "name": "stderr",
          "text": [
            " 72%|███████▏  | 7199/10000 [07:15<02:38, 17.62it/s]"
          ]
        },
        {
          "output_type": "stream",
          "name": "stdout",
          "text": [
            "\n",
            "loss = 0.1463485211133957 logZ = 1.8045070171356201 R = 0.062176514\n"
          ]
        },
        {
          "output_type": "display_data",
          "data": {
            "text/plain": [
              "<Figure size 432x288 with 1 Axes>"
            ],
            "image/png": "[encoded data removed]"
          },
          "metadata": {
            "needs_background": "light"
          }
        },
        {
          "output_type": "stream",
          "name": "stderr",
          "text": [
            " 73%|███████▎  | 7300/10000 [07:23<02:47, 16.13it/s]"
          ]
        },
        {
          "output_type": "stream",
          "name": "stdout",
          "text": [
            "\n",
            "loss = 0.10468752682209015 logZ = 1.6259342432022095 R = 0.003865919\n"
          ]
        },
        {
          "output_type": "display_data",
          "data": {
            "text/plain": [
              "<Figure size 432x288 with 1 Axes>"
            ],
            "image/png": "[encoded data removed]"
          },
          "metadata": {
            "needs_background": "light"
          }
        },
        {
          "output_type": "stream",
          "name": "stderr",
          "text": [
            " 74%|███████▍  | 7400/10000 [07:29<02:30, 17.29it/s]"
          ]
        },
        {
          "output_type": "stream",
          "name": "stdout",
          "text": [
            "\n",
            "loss = 0.19831766188144684 logZ = 2.025891065597534 R = 0.00024036932\n"
          ]
        },
        {
          "output_type": "display_data",
          "data": {
            "text/plain": [
              "<Figure size 432x288 with 1 Axes>"
            ],
            "image/png": "[encoded data removed]"
          },
          "metadata": {
            "needs_background": "light"
          }
        },
        {
          "output_type": "stream",
          "name": "stderr",
          "text": [
            " 75%|███████▌  | 7500/10000 [07:35<02:29, 16.77it/s]"
          ]
        },
        {
          "output_type": "stream",
          "name": "stdout",
          "text": [
            "\n",
            "loss = 0.19503064453601837 logZ = 2.200392961502075 R = 0.00024036932\n"
          ]
        },
        {
          "output_type": "display_data",
          "data": {
            "text/plain": [
              "<Figure size 432x288 with 1 Axes>"
            ],
            "image/png": "[encoded data removed]"
          },
          "metadata": {
            "needs_background": "light"
          }
        },
        {
          "output_type": "stream",
          "name": "stderr",
          "text": [
            " 76%|███████▌  | 7599/10000 [07:42<02:17, 17.46it/s]"
          ]
        },
        {
          "output_type": "stream",
          "name": "stdout",
          "text": [
            "\n",
            "loss = 1.17179274559021 logZ = 2.0357346534729004 R = 0.062176514\n"
          ]
        },
        {
          "output_type": "display_data",
          "data": {
            "text/plain": [
              "<Figure size 432x288 with 1 Axes>"
            ],
            "image/png": "[encoded data removed]"
          },
          "metadata": {
            "needs_background": "light"
          }
        },
        {
          "output_type": "stream",
          "name": "stderr",
          "text": [
            " 77%|███████▋  | 7700/10000 [07:48<02:19, 16.53it/s]"
          ]
        },
        {
          "output_type": "stream",
          "name": "stdout",
          "text": [
            "\n",
            "loss = 0.14211702346801758 logZ = 1.7746753692626953 R = 0.00024036932\n"
          ]
        },
        {
          "output_type": "display_data",
          "data": {
            "text/plain": [
              "<Figure size 432x288 with 1 Axes>"
            ],
            "image/png": "[encoded data removed]"
          },
          "metadata": {
            "needs_background": "light"
          }
        },
        {
          "output_type": "stream",
          "name": "stderr",
          "text": [
            " 78%|███████▊  | 7800/10000 [07:54<02:07, 17.21it/s]"
          ]
        },
        {
          "output_type": "stream",
          "name": "stdout",
          "text": [
            "\n",
            "loss = 0.018170539289712906 logZ = 2.140127658843994 R = 1.0\n"
          ]
        },
        {
          "output_type": "display_data",
          "data": {
            "text/plain": [
              "<Figure size 432x288 with 1 Axes>"
            ],
            "image/png": "[encoded data removed]"
          },
          "metadata": {
            "needs_background": "light"
          }
        },
        {
          "output_type": "stream",
          "name": "stderr",
          "text": [
            " 79%|███████▉  | 7899/10000 [08:00<02:08, 16.29it/s]"
          ]
        },
        {
          "output_type": "stream",
          "name": "stdout",
          "text": [
            "\n",
            "loss = 0.30930331349372864 logZ = 2.543339967727661 R = 2.2336291e-10\n"
          ]
        },
        {
          "output_type": "display_data",
          "data": {
            "text/plain": [
              "<Figure size 432x288 with 1 Axes>"
            ],
            "image/png": "[encoded data removed]"
          },
          "metadata": {
            "needs_background": "light"
          }
        },
        {
          "output_type": "stream",
          "name": "stderr",
          "text": [
            " 80%|████████  | 8000/10000 [08:08<01:56, 17.18it/s]"
          ]
        },
        {
          "output_type": "stream",
          "name": "stdout",
          "text": [
            "\n",
            "loss = 1.2233339548110962 logZ = 1.9777226448059082 R = 0.003865919\n"
          ]
        },
        {
          "output_type": "display_data",
          "data": {
            "text/plain": [
              "<Figure size 432x288 with 1 Axes>"
            ],
            "image/png": "[encoded data removed]"
          },
          "metadata": {
            "needs_background": "light"
          }
        },
        {
          "output_type": "stream",
          "name": "stderr",
          "text": [
            " 81%|████████  | 8099/10000 [08:14<01:51, 17.06it/s]"
          ]
        },
        {
          "output_type": "stream",
          "name": "stdout",
          "text": [
            "\n",
            "loss = 0.06820723414421082 logZ = 2.096052646636963 R = 0.062176514\n"
          ]
        },
        {
          "output_type": "display_data",
          "data": {
            "text/plain": [
              "<Figure size 432x288 with 1 Axes>"
            ],
            "image/png": "[encoded data removed]"
          },
          "metadata": {
            "needs_background": "light"
          }
        },
        {
          "output_type": "stream",
          "name": "stderr",
          "text": [
            " 82%|████████▏ | 8200/10000 [08:21<01:56, 15.46it/s]"
          ]
        },
        {
          "output_type": "stream",
          "name": "stdout",
          "text": [
            "\n",
            "loss = 1.1995435953140259 logZ = 1.9258085489273071 R = 0.00024036932\n"
          ]
        },
        {
          "output_type": "display_data",
          "data": {
            "text/plain": [
              "<Figure size 432x288 with 1 Axes>"
            ],
            "image/png": "[encoded data removed]"
          },
          "metadata": {
            "needs_background": "light"
          }
        },
        {
          "output_type": "stream",
          "name": "stderr",
          "text": [
            " 83%|████████▎ | 8299/10000 [08:29<01:39, 17.02it/s]"
          ]
        },
        {
          "output_type": "stream",
          "name": "stdout",
          "text": [
            "\n",
            "loss = 0.08450424671173096 logZ = 1.368445634841919 R = 0.00024036932\n"
          ]
        },
        {
          "output_type": "display_data",
          "data": {
            "text/plain": [
              "<Figure size 432x288 with 1 Axes>"
            ],
            "image/png": "[encoded data removed]"
          },
          "metadata": {
            "needs_background": "light"
          }
        },
        {
          "output_type": "stream",
          "name": "stderr",
          "text": [
            " 84%|████████▍ | 8399/10000 [08:36<02:28, 10.81it/s]"
          ]
        },
        {
          "output_type": "stream",
          "name": "stdout",
          "text": [
            "\n",
            "loss = 0.02852088212966919 logZ = 1.6641992330551147 R = 1.0\n"
          ]
        },
        {
          "output_type": "display_data",
          "data": {
            "text/plain": [
              "<Figure size 432x288 with 1 Axes>"
            ],
            "image/png": "[encoded data removed]"
          },
          "metadata": {
            "needs_background": "light"
          }
        },
        {
          "output_type": "stream",
          "name": "stderr",
          "text": [
            " 85%|████████▍ | 8499/10000 [08:44<01:28, 16.91it/s]"
          ]
        },
        {
          "output_type": "stream",
          "name": "stdout",
          "text": [
            "\n",
            "loss = 0.4378869831562042 logZ = 1.834989070892334 R = 0.003865919\n"
          ]
        },
        {
          "output_type": "display_data",
          "data": {
            "text/plain": [
              "<Figure size 432x288 with 1 Axes>"
            ],
            "image/png": "[encoded data removed]"
          },
          "metadata": {
            "needs_background": "light"
          }
        },
        {
          "output_type": "stream",
          "name": "stderr",
          "text": [
            " 86%|████████▌ | 8600/10000 [08:53<02:01, 11.54it/s]"
          ]
        },
        {
          "output_type": "stream",
          "name": "stdout",
          "text": [
            "\n",
            "loss = 0.0833466500043869 logZ = 1.8649271726608276 R = 0.003865919\n"
          ]
        },
        {
          "output_type": "display_data",
          "data": {
            "text/plain": [
              "<Figure size 432x288 with 1 Axes>"
            ],
            "image/png": "[encoded data removed]"
          },
          "metadata": {
            "needs_background": "light"
          }
        },
        {
          "output_type": "stream",
          "name": "stderr",
          "text": [
            " 87%|████████▋ | 8699/10000 [09:01<02:11,  9.89it/s]"
          ]
        },
        {
          "output_type": "stream",
          "name": "stdout",
          "text": [
            "\n",
            "loss = 0.006436355412006378 logZ = 1.8378021717071533 R = 0.062176514\n"
          ]
        },
        {
          "output_type": "display_data",
          "data": {
            "text/plain": [
              "<Figure size 432x288 with 1 Axes>"
            ],
            "image/png": "[encoded data removed]"
          },
          "metadata": {
            "needs_background": "light"
          }
        },
        {
          "output_type": "stream",
          "name": "stderr",
          "text": [
            " 88%|████████▊ | 8799/10000 [09:08<01:13, 16.41it/s]"
          ]
        },
        {
          "output_type": "stream",
          "name": "stdout",
          "text": [
            "\n",
            "loss = 5.784285068511963 logZ = 1.905197024345398 R = 5.7777417e-08\n"
          ]
        },
        {
          "output_type": "display_data",
          "data": {
            "text/plain": [
              "<Figure size 432x288 with 1 Axes>"
            ],
            "image/png": "[encoded data removed]"
          },
          "metadata": {
            "needs_background": "light"
          }
        },
        {
          "output_type": "stream",
          "name": "stderr",
          "text": [
            " 89%|████████▉ | 8899/10000 [09:14<01:08, 16.03it/s]"
          ]
        },
        {
          "output_type": "stream",
          "name": "stdout",
          "text": [
            "\n",
            "loss = 0.09091394394636154 logZ = 2.0152015686035156 R = 0.003865919\n"
          ]
        },
        {
          "output_type": "display_data",
          "data": {
            "text/plain": [
              "<Figure size 432x288 with 1 Axes>"
            ],
            "image/png": "[encoded data removed]"
          },
          "metadata": {
            "needs_background": "light"
          }
        },
        {
          "output_type": "stream",
          "name": "stderr",
          "text": [
            " 90%|█████████ | 9000/10000 [09:20<00:58, 16.97it/s]"
          ]
        },
        {
          "output_type": "stream",
          "name": "stdout",
          "text": [
            "\n",
            "loss = 0.004173632245510817 logZ = 1.9762988090515137 R = 1.0\n"
          ]
        },
        {
          "output_type": "display_data",
          "data": {
            "text/plain": [
              "<Figure size 432x288 with 1 Axes>"
            ],
            "image/png": "[encoded data removed]"
          },
          "metadata": {
            "needs_background": "light"
          }
        },
        {
          "output_type": "stream",
          "name": "stderr",
          "text": [
            " 91%|█████████ | 9100/10000 [09:27<00:49, 18.17it/s]"
          ]
        },
        {
          "output_type": "stream",
          "name": "stdout",
          "text": [
            "\n",
            "loss = 0.05510343611240387 logZ = 1.8547438383102417 R = 0.003865919\n"
          ]
        },
        {
          "output_type": "display_data",
          "data": {
            "text/plain": [
              "<Figure size 432x288 with 1 Axes>"
            ],
            "image/png": "[encoded data removed]"
          },
          "metadata": {
            "needs_background": "light"
          }
        },
        {
          "output_type": "stream",
          "name": "stderr",
          "text": [
            " 92%|█████████▏| 9200/10000 [09:33<00:49, 16.02it/s]"
          ]
        },
        {
          "output_type": "stream",
          "name": "stdout",
          "text": [
            "\n",
            "loss = 0.12681694328784943 logZ = 2.0469653606414795 R = 0.062176514\n"
          ]
        },
        {
          "output_type": "display_data",
          "data": {
            "text/plain": [
              "<Figure size 432x288 with 1 Axes>"
            ],
            "image/png": "[encoded data removed]"
          },
          "metadata": {
            "needs_background": "light"
          }
        },
        {
          "output_type": "stream",
          "name": "stderr",
          "text": [
            " 93%|█████████▎| 9300/10000 [09:39<00:39, 17.71it/s]"
          ]
        },
        {
          "output_type": "stream",
          "name": "stdout",
          "text": [
            "\n",
            "loss = 0.48829758167266846 logZ = 2.1457130908966064 R = 0.00024036932\n"
          ]
        },
        {
          "output_type": "display_data",
          "data": {
            "text/plain": [
              "<Figure size 432x288 with 1 Axes>"
            ],
            "image/png": "[encoded data removed]"
          },
          "metadata": {
            "needs_background": "light"
          }
        },
        {
          "output_type": "stream",
          "name": "stderr",
          "text": [
            " 94%|█████████▍| 9400/10000 [09:45<00:36, 16.47it/s]"
          ]
        },
        {
          "output_type": "stream",
          "name": "stdout",
          "text": [
            "\n",
            "loss = 0.30066978931427 logZ = 2.1759448051452637 R = 0.00024036932\n"
          ]
        },
        {
          "output_type": "display_data",
          "data": {
            "text/plain": [
              "<Figure size 432x288 with 1 Axes>"
            ],
            "image/png": "[encoded data removed]"
          },
          "metadata": {
            "needs_background": "light"
          }
        },
        {
          "output_type": "stream",
          "name": "stderr",
          "text": [
            " 95%|█████████▍| 9499/10000 [09:51<00:31, 15.76it/s]"
          ]
        },
        {
          "output_type": "stream",
          "name": "stdout",
          "text": [
            "\n",
            "loss = 0.0024971975944936275 logZ = 1.929572343826294 R = 1.0\n"
          ]
        },
        {
          "output_type": "display_data",
          "data": {
            "text/plain": [
              "<Figure size 432x288 with 1 Axes>"
            ],
            "image/png": "[encoded data removed]"
          },
          "metadata": {
            "needs_background": "light"
          }
        },
        {
          "output_type": "stream",
          "name": "stderr",
          "text": [
            " 96%|█████████▌| 9599/10000 [09:58<00:26, 15.32it/s]"
          ]
        },
        {
          "output_type": "stream",
          "name": "stdout",
          "text": [
            "\n",
            "loss = 0.12214137613773346 logZ = 1.9268975257873535 R = 0.00024036932\n"
          ]
        },
        {
          "output_type": "display_data",
          "data": {
            "text/plain": [
              "<Figure size 432x288 with 1 Axes>"
            ],
            "image/png": "[encoded data removed]"
          },
          "metadata": {
            "needs_background": "light"
          }
        },
        {
          "output_type": "stream",
          "name": "stderr",
          "text": [
            " 97%|█████████▋| 9699/10000 [10:04<00:19, 15.71it/s]"
          ]
        },
        {
          "output_type": "stream",
          "name": "stdout",
          "text": [
            "\n",
            "loss = 0.0274082999676466 logZ = 2.1169180870056152 R = 0.062176514\n"
          ]
        },
        {
          "output_type": "display_data",
          "data": {
            "text/plain": [
              "<Figure size 432x288 with 1 Axes>"
            ],
            "image/png": "[encoded data removed]"
          },
          "metadata": {
            "needs_background": "light"
          }
        },
        {
          "output_type": "stream",
          "name": "stderr",
          "text": [
            " 98%|█████████▊| 9800/10000 [10:11<00:12, 16.58it/s]"
          ]
        },
        {
          "output_type": "stream",
          "name": "stdout",
          "text": [
            "\n",
            "loss = 0.061547596007585526 logZ = 1.7290458679199219 R = 1.494533e-05\n"
          ]
        },
        {
          "output_type": "display_data",
          "data": {
            "text/plain": [
              "<Figure size 432x288 with 1 Axes>"
            ],
            "image/png": "[encoded data removed]"
          },
          "metadata": {
            "needs_background": "light"
          }
        },
        {
          "output_type": "stream",
          "name": "stderr",
          "text": [
            " 99%|█████████▉| 9900/10000 [10:17<00:05, 16.68it/s]"
          ]
        },
        {
          "output_type": "stream",
          "name": "stdout",
          "text": [
            "\n",
            "loss = 0.036688029766082764 logZ = 1.827315092086792 R = 0.062176514\n"
          ]
        },
        {
          "output_type": "display_data",
          "data": {
            "text/plain": [
              "<Figure size 432x288 with 1 Axes>"
            ],
            "image/png": "[encoded data removed]"
          },
          "metadata": {
            "needs_background": "light"
          }
        },
        {
          "output_type": "stream",
          "name": "stderr",
          "text": [
            "100%|██████████| 10000/10000 [10:23<00:00, 16.03it/s]\n"
          ]
        }
      ]
    },
    {
      "cell_type": "code",
      "source": [
        "dist = torch.nn.functional.mse_loss(input=states.view(M,N), target=x.view(M,N))\n",
        "R = (-a*dist).exp()\n",
        "print(dist, R)\n",
        "\n",
        "plt.imshow(x.view(M,N).cpu()), plt.show()\n",
        "plt.imshow(states.view(M,N).cpu()), plt.show()"
      ],
      "metadata": {
        "colab": {
          "base_uri": "https://localhost:8080/",
          "height": 548
        },
        "id": "kw3VQutfCJd6",
        "outputId": "3c0ee614-11c0-47fc-aeaf-d985e7fddab9"
      },
      "execution_count": null,
      "outputs": [
        {
          "output_type": "stream",
          "name": "stdout",
          "text": [
            "tensor(0.1389, device='cuda:0') tensor(9.2925e-07, device='cuda:0')\n"
          ]
        },
        {
          "output_type": "display_data",
          "data": {
            "text/plain": [
              "<Figure size 432x288 with 1 Axes>"
            ],
            "image/png": "[encoded data removed]"
          },
          "metadata": {
            "needs_background": "light"
          }
        },
        {
          "output_type": "display_data",
          "data": {
            "text/plain": [
              "<Figure size 432x288 with 1 Axes>"
            ],
            "image/png": "[encoded data removed]"
          },
          "metadata": {
            "needs_background": "light"
          }
        },
        {
          "output_type": "execute_result",
          "data": {
            "text/plain": [
              "(<matplotlib.image.AxesImage at 0x7f10d4a3c490>, None)"
            ]
          },
          "metadata": {},
          "execution_count": 15
        }
      ]
    },
    {
      "cell_type": "markdown",
      "source": [
        "Samples"
      ],
      "metadata": {
        "id": "thy5hnUbc2IL"
      }
    },
    {
      "cell_type": "code",
      "source": [
        "all_images = []\n",
        "all_R = []\n",
        "all_dist = []\n",
        "for it in tqdm.trange(100):    \n",
        "    # finished trajectories\n",
        "    dones = torch.full((batch_size,), False, dtype=torch.bool).to(device)\n",
        "    # s_0\n",
        "    states = torch.zeros(size=(batch_size, ndim)).to(device) # (batch_size, ndim)\n",
        "    # actions chosen at each step : we can choose the coordinate to increment (0 ... ndim-1), or choose to return the current state as terminal (ndim)\n",
        "    actions = None # (current_batch_size,)\n",
        "\n",
        "    max_steps = 1e8 #ndim+0\n",
        "    i = 0\n",
        "    while torch.any(~dones) and i <= max_steps :\n",
        "        ### Forward pass ### \n",
        "        current_batch_size = (~dones).sum()\n",
        "        non_terminal_states = states[~dones] # (current_batch_size, ndim)\n",
        "        logits = model_TB(non_terminal_states) # (current_batch_size, output_dim)\n",
        "        ### Forward Policy ### \n",
        "        PF_logits = logits[...,:ndim+1] # (current_batch_size, ndim+1) \n",
        "        edge_mask = (non_terminal_states == 1.).float() # (current_batch_size, ndim)\n",
        "        stop_action_mask = torch.zeros((current_batch_size, 1), device=device) # (current_batch_size, 1)\n",
        "        PF_mask = torch.cat([edge_mask, stop_action_mask], 1) # (current_batch_size, ndim+1)\n",
        "        logPF = (PF_logits + minus_inf*PF_mask).log_softmax(1) # (current_batch_size, ndim+1)\n",
        "        sample_temperature = 1\n",
        "        sample_ins_probs = (logPF/sample_temperature).softmax(1) # (current_batch_size, ndim+1)\n",
        "        actions = sample_ins_probs.multinomial(1) # (current_batch_size,)\n",
        "        \n",
        "        ### select terminal states ### \n",
        "        terminates = (actions==ndim).squeeze(1)\n",
        "        for state in non_terminal_states[terminates]: \n",
        "            all_visited_TB.append(state)\n",
        "       \n",
        "       # Update dones\n",
        "        dones[~dones] |= terminates\n",
        "\n",
        "        # Update non completed trajectories$\n",
        "        with torch.no_grad():\n",
        "            non_terminates = actions[~terminates].squeeze()\n",
        "            tmp = states[~dones]\n",
        "            tmp[torch.arange((~dones).sum()), non_terminates] = 1.\n",
        "            states[~dones] = tmp\n",
        "        \n",
        "        i+=1\n",
        "        \n",
        "    dist = torch.nn.functional.mse_loss(input=states.view(M,N), target=x.view(M,N))\n",
        "    R = (-a*dist).exp()\n",
        "    \n",
        "    all_images.append(states.view(M,N).cpu())\n",
        "    all_R.append(R.item())\n",
        "    all_dist.append(dist.item())"
      ],
      "metadata": {
        "colab": {
          "base_uri": "https://localhost:8080/"
        },
        "id": "hUrx_Izdc3Xa",
        "outputId": "f0d3ba35-aa86-476f-d0b4-07e719e7c4e8"
      },
      "execution_count": null,
      "outputs": [
        {
          "output_type": "stream",
          "name": "stderr",
          "text": [
            "100%|██████████| 100/100 [00:02<00:00, 37.58it/s]\n"
          ]
        }
      ]
    },
    {
      "cell_type": "code",
      "source": [
        "tp = torch.tensor(all_R).topk(k=10)\n",
        "values = tp.values\n",
        "indices = tp.indices"
      ],
      "metadata": {
        "id": "tkhIb1JYc6IW"
      },
      "execution_count": null,
      "outputs": []
    },
    {
      "cell_type": "code",
      "source": [
        "for i in indices:\n",
        "    fig, axarr = plt.subplots(1,2)\n",
        "    fig.suptitle(\"d=%s, R=%s\"%(all_dist[i], all_R[i]), x=0.5, y=0.1, fontsize=15)\n",
        "    axarr[0].imshow(x.view(M,N).cpu())\n",
        "    axarr[0].set_title('x')\n",
        "    axarr[1].imshow(all_images[i].view(M,N).cpu())\n",
        "    axarr[1].set_title('generated')"
      ],
      "metadata": {
        "colab": {
          "base_uri": "https://localhost:8080/",
          "height": 1000
        },
        "id": "peRf8ZBqc744",
        "outputId": "3e017f02-2a1e-4c14-c1bf-0d76996fc895"
      },
      "execution_count": null,
      "outputs": [
        {
          "output_type": "display_data",
          "data": {
            "text/plain": [
              "<Figure size 432x288 with 2 Axes>"
            ],
            "image/png": "[encoded data removed]"
          },
          "metadata": {
            "needs_background": "light"
          }
        },
        {
          "output_type": "display_data",
          "data": {
            "text/plain": [
              "<Figure size 432x288 with 2 Axes>"
            ],
            "image/png": "[encoded data removed]"
          },
          "metadata": {
            "needs_background": "light"
          }
        },
        {
          "output_type": "display_data",
          "data": {
            "text/plain": [
              "<Figure size 432x288 with 2 Axes>"
            ],
            "image/png": "[encoded data removed]"
          },
          "metadata": {
            "needs_background": "light"
          }
        },
        {
          "output_type": "display_data",
          "data": {
            "text/plain": [
              "<Figure size 432x288 with 2 Axes>"
            ],
            "image/png": "[encoded data removed]"
          },
          "metadata": {
            "needs_background": "light"
          }
        },
        {
          "output_type": "display_data",
          "data": {
            "text/plain": [
              "<Figure size 432x288 with 2 Axes>"
            ],
            "image/png": "[encoded data removed]"
          },
          "metadata": {
            "needs_background": "light"
          }
        },
        {
          "output_type": "display_data",
          "data": {
            "text/plain": [
              "<Figure size 432x288 with 2 Axes>"
            ],
            "image/png": "[encoded data removed]"
          },
          "metadata": {
            "needs_background": "light"
          }
        },
        {
          "output_type": "display_data",
          "data": {
            "text/plain": [
              "<Figure size 432x288 with 2 Axes>"
            ],
            "image/png": "[encoded data removed]"
          },
          "metadata": {
            "needs_background": "light"
          }
        },
        {
          "output_type": "display_data",
          "data": {
            "text/plain": [
              "<Figure size 432x288 with 2 Axes>"
            ],
            "image/png": "[encoded data removed]"
          },
          "metadata": {
            "needs_background": "light"
          }
        },
        {
          "output_type": "display_data",
          "data": {
            "text/plain": [
              "<Figure size 432x288 with 2 Axes>"
            ],
            "image/png": "[encoded data removed]"
          },
          "metadata": {
            "needs_background": "light"
          }
        },
        {
          "output_type": "display_data",
          "data": {
            "text/plain": [
              "<Figure size 432x288 with 2 Axes>"
            ],
            "image/png": "[encoded data removed]"
          },
          "metadata": {
            "needs_background": "light"
          }
        }
      ]
    },
    {
      "cell_type": "code",
      "source": [
        "figsize=(6*4,4*4)\n",
        "fig, (ax1, ax2)  = plt.subplots(2, 1, sharex=False, sharey=False, figsize = figsize)\n",
        "fig.suptitle(\"Flownet agent\")\n",
        "\n",
        "## loss\n",
        "xs_TB = list(range(len(losses_TB)))\n",
        "ax1.plot(xs_TB, losses_TB, label=\"TB\")\n",
        "ax1.set(xlabel='episodes', ylabel='loss')\n",
        "ax1.set_title('loss per episodes : do not compare')\n",
        "ax1.legend()\n",
        "\n",
        "## rewards\n",
        "ax2.plot(xs_TB, rewards_TB, label=\"TB\")\n",
        "ax2.set(xlabel='episodes', ylabel='reward')\n",
        "ax2.set_title('reward per episodes')\n",
        "ax2.legend()"
      ],
      "metadata": {
        "colab": {
          "base_uri": "https://localhost:8080/",
          "height": 1000
        },
        "id": "gdj6z6bSc-7M",
        "outputId": "33f148d1-57c9-46e4-e9eb-e7d70375534e"
      },
      "execution_count": null,
      "outputs": [
        {
          "output_type": "execute_result",
          "data": {
            "text/plain": [
              "<matplotlib.legend.Legend at 0x7f10d46236d0>"
            ]
          },
          "metadata": {},
          "execution_count": 19
        },
        {
          "output_type": "display_data",
          "data": {
            "text/plain": [
              "<Figure size 1728x1152 with 2 Axes>"
            ],
            "image/png": "[encoded data removed]"
          },
          "metadata": {
            "needs_background": "light"
          }
        }
      ]
    },
    {
      "cell_type": "markdown",
      "source": [
        "# GAN (Goodfellow et al., 2014) \n",
        "\n",
        "I took this GAN base code here : https://github.com/ikr7/wandb-pytorch-gan-mnist-demo\n"
      ],
      "metadata": {
        "id": "k40Y35GbKVRh"
      }
    },
    {
      "cell_type": "markdown",
      "source": [
        "dataset : MNIST,  28x28"
      ],
      "metadata": {
        "id": "LX1k2_4PLctJ"
      }
    },
    {
      "cell_type": "code",
      "source": [
        "from torchvision.datasets import MNIST\n",
        "import torchvision.transforms as transforms\n",
        "\n",
        "def bin_transform(x) :\n",
        "    return 1.*(x!=0) + 0.*(x==0)\n",
        "\n",
        "M,N = 28, 28\n",
        "def get_mnist(bin = False):\n",
        "    transform = transforms.Compose([\n",
        "        transforms.ToTensor(),\n",
        "        transforms.Resize(size=(M,N)),\n",
        "        transforms.Normalize(mean=(0.5,), std=(0.5,)) if not bin else bin_transform,\n",
        "    ])\n",
        "    return MNIST(root='/content', download=True, train=True, transform=transform)"
      ],
      "metadata": {
        "id": "6QSy6HNILd28"
      },
      "execution_count": null,
      "outputs": []
    },
    {
      "cell_type": "markdown",
      "source": [
        "models"
      ],
      "metadata": {
        "id": "OrMQXuwNLjB_"
      }
    },
    {
      "cell_type": "code",
      "source": [
        "import torch.nn as nn\n",
        "\n",
        "class Flatten(nn.Module):\n",
        "    def forward(self, x):\n",
        "        return x.view(x.shape[0], -1)\n",
        "\n",
        "def block (n_in_channels, n_out_channels, batch_norm=True):\n",
        "    layers = []\n",
        "    layers.append(nn.Linear(n_in_channels, n_out_channels))\n",
        "    if batch_norm:\n",
        "        layers.append(nn.BatchNorm1d(n_out_channels, 0.8))\n",
        "    layers.append(nn.LeakyReLU(0.2, inplace=True))\n",
        "    return layers\n",
        "\n",
        "class Generator(nn.Module):\n",
        "    def __init__(self, nz, bin = False):\n",
        "\n",
        "        super(Generator, self).__init__()\n",
        "\n",
        "        self.main = nn.Sequential(\n",
        "            *block(nz, 256, batch_norm=False),\n",
        "            *block(256, 512),\n",
        "            *block(512, 1024),\n",
        "            nn.Linear(1024, M*N),\n",
        "            nn.Sigmoid() if bin else nn.Tanh()\n",
        "        )\n",
        "\n",
        "    def forward(self, z):\n",
        "        fake_image = self.main(z)\n",
        "        return fake_image.view(fake_image.size(0), 1, M, N)\n",
        "\n",
        "    def predict(self, z):\n",
        "        fake_image = self.main(z)\n",
        "        return fake_image.view(fake_image.size(0), 1, M, N)\n",
        "\n",
        "class Discriminator(nn.Module):\n",
        "    def __init__(self):\n",
        "\n",
        "        super(Discriminator, self).__init__()\n",
        "\n",
        "        self.main = nn.Sequential(\n",
        "            Flatten(),\n",
        "            nn.Linear(M*N, 1024),\n",
        "            nn.LeakyReLU(0.2, inplace=True),\n",
        "            nn.Dropout(0.3),\n",
        "            nn.Linear(1024, 512),\n",
        "            nn.LeakyReLU(0.2, inplace=True),\n",
        "            nn.Dropout(0.3),\n",
        "            nn.Linear(512, 256),\n",
        "            nn.LeakyReLU(0.2, inplace=True),\n",
        "            nn.Dropout(0.3),\n",
        "            nn.Linear(256, 1),\n",
        "            nn.Sigmoid(),\n",
        "        )\n",
        "\n",
        "    def forward(self, x):\n",
        "        return self.main(x)"
      ],
      "metadata": {
        "id": "yxNKPKGEKXZ4"
      },
      "execution_count": null,
      "outputs": []
    },
    {
      "cell_type": "markdown",
      "source": [
        "train"
      ],
      "metadata": {
        "id": "U8MyMvFXLlKz"
      }
    },
    {
      "cell_type": "code",
      "source": [
        "## Uncomment if you want to use wandb ##\n",
        "#!pip install wandb"
      ],
      "metadata": {
        "id": "7BNkrZWTMJHm"
      },
      "execution_count": null,
      "outputs": []
    },
    {
      "cell_type": "code",
      "source": [
        "## Uncomment if you want to use wandb ##\n",
        "# #wandb.login()\n",
        "# %env wand_db_key=\"PASTE YOURS\"\n",
        "# !wandb login $wand_db_key\n",
        "\n",
        "# import wandb"
      ],
      "metadata": {
        "id": "OIKRMg5mM13P"
      },
      "execution_count": null,
      "outputs": []
    },
    {
      "cell_type": "code",
      "source": [
        "import torch\n",
        "import argparse\n",
        "from pathlib import Path\n",
        "\n",
        "import torch.nn as nn\n",
        "from torch.utils.data import DataLoader\n",
        "from tqdm import tqdm\n",
        "import yaml\n",
        "\n",
        "class AttrDict(dict):\n",
        "    def __init__(self, *args, **kwargs):\n",
        "        super(AttrDict, self).__init__(*args, **kwargs)\n",
        "        self.__dict__ = self"
      ],
      "metadata": {
        "id": "KT-Pqsextc3J"
      },
      "execution_count": null,
      "outputs": []
    },
    {
      "cell_type": "markdown",
      "source": [
        "Uncomment this part to train a GAN, or go to the next section for GAN-GflowNets"
      ],
      "metadata": {
        "id": "F8LTOqa_g4ln"
      }
    },
    {
      "cell_type": "code",
      "source": [
        "params = AttrDict({\n",
        "    # number of epochs \n",
        "    \"num_epochs\": 250,\n",
        "    # batch size\n",
        "    \"batch_size\": 1024,\n",
        "    # dimensionality of the latent space\n",
        "    \"nz\": 100,\n",
        "    # learning rate for discriminator\n",
        "    \"d_lr\": 0.0002,\n",
        "    # learning rate for generator\n",
        "    \"g_lr\": 0.0002, \n",
        "    # use a GPU or not\n",
        "    \"cuda\": torch.cuda.is_available(),\n",
        "    # where to save network snapshots\n",
        "    \"log_dir\": '/content/',\n",
        "    # binary image\n",
        "    \"bin\" : True,\n",
        "})\n",
        "\n",
        "dataset = get_mnist(bin=params[\"bin\"])\n",
        "dataloader = DataLoader(\n",
        "    dataset,\n",
        "    batch_size=params['batch_size'],\n",
        "    shuffle=True,\n",
        "    num_workers=4,\n",
        "    drop_last=True\n",
        ")\n",
        "\n",
        "device = torch.device('cuda:0' if params['cuda'] else 'cpu')"
      ],
      "metadata": {
        "id": "L12TnhMlMduV"
      },
      "execution_count": null,
      "outputs": []
    },
    {
      "cell_type": "code",
      "source": [
        "## Uncomment if you want to use wandb ##\n",
        "# wandb.init(project='gan-mnist', config=params)\n",
        "# run_id = wandb.run.id\n",
        "# run_log_dir = Path(params['log_dir']) / run_id\n",
        "# run_log_dir.mkdir(exist_ok=True, parents=True)"
      ],
      "metadata": {
        "id": "LOJ4nopYa2pv"
      },
      "execution_count": null,
      "outputs": []
    },
    {
      "cell_type": "code",
      "source": [
        "d_net = Discriminator().to(device)\n",
        "g_net = Generator(nz=params['nz'], bin=params[\"bin\"]).to(device)\n",
        "\n",
        "# Uncomment if you want to use wandb ##\n",
        "# wandb.watch(d_net)\n",
        "# wandb.watch(g_net)\n",
        "\n",
        "bce = nn.BCELoss(reduction = 'mean')\n",
        "\n",
        "d_opt = torch.optim.Adam(d_net.parameters(), lr=params['d_lr'], betas=(0.5, 0.999))\n",
        "g_opt = torch.optim.Adam(g_net.parameters(), lr=params['g_lr'], betas=(0.5, 0.999))\n",
        "\n",
        "fixed_noise = torch.randn(64, params['nz']).to(device)"
      ],
      "metadata": {
        "id": "sE8I2CXAmMSC"
      },
      "execution_count": null,
      "outputs": []
    },
    {
      "cell_type": "code",
      "source": [
        "for epoch in tqdm(range(1, params['num_epochs'] + 1), desc='Training'):\n",
        "\n",
        "    d_net.train()\n",
        "    g_net.train()\n",
        "\n",
        "    total_g_loss_train = 0\n",
        "    total_d_real_loss_train = 0\n",
        "    total_d_fake_loss_train = 0\n",
        "    total_d_loss_train = 0\n",
        "\n",
        "    for i, (real_image, _) in enumerate(tqdm(dataloader, desc=f'Epoch {epoch :4d}', leave=False), 1):\n",
        "\n",
        "        noise = torch.randn(params['batch_size'], params['nz']).to(device)\n",
        "\n",
        "        real_image = real_image.to(device)\n",
        "        fake_image = g_net(noise)\n",
        "\n",
        "        real_label = torch.ones(params['batch_size'], 1).to(device)\n",
        "        fake_label = torch.zeros(params['batch_size'], 1).to(device)\n",
        "\n",
        "        g_net.zero_grad()\n",
        "        g_loss = bce(d_net(fake_image), real_label)\n",
        "        total_g_loss_train += g_loss.item()\n",
        "        g_loss.backward()\n",
        "        g_opt.step()\n",
        "\n",
        "        d_net.zero_grad()\n",
        "        d_real_loss = bce(d_net(real_image), real_label)\n",
        "        d_fake_loss = bce(d_net(fake_image.detach()), fake_label)\n",
        "        d_loss = d_real_loss + d_fake_loss\n",
        "        total_d_real_loss_train += d_real_loss.item()\n",
        "        total_d_fake_loss_train += d_fake_loss.item()\n",
        "        total_d_loss_train += d_loss.item()\n",
        "        d_loss.backward()\n",
        "        d_opt.step()\n",
        "    \n",
        "    g_loss_train = total_g_loss_train / len(dataloader)\n",
        "    d_real_loss_train = total_d_real_loss_train / len(dataloader)\n",
        "    d_fake_loss_train = total_d_fake_loss_train / len(dataloader)\n",
        "    d_loss_train = total_d_loss_train / len(dataloader)\n",
        "\n",
        "    g_net.eval()\n",
        "    with torch.no_grad():\n",
        "        fixed_fake_image = g_net.predict(fixed_noise).detach()\n",
        "\n",
        "    data = {\n",
        "         'g_loss_train': g_loss_train,\n",
        "         'd_real_loss_train': d_real_loss_train,\n",
        "         'd_fake_loss_train': d_fake_loss_train,\n",
        "         'd_loss_train': d_loss_train\n",
        "    }\n",
        "\n",
        "    ## Uncomment if you want to use wandb ##\n",
        "    #data['examples'] =  [wandb.Image(i) for i in fixed_fake_image]\n",
        "    #data[\"reals\"] = [wandb.Image(i) for i in real_image]\n",
        "    #wandb.log(data)\n",
        "\n",
        "    #torch.save(g_net.state_dict(), run_log_dir / f'generator-{epoch :04d}.pth')\n",
        "    #torch.save(d_net.state_dict(), run_log_dir / f'discriminator-{epoch :04d}.pth')\n",
        "    \n",
        "    run_log_dir = \"/content\"\n",
        "    torch.save(g_net.state_dict(), run_log_dir+\"/\"+ f'generator-{epoch :04d}.pth')\n",
        "    torch.save(d_net.state_dict(), run_log_dir+\"/\"+ f'discriminator-{epoch :04d}.pth')\n",
        "\n",
        "\n",
        "    if epoch%1 == 0:\n",
        "        plt.imshow(fake_image[0][0].detach().cpu()), plt.show()\n",
        "        for k, v in data.items():\n",
        "            if k != \"examples\": print(k, v)"
      ],
      "metadata": {
        "id": "g9gWxsdbKrxP"
      },
      "execution_count": null,
      "outputs": []
    },
    {
      "cell_type": "markdown",
      "source": [
        "\n",
        "\n",
        "---\n",
        "\n",
        "# GAN GflowNet\n",
        "The Generator generates the images as I described above, and the reward is calculated that way : $R(x = Generator()) = e^{- \\big[ binary\\_cross\\_entropy\\_loss \\big( Discriminator(x), \\ real\\_label \\big) \\big] }$\n",
        "\n",
        "With good hyperparameters and on small images the results are acceptable."
      ],
      "metadata": {
        "id": "29foZGErlu4j"
      }
    },
    {
      "cell_type": "code",
      "source": [
        "class GeneratorFlowNet(nn.Module):\n",
        "    def __init__(self, model_TB, logZ_TB, independent_Z, uniform_PB = False):\n",
        "\n",
        "        super(GeneratorFlowNet, self).__init__()\n",
        "\n",
        "        self.model_TB = model_TB\n",
        "        self.logZ_TB = 0 if independent_Z else logZ_TB\n",
        "        self.independent_Z = independent_Z\n",
        "        self.uniform_PB = uniform_PB\n",
        "    \n",
        "    def forward(self, z):\n",
        "        batch_size = z.size(0)\n",
        "        device = z.device\n",
        "        ndim = M*N\n",
        "        minus_inf = -1e8\n",
        "\n",
        "        # TB loss for each trajectory\n",
        "        loss_TB = torch.zeros((batch_size,)).to(device)\n",
        "        loss_TB += self.logZ_TB # see the equation above\n",
        "        # finished trajectories\n",
        "        dones = torch.full((batch_size,), False, dtype=torch.bool).to(device)\n",
        "        # s_0\n",
        "        states = torch.zeros(size=(batch_size, ndim)).to(device) # (batch_size, ndim)\n",
        "        # actions chosen at each step \n",
        "        actions = None # (current_batch_size,)\n",
        "\n",
        "        max_steps = ndim*1e8\n",
        "        i = 0\n",
        "        while torch.any(~dones) and i <= max_steps :\n",
        "            ### Forward pass ### \n",
        "            current_batch_size = (~dones).sum()\n",
        "            non_terminal_states = states[~dones] # (current_batch_size, ndim)\n",
        "            logits = self.model_TB(non_terminal_states) # (current_batch_size, output_dim)\n",
        "\n",
        "            ### Backward Policy ### \n",
        "            PB_logits = logits[...,ndim+1:2*ndim+1] # (current_batch_size, ndim)\n",
        "            PB_logits = PB_logits * (0 if self.uniform_PB else 1) # (current_batch_size, ndim)\n",
        "            PB_mask = (non_terminal_states == 0.).float() # (current_batch_size, ndim)\n",
        "            logPB = (PB_logits + minus_inf*PB_mask).log_softmax(1) # (current_batch_size, ndim)\n",
        "\n",
        "            is_initial = actions is None\n",
        "            if not is_initial : \n",
        "                loss_TB[~dones] -= logPB.gather(1, actions[actions!=ndim].unsqueeze(1)).squeeze(1)\n",
        "            else :\n",
        "                logZ_TB = logits[...,-1]\n",
        "                loss_TB += logZ_TB # see the equation above\n",
        "\n",
        "            ### Forward Policy ### \n",
        "            PF_logits = logits[...,:ndim+1] # (current_batch_size, ndim+1) \n",
        "            edge_mask = (non_terminal_states == 1.).float() # (current_batch_size, ndim)\n",
        "            stop_action_mask = torch.zeros((current_batch_size, 1), device=device) # (current_batch_size, 1)\n",
        "            #stop_action_mask = torch.ones((current_batch_size, 1), device=device) # (current_batch_size, 1)\n",
        "            PF_mask = torch.cat([edge_mask, stop_action_mask], 1) # (current_batch_size, ndim+1)\n",
        "            logPF = (PF_logits + minus_inf*PF_mask).log_softmax(1) # (current_batch_size, ndim+1)\n",
        "            sample_temperature = 1 # 0.5\n",
        "            sample_ins_probs = (logPF/sample_temperature).softmax(1) # (current_batch_size, ndim+1)\n",
        "            actions = sample_ins_probs.multinomial(1) # (current_batch_size,)\n",
        "            loss_TB[~dones] += logPF.gather(1, actions).squeeze(1)\n",
        "\n",
        "            ### select terminal states ### \n",
        "            terminates = (actions==ndim).squeeze(1)\n",
        "          \n",
        "            # Update dones\n",
        "            dones[~dones] |= terminates\n",
        "\n",
        "            # Update non completed trajectories$\n",
        "            with torch.no_grad():\n",
        "                non_terminates = actions[~terminates].squeeze()\n",
        "                tmp = states[~dones]\n",
        "                tmp[torch.arange((~dones).sum()), non_terminates] = 1.\n",
        "                states[~dones] = tmp\n",
        "            \n",
        "            i+=1\n",
        "            \n",
        "        return states.view(batch_size, 1, M,N), loss_TB, logZ_TB if self.independent_Z else self.logZ_TB\n",
        "\n",
        "    def predict(self, z):\n",
        "        with torch.no_grad():\n",
        "            fake_image, loss_TB, logZ_TB = self.forward(z)\n",
        "        return fake_image"
      ],
      "metadata": {
        "id": "DoPKgMu_lvu2"
      },
      "execution_count": null,
      "outputs": []
    },
    {
      "cell_type": "code",
      "source": [
        "params = AttrDict({\n",
        "    # number of epochs \n",
        "    \"num_epochs\": 250,\n",
        "    # batch size\n",
        "    \"batch_size\": 1024,\n",
        "    # dimensionality of the latent space\n",
        "    \"nz\": 100,\n",
        "    # learning rate for discriminator\n",
        "    \"d_lr\": 0.0002,\n",
        "    # learning rate for generator\n",
        "    \"g_lr\": 0.0002, \n",
        "    # use a GPU or not\n",
        "    \"cuda\": torch.cuda.is_available(),\n",
        "    # where to save network snapshots\n",
        "    \"log_dir\": '/content/',\n",
        "    # binary image\n",
        "    \"bin\" : True,\n",
        "})\n",
        "\n",
        "def bin_transform(x) :\n",
        "    return 1.*(x!=0) + 0.*(x==0)\n",
        "\n",
        "#M,N=28,28\n",
        "M,N=10,10\n",
        "def get_mnist(bin = False):\n",
        "    transform = transforms.Compose([\n",
        "        transforms.ToTensor(),\n",
        "        transforms.Resize(size=(M,N)),\n",
        "        transforms.Normalize(mean=(0.5,), std=(0.5,)) if not bin else bin_transform,\n",
        "    ])\n",
        "    return MNIST(root='/content', download=True, train=True, transform=transform)\n",
        "\n",
        "dataset = get_mnist(bin=params[\"bin\"])\n",
        "dataloader = DataLoader(\n",
        "    dataset,\n",
        "    batch_size=params['batch_size'],\n",
        "    shuffle=True,\n",
        "    num_workers=4,\n",
        "    drop_last=True\n",
        ")\n",
        "\n",
        "device = torch.device('cuda:0' if params['cuda'] else 'cpu')"
      ],
      "metadata": {
        "colab": {
          "base_uri": "https://localhost:8080/"
        },
        "id": "I1BgWH25torY",
        "outputId": "b8bbdae8-23cf-4a45-e6fb-21ecc624c24d"
      },
      "execution_count": null,
      "outputs": [
        {
          "output_type": "stream",
          "name": "stderr",
          "text": [
            "/usr/local/lib/python3.7/dist-packages/torch/utils/data/dataloader.py:481: UserWarning: This DataLoader will create 4 worker processes in total. Our suggested max number of worker in current system is 2, which is smaller than what this DataLoader is going to create. Please be aware that excessive worker creation might get DataLoader running slow or even freeze, lower the worker number to avoid potential slowness/freeze if necessary.\n",
            "  cpuset_checked))\n"
          ]
        }
      ]
    },
    {
      "cell_type": "code",
      "source": [
        "len(dataset)"
      ],
      "metadata": {
        "colab": {
          "base_uri": "https://localhost:8080/"
        },
        "id": "duH376eH1gcy",
        "outputId": "e3306944-ad90-4233-ea4b-1a049a8dfbaf"
      },
      "execution_count": null,
      "outputs": [
        {
          "output_type": "execute_result",
          "data": {
            "text/plain": [
              "60000"
            ]
          },
          "metadata": {},
          "execution_count": 35
        }
      ]
    },
    {
      "cell_type": "code",
      "source": [
        "def make_mlp(l, act=torch.nn.LeakyReLU(), tail=[]):\n",
        "    return torch.nn.Sequential(*(sum(\n",
        "        [[torch.nn.Linear(i, o)] + ([act] if n < len(l)-2 else [])\n",
        "         for n, (i, o) in enumerate(zip(l, l[1:]))], []) + tail))"
      ],
      "metadata": {
        "id": "qOYYlEhGwnf4"
      },
      "execution_count": null,
      "outputs": []
    },
    {
      "cell_type": "code",
      "source": [
        "n_hid = 256\n",
        "n_layers = 2\n",
        "ndim = M*N\n",
        "input_dim = ndim # embedding dim\n",
        "output_dim = 2*ndim+1 # ndim + 1 for P_F (+1 for stop action) and ndim for P_B \n",
        "independent_Z = True\n",
        "if independent_Z:\n",
        "    output_dim+=1\n",
        "    logZ_TB = None\n",
        "else :\n",
        "    logZ_TB = torch.zeros((1,)).to(device) # log (initial state flow), Z = 1\n",
        "\n",
        "model_TB = make_mlp([input_dim] + [n_hid] * n_layers + [output_dim]).to(device)\n",
        "\n",
        "model_TB"
      ],
      "metadata": {
        "colab": {
          "base_uri": "https://localhost:8080/"
        },
        "id": "ewpiVLf7mFih",
        "outputId": "c931012c-551f-48b5-85e8-c2cf902513c6"
      },
      "execution_count": null,
      "outputs": [
        {
          "output_type": "execute_result",
          "data": {
            "text/plain": [
              "Sequential(\n",
              "  (0): Linear(in_features=100, out_features=256, bias=True)\n",
              "  (1): LeakyReLU(negative_slope=0.01)\n",
              "  (2): Linear(in_features=256, out_features=256, bias=True)\n",
              "  (3): LeakyReLU(negative_slope=0.01)\n",
              "  (4): Linear(in_features=256, out_features=202, bias=True)\n",
              ")"
            ]
          },
          "metadata": {},
          "execution_count": 37
        }
      ]
    },
    {
      "cell_type": "code",
      "source": [
        "# wandb.init(project='gan-mnist',  config=params) \n",
        "# run_id = wandb.run.id\n",
        "# run_log_dir = Path(params['log_dir']) / run_id\n",
        "# run_log_dir.mkdir(exist_ok=True, parents=True)\n",
        "\n",
        "d_net = Discriminator().to(device)\n",
        "g_net = GeneratorFlowNet(model_TB, logZ_TB, independent_Z, uniform_PB = False)\n",
        "\n",
        "# wandb.watch(d_net)\n",
        "# wandb.watch(g_net)\n",
        "\n",
        "bce_g = nn.BCELoss(reduction = 'none')\n",
        "bce_d = nn.BCELoss(reduction = 'mean')\n",
        "\n",
        "d_opt = torch.optim.Adam(d_net.parameters(), lr=params['d_lr'], betas=(0.5, 0.999))\n",
        "#g_opt = torch.optim.Adam(g_net.parameters(), lr=params['g_lr'], betas=(0.5, 0.999))\n",
        "if independent_Z :\n",
        "    g_opt = torch.optim.Adam([ {'params':g_net.model_TB.parameters(), 'lr':params['g_lr'], \"betas\":(0.5, 0.999)}])\n",
        "else :\n",
        "    g_opt = torch.optim.Adam([ {'params':g_net.model_TB.parameters(), 'lr':params['g_lr'], \"betas\":(0.5, 0.999)}, {'params':[g_net.logZ_TB], 'lr':00.1} ])\n",
        "    logZ_TB.requires_grad_()\n",
        "\n",
        "fixed_noise = torch.randn(64, params['nz']).to(device)"
      ],
      "metadata": {
        "id": "Gakp6wbPwE49"
      },
      "execution_count": null,
      "outputs": []
    },
    {
      "cell_type": "code",
      "source": [
        "params['batch_size'] = 512\n",
        "dataloader = DataLoader(\n",
        "    dataset,\n",
        "    batch_size=params['batch_size'],\n",
        "    shuffle=True, # because we will update our generator 2-5 times more than the discriminator.\n",
        "    num_workers=4,\n",
        "    drop_last=True\n",
        ")"
      ],
      "metadata": {
        "colab": {
          "base_uri": "https://localhost:8080/"
        },
        "id": "mmQbtopwzDE-",
        "outputId": "c9dabed4-11ee-4dab-f426-8b3b1cd7811d"
      },
      "execution_count": null,
      "outputs": [
        {
          "output_type": "stream",
          "name": "stderr",
          "text": [
            "/usr/local/lib/python3.7/dist-packages/torch/utils/data/dataloader.py:481: UserWarning: This DataLoader will create 4 worker processes in total. Our suggested max number of worker in current system is 2, which is smaller than what this DataLoader is going to create. Please be aware that excessive worker creation might get DataLoader running slow or even freeze, lower the worker number to avoid potential slowness/freeze if necessary.\n",
            "  cpuset_checked))\n"
          ]
        }
      ]
    },
    {
      "cell_type": "code",
      "source": [
        "for epoch in tqdm(range(1, params['num_epochs'] + 1), desc='Training'):\n",
        "\n",
        "    d_net.train()\n",
        "    g_net.train()\n",
        "\n",
        "    total_g_loss_train = 0\n",
        "    total_g_loss_train_TB = 0\n",
        "    total_d_real_loss_train = 0\n",
        "    total_d_fake_loss_train = 0\n",
        "    total_d_loss_train = 0\n",
        "    total_reward = 0\n",
        "    total_log_Z = 0\n",
        "\n",
        "    k = 1 # update the generator k-times than the discriminator\n",
        "    if epoch % k == 0:\n",
        "        # unfreeze\n",
        "        for param in d_net.parameters():\n",
        "          param.requires_grad = True\n",
        "    else :\n",
        "        for param in d_net.parameters():\n",
        "          param.requires_grad = False\n",
        "\n",
        "    for i, (real_image, _) in enumerate(tqdm(dataloader, desc=f'Epoch {epoch :4d}', leave=False), 1):\n",
        "\n",
        "        noise = torch.randn(params['batch_size'], params['nz']).to(device)\n",
        "\n",
        "        real_image = real_image.to(device)\n",
        "        fake_image, loss_TB, logZ_TB = g_net(noise) #\n",
        "\n",
        "        real_label = torch.ones(params['batch_size'], 1).to(device)\n",
        "        fake_label = torch.zeros(params['batch_size'], 1).to(device)\n",
        "\n",
        "        g_net.zero_grad()\n",
        "        g_loss1 = bce_g(d_net(fake_image), real_label).squeeze(1) # (bs,)\n",
        "        \n",
        "        ##############\n",
        "        # try to train the discriminator first\n",
        "        # train the generator 2-5 times than discriminator\n",
        "        # one step generation : from noise to image (problem : high variance)\n",
        "        R = (-1*g_loss1).exp()\n",
        "        loss_TB -= R.log()\n",
        "        g_loss = (loss_TB**2).sum()/params['batch_size']\n",
        "\n",
        "        ##############\n",
        "        total_log_Z += logZ_TB.mean().item()\n",
        "        total_reward += R.mean().cpu()\n",
        "        total_g_loss_train += g_loss1.mean().item()\n",
        "        total_g_loss_train_TB += g_loss.item()\n",
        "        g_loss.backward()\n",
        "        g_opt.step()\n",
        "\n",
        "        d_net.zero_grad()\n",
        "        d_real_loss = bce_d(d_net(real_image), real_label)\n",
        "        d_fake_loss = bce_d(d_net(fake_image.detach()), fake_label)\n",
        "        d_loss = d_real_loss + d_fake_loss\n",
        "        total_d_real_loss_train += d_real_loss.item()\n",
        "        total_d_fake_loss_train += d_fake_loss.item()\n",
        "        total_d_loss_train += d_loss.item()\n",
        "        if epoch % k == 0:\n",
        "            d_loss.backward()\n",
        "            d_opt.step()\n",
        "    \n",
        "    L = len(dataloader)\n",
        "    g_loss_train = total_g_loss_train / L\n",
        "    g_loss_train_TB = total_g_loss_train_TB / L\n",
        "    d_real_loss_train = total_d_real_loss_train / L\n",
        "    d_fake_loss_train = total_d_fake_loss_train / L\n",
        "    d_loss_train = total_d_loss_train / L\n",
        "    total_reward /= L\n",
        "    total_log_Z /= L \n",
        "\n",
        "    g_net.eval()\n",
        "    with torch.no_grad():\n",
        "        fixed_fake_image = g_net.predict(fixed_noise).detach()\n",
        "\n",
        "\n",
        "    data = {\n",
        "        'g_loss_train': g_loss_train,\n",
        "        'g_loss_train_TB' : g_loss_train_TB,\n",
        "        'd_real_loss_train': d_real_loss_train,\n",
        "        'd_fake_loss_train': d_fake_loss_train,\n",
        "        'd_loss_train': d_loss_train,\n",
        "        'total_reward' : total_reward,\n",
        "        'total_log_Z' : total_log_Z  \n",
        "    }\n",
        "\n",
        "    # If using wandb\n",
        "    # data['examples'] = [wandb.Image(i) for i in fixed_fake_image]\n",
        "    # data[\"reals\"] = [wandb.Image(i) for i in real_image]\n",
        "\n",
        "    # wandb.log(data)\n",
        "\n",
        "    # torch.save(g_net.state_dict(), run_log_dir / f'generator-{epoch :04d}.pth')\n",
        "    # torch.save(d_net.state_dict(), run_log_dir / f'discriminator-{epoch :04d}.pth')\n",
        "\n",
        "    run_log_dir = \"/content\"\n",
        "    torch.save(g_net.state_dict(), run_log_dir+\"/\"+ f'generator_gfn-{epoch :04d}.pth')\n",
        "    torch.save(d_net.state_dict(), run_log_dir+\"/\"+ f'discriminator_gfn-{epoch :04d}.pth')\n",
        "\n",
        "    if epoch%1 == 0:\n",
        "        plt.imshow(fake_image[0][0].cpu()), plt.show()\n",
        "        for k, v in data.items():\n",
        "            if k != \"examples\": print(k, v)"
      ],
      "metadata": {
        "id": "HPkp4OOYmcqI"
      },
      "execution_count": null,
      "outputs": []
    }
  ]
}